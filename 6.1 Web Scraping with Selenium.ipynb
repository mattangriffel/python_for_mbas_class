{
 "cells": [
  {
   "cell_type": "markdown",
   "id": "6493cba9",
   "metadata": {},
   "source": [
    "# 6.1 Web Scraping with Selenium"
   ]
  },
  {
   "cell_type": "code",
   "execution_count": 1,
   "id": "711b0370",
   "metadata": {},
   "outputs": [
    {
     "name": "stdout",
     "output_type": "stream",
     "text": [
      "Requirement already satisfied: selenium in /Users/mattangriffel/opt/anaconda3/lib/python3.9/site-packages (4.13.0)\n",
      "Requirement already satisfied: trio~=0.17 in /Users/mattangriffel/opt/anaconda3/lib/python3.9/site-packages (from selenium) (0.22.0)\n",
      "Requirement already satisfied: certifi>=2021.10.8 in /Users/mattangriffel/opt/anaconda3/lib/python3.9/site-packages (from selenium) (2022.9.24)\n",
      "Requirement already satisfied: urllib3[socks]<3,>=1.26 in /Users/mattangriffel/opt/anaconda3/lib/python3.9/site-packages (from selenium) (1.26.11)\n",
      "Requirement already satisfied: trio-websocket~=0.9 in /Users/mattangriffel/opt/anaconda3/lib/python3.9/site-packages (from selenium) (0.9.2)\n",
      "Requirement already satisfied: async-generator>=1.9 in /Users/mattangriffel/opt/anaconda3/lib/python3.9/site-packages (from trio~=0.17->selenium) (1.10)\n",
      "Requirement already satisfied: exceptiongroup>=1.0.0rc9 in /Users/mattangriffel/opt/anaconda3/lib/python3.9/site-packages (from trio~=0.17->selenium) (1.1.0)\n",
      "Requirement already satisfied: outcome in /Users/mattangriffel/opt/anaconda3/lib/python3.9/site-packages (from trio~=0.17->selenium) (1.2.0)\n",
      "Requirement already satisfied: idna in /Users/mattangriffel/opt/anaconda3/lib/python3.9/site-packages (from trio~=0.17->selenium) (3.3)\n",
      "Requirement already satisfied: sortedcontainers in /Users/mattangriffel/opt/anaconda3/lib/python3.9/site-packages (from trio~=0.17->selenium) (2.4.0)\n",
      "Requirement already satisfied: attrs>=19.2.0 in /Users/mattangriffel/opt/anaconda3/lib/python3.9/site-packages (from trio~=0.17->selenium) (21.4.0)\n",
      "Requirement already satisfied: sniffio in /Users/mattangriffel/opt/anaconda3/lib/python3.9/site-packages (from trio~=0.17->selenium) (1.2.0)\n",
      "Requirement already satisfied: wsproto>=0.14 in /Users/mattangriffel/opt/anaconda3/lib/python3.9/site-packages (from trio-websocket~=0.9->selenium) (1.2.0)\n",
      "Requirement already satisfied: PySocks!=1.5.7,<2.0,>=1.5.6 in /Users/mattangriffel/opt/anaconda3/lib/python3.9/site-packages (from urllib3[socks]<3,>=1.26->selenium) (1.7.1)\n",
      "Requirement already satisfied: h11<1,>=0.9.0 in /Users/mattangriffel/opt/anaconda3/lib/python3.9/site-packages (from wsproto>=0.14->trio-websocket~=0.9->selenium) (0.14.0)\n",
      "Note: you may need to restart the kernel to use updated packages.\n"
     ]
    }
   ],
   "source": [
    "pip install selenium"
   ]
  },
  {
   "cell_type": "code",
   "execution_count": 2,
   "id": "75b9ea77",
   "metadata": {
    "scrolled": false
   },
   "outputs": [
    {
     "name": "stdout",
     "output_type": "stream",
     "text": [
      "Requirement already satisfied: webdriver_manager in /Users/mattangriffel/opt/anaconda3/lib/python3.9/site-packages (4.0.1)\n",
      "Requirement already satisfied: python-dotenv in /Users/mattangriffel/opt/anaconda3/lib/python3.9/site-packages (from webdriver_manager) (1.0.0)\n",
      "Requirement already satisfied: requests in /Users/mattangriffel/opt/anaconda3/lib/python3.9/site-packages (from webdriver_manager) (2.28.2)\n",
      "Requirement already satisfied: packaging in /Users/mattangriffel/opt/anaconda3/lib/python3.9/site-packages (from webdriver_manager) (21.3)\n",
      "Requirement already satisfied: pyparsing!=3.0.5,>=2.0.2 in /Users/mattangriffel/opt/anaconda3/lib/python3.9/site-packages (from packaging->webdriver_manager) (3.0.9)\n",
      "Requirement already satisfied: urllib3<1.27,>=1.21.1 in /Users/mattangriffel/opt/anaconda3/lib/python3.9/site-packages (from requests->webdriver_manager) (1.26.11)\n",
      "Requirement already satisfied: charset-normalizer<4,>=2 in /Users/mattangriffel/opt/anaconda3/lib/python3.9/site-packages (from requests->webdriver_manager) (2.0.4)\n",
      "Requirement already satisfied: idna<4,>=2.5 in /Users/mattangriffel/opt/anaconda3/lib/python3.9/site-packages (from requests->webdriver_manager) (3.3)\n",
      "Requirement already satisfied: certifi>=2017.4.17 in /Users/mattangriffel/opt/anaconda3/lib/python3.9/site-packages (from requests->webdriver_manager) (2022.9.24)\n",
      "Note: you may need to restart the kernel to use updated packages.\n"
     ]
    }
   ],
   "source": [
    "pip install webdriver_manager -U"
   ]
  },
  {
   "cell_type": "code",
   "execution_count": 3,
   "id": "12a620bd",
   "metadata": {},
   "outputs": [],
   "source": [
    "from bs4 import BeautifulSoup\n",
    "from selenium import webdriver\n",
    "from selenium.webdriver.common.keys import Keys\n",
    "from selenium.webdriver.common.by import By"
   ]
  },
  {
   "cell_type": "markdown",
   "id": "b7cd3487",
   "metadata": {},
   "source": [
    "## Opening Up a New Browser Window"
   ]
  },
  {
   "cell_type": "markdown",
   "id": "feffa3da",
   "metadata": {},
   "source": [
    "_Uncomment the cell below corresponding to the web browser you use_"
   ]
  },
  {
   "cell_type": "markdown",
   "id": "2fdb58a8",
   "metadata": {},
   "source": [
    "**Chrome**"
   ]
  },
  {
   "cell_type": "code",
   "execution_count": 4,
   "id": "506c3827",
   "metadata": {},
   "outputs": [],
   "source": [
    "# from selenium.webdriver.chrome.service import Service\n",
    "# from webdriver_manager.chrome import ChromeDriverManager\n",
    "# browser = webdriver.Chrome(service=Service(ChromeDriverManager().install()))"
   ]
  },
  {
   "cell_type": "markdown",
   "id": "7fc54bd2",
   "metadata": {},
   "source": [
    "**Firefox**"
   ]
  },
  {
   "cell_type": "code",
   "execution_count": 5,
   "id": "2ec2efef",
   "metadata": {},
   "outputs": [],
   "source": [
    "# from selenium.webdriver.firefox.service import Service\n",
    "# from webdriver_manager.firefox import GeckoDriverManager\n",
    "# browser = webdriver.Firefox(service=Service(GeckoDriverManager().install()))"
   ]
  },
  {
   "cell_type": "markdown",
   "id": "fcd22776",
   "metadata": {},
   "source": [
    "**Internet Explorer**"
   ]
  },
  {
   "cell_type": "code",
   "execution_count": 6,
   "id": "a95710b7",
   "metadata": {},
   "outputs": [],
   "source": [
    "# from selenium.webdriver.ie.service import Service\n",
    "# from webdriver_manager.microsoft import IEDriverManager\n",
    "# browser = webdriver.Ie(service=Service(IEDriverManager().install()))"
   ]
  },
  {
   "cell_type": "markdown",
   "id": "07fc90c4",
   "metadata": {},
   "source": [
    "**Edge**"
   ]
  },
  {
   "cell_type": "code",
   "execution_count": 7,
   "id": "05e9fc2f",
   "metadata": {},
   "outputs": [],
   "source": [
    "# from selenium.webdriver.edge.service import Service\n",
    "# from webdriver_manager.microsoft import EdgeChromiumDriverManager\n",
    "# browser = webdriver.Edge(service=Service(EdgeChromiumDriverManager().install()))"
   ]
  },
  {
   "cell_type": "markdown",
   "id": "787fd19e",
   "metadata": {},
   "source": [
    "## Visiting a URL"
   ]
  },
  {
   "cell_type": "markdown",
   "id": "6a618e4c",
   "metadata": {},
   "source": [
    "This will only work if you run the appropriate cell above. (If you close the window, you'll have to rerun the cell above to open a new window.)"
   ]
  },
  {
   "cell_type": "code",
   "execution_count": 8,
   "id": "89f2fd76",
   "metadata": {},
   "outputs": [],
   "source": [
    "browser.get('https://google.com')"
   ]
  },
  {
   "cell_type": "markdown",
   "id": "da92b77d",
   "metadata": {},
   "source": [
    "## Filling Out and Submitting Forms"
   ]
  },
  {
   "cell_type": "code",
   "execution_count": 9,
   "id": "099447bf",
   "metadata": {},
   "outputs": [],
   "source": [
    "search_bar = browser.find_element(By.NAME, 'q')\n",
    "search_bar.send_keys('Mattan Griffel')\n",
    "search_bar.submit()"
   ]
  },
  {
   "cell_type": "markdown",
   "id": "2394f525",
   "metadata": {},
   "source": [
    "Selenium's `find_element()` accepts the following:\n",
    "- `By.ID` to search by ID\n",
    "- `By.NAME` to search by name\n",
    "- `By.LINK_TEXT` to search by link text\n",
    "- `By.PARTIAL_LINK_TEXT` to search by partial link text\n",
    "- `By.TAG_NAME` to search by HTML tag\n",
    "- `By.CSS_SELECTOR` to search by CSS selector"
   ]
  },
  {
   "cell_type": "markdown",
   "id": "b59d4148",
   "metadata": {},
   "source": [
    "## Parsing the HTML with BeautifulSoup"
   ]
  },
  {
   "cell_type": "code",
   "execution_count": 10,
   "id": "8b589bce",
   "metadata": {},
   "outputs": [],
   "source": [
    "soup = BeautifulSoup(browser.page_source)"
   ]
  },
  {
   "cell_type": "code",
   "execution_count": 11,
   "id": "4c15a1b5",
   "metadata": {},
   "outputs": [],
   "source": [
    "soup.find('title')"
   ]
  },
  {
   "cell_type": "markdown",
   "id": "fbee2ca9",
   "metadata": {},
   "source": [
    "## Sending Special Keys"
   ]
  },
  {
   "cell_type": "code",
   "execution_count": 12,
   "id": "f12a68c5",
   "metadata": {},
   "outputs": [],
   "source": [
    "html = browser.find_element(By.TAG_NAME, 'html')\n",
    "html.send_keys(Keys.END)  # Scrolls to Bottom\n",
    "html.send_keys(Keys.HOME) # Scrolls to Top"
   ]
  },
  {
   "cell_type": "code",
   "execution_count": 13,
   "id": "62ffbd78",
   "metadata": {},
   "outputs": [],
   "source": [
    "browser.back() # Clicks the Back button\n",
    "browser.forward() # Clicks the Forward button\n",
    "browser.refresh() # Clicks the Refres/Reload button\n",
    "browser.quit() # Clicks the Close Window Button"
   ]
  },
  {
   "cell_type": "code",
   "execution_count": null,
   "id": "303fd32a",
   "metadata": {},
   "outputs": [],
   "source": []
  }
 ],
 "metadata": {
  "kernelspec": {
   "display_name": "Python 3 (ipykernel)",
   "language": "python",
   "name": "python3"
  },
  "language_info": {
   "codemirror_mode": {
    "name": "ipython",
    "version": 3
   },
   "file_extension": ".py",
   "mimetype": "text/x-python",
   "name": "python",
   "nbconvert_exporter": "python",
   "pygments_lexer": "ipython3",
   "version": "3.9.13"
  }
 },
 "nbformat": 4,
 "nbformat_minor": 5
}
