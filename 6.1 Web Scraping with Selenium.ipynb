{
 "cells": [
  {
   "attachments": {},
   "cell_type": "markdown",
   "id": "6493cba9",
   "metadata": {},
   "source": [
    "# 6.1 Web Scraping with Selenium"
   ]
  },
  {
   "cell_type": "code",
   "execution_count": 1,
   "id": "711b0370",
   "metadata": {
    "scrolled": true
   },
   "outputs": [
    {
     "name": "stdout",
     "output_type": "stream",
     "text": [
      "Requirement already satisfied: selenium in /Users/mattangriffel/opt/anaconda3/lib/python3.9/site-packages (4.1.0)\n",
      "Requirement already satisfied: trio in /Users/mattangriffel/opt/anaconda3/lib/python3.9/site-packages (from selenium) (0.20.0)\n",
      "Requirement already satisfied: trio-websocket in /Users/mattangriffel/opt/anaconda3/lib/python3.9/site-packages (from selenium) (0.9.2)\n",
      "Requirement already satisfied: urllib3[secure] in /Users/mattangriffel/opt/anaconda3/lib/python3.9/site-packages (from selenium) (1.26.7)\n",
      "Requirement already satisfied: sniffio in /Users/mattangriffel/opt/anaconda3/lib/python3.9/site-packages (from trio->selenium) (1.2.0)\n",
      "Requirement already satisfied: sortedcontainers in /Users/mattangriffel/opt/anaconda3/lib/python3.9/site-packages (from trio->selenium) (2.4.0)\n",
      "Requirement already satisfied: attrs>=19.2.0 in /Users/mattangriffel/opt/anaconda3/lib/python3.9/site-packages (from trio->selenium) (21.2.0)\n",
      "Requirement already satisfied: outcome in /Users/mattangriffel/opt/anaconda3/lib/python3.9/site-packages (from trio->selenium) (1.1.0)\n",
      "Requirement already satisfied: async-generator>=1.9 in /Users/mattangriffel/opt/anaconda3/lib/python3.9/site-packages (from trio->selenium) (1.10)\n",
      "Requirement already satisfied: idna in /Users/mattangriffel/opt/anaconda3/lib/python3.9/site-packages (from trio->selenium) (3.2)\n",
      "Requirement already satisfied: wsproto>=0.14 in /Users/mattangriffel/opt/anaconda3/lib/python3.9/site-packages (from trio-websocket->selenium) (1.0.0)\n",
      "Requirement already satisfied: h11<1,>=0.9.0 in /Users/mattangriffel/opt/anaconda3/lib/python3.9/site-packages (from wsproto>=0.14->trio-websocket->selenium) (0.12.0)\n",
      "Requirement already satisfied: pyOpenSSL>=0.14 in /Users/mattangriffel/opt/anaconda3/lib/python3.9/site-packages (from urllib3[secure]->selenium) (21.0.0)\n",
      "Requirement already satisfied: cryptography>=1.3.4 in /Users/mattangriffel/opt/anaconda3/lib/python3.9/site-packages (from urllib3[secure]->selenium) (3.4.8)\n",
      "Requirement already satisfied: certifi in /Users/mattangriffel/opt/anaconda3/lib/python3.9/site-packages (from urllib3[secure]->selenium) (2021.10.8)\n",
      "Requirement already satisfied: cffi>=1.12 in /Users/mattangriffel/opt/anaconda3/lib/python3.9/site-packages (from cryptography>=1.3.4->urllib3[secure]->selenium) (1.14.6)\n",
      "Requirement already satisfied: pycparser in /Users/mattangriffel/opt/anaconda3/lib/python3.9/site-packages (from cffi>=1.12->cryptography>=1.3.4->urllib3[secure]->selenium) (2.20)\n",
      "Requirement already satisfied: six>=1.5.2 in /Users/mattangriffel/opt/anaconda3/lib/python3.9/site-packages (from pyOpenSSL>=0.14->urllib3[secure]->selenium) (1.16.0)\n"
     ]
    }
   ],
   "source": [
    "!pip install selenium"
   ]
  },
  {
   "cell_type": "code",
   "execution_count": 2,
   "id": "75b9ea77",
   "metadata": {},
   "outputs": [
    {
     "name": "stdout",
     "output_type": "stream",
     "text": [
      "Requirement already satisfied: webdriver-manager in /Users/mattangriffel/opt/anaconda3/lib/python3.9/site-packages (3.5.3)\n",
      "Requirement already satisfied: configparser in /Users/mattangriffel/opt/anaconda3/lib/python3.9/site-packages (from webdriver-manager) (5.2.0)\n",
      "Requirement already satisfied: requests in /Users/mattangriffel/opt/anaconda3/lib/python3.9/site-packages (from webdriver-manager) (2.26.0)\n",
      "Requirement already satisfied: crayons in /Users/mattangriffel/opt/anaconda3/lib/python3.9/site-packages (from webdriver-manager) (0.4.0)\n",
      "Requirement already satisfied: colorama in /Users/mattangriffel/opt/anaconda3/lib/python3.9/site-packages (from crayons->webdriver-manager) (0.4.4)\n",
      "Requirement already satisfied: certifi>=2017.4.17 in /Users/mattangriffel/opt/anaconda3/lib/python3.9/site-packages (from requests->webdriver-manager) (2021.10.8)\n",
      "Requirement already satisfied: urllib3<1.27,>=1.21.1 in /Users/mattangriffel/opt/anaconda3/lib/python3.9/site-packages (from requests->webdriver-manager) (1.26.7)\n",
      "Requirement already satisfied: charset-normalizer~=2.0.0 in /Users/mattangriffel/opt/anaconda3/lib/python3.9/site-packages (from requests->webdriver-manager) (2.0.4)\n",
      "Requirement already satisfied: idna<4,>=2.5 in /Users/mattangriffel/opt/anaconda3/lib/python3.9/site-packages (from requests->webdriver-manager) (3.2)\n"
     ]
    }
   ],
   "source": [
    "!pip install webdriver-manager"
   ]
  },
  {
   "cell_type": "code",
   "execution_count": 3,
   "id": "12a620bd",
   "metadata": {},
   "outputs": [],
   "source": [
    "from bs4 import BeautifulSoup\n",
    "from selenium import webdriver\n",
    "from selenium.webdriver.common.keys import Keys\n",
    "from selenium.webdriver.common.by import By"
   ]
  },
  {
   "cell_type": "markdown",
   "id": "b7cd3487",
   "metadata": {},
   "source": [
    "## Opening Up a New Browser Window"
   ]
  },
  {
   "cell_type": "markdown",
   "id": "feffa3da",
   "metadata": {},
   "source": [
    "_Uncomment the cell below corresponding to the web browser you use_"
   ]
  },
  {
   "cell_type": "markdown",
   "id": "2fdb58a8",
   "metadata": {},
   "source": [
    "**Chrome**"
   ]
  },
  {
   "cell_type": "code",
   "execution_count": 4,
   "id": "506c3827",
   "metadata": {},
   "outputs": [
    {
     "name": "stderr",
     "output_type": "stream",
     "text": [
      "\n",
      "\n",
      "====== WebDriver manager ======\n",
      "Current google-chrome version is 98.0.4758\n",
      "Get LATEST chromedriver version for 98.0.4758 google-chrome\n",
      "Driver [/Users/mattangriffel/.wdm/drivers/chromedriver/mac64/98.0.4758.102/chromedriver] found in cache\n"
     ]
    }
   ],
   "source": [
    "# from selenium.webdriver.chrome.service import Service\n",
    "# from webdriver_manager.chrome import ChromeDriverManager\n",
    "# browser = webdriver.Chrome(service=Service(ChromeDriverManager().install()))"
   ]
  },
  {
   "cell_type": "markdown",
   "id": "7fc54bd2",
   "metadata": {},
   "source": [
    "**Firefox**"
   ]
  },
  {
   "cell_type": "code",
   "execution_count": 5,
   "id": "2ec2efef",
   "metadata": {},
   "outputs": [],
   "source": [
    "# from selenium.webdriver.firefox.service import Service\n",
    "# from webdriver_manager.firefox import GeckoDriverManager\n",
    "# browser = webdriver.Firefox(service=Service(GeckoDriverManager().install()))"
   ]
  },
  {
   "cell_type": "markdown",
   "id": "fcd22776",
   "metadata": {},
   "source": [
    "**Internet Explorer**"
   ]
  },
  {
   "cell_type": "code",
   "execution_count": 6,
   "id": "a95710b7",
   "metadata": {},
   "outputs": [],
   "source": [
    "# from selenium.webdriver.ie.service import Service\n",
    "# from webdriver_manager.microsoft import IEDriverManager\n",
    "# browser = webdriver.Ie(service=Service(IEDriverManager().install()))"
   ]
  },
  {
   "cell_type": "markdown",
   "id": "07fc90c4",
   "metadata": {},
   "source": [
    "**Edge**"
   ]
  },
  {
   "cell_type": "code",
   "execution_count": 7,
   "id": "05e9fc2f",
   "metadata": {},
   "outputs": [],
   "source": [
    "# from selenium.webdriver.edge.service import Service\n",
    "# from webdriver_manager.microsoft import EdgeChromiumDriverManager\n",
    "# browser = webdriver.Edge(service=Service(EdgeChromiumDriverManager().install()))"
   ]
  },
  {
   "cell_type": "markdown",
   "id": "787fd19e",
   "metadata": {},
   "source": [
    "## Visiting a URL"
   ]
  },
  {
   "cell_type": "markdown",
   "id": "6a618e4c",
   "metadata": {},
   "source": [
    "This will only work if you run the appropriate cell above. (If you close the window, you'll have to rerun the cell above to open a new window.)"
   ]
  },
  {
   "cell_type": "code",
   "execution_count": 8,
   "id": "89f2fd76",
   "metadata": {},
   "outputs": [],
   "source": [
    "browser.get('https://google.com')"
   ]
  },
  {
   "cell_type": "markdown",
   "id": "da92b77d",
   "metadata": {},
   "source": [
    "## Filling Out and Submitting Forms"
   ]
  },
  {
   "cell_type": "code",
   "execution_count": 9,
   "id": "099447bf",
   "metadata": {},
   "outputs": [],
   "source": [
    "search_bar = browser.find_element(By.NAME, 'q')\n",
    "search_bar.send_keys('Mattan Griffel')\n",
    "search_bar.submit()"
   ]
  },
  {
   "cell_type": "markdown",
   "id": "2394f525",
   "metadata": {},
   "source": [
    "Selenium's `find_element()` accepts the following:\n",
    "- `By.ID` to search by ID\n",
    "- `By.NAME` to search by name\n",
    "- `By.LINK_TEXT` to search by link text\n",
    "- `By.PARTIAL_LINK_TEXT` to search by partial link text\n",
    "- `By.TAG_NAME` to search by HTML tag\n",
    "- `By.CSS_SELECTOR` to search by CSS selector"
   ]
  },
  {
   "cell_type": "markdown",
   "id": "b59d4148",
   "metadata": {},
   "source": [
    "## Parsing the HTML with BeautifulSoup"
   ]
  },
  {
   "cell_type": "code",
   "execution_count": 10,
   "id": "8b589bce",
   "metadata": {},
   "outputs": [],
   "source": [
    "soup = BeautifulSoup(browser.page_source)"
   ]
  },
  {
   "cell_type": "code",
   "execution_count": 11,
   "id": "4c15a1b5",
   "metadata": {},
   "outputs": [
    {
     "data": {
      "text/plain": [
       "<title>Mattan Griffel - Google Search</title>"
      ]
     },
     "execution_count": 11,
     "metadata": {},
     "output_type": "execute_result"
    }
   ],
   "source": [
    "soup.find('title')"
   ]
  },
  {
   "cell_type": "markdown",
   "id": "fbee2ca9",
   "metadata": {},
   "source": [
    "## Sending Special Keys"
   ]
  },
  {
   "cell_type": "code",
   "execution_count": 12,
   "id": "f12a68c5",
   "metadata": {},
   "outputs": [],
   "source": [
    "html = browser.find_element(By.TAG_NAME, 'html')\n",
    "html.send_keys(Keys.END)  # Scrolls to Bottom\n",
    "html.send_keys(Keys.HOME) # Scrolls to Top"
   ]
  },
  {
   "cell_type": "code",
   "execution_count": 13,
   "id": "62ffbd78",
   "metadata": {},
   "outputs": [],
   "source": [
    "browser.back() # Clicks the Back button\n",
    "browser.forward() # Clicks the Forward button\n",
    "browser.refresh() # Clicks the Refres/Reload button\n",
    "browser.quit() # Clicks the Close Window Button"
   ]
  },
  {
   "cell_type": "code",
   "execution_count": null,
   "id": "303fd32a",
   "metadata": {},
   "outputs": [],
   "source": []
  }
 ],
 "metadata": {
  "kernelspec": {
   "display_name": "Python 3 (ipykernel)",
   "language": "python",
   "name": "python3"
  },
  "language_info": {
   "codemirror_mode": {
    "name": "ipython",
    "version": 3
   },
   "file_extension": ".py",
   "mimetype": "text/x-python",
   "name": "python",
   "nbconvert_exporter": "python",
   "pygments_lexer": "ipython3",
   "version": "3.9.7"
  }
 },
 "nbformat": 4,
 "nbformat_minor": 5
}
