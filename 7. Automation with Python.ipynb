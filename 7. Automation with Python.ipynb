{
 "cells": [
  {
   "attachments": {},
   "cell_type": "markdown",
   "id": "decf7e81",
   "metadata": {},
   "source": [
    "# 7. Automation with Python"
   ]
  },
  {
   "cell_type": "markdown",
   "id": "6b0f7486",
   "metadata": {},
   "source": [
    "## OAuth 2"
   ]
  },
  {
   "cell_type": "code",
   "execution_count": 1,
   "id": "213a671c",
   "metadata": {},
   "outputs": [
    {
     "name": "stdout",
     "output_type": "stream",
     "text": [
      "Requirement already satisfied: google-api-python-client in /Users/mattangriffel/opt/anaconda3/lib/python3.9/site-packages (2.64.0)\n",
      "Requirement already satisfied: google-auth-httplib2 in /Users/mattangriffel/opt/anaconda3/lib/python3.9/site-packages (0.1.0)\n",
      "Requirement already satisfied: google-auth-oauthlib in /Users/mattangriffel/opt/anaconda3/lib/python3.9/site-packages (0.5.3)\n",
      "Requirement already satisfied: google-auth<3.0.0dev,>=1.19.0 in /Users/mattangriffel/opt/anaconda3/lib/python3.9/site-packages (from google-api-python-client) (1.33.0)\n",
      "Requirement already satisfied: google-api-core!=2.0.*,!=2.1.*,!=2.2.*,!=2.3.0,<3.0.0dev,>=1.31.5 in /Users/mattangriffel/opt/anaconda3/lib/python3.9/site-packages (from google-api-python-client) (2.10.2)\n",
      "Requirement already satisfied: uritemplate<5,>=3.0.1 in /Users/mattangriffel/opt/anaconda3/lib/python3.9/site-packages (from google-api-python-client) (4.1.1)\n",
      "Requirement already satisfied: httplib2<1dev,>=0.15.0 in /Users/mattangriffel/opt/anaconda3/lib/python3.9/site-packages (from google-api-python-client) (0.20.4)\n",
      "Requirement already satisfied: six in /Users/mattangriffel/opt/anaconda3/lib/python3.9/site-packages (from google-auth-httplib2) (1.16.0)\n",
      "Requirement already satisfied: requests-oauthlib>=0.7.0 in /Users/mattangriffel/opt/anaconda3/lib/python3.9/site-packages (from google-auth-oauthlib) (1.3.1)\n",
      "Requirement already satisfied: requests<3.0.0dev,>=2.18.0 in /Users/mattangriffel/opt/anaconda3/lib/python3.9/site-packages (from google-api-core!=2.0.*,!=2.1.*,!=2.2.*,!=2.3.0,<3.0.0dev,>=1.31.5->google-api-python-client) (2.27.1)\n",
      "Requirement already satisfied: protobuf!=3.20.0,!=3.20.1,!=4.21.0,!=4.21.1,!=4.21.2,!=4.21.3,!=4.21.4,!=4.21.5,<5.0.0dev,>=3.19.5 in /Users/mattangriffel/opt/anaconda3/lib/python3.9/site-packages (from google-api-core!=2.0.*,!=2.1.*,!=2.2.*,!=2.3.0,<3.0.0dev,>=1.31.5->google-api-python-client) (4.21.7)\n",
      "Requirement already satisfied: googleapis-common-protos<2.0dev,>=1.56.2 in /Users/mattangriffel/opt/anaconda3/lib/python3.9/site-packages (from google-api-core!=2.0.*,!=2.1.*,!=2.2.*,!=2.3.0,<3.0.0dev,>=1.31.5->google-api-python-client) (1.56.4)\n",
      "Requirement already satisfied: cachetools<5.0,>=2.0.0 in /Users/mattangriffel/opt/anaconda3/lib/python3.9/site-packages (from google-auth<3.0.0dev,>=1.19.0->google-api-python-client) (4.2.2)\n",
      "Requirement already satisfied: rsa<5,>=3.1.4 in /Users/mattangriffel/opt/anaconda3/lib/python3.9/site-packages (from google-auth<3.0.0dev,>=1.19.0->google-api-python-client) (4.7.2)\n",
      "Requirement already satisfied: pyasn1-modules>=0.2.1 in /Users/mattangriffel/opt/anaconda3/lib/python3.9/site-packages (from google-auth<3.0.0dev,>=1.19.0->google-api-python-client) (0.2.8)\n",
      "Requirement already satisfied: setuptools>=40.3.0 in /Users/mattangriffel/opt/anaconda3/lib/python3.9/site-packages (from google-auth<3.0.0dev,>=1.19.0->google-api-python-client) (61.2.0)\n",
      "Requirement already satisfied: pyparsing!=3.0.0,!=3.0.1,!=3.0.2,!=3.0.3,<4,>=2.4.2 in /Users/mattangriffel/opt/anaconda3/lib/python3.9/site-packages (from httplib2<1dev,>=0.15.0->google-api-python-client) (3.0.4)\n",
      "Requirement already satisfied: pyasn1<0.5.0,>=0.4.6 in /Users/mattangriffel/opt/anaconda3/lib/python3.9/site-packages (from pyasn1-modules>=0.2.1->google-auth<3.0.0dev,>=1.19.0->google-api-python-client) (0.4.8)\n",
      "Requirement already satisfied: certifi>=2017.4.17 in /Users/mattangriffel/opt/anaconda3/lib/python3.9/site-packages (from requests<3.0.0dev,>=2.18.0->google-api-core!=2.0.*,!=2.1.*,!=2.2.*,!=2.3.0,<3.0.0dev,>=1.31.5->google-api-python-client) (2021.10.8)\n",
      "Requirement already satisfied: charset-normalizer~=2.0.0 in /Users/mattangriffel/opt/anaconda3/lib/python3.9/site-packages (from requests<3.0.0dev,>=2.18.0->google-api-core!=2.0.*,!=2.1.*,!=2.2.*,!=2.3.0,<3.0.0dev,>=1.31.5->google-api-python-client) (2.0.4)\n",
      "Requirement already satisfied: urllib3<1.27,>=1.21.1 in /Users/mattangriffel/opt/anaconda3/lib/python3.9/site-packages (from requests<3.0.0dev,>=2.18.0->google-api-core!=2.0.*,!=2.1.*,!=2.2.*,!=2.3.0,<3.0.0dev,>=1.31.5->google-api-python-client) (1.26.9)\n",
      "Requirement already satisfied: idna<4,>=2.5 in /Users/mattangriffel/opt/anaconda3/lib/python3.9/site-packages (from requests<3.0.0dev,>=2.18.0->google-api-core!=2.0.*,!=2.1.*,!=2.2.*,!=2.3.0,<3.0.0dev,>=1.31.5->google-api-python-client) (3.3)\n",
      "Requirement already satisfied: oauthlib>=3.0.0 in /Users/mattangriffel/opt/anaconda3/lib/python3.9/site-packages (from requests-oauthlib>=0.7.0->google-auth-oauthlib) (3.2.0)\n",
      "Note: you may need to restart the kernel to use updated packages.\n"
     ]
    }
   ],
   "source": [
    "pip install --upgrade google-api-python-client google-auth-httplib2 google-auth-oauthlib"
   ]
  },
  {
   "cell_type": "code",
   "execution_count": 2,
   "id": "f232b2ca",
   "metadata": {},
   "outputs": [],
   "source": [
    "from googleapiclient.discovery import build\n",
    "from google_auth_oauthlib.flow import InstalledAppFlow\n",
    "from google.auth.transport.requests import Request\n",
    "from google.oauth2.credentials import Credentials\n",
    "import os.path"
   ]
  },
  {
   "cell_type": "code",
   "execution_count": 3,
   "id": "84a85019",
   "metadata": {},
   "outputs": [],
   "source": [
    "SCOPES = ['https://www.googleapis.com/auth/gmail.readonly']"
   ]
  },
  {
   "cell_type": "code",
   "execution_count": 4,
   "id": "75a95ff6",
   "metadata": {},
   "outputs": [],
   "source": [
    "flow = InstalledAppFlow.from_client_secrets_file('client_credentials.json', SCOPES)"
   ]
  },
  {
   "cell_type": "code",
   "execution_count": 5,
   "id": "56ba32fa",
   "metadata": {
    "scrolled": true
   },
   "outputs": [],
   "source": [
    "if os.path.exists('token.json'):\n",
    "    creds = Credentials.from_authorized_user_file('token.json', SCOPES)\n",
    "else:\n",
    "    creds = flow.run_local_server()\n",
    "    with open('token.json', 'w') as f:\n",
    "        f.write(creds.to_json())"
   ]
  },
  {
   "cell_type": "code",
   "execution_count": 6,
   "id": "234ce24e",
   "metadata": {},
   "outputs": [],
   "source": [
    "service = build('gmail', 'v1', credentials=creds)"
   ]
  },
  {
   "cell_type": "markdown",
   "id": "b14a47cc",
   "metadata": {},
   "source": [
    "## Connecting to the Gmail API"
   ]
  },
  {
   "cell_type": "code",
   "execution_count": 7,
   "id": "ee0f957e",
   "metadata": {},
   "outputs": [],
   "source": [
    "msgs = service.users().messages().list(userId='me').execute()"
   ]
  },
  {
   "cell_type": "code",
   "execution_count": 8,
   "id": "026e74d2",
   "metadata": {},
   "outputs": [
    {
     "data": {
      "text/plain": [
       "dict_keys(['messages', 'nextPageToken', 'resultSizeEstimate'])"
      ]
     },
     "execution_count": 8,
     "metadata": {},
     "output_type": "execute_result"
    }
   ],
   "source": [
    "msgs.keys()"
   ]
  },
  {
   "cell_type": "code",
   "execution_count": 9,
   "id": "9691e5de",
   "metadata": {},
   "outputs": [
    {
     "data": {
      "text/plain": [
       "[{'id': '183c18b1212a45ad', 'threadId': '183c18b1212a45ad'},\n",
       " {'id': '183c18a29e44d276', 'threadId': '183c18a29e44d276'},\n",
       " {'id': '183c06e0c41a7e88', 'threadId': '183c06e0c41a7e88'},\n",
       " {'id': '183c06d211213c80', 'threadId': '183c06d211213c80'},\n",
       " {'id': '183c06c356dd2070', 'threadId': '183c06c356dd2070'},\n",
       " {'id': '183c06b4af94933f', 'threadId': '183c06b4af94933f'},\n",
       " {'id': '183c06a5d89586c1', 'threadId': '183c06a5d89586c1'},\n",
       " {'id': '183c069700c2e8c1', 'threadId': '183c069700c2e8c1'},\n",
       " {'id': '183c06884f766492', 'threadId': '183c06884f766492'},\n",
       " {'id': '183c067997039a8b', 'threadId': '183c067997039a8b'},\n",
       " {'id': '183c066ac34bf28a', 'threadId': '183c066ac34bf28a'},\n",
       " {'id': '183c065c3ebd7682', 'threadId': '183c065c3ebd7682'},\n",
       " {'id': '183c064d4ae0ae4c', 'threadId': '183c064d4ae0ae4c'},\n",
       " {'id': '183c063eb07aa557', 'threadId': '183c063eb07aa557'},\n",
       " {'id': '183c062ffaabc057', 'threadId': '183c062ffaabc057'},\n",
       " {'id': '183c062124248e5e', 'threadId': '183c062124248e5e'},\n",
       " {'id': '183c061271eac5e0', 'threadId': '183c061271eac5e0'},\n",
       " {'id': '183c0603b81dabdf', 'threadId': '183c0603b81dabdf'},\n",
       " {'id': '183c05f4fe7d0743', 'threadId': '183c05f4fe7d0743'},\n",
       " {'id': '183c05e62628adb7', 'threadId': '183c05e62628adb7'},\n",
       " {'id': '183c05d76573b558', 'threadId': '183c05d76573b558'},\n",
       " {'id': '183c05c8a75a2ab3', 'threadId': '183c05c8a75a2ab3'},\n",
       " {'id': '183c05b9f2733727', 'threadId': '183c05b9f2733727'},\n",
       " {'id': '183c05ab3f95ef7d', 'threadId': '183c05ab3f95ef7d'},\n",
       " {'id': '183c059c616027f2', 'threadId': '183c059c616027f2'},\n",
       " {'id': '183c058dda68ac6d', 'threadId': '183c058dda68ac6d'},\n",
       " {'id': '183c057ee3d6520f', 'threadId': '183c057ee3d6520f'},\n",
       " {'id': '183c057032ebdcf3', 'threadId': '183c057032ebdcf3'},\n",
       " {'id': '183c056164dbc589', 'threadId': '183c056164dbc589'},\n",
       " {'id': '183c0552bc0edfac', 'threadId': '183c0552bc0edfac'},\n",
       " {'id': '183c0543fef2dc6d', 'threadId': '183c0543fef2dc6d'},\n",
       " {'id': '183c05353e1012f1', 'threadId': '183c05353e1012f1'},\n",
       " {'id': '183c05267b6daa02', 'threadId': '183c05267b6daa02'},\n",
       " {'id': '183c0517a9af29e8', 'threadId': '183c0517a9af29e8'},\n",
       " {'id': '183c0508f28b2ea3', 'threadId': '183c0508f28b2ea3'},\n",
       " {'id': '183c04fa33f1286e', 'threadId': '183c04fa33f1286e'},\n",
       " {'id': '183c04eb7e32a81d', 'threadId': '183c04eb7e32a81d'},\n",
       " {'id': '183c04dca5264a72', 'threadId': '183c04dca5264a72'},\n",
       " {'id': '183c04cdf4188bd2', 'threadId': '183c04cdf4188bd2'},\n",
       " {'id': '183c04bf59528752', 'threadId': '183c04bf59528752'},\n",
       " {'id': '183c04b091f63b8c', 'threadId': '183c04b091f63b8c'},\n",
       " {'id': '183c04a1cde2adcd', 'threadId': '183c04a1cde2adcd'},\n",
       " {'id': '183c04930fa02ec9', 'threadId': '183c04930fa02ec9'},\n",
       " {'id': '183c048443574bcf', 'threadId': '183c048443574bcf'},\n",
       " {'id': '183c04758702ef78', 'threadId': '183c04758702ef78'},\n",
       " {'id': '183c0466edbc907c', 'threadId': '183c0466edbc907c'},\n",
       " {'id': '183c045803a5242b', 'threadId': '183c045803a5242b'},\n",
       " {'id': '183c0449564c1f24', 'threadId': '183c0449564c1f24'},\n",
       " {'id': '183c043a8f93bc67', 'threadId': '183c043a8f93bc67'},\n",
       " {'id': '183c042bdd16e08d', 'threadId': '183c042bdd16e08d'},\n",
       " {'id': '183c041d05022fdc', 'threadId': '183c041d05022fdc'},\n",
       " {'id': '183c040e7e8330b0', 'threadId': '183c040e7e8330b0'},\n",
       " {'id': '183c03ffb63ea6d2', 'threadId': '183c03ffb63ea6d2'},\n",
       " {'id': '183c03f0e0402a6a', 'threadId': '183c03f0e0402a6a'},\n",
       " {'id': '183c03e22d3ca453', 'threadId': '183c03e22d3ca453'},\n",
       " {'id': '183c03d36e9343fe', 'threadId': '183c03d36e9343fe'},\n",
       " {'id': '183c03c4c1cfc191', 'threadId': '183c03c4c1cfc191'},\n",
       " {'id': '183c03b61ce320da', 'threadId': '183c03b61ce320da'},\n",
       " {'id': '183c03a6298f1083', 'threadId': '183c03a6298f1083'},\n",
       " {'id': '183c03976100ccb4', 'threadId': '183c03976100ccb4'},\n",
       " {'id': '183c0388a755364e', 'threadId': '183c0388a755364e'},\n",
       " {'id': '183c0379f5585a95', 'threadId': '183c0379f5585a95'},\n",
       " {'id': '183c036b385076ce', 'threadId': '183c036b385076ce'},\n",
       " {'id': '183c035c71183fdc', 'threadId': '183c035c71183fdc'},\n",
       " {'id': '183c034dbf5f2ef7', 'threadId': '183c034dbf5f2ef7'},\n",
       " {'id': '183c033f162730a9', 'threadId': '183c033f162730a9'},\n",
       " {'id': '183c03303214a1f4', 'threadId': '183c03303214a1f4'},\n",
       " {'id': '183c032162e18326', 'threadId': '183c032162e18326'},\n",
       " {'id': '183c0312bd6e7470', 'threadId': '183c0312bd6e7470'},\n",
       " {'id': '183c0303f9ceb0b3', 'threadId': '183c0303f9ceb0b3'},\n",
       " {'id': '183c02f55f44d3c8', 'threadId': '183c02f55f44d3c8'},\n",
       " {'id': '183c02e676b1b57a', 'threadId': '183c02e676b1b57a'},\n",
       " {'id': '183c02d7ca43cde1', 'threadId': '183c02d7ca43cde1'},\n",
       " {'id': '183c02c915be992f', 'threadId': '183c02c915be992f'},\n",
       " {'id': '183c02ba5b721818', 'threadId': '183c02ba5b721818'},\n",
       " {'id': '183c02ab99352d14', 'threadId': '183c02ab99352d14'},\n",
       " {'id': '183c029cc97c7550', 'threadId': '183c029cc97c7550'},\n",
       " {'id': '183c028e07cb0374', 'threadId': '183c028e07cb0374'},\n",
       " {'id': '183c027f5752fcce', 'threadId': '183c027f5752fcce'},\n",
       " {'id': '183c02709bd0e215', 'threadId': '183c02709bd0e215'},\n",
       " {'id': '183c0261dcb2f7e4', 'threadId': '183c0261dcb2f7e4'},\n",
       " {'id': '183c0253159840d5', 'threadId': '183c0253159840d5'},\n",
       " {'id': '183c0244702d3182', 'threadId': '183c0244702d3182'},\n",
       " {'id': '183c0235b9a4b2e0', 'threadId': '183c0235b9a4b2e0'},\n",
       " {'id': '183c0226f616ada1', 'threadId': '183c0226f616ada1'},\n",
       " {'id': '183c02184f13be4d', 'threadId': '183c02184f13be4d'},\n",
       " {'id': '183c0209744f7ddb', 'threadId': '183c0209744f7ddb'},\n",
       " {'id': '183c01fabf579c49', 'threadId': '183c01fabf579c49'},\n",
       " {'id': '183c01ebe2c6ed07', 'threadId': '183c01ebe2c6ed07'},\n",
       " {'id': '183c01dd23b75244', 'threadId': '183c01dd23b75244'},\n",
       " {'id': '183c01ce707b0df1', 'threadId': '183c01ce707b0df1'},\n",
       " {'id': '183c01bfa7b6bedc', 'threadId': '183c01bfa7b6bedc'},\n",
       " {'id': '183c01b0f7211483', 'threadId': '183c01b0f7211483'},\n",
       " {'id': '183c01a23fceb06a', 'threadId': '183c01a23fceb06a'},\n",
       " {'id': '183c019369257a2f', 'threadId': '183c019369257a2f'},\n",
       " {'id': '183c0184de7d3b10', 'threadId': '183c0184de7d3b10'},\n",
       " {'id': '183c017609e7fd6b', 'threadId': '183c017609e7fd6b'},\n",
       " {'id': '183c016748cde438', 'threadId': '183c016748cde438'},\n",
       " {'id': '183c01589626f4b5', 'threadId': '183c01589626f4b5'},\n",
       " {'id': '183c0149a3940eff', 'threadId': '183c0149a3940eff'}]"
      ]
     },
     "execution_count": 9,
     "metadata": {},
     "output_type": "execute_result"
    }
   ],
   "source": [
    "msgs['messages']"
   ]
  },
  {
   "cell_type": "code",
   "execution_count": 10,
   "id": "852d1212",
   "metadata": {},
   "outputs": [],
   "source": [
    "msgs = service.users().messages().list(userId = 'me', pageToken=msgs['nextPageToken']).execute()"
   ]
  },
  {
   "cell_type": "code",
   "execution_count": 11,
   "id": "6d67f887",
   "metadata": {},
   "outputs": [],
   "source": [
    "msgs = service.users().messages().list(userId='me').execute()\n",
    "message_list = msgs['messages']\n",
    "\n",
    "while 'nextPageToken' in msgs:\n",
    "    msgs = (service.users()\n",
    "                   .messages()\n",
    "                   .list(userId='me',\n",
    "                         pageToken = msgs['nextPageToken'])\n",
    "                   .execute())\n",
    "    message_list.extend(msgs['messages'])"
   ]
  },
  {
   "cell_type": "code",
   "execution_count": 12,
   "id": "c5040309",
   "metadata": {},
   "outputs": [
    {
     "data": {
      "text/plain": [
       "1385"
      ]
     },
     "execution_count": 12,
     "metadata": {},
     "output_type": "execute_result"
    }
   ],
   "source": [
    "len(message_list)"
   ]
  },
  {
   "cell_type": "code",
   "execution_count": 13,
   "id": "09b45601",
   "metadata": {},
   "outputs": [],
   "source": [
    "msgs = service.users().messages().list(userId='me', q='subject:(\"Bail Paid\")').execute()"
   ]
  },
  {
   "cell_type": "code",
   "execution_count": 14,
   "id": "00fcf51e",
   "metadata": {},
   "outputs": [
    {
     "data": {
      "text/plain": [
       "{'messages': [{'id': '183c0603b81dabdf', 'threadId': '183c0603b81dabdf'},\n",
       "  {'id': '183c0517a9af29e8', 'threadId': '183c0517a9af29e8'},\n",
       "  {'id': '183c04bf59528752', 'threadId': '183c04bf59528752'},\n",
       "  {'id': '183c043a8f93bc67', 'threadId': '183c043a8f93bc67'},\n",
       "  {'id': '183c03976100ccb4', 'threadId': '183c03976100ccb4'},\n",
       "  {'id': '183c02709bd0e215', 'threadId': '183c02709bd0e215'},\n",
       "  {'id': '183c0226f616ada1', 'threadId': '183c0226f616ada1'},\n",
       "  {'id': '183c017609e7fd6b', 'threadId': '183c017609e7fd6b'},\n",
       "  {'id': '183c0149a3940eff', 'threadId': '183c0149a3940eff'},\n",
       "  {'id': '183bff372e36f3f2', 'threadId': '183bff372e36f3f2'},\n",
       "  {'id': '183bfe3caf5a5d3d', 'threadId': '183bfe3caf5a5d3d'},\n",
       "  {'id': '183bfd3392b45aa4', 'threadId': '183bfd3392b45aa4'},\n",
       "  {'id': '183bfc47caea257e', 'threadId': '183bfc47caea257e'},\n",
       "  {'id': '183bfbe0a367486c', 'threadId': '183bfbe0a367486c'},\n",
       "  {'id': '183bf61c3774a968', 'threadId': '183bf61c3774a968'},\n",
       "  {'id': '183bd342eaf49ecf', 'threadId': '183bd342eaf49ecf'},\n",
       "  {'id': '183bd25729712e1c', 'threadId': '183bd25729712e1c'},\n",
       "  {'id': '183bd1b5123372ab', 'threadId': '183bd1b5123372ab'},\n",
       "  {'id': '183bd15ca78f8d50', 'threadId': '183bd15ca78f8d50'},\n",
       "  {'id': '183bd0ba83419603', 'threadId': '183bd0ba83419603'},\n",
       "  {'id': '183bd070f1fb3e48', 'threadId': '183bd070f1fb3e48'},\n",
       "  {'id': '183bcbd68ce2935e', 'threadId': '183bcbd68ce2935e'},\n",
       "  {'id': '183bcaf999af26b7', 'threadId': '183bcaf999af26b7'},\n",
       "  {'id': '183bcaa13301985f', 'threadId': '183bcaa13301985f'},\n",
       "  {'id': '183bc9ff25a3b700', 'threadId': '183bc9ff25a3b700'},\n",
       "  {'id': '183bc96bde18be2a', 'threadId': '183bc96bde18be2a'},\n",
       "  {'id': '183bc7b1e31fbedd', 'threadId': '183bc7b1e31fbedd'},\n",
       "  {'id': '183bc6a8d9c8f89f', 'threadId': '183bc6a8d9c8f89f'},\n",
       "  {'id': '183bc4b3d130dfa4', 'threadId': '183bc4b3d130dfa4'},\n",
       "  {'id': '183bc37e95d6587d', 'threadId': '183bc37e95d6587d'},\n",
       "  {'id': '183bc2cdae2998cf', 'threadId': '183bc2cdae2998cf'},\n",
       "  {'id': '183bc292c6072099', 'threadId': '183bc292c6072099'},\n",
       "  {'id': '183bc1c49d767781', 'threadId': '183bc1c49d767781'},\n",
       "  {'id': '183bc0f670311d59', 'threadId': '183bc0f670311d59'},\n",
       "  {'id': '183bc0ca20c1556e', 'threadId': '183bc0ca20c1556e'},\n",
       "  {'id': '183bc06318fed07c', 'threadId': '183bc06318fed07c'},\n",
       "  {'id': '183bbab0958347a3', 'threadId': '183bbab0958347a3'},\n",
       "  {'id': '183bba1d54149844', 'threadId': '183bba1d54149844'},\n",
       "  {'id': '183bb922eb4d53ea', 'threadId': '183bb922eb4d53ea'},\n",
       "  {'id': '183bb8e7edf91325', 'threadId': '183bb8e7edf91325'},\n",
       "  {'id': '183bb7a3f6d9b6ab', 'threadId': '183bb7a3f6d9b6ab'},\n",
       "  {'id': '183bb72e09a3579a', 'threadId': '183bb72e09a3579a'},\n",
       "  {'id': '183bb701d9df9f0d', 'threadId': '183bb701d9df9f0d'},\n",
       "  {'id': '183bb4dc6f7efba0', 'threadId': '183bb4dc6f7efba0'},\n",
       "  {'id': '183bb3f0d7e1214c', 'threadId': '183bb3f0d7e1214c'},\n",
       "  {'id': '183bb313cb9458de', 'threadId': '183bb313cb9458de'},\n",
       "  {'id': '183bb19460f0ce4f', 'threadId': '183bb19460f0ce4f'},\n",
       "  {'id': '183bb0b71dfdd8bb', 'threadId': '183bb0b71dfdd8bb'},\n",
       "  {'id': '183baf72e7401fd6', 'threadId': '183baf72e7401fd6'},\n",
       "  {'id': '183baccd7be84fec', 'threadId': '183baccd7be84fec'},\n",
       "  {'id': '183bac6627a02aa1', 'threadId': '183bac6627a02aa1'},\n",
       "  {'id': '183bab97d89e059f', 'threadId': '183bab97d89e059f'},\n",
       "  {'id': '183baaac2ffd2752', 'threadId': '183baaac2ffd2752'},\n",
       "  {'id': '183ba7b9a08ae960', 'threadId': '183ba7b9a08ae960'},\n",
       "  {'id': '183ba7700b104549', 'threadId': '183ba7700b104549'},\n",
       "  {'id': '183ba6fa26ac2dda', 'threadId': '183ba6fa26ac2dda'},\n",
       "  {'id': '183ba4bb8a7be9a9', 'threadId': '183ba4bb8a7be9a9'},\n",
       "  {'id': '183ba31047e228bb', 'threadId': '183ba31047e228bb'},\n",
       "  {'id': '183ba25f915be392', 'threadId': '183ba25f915be392'},\n",
       "  {'id': '183ba1479c2db473', 'threadId': '183ba1479c2db473'},\n",
       "  {'id': '183ba10caea938ed', 'threadId': '183ba10caea938ed'},\n",
       "  {'id': '183b9f61757ee2e2', 'threadId': '183b9f61757ee2e2'},\n",
       "  {'id': '183b9dc4f8d9c3e5', 'threadId': '183b9dc4f8d9c3e5'},\n",
       "  {'id': '183b9d405f789196', 'threadId': '183b9d405f789196'},\n",
       "  {'id': '183b9c8f9ffde409', 'threadId': '183b9c8f9ffde409'},\n",
       "  {'id': '183b9c372cc5181f', 'threadId': '183b9c372cc5181f'},\n",
       "  {'id': '183b9b950bd54295', 'threadId': '183b9b950bd54295'},\n",
       "  {'id': '183b98191726a461', 'threadId': '183b98191726a461'},\n",
       "  {'id': '183b97fbb41feff8', 'threadId': '183b97fbb41feff8'},\n",
       "  {'id': '183b97414adb057c', 'threadId': '183b97414adb057c'},\n",
       "  {'id': '183b943bf0f4ff6a', 'threadId': '183b943bf0f4ff6a'},\n",
       "  {'id': '183b9323d8f27a1e', 'threadId': '183b9323d8f27a1e'},\n",
       "  {'id': '183b918f721e8fb8', 'threadId': '183b918f721e8fb8'}],\n",
       " 'resultSizeEstimate': 73}"
      ]
     },
     "execution_count": 14,
     "metadata": {},
     "output_type": "execute_result"
    }
   ],
   "source": [
    "msgs"
   ]
  },
  {
   "cell_type": "code",
   "execution_count": 15,
   "id": "a60ade1a",
   "metadata": {},
   "outputs": [
    {
     "data": {
      "text/plain": [
       "{'id': '183b9094e2f125e3', 'threadId': '183b9094e2f125e3'}"
      ]
     },
     "execution_count": 15,
     "metadata": {},
     "output_type": "execute_result"
    }
   ],
   "source": [
    "message_list[-1]"
   ]
  },
  {
   "cell_type": "code",
   "execution_count": 16,
   "id": "a6380b1f",
   "metadata": {},
   "outputs": [],
   "source": [
    "msg = service.users().messages().get(userId='me', \n",
    "                                     id=message_list[-1]['id']).execute()"
   ]
  },
  {
   "cell_type": "code",
   "execution_count": 17,
   "id": "ec89dd8b",
   "metadata": {},
   "outputs": [
    {
     "data": {
      "text/plain": [
       "dict_keys(['id', 'threadId', 'labelIds', 'snippet', 'payload', 'sizeEstimate', 'historyId', 'internalDate'])"
      ]
     },
     "execution_count": 17,
     "metadata": {},
     "output_type": "execute_result"
    }
   ],
   "source": [
    "msg.keys()"
   ]
  },
  {
   "cell_type": "code",
   "execution_count": 18,
   "id": "cf557718",
   "metadata": {},
   "outputs": [
    {
     "data": {
      "text/plain": [
       "{'partId': '',\n",
       " 'mimeType': 'multipart/alternative',\n",
       " 'filename': '',\n",
       " 'headers': [{'name': 'Delivered-To',\n",
       "   'value': 'cbs.python.bailfund@gmail.com'},\n",
       "  {'name': 'Received',\n",
       "   'value': 'by 2002:a05:6359:4e09:b0:c8:3b63:18e9 with SMTP id oq9csp1306737rwb;        Sat, 8 Oct 2022 12:18:58 -0700 (PDT)'},\n",
       "  {'name': 'X-Received',\n",
       "   'value': 'by 2002:a63:1c4e:0:b0:458:e183:1342 with SMTP id c14-20020a631c4e000000b00458e1831342mr9808299pgm.409.1665256738674;        Sat, 08 Oct 2022 12:18:58 -0700 (PDT)'},\n",
       "  {'name': 'ARC-Seal',\n",
       "   'value': 'i=1; a=rsa-sha256; t=1665256738; cv=none;        d=google.com; s=arc-20160816;        b=HZzzKUe0MyjXuZe/UaLoukmXC8H7YNo5x0544qi3trwescmHy5G/UYMP2jCuCWhhrv         IQ1uZ9b6lE3e6aq98wbu0R2CYAGxzQgG7muic67/UZI/xmCQi2H5y8bjhAHJmHgO2Cj4         jXCQ324C2L+CH38I5zXwTl+cG6cZklXN3goft3STxUAhNpczTjt7dl3TFri/O1SQnQgm         nUsjMB7zbLDmZkhy5w05uWuohSbr8QLRxVZ74Ctn6IYmyVAIxIM6FAtdZFlNWghG2E/x         SJYbnLRkwBSpR5LPuAzkGjYaRrWxgRua0yGMRNYdzZH2IMTa0B/6PA1zjw/Sevm9uGHL         l7+g=='},\n",
       "  {'name': 'ARC-Message-Signature',\n",
       "   'value': 'i=1; a=rsa-sha256; c=relaxed/relaxed; d=google.com; s=arc-20160816;        h=to:subject:message-id:date:from:mime-version:dkim-signature;        bh=Wprj4XjzG/wq+mk0LPPraPwqaDow6LL+Z336+uNiwLE=;        b=IfZrJ/PGYYsKrsjkcJ70fbmbmxf3fUfLtSSJ2c7HUFR+3+TEQTQ2EdV2+rTJ35Uj7b         hCzoV6Gl+ugGB7koFjK1NaSm3P/bGx4jhkZGXXXYq8+cVA84PVp3jdIHxsKatsU/oe2e         RDEoFEFjR7J38iCl5bKTS8Ku3i+S4gJuhe6jRhitOcuDWc4nZoQUhREEuBelLP8SwLrl         n5a71gIokz1GuCk6c6LhgT1PG/zwikk1VlY5yn2L+UxErn96bWD1+Xuz6XmP7H6Al4eP         /loumBucSYsbOv5Wv4f0rev1FUW4jJAPluPbbGOJGso6VJKDUkAfCZwVzKzPYtYvM+xP         fRXQ=='},\n",
       "  {'name': 'ARC-Authentication-Results',\n",
       "   'value': 'i=1; mx.google.com;       dkim=pass header.i=@gmail.com header.s=20210112 header.b=Kv7rNvmG;       spf=pass (google.com: domain of cbs.python.courts@gmail.com designates 209.85.220.41 as permitted sender) smtp.mailfrom=cbs.python.courts@gmail.com;       dmarc=pass (p=NONE sp=QUARANTINE dis=NONE) header.from=gmail.com'},\n",
       "  {'name': 'Return-Path', 'value': '<cbs.python.courts@gmail.com>'},\n",
       "  {'name': 'Received',\n",
       "   'value': 'from mail-sor-f41.google.com (mail-sor-f41.google.com. [209.85.220.41])        by mx.google.com with SMTPS id pf14-20020a17090b1d8e00b0020a9b1ae70csor2094464pjb.31.2022.10.08.12.18.58        for <cbs.python.bailfund@gmail.com>        (Google Transport Security);        Sat, 08 Oct 2022 12:18:58 -0700 (PDT)'},\n",
       "  {'name': 'Received-SPF',\n",
       "   'value': 'pass (google.com: domain of cbs.python.courts@gmail.com designates 209.85.220.41 as permitted sender) client-ip=209.85.220.41;'},\n",
       "  {'name': 'Authentication-Results',\n",
       "   'value': 'mx.google.com;       dkim=pass header.i=@gmail.com header.s=20210112 header.b=Kv7rNvmG;       spf=pass (google.com: domain of cbs.python.courts@gmail.com designates 209.85.220.41 as permitted sender) smtp.mailfrom=cbs.python.courts@gmail.com;       dmarc=pass (p=NONE sp=QUARANTINE dis=NONE) header.from=gmail.com'},\n",
       "  {'name': 'DKIM-Signature',\n",
       "   'value': 'v=1; a=rsa-sha256; c=relaxed/relaxed;        d=gmail.com; s=20210112;        h=to:subject:message-id:date:from:mime-version:from:to:cc:subject         :date:message-id:reply-to;        bh=Wprj4XjzG/wq+mk0LPPraPwqaDow6LL+Z336+uNiwLE=;        b=Kv7rNvmGaHoZwXm1amt4lt0WkKU/KB9iGmGlFvuSDOxtSDa7vwnw2P3Sc6PdJEmI6g         8S/eBsbIiq9JW9HtOIPO0cv2K/fMdRR1AHBf3hJheKd/y5dFMryTCLKDvDfnf45IXvWX         sDbUJW0rZYXBfcNvm9rv2knu1qCrUqKdHdeiNct48P7zDGiERYBAKbZkk8eM2AhhdLhf         09eJuUyQUvBmLrXcC7U0fOapqNS8Gh6+MJFId9nNkDhHjS7G8GvdfeyuBrquLbVVke+h         oNyYqGQtYLxe7Kh4VQeMoKesgYddN1vW5NqYdbkZrrTgOuHws+oA4n2Vv/rSRIZoX9v7         RZVg=='},\n",
       "  {'name': 'X-Google-DKIM-Signature',\n",
       "   'value': 'v=1; a=rsa-sha256; c=relaxed/relaxed;        d=1e100.net; s=20210112;        h=to:subject:message-id:date:from:mime-version:x-gm-message-state         :from:to:cc:subject:date:message-id:reply-to;        bh=Wprj4XjzG/wq+mk0LPPraPwqaDow6LL+Z336+uNiwLE=;        b=pQ5yk0+4aZVVOPScqSL6A5kVVOlZSHLbdMVFYrEZFcxdNtQ06dGVExCSydAWSiRnkL         i0j2TtK/pHVwrPRHWVUTnWIiLw/XSF5Jh4Pc/85KvFT8OJcpRTVptsbMh4v7qJPk2e8g         1UEx1wHmAdnUKEI+9Yl+OFKjEnGk+JWVq/sFW5PWK/wx0k3MnQ5GBu0uQuTGIDcgDz5L         RZZtOaIIrLi9aG3HMaNT1VI85NLxZFuVL2DF40CeL0/9/ZBVIswzXHi3SdIA5ruqWxzO         zDd6pdqaNvCZJ7KH5lGE3pRbTzJQ88dY7YxoIERKh76DRgvf3XjPz/kvmJIqxhHrbs2+         abTQ=='},\n",
       "  {'name': 'X-Gm-Message-State',\n",
       "   'value': 'ACrzQf1kLr8JrQjE+0FPS3dSkF63GoJhPae7+rJWBfoyBii1o+rcYhy/ Eh32uWoJ805nq7fR6XqIEG1w8+meC94Cdf5BZ/PciMBS'},\n",
       "  {'name': 'X-Google-Smtp-Source',\n",
       "   'value': 'AMsMyM6t3frRArnCWEgvkMZRtQvk13Zuyl5GWh86KFgPtgSJr6xUG9NrI9dUrOl+QW4eDf1xBOLL1t4HEZ4EcdLA9Q8='},\n",
       "  {'name': 'X-Received',\n",
       "   'value': 'by 2002:a17:90b:3c51:b0:20c:2630:5259 with SMTP id pm17-20020a17090b3c5100b0020c26305259mr7047187pjb.177.1665256738211; Sat, 08 Oct 2022 12:18:58 -0700 (PDT)'},\n",
       "  {'name': 'Received',\n",
       "   'value': 'from 363908162380 named unknown by gmailapi.google.com with HTTPREST; Sat, 8 Oct 2022 12:18:57 -0700'},\n",
       "  {'name': 'MIME-Version', 'value': '1.0'},\n",
       "  {'name': 'from', 'value': 'cbs.python.courts@gmail.com'},\n",
       "  {'name': 'Date', 'value': 'Sat, 8 Oct 2022 12:18:57 -0700'},\n",
       "  {'name': 'Message-ID',\n",
       "   'value': '<CAMdcPd3U2ktm5LT_8i3ot9Xoh8MuzLz1x5PbyJqrnB_7=JpAAA@mail.gmail.com>'},\n",
       "  {'name': 'Subject', 'value': 'Court Update Alert: Case Number CR-4725375'},\n",
       "  {'name': 'To', 'value': 'cbs.python.bailfund@gmail.com'},\n",
       "  {'name': 'Content-Type',\n",
       "   'value': 'multipart/alternative; boundary=\"000000000000574d7e05ea8acc23\"'}],\n",
       " 'body': {'size': 0},\n",
       " 'parts': [{'partId': '0',\n",
       "   'mimeType': 'text/plain',\n",
       "   'filename': '',\n",
       "   'headers': [{'name': 'Content-Type',\n",
       "     'value': 'text/plain; charset=\"UTF-8\"'}],\n",
       "   'body': {'size': 356,\n",
       "    'data': 'U2VudCBEYXRlID0gMDktMDEtMjAyMSAxMTo1NDoyMA0KDQpDYXNlIE51bWJlciA9IENSLTQ3MjUzNzUNCkRlZmVuZGFudCA9IEtyaXN0YSBSaWdncw0KRE9CID0gMTItMjUtMTk4OQ0KU2V4ID0gRg0KQ2hhcmdlID0gUG9zc2Vzc2lvbiBvZiBlYXZlc2Ryb3BwaW5nIGRldmljZXMtIENsYXNzIEEgTWlzZGVtZWFub3INCkFycmVzdCBEYXRlID0gMDktMDEtMjAyMSAxMTozMjowMA0KDQpVcGRhdGUgZGV0YWlscw0KDQpQdXJwb3NlID0gQ2FzZSBvcGVuZWQNCkxvY2F0aW9uID0gU3ByaW5nZmllbGQNCk1vZGFsaXR5ID0gVmlydHVhbA0KDQpDYXNlIENsb3NlZCA9IE5PDQoNCi0tDQpDQlMgUHl0aG9uIEJhaWwgRnVuZCBDYXNlDQo='}},\n",
       "  {'partId': '1',\n",
       "   'mimeType': 'text/html',\n",
       "   'filename': '',\n",
       "   'headers': [{'name': 'Content-Type', 'value': 'text/html; charset=\"UTF-8\"'},\n",
       "    {'name': 'Content-Transfer-Encoding', 'value': 'quoted-printable'}],\n",
       "   'body': {'size': 650,\n",
       "    'data': 'PHAgc3R5bGU9ImZvbnQtd2VpZ2h0OmJvbGQiPlNlbnQgRGF0ZSA9IDA5LTAxLTIwMjEgMTE6NTQ6MjA8YnI-PC9wPg0KPHA-Q2FzZSBOdW1iZXIgPSAgQ1ItNDcyNTM3NTxicj5EZWZlbmRhbnQgICAgID0gIEtyaXN0YSBSaWdnczxicj5ET0IgICAgICAgICAgID0gIDEyLTI1LTE5ODk8YnI-U2V4ICAgICAgICAgICA9IEY8YnI-Q2hhcmdlICAgICAgICA9IFBvc3Nlc3Npb24gb2YgZWF2ZXNkcm9wcGluZyBkZXZpY2VzLSBDbGFzcyBBIE1pc2RlbWVhbm9yPGJyPkFycmVzdCBEYXRlICAgPSAwOS0wMS0yMDIxIDExOjMyOjAwPC9wPjxwIHN0eWxlPSJmb250LXdlaWdodDpib2xkIj5VcGRhdGUgZGV0YWlsczxicj48L3A-PHA-UHVycG9zZSAgICAgICA9IENhc2Ugb3BlbmVkPGJyPg0KTG9jYXRpb24gICAgICA9IFNwcmluZ2ZpZWxkPGJyPg0KTW9kYWxpdHkgICAgICA9IFZpcnR1YWw8YnI-PC9wPg0KPHA-Q2FzZSBDbG9zZWQgICA9ICAgICAgTk88L3A-DQo8cD4tLTxicj5DQlMgUHl0aG9uIEJhaWwgRnVuZCBDYXNlPC9wPjxpbWcgc3JjPSJodHRwczovL3Jhdy5naXRodWJ1c2VyY29udGVudC5jb20vZGFuZ3VldHRhL2JhaWxfZnVuZF9jYXNlX2NvZGUvbWFpbi9JbnN0cnVjdG9yJTIwY29kZS9jb3VydC1sb2dvLnBuZyIgd2lkdGg9IjEwMCI-DQo='}}]}"
      ]
     },
     "execution_count": 18,
     "metadata": {},
     "output_type": "execute_result"
    }
   ],
   "source": [
    "msg['payload']"
   ]
  },
  {
   "cell_type": "code",
   "execution_count": 19,
   "id": "ca8ae4e9",
   "metadata": {},
   "outputs": [],
   "source": [
    "from pprint import pprint"
   ]
  },
  {
   "cell_type": "code",
   "execution_count": 20,
   "id": "b380e108",
   "metadata": {},
   "outputs": [
    {
     "name": "stdout",
     "output_type": "stream",
     "text": [
      "{'body': {'size': 0},\n",
      " 'filename': '',\n",
      " 'headers': [{'name': 'Delivered-To', 'value': 'cbs.python.bailfund@gmail.com'},\n",
      "             {'name': 'Received',\n",
      "              'value': 'by 2002:a05:6359:4e09:b0:c8:3b63:18e9 with SMTP id '\n",
      "                       'oq9csp1306737rwb;        Sat, 8 Oct 2022 12:18:58 '\n",
      "                       '-0700 (PDT)'},\n",
      "             {'name': 'X-Received',\n",
      "              'value': 'by 2002:a63:1c4e:0:b0:458:e183:1342 with SMTP id '\n",
      "                       'c14-20020a631c4e000000b00458e1831342mr9808299pgm.409.1665256738674;        '\n",
      "                       'Sat, 08 Oct 2022 12:18:58 -0700 (PDT)'},\n",
      "             {'name': 'ARC-Seal',\n",
      "              'value': 'i=1; a=rsa-sha256; t=1665256738; cv=none;        '\n",
      "                       'd=google.com; s=arc-20160816;        '\n",
      "                       'b=HZzzKUe0MyjXuZe/UaLoukmXC8H7YNo5x0544qi3trwescmHy5G/UYMP2jCuCWhhrv         '\n",
      "                       'IQ1uZ9b6lE3e6aq98wbu0R2CYAGxzQgG7muic67/UZI/xmCQi2H5y8bjhAHJmHgO2Cj4         '\n",
      "                       'jXCQ324C2L+CH38I5zXwTl+cG6cZklXN3goft3STxUAhNpczTjt7dl3TFri/O1SQnQgm         '\n",
      "                       'nUsjMB7zbLDmZkhy5w05uWuohSbr8QLRxVZ74Ctn6IYmyVAIxIM6FAtdZFlNWghG2E/x         '\n",
      "                       'SJYbnLRkwBSpR5LPuAzkGjYaRrWxgRua0yGMRNYdzZH2IMTa0B/6PA1zjw/Sevm9uGHL         '\n",
      "                       'l7+g=='},\n",
      "             {'name': 'ARC-Message-Signature',\n",
      "              'value': 'i=1; a=rsa-sha256; c=relaxed/relaxed; d=google.com; '\n",
      "                       's=arc-20160816;        '\n",
      "                       'h=to:subject:message-id:date:from:mime-version:dkim-signature;        '\n",
      "                       'bh=Wprj4XjzG/wq+mk0LPPraPwqaDow6LL+Z336+uNiwLE=;        '\n",
      "                       'b=IfZrJ/PGYYsKrsjkcJ70fbmbmxf3fUfLtSSJ2c7HUFR+3+TEQTQ2EdV2+rTJ35Uj7b         '\n",
      "                       'hCzoV6Gl+ugGB7koFjK1NaSm3P/bGx4jhkZGXXXYq8+cVA84PVp3jdIHxsKatsU/oe2e         '\n",
      "                       'RDEoFEFjR7J38iCl5bKTS8Ku3i+S4gJuhe6jRhitOcuDWc4nZoQUhREEuBelLP8SwLrl         '\n",
      "                       'n5a71gIokz1GuCk6c6LhgT1PG/zwikk1VlY5yn2L+UxErn96bWD1+Xuz6XmP7H6Al4eP         '\n",
      "                       '/loumBucSYsbOv5Wv4f0rev1FUW4jJAPluPbbGOJGso6VJKDUkAfCZwVzKzPYtYvM+xP         '\n",
      "                       'fRXQ=='},\n",
      "             {'name': 'ARC-Authentication-Results',\n",
      "              'value': 'i=1; mx.google.com;       dkim=pass '\n",
      "                       'header.i=@gmail.com header.s=20210112 '\n",
      "                       'header.b=Kv7rNvmG;       spf=pass (google.com: domain '\n",
      "                       'of cbs.python.courts@gmail.com designates '\n",
      "                       '209.85.220.41 as permitted sender) '\n",
      "                       'smtp.mailfrom=cbs.python.courts@gmail.com;       '\n",
      "                       'dmarc=pass (p=NONE sp=QUARANTINE dis=NONE) '\n",
      "                       'header.from=gmail.com'},\n",
      "             {'name': 'Return-Path', 'value': '<cbs.python.courts@gmail.com>'},\n",
      "             {'name': 'Received',\n",
      "              'value': 'from mail-sor-f41.google.com (mail-sor-f41.google.com. '\n",
      "                       '[209.85.220.41])        by mx.google.com with SMTPS id '\n",
      "                       'pf14-20020a17090b1d8e00b0020a9b1ae70csor2094464pjb.31.2022.10.08.12.18.58        '\n",
      "                       'for <cbs.python.bailfund@gmail.com>        (Google '\n",
      "                       'Transport Security);        Sat, 08 Oct 2022 12:18:58 '\n",
      "                       '-0700 (PDT)'},\n",
      "             {'name': 'Received-SPF',\n",
      "              'value': 'pass (google.com: domain of '\n",
      "                       'cbs.python.courts@gmail.com designates 209.85.220.41 '\n",
      "                       'as permitted sender) client-ip=209.85.220.41;'},\n",
      "             {'name': 'Authentication-Results',\n",
      "              'value': 'mx.google.com;       dkim=pass header.i=@gmail.com '\n",
      "                       'header.s=20210112 header.b=Kv7rNvmG;       spf=pass '\n",
      "                       '(google.com: domain of cbs.python.courts@gmail.com '\n",
      "                       'designates 209.85.220.41 as permitted sender) '\n",
      "                       'smtp.mailfrom=cbs.python.courts@gmail.com;       '\n",
      "                       'dmarc=pass (p=NONE sp=QUARANTINE dis=NONE) '\n",
      "                       'header.from=gmail.com'},\n",
      "             {'name': 'DKIM-Signature',\n",
      "              'value': 'v=1; a=rsa-sha256; c=relaxed/relaxed;        '\n",
      "                       'd=gmail.com; s=20210112;        '\n",
      "                       'h=to:subject:message-id:date:from:mime-version:from:to:cc:subject         '\n",
      "                       ':date:message-id:reply-to;        '\n",
      "                       'bh=Wprj4XjzG/wq+mk0LPPraPwqaDow6LL+Z336+uNiwLE=;        '\n",
      "                       'b=Kv7rNvmGaHoZwXm1amt4lt0WkKU/KB9iGmGlFvuSDOxtSDa7vwnw2P3Sc6PdJEmI6g         '\n",
      "                       '8S/eBsbIiq9JW9HtOIPO0cv2K/fMdRR1AHBf3hJheKd/y5dFMryTCLKDvDfnf45IXvWX         '\n",
      "                       'sDbUJW0rZYXBfcNvm9rv2knu1qCrUqKdHdeiNct48P7zDGiERYBAKbZkk8eM2AhhdLhf         '\n",
      "                       '09eJuUyQUvBmLrXcC7U0fOapqNS8Gh6+MJFId9nNkDhHjS7G8GvdfeyuBrquLbVVke+h         '\n",
      "                       'oNyYqGQtYLxe7Kh4VQeMoKesgYddN1vW5NqYdbkZrrTgOuHws+oA4n2Vv/rSRIZoX9v7         '\n",
      "                       'RZVg=='},\n",
      "             {'name': 'X-Google-DKIM-Signature',\n",
      "              'value': 'v=1; a=rsa-sha256; c=relaxed/relaxed;        '\n",
      "                       'd=1e100.net; s=20210112;        '\n",
      "                       'h=to:subject:message-id:date:from:mime-version:x-gm-message-state         '\n",
      "                       ':from:to:cc:subject:date:message-id:reply-to;        '\n",
      "                       'bh=Wprj4XjzG/wq+mk0LPPraPwqaDow6LL+Z336+uNiwLE=;        '\n",
      "                       'b=pQ5yk0+4aZVVOPScqSL6A5kVVOlZSHLbdMVFYrEZFcxdNtQ06dGVExCSydAWSiRnkL         '\n",
      "                       'i0j2TtK/pHVwrPRHWVUTnWIiLw/XSF5Jh4Pc/85KvFT8OJcpRTVptsbMh4v7qJPk2e8g         '\n",
      "                       '1UEx1wHmAdnUKEI+9Yl+OFKjEnGk+JWVq/sFW5PWK/wx0k3MnQ5GBu0uQuTGIDcgDz5L         '\n",
      "                       'RZZtOaIIrLi9aG3HMaNT1VI85NLxZFuVL2DF40CeL0/9/ZBVIswzXHi3SdIA5ruqWxzO         '\n",
      "                       'zDd6pdqaNvCZJ7KH5lGE3pRbTzJQ88dY7YxoIERKh76DRgvf3XjPz/kvmJIqxhHrbs2+         '\n",
      "                       'abTQ=='},\n",
      "             {'name': 'X-Gm-Message-State',\n",
      "              'value': 'ACrzQf1kLr8JrQjE+0FPS3dSkF63GoJhPae7+rJWBfoyBii1o+rcYhy/ '\n",
      "                       'Eh32uWoJ805nq7fR6XqIEG1w8+meC94Cdf5BZ/PciMBS'},\n",
      "             {'name': 'X-Google-Smtp-Source',\n",
      "              'value': 'AMsMyM6t3frRArnCWEgvkMZRtQvk13Zuyl5GWh86KFgPtgSJr6xUG9NrI9dUrOl+QW4eDf1xBOLL1t4HEZ4EcdLA9Q8='},\n",
      "             {'name': 'X-Received',\n",
      "              'value': 'by 2002:a17:90b:3c51:b0:20c:2630:5259 with SMTP id '\n",
      "                       'pm17-20020a17090b3c5100b0020c26305259mr7047187pjb.177.1665256738211; '\n",
      "                       'Sat, 08 Oct 2022 12:18:58 -0700 (PDT)'},\n",
      "             {'name': 'Received',\n",
      "              'value': 'from 363908162380 named unknown by gmailapi.google.com '\n",
      "                       'with HTTPREST; Sat, 8 Oct 2022 12:18:57 -0700'},\n",
      "             {'name': 'MIME-Version', 'value': '1.0'},\n",
      "             {'name': 'from', 'value': 'cbs.python.courts@gmail.com'},\n",
      "             {'name': 'Date', 'value': 'Sat, 8 Oct 2022 12:18:57 -0700'},\n",
      "             {'name': 'Message-ID',\n",
      "              'value': '<CAMdcPd3U2ktm5LT_8i3ot9Xoh8MuzLz1x5PbyJqrnB_7=JpAAA@mail.gmail.com>'},\n",
      "             {'name': 'Subject',\n",
      "              'value': 'Court Update Alert: Case Number CR-4725375'},\n",
      "             {'name': 'To', 'value': 'cbs.python.bailfund@gmail.com'},\n",
      "             {'name': 'Content-Type',\n",
      "              'value': 'multipart/alternative; '\n",
      "                       'boundary=\"000000000000574d7e05ea8acc23\"'}],\n",
      " 'mimeType': 'multipart/alternative',\n",
      " 'partId': '',\n",
      " 'parts': [{'body': {'data': 'U2VudCBEYXRlID0gMDktMDEtMjAyMSAxMTo1NDoyMA0KDQpDYXNlIE51bWJlciA9IENSLTQ3MjUzNzUNCkRlZmVuZGFudCA9IEtyaXN0YSBSaWdncw0KRE9CID0gMTItMjUtMTk4OQ0KU2V4ID0gRg0KQ2hhcmdlID0gUG9zc2Vzc2lvbiBvZiBlYXZlc2Ryb3BwaW5nIGRldmljZXMtIENsYXNzIEEgTWlzZGVtZWFub3INCkFycmVzdCBEYXRlID0gMDktMDEtMjAyMSAxMTozMjowMA0KDQpVcGRhdGUgZGV0YWlscw0KDQpQdXJwb3NlID0gQ2FzZSBvcGVuZWQNCkxvY2F0aW9uID0gU3ByaW5nZmllbGQNCk1vZGFsaXR5ID0gVmlydHVhbA0KDQpDYXNlIENsb3NlZCA9IE5PDQoNCi0tDQpDQlMgUHl0aG9uIEJhaWwgRnVuZCBDYXNlDQo=',\n",
      "                     'size': 356},\n",
      "            'filename': '',\n",
      "            'headers': [{'name': 'Content-Type',\n",
      "                         'value': 'text/plain; charset=\"UTF-8\"'}],\n",
      "            'mimeType': 'text/plain',\n",
      "            'partId': '0'},\n",
      "           {'body': {'data': 'PHAgc3R5bGU9ImZvbnQtd2VpZ2h0OmJvbGQiPlNlbnQgRGF0ZSA9IDA5LTAxLTIwMjEgMTE6NTQ6MjA8YnI-PC9wPg0KPHA-Q2FzZSBOdW1iZXIgPSAgQ1ItNDcyNTM3NTxicj5EZWZlbmRhbnQgICAgID0gIEtyaXN0YSBSaWdnczxicj5ET0IgICAgICAgICAgID0gIDEyLTI1LTE5ODk8YnI-U2V4ICAgICAgICAgICA9IEY8YnI-Q2hhcmdlICAgICAgICA9IFBvc3Nlc3Npb24gb2YgZWF2ZXNkcm9wcGluZyBkZXZpY2VzLSBDbGFzcyBBIE1pc2RlbWVhbm9yPGJyPkFycmVzdCBEYXRlICAgPSAwOS0wMS0yMDIxIDExOjMyOjAwPC9wPjxwIHN0eWxlPSJmb250LXdlaWdodDpib2xkIj5VcGRhdGUgZGV0YWlsczxicj48L3A-PHA-UHVycG9zZSAgICAgICA9IENhc2Ugb3BlbmVkPGJyPg0KTG9jYXRpb24gICAgICA9IFNwcmluZ2ZpZWxkPGJyPg0KTW9kYWxpdHkgICAgICA9IFZpcnR1YWw8YnI-PC9wPg0KPHA-Q2FzZSBDbG9zZWQgICA9ICAgICAgTk88L3A-DQo8cD4tLTxicj5DQlMgUHl0aG9uIEJhaWwgRnVuZCBDYXNlPC9wPjxpbWcgc3JjPSJodHRwczovL3Jhdy5naXRodWJ1c2VyY29udGVudC5jb20vZGFuZ3VldHRhL2JhaWxfZnVuZF9jYXNlX2NvZGUvbWFpbi9JbnN0cnVjdG9yJTIwY29kZS9jb3VydC1sb2dvLnBuZyIgd2lkdGg9IjEwMCI-DQo=',\n",
      "                     'size': 650},\n",
      "            'filename': '',\n",
      "            'headers': [{'name': 'Content-Type',\n",
      "                         'value': 'text/html; charset=\"UTF-8\"'},\n",
      "                        {'name': 'Content-Transfer-Encoding',\n",
      "                         'value': 'quoted-printable'}],\n",
      "            'mimeType': 'text/html',\n",
      "            'partId': '1'}]}\n"
     ]
    }
   ],
   "source": [
    "pprint(msg['payload'])"
   ]
  },
  {
   "cell_type": "code",
   "execution_count": 21,
   "id": "ff4653e1",
   "metadata": {},
   "outputs": [
    {
     "data": {
      "text/plain": [
       "'U2VudCBEYXRlID0gMDktMDEtMjAyMSAxMTo1NDoyMA0KDQpDYXNlIE51bWJlciA9IENSLTQ3MjUzNzUNCkRlZmVuZGFudCA9IEtyaXN0YSBSaWdncw0KRE9CID0gMTItMjUtMTk4OQ0KU2V4ID0gRg0KQ2hhcmdlID0gUG9zc2Vzc2lvbiBvZiBlYXZlc2Ryb3BwaW5nIGRldmljZXMtIENsYXNzIEEgTWlzZGVtZWFub3INCkFycmVzdCBEYXRlID0gMDktMDEtMjAyMSAxMTozMjowMA0KDQpVcGRhdGUgZGV0YWlscw0KDQpQdXJwb3NlID0gQ2FzZSBvcGVuZWQNCkxvY2F0aW9uID0gU3ByaW5nZmllbGQNCk1vZGFsaXR5ID0gVmlydHVhbA0KDQpDYXNlIENsb3NlZCA9IE5PDQoNCi0tDQpDQlMgUHl0aG9uIEJhaWwgRnVuZCBDYXNlDQo='"
      ]
     },
     "execution_count": 21,
     "metadata": {},
     "output_type": "execute_result"
    }
   ],
   "source": [
    "msg['payload']['parts'][0]['body']['data']"
   ]
  },
  {
   "cell_type": "code",
   "execution_count": 22,
   "id": "964df314",
   "metadata": {},
   "outputs": [],
   "source": [
    "import base64"
   ]
  },
  {
   "cell_type": "code",
   "execution_count": 23,
   "id": "1821a1c3",
   "metadata": {},
   "outputs": [
    {
     "name": "stdout",
     "output_type": "stream",
     "text": [
      "Sent Date = 09-01-2021 11:54:20\r\n",
      "\r\n",
      "Case Number = CR-4725375\r\n",
      "Defendant = Krista Riggs\r\n",
      "DOB = 12-25-1989\r\n",
      "Sex = F\r\n",
      "Charge = Possession of eavesdropping devices- Class A Misdemeanor\r\n",
      "Arrest Date = 09-01-2021 11:32:00\r\n",
      "\r\n",
      "Update details\r\n",
      "\r\n",
      "Purpose = Case opened\r\n",
      "Location = Springfield\r\n",
      "Modality = Virtual\r\n",
      "\r\n",
      "Case Closed = NO\r\n",
      "\r\n",
      "--\r\n",
      "CBS Python Bail Fund Case\r\n",
      "\n"
     ]
    }
   ],
   "source": [
    "print(base64.b64decode(msg['payload']['parts'][0]['body']['data'].replace('-', '+').replace('_', '/')).decode('utf-8'))"
   ]
  },
  {
   "cell_type": "markdown",
   "id": "fbcb991e",
   "metadata": {},
   "source": [
    "## Creating PowerPoint Files in Python"
   ]
  },
  {
   "cell_type": "code",
   "execution_count": 24,
   "id": "fb7893a5",
   "metadata": {},
   "outputs": [
    {
     "name": "stdout",
     "output_type": "stream",
     "text": [
      "Requirement already satisfied: python-pptx in /Users/mattangriffel/opt/anaconda3/lib/python3.9/site-packages (0.6.21)\r\n",
      "Requirement already satisfied: lxml>=3.1.0 in /Users/mattangriffel/opt/anaconda3/lib/python3.9/site-packages (from python-pptx) (4.8.0)\r\n",
      "Requirement already satisfied: XlsxWriter>=0.5.7 in /Users/mattangriffel/opt/anaconda3/lib/python3.9/site-packages (from python-pptx) (3.0.3)\r\n",
      "Requirement already satisfied: Pillow>=3.3.2 in /Users/mattangriffel/opt/anaconda3/lib/python3.9/site-packages (from python-pptx) (9.0.1)\r\n"
     ]
    }
   ],
   "source": [
    "!pip install python-pptx"
   ]
  },
  {
   "cell_type": "code",
   "execution_count": 25,
   "id": "a0fc1a41",
   "metadata": {},
   "outputs": [],
   "source": [
    "import pptx"
   ]
  },
  {
   "cell_type": "code",
   "execution_count": 26,
   "id": "d34a7a93",
   "metadata": {},
   "outputs": [],
   "source": [
    "pres = pptx.Presentation()"
   ]
  },
  {
   "cell_type": "code",
   "execution_count": 27,
   "id": "b142658c",
   "metadata": {},
   "outputs": [
    {
     "data": {
      "text/plain": [
       "<pptx.slide.Slides at 0x7f8192f5d460>"
      ]
     },
     "execution_count": 27,
     "metadata": {},
     "output_type": "execute_result"
    }
   ],
   "source": [
    "pres.slides"
   ]
  },
  {
   "cell_type": "code",
   "execution_count": 28,
   "id": "226c395f",
   "metadata": {},
   "outputs": [
    {
     "data": {
      "text/plain": [
       "0"
      ]
     },
     "execution_count": 28,
     "metadata": {},
     "output_type": "execute_result"
    }
   ],
   "source": [
    "len(pres.slides)"
   ]
  },
  {
   "cell_type": "code",
   "execution_count": 29,
   "id": "79109482",
   "metadata": {},
   "outputs": [],
   "source": [
    "pres.save('file_name.pptx')"
   ]
  },
  {
   "cell_type": "markdown",
   "id": "a692549b",
   "metadata": {},
   "source": [
    "### Adding Slides"
   ]
  },
  {
   "cell_type": "code",
   "execution_count": 30,
   "id": "7b4c2d4b",
   "metadata": {},
   "outputs": [],
   "source": [
    "title_layout = pres.slide_layouts[0]"
   ]
  },
  {
   "cell_type": "code",
   "execution_count": 31,
   "id": "7f882e34",
   "metadata": {},
   "outputs": [],
   "source": [
    "slide = pres.slides.add_slide(title_layout)"
   ]
  },
  {
   "cell_type": "code",
   "execution_count": 32,
   "id": "2f3ba27b",
   "metadata": {},
   "outputs": [
    {
     "data": {
      "text/plain": [
       "1"
      ]
     },
     "execution_count": 32,
     "metadata": {},
     "output_type": "execute_result"
    }
   ],
   "source": [
    "len(pres.slides)"
   ]
  },
  {
   "cell_type": "code",
   "execution_count": 33,
   "id": "e9473c2b",
   "metadata": {},
   "outputs": [],
   "source": [
    "blank_slide = pres.slides.add_slide(pres.slide_layouts[6])"
   ]
  },
  {
   "cell_type": "markdown",
   "id": "e888434e",
   "metadata": {},
   "source": [
    "### Adding and Editing Content on Slides"
   ]
  },
  {
   "cell_type": "code",
   "execution_count": 34,
   "id": "7cd7b1fa",
   "metadata": {},
   "outputs": [
    {
     "data": {
      "text/plain": [
       "2"
      ]
     },
     "execution_count": 34,
     "metadata": {},
     "output_type": "execute_result"
    }
   ],
   "source": [
    "len(slide.shapes)"
   ]
  },
  {
   "cell_type": "code",
   "execution_count": 35,
   "id": "c8efd7a6",
   "metadata": {},
   "outputs": [
    {
     "data": {
      "text/plain": [
       "0"
      ]
     },
     "execution_count": 35,
     "metadata": {},
     "output_type": "execute_result"
    }
   ],
   "source": [
    "len(blank_slide.shapes)"
   ]
  },
  {
   "cell_type": "code",
   "execution_count": 36,
   "id": "08c1f428",
   "metadata": {},
   "outputs": [
    {
     "data": {
      "text/plain": [
       "2"
      ]
     },
     "execution_count": 36,
     "metadata": {},
     "output_type": "execute_result"
    }
   ],
   "source": [
    "len(pres.slides[0].shapes)"
   ]
  },
  {
   "cell_type": "code",
   "execution_count": 37,
   "id": "53d5e171",
   "metadata": {},
   "outputs": [],
   "source": [
    "pres.slides[0].shapes[0].text = 'Hello World!!' \n",
    "pres.slides[0].shapes[1].text = 'Why I love Python'"
   ]
  },
  {
   "cell_type": "code",
   "execution_count": 38,
   "id": "fc2b2e44",
   "metadata": {},
   "outputs": [],
   "source": [
    "pres.save('file_name.pptx')"
   ]
  },
  {
   "cell_type": "code",
   "execution_count": 39,
   "id": "8675606a",
   "metadata": {},
   "outputs": [],
   "source": [
    "shape = (pres.slides[1]\n",
    "             .shapes\n",
    "             .add_textbox(left = pptx.util.Inches(0.5), \n",
    "                          top = pptx.util.Inches(0.5),\n",
    "                          width = pptx.util.Inches(8), \n",
    "                          height = pptx.util.Inches(0.5)))\n",
    "\n",
    "shape.text = 'This is a table'"
   ]
  },
  {
   "cell_type": "code",
   "execution_count": 40,
   "id": "071106a4",
   "metadata": {},
   "outputs": [],
   "source": [
    "shape = (pres.slides[1]\n",
    "             .shapes\n",
    "             .add_table(rows = 3, \n",
    "                        cols = 4,\n",
    "                        left = pptx.util.Inches(0.5), \n",
    "                        top = pptx.util.Inches(1.5), \n",
    "                        width = pptx.util.Inches(8), \n",
    "                        height = pptx.util.Inches(2)))\n",
    "\n",
    "shape.table.cell(2,2).text = 'Sample content' \n",
    "\n",
    "for i in range(4):\n",
    "    shape.table.cell(0, i).text = f'Header {i+1}'"
   ]
  },
  {
   "cell_type": "code",
   "execution_count": 41,
   "id": "a3b972b2",
   "metadata": {},
   "outputs": [],
   "source": [
    "pres.save('file_name.pptx')"
   ]
  },
  {
   "cell_type": "code",
   "execution_count": 42,
   "id": "7360aa2e",
   "metadata": {},
   "outputs": [],
   "source": [
    "import pptx.chart.data"
   ]
  },
  {
   "cell_type": "code",
   "execution_count": 43,
   "id": "7559aa5a",
   "metadata": {},
   "outputs": [],
   "source": [
    "slide = pres.slides.add_slide(pres.slide_layouts[6])"
   ]
  },
  {
   "cell_type": "code",
   "execution_count": 44,
   "id": "a61faa0f",
   "metadata": {},
   "outputs": [],
   "source": [
    "chart_data = pptx.chart.data.ChartData()"
   ]
  },
  {
   "cell_type": "code",
   "execution_count": 45,
   "id": "7343644d",
   "metadata": {},
   "outputs": [
    {
     "data": {
      "text/plain": [
       "<pptx.chart.data.CategorySeriesData at 0x7f81930a0400>"
      ]
     },
     "execution_count": 45,
     "metadata": {},
     "output_type": "execute_result"
    }
   ],
   "source": [
    "chart_data.categories = ['Jan', 'Feb', 'Mar', 'Apr', 'May', 'Jun'] \n",
    "chart_data.add_series('Series 1', (1, 2, 5, 8, 3, 5))"
   ]
  },
  {
   "cell_type": "code",
   "execution_count": 46,
   "id": "b6ca21f3",
   "metadata": {},
   "outputs": [],
   "source": [
    "chart = slide.shapes.add_chart(chart_type=pptx.enum.chart.XL_CHART_TYPE.LINE,\n",
    "                               x=pptx.util.Inches(2), \n",
    "                               y=pptx.util.Inches(2), \n",
    "                               cx=pptx.util.Inches(6), \n",
    "                               cy=pptx.util.Inches(4.5), \n",
    "                               chart_data=chart_data).chart"
   ]
  },
  {
   "cell_type": "code",
   "execution_count": 47,
   "id": "389755f3",
   "metadata": {},
   "outputs": [],
   "source": [
    "chart.has_legend=False"
   ]
  },
  {
   "cell_type": "code",
   "execution_count": 48,
   "id": "06b6376c",
   "metadata": {},
   "outputs": [],
   "source": [
    "pres.save('file_name.pptx')"
   ]
  }
 ],
 "metadata": {
  "kernelspec": {
   "display_name": "Python 3 (ipykernel)",
   "language": "python",
   "name": "python3"
  },
  "language_info": {
   "codemirror_mode": {
    "name": "ipython",
    "version": 3
   },
   "file_extension": ".py",
   "mimetype": "text/x-python",
   "name": "python",
   "nbconvert_exporter": "python",
   "pygments_lexer": "ipython3",
   "version": "3.9.12"
  }
 },
 "nbformat": 4,
 "nbformat_minor": 5
}
