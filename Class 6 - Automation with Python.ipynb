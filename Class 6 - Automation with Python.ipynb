{
 "cells": [
  {
   "cell_type": "markdown",
   "id": "decf7e81",
   "metadata": {},
   "source": [
    "# Class 6 - Automation with Python"
   ]
  },
  {
   "cell_type": "markdown",
   "id": "6b0f7486",
   "metadata": {},
   "source": [
    "## OAuth 2"
   ]
  },
  {
   "cell_type": "code",
   "execution_count": 1,
   "id": "213a671c",
   "metadata": {},
   "outputs": [
    {
     "name": "stdout",
     "output_type": "stream",
     "text": [
      "Requirement already satisfied: google-api-python-client in /Users/mattancbs/opt/anaconda3/lib/python3.9/site-packages (2.46.0)\n",
      "Requirement already satisfied: google-auth-httplib2 in /Users/mattancbs/opt/anaconda3/lib/python3.9/site-packages (0.1.0)\n",
      "Requirement already satisfied: google-auth-oauthlib in /Users/mattancbs/opt/anaconda3/lib/python3.9/site-packages (0.5.1)\n",
      "Requirement already satisfied: google-auth<3.0.0dev,>=1.16.0 in /Users/mattancbs/opt/anaconda3/lib/python3.9/site-packages (from google-api-python-client) (2.6.2)\n",
      "Requirement already satisfied: google-api-core!=2.0.*,!=2.1.*,!=2.2.*,!=2.3.0,<3.0.0dev,>=1.31.5 in /Users/mattancbs/opt/anaconda3/lib/python3.9/site-packages (from google-api-python-client) (2.7.2)\n",
      "Requirement already satisfied: httplib2<1dev,>=0.15.0 in /Users/mattancbs/opt/anaconda3/lib/python3.9/site-packages (from google-api-python-client) (0.20.4)\n",
      "Requirement already satisfied: uritemplate<5,>=3.0.1 in /Users/mattancbs/opt/anaconda3/lib/python3.9/site-packages (from google-api-python-client) (4.1.1)\n",
      "Requirement already satisfied: six in /Users/mattancbs/opt/anaconda3/lib/python3.9/site-packages (from google-auth-httplib2) (1.16.0)\n",
      "Requirement already satisfied: requests-oauthlib>=0.7.0 in /Users/mattancbs/opt/anaconda3/lib/python3.9/site-packages (from google-auth-oauthlib) (1.3.1)\n",
      "Requirement already satisfied: requests<3.0.0dev,>=2.18.0 in /Users/mattancbs/opt/anaconda3/lib/python3.9/site-packages (from google-api-core!=2.0.*,!=2.1.*,!=2.2.*,!=2.3.0,<3.0.0dev,>=1.31.5->google-api-python-client) (2.26.0)\n",
      "Requirement already satisfied: protobuf>=3.12.0 in /Users/mattancbs/opt/anaconda3/lib/python3.9/site-packages (from google-api-core!=2.0.*,!=2.1.*,!=2.2.*,!=2.3.0,<3.0.0dev,>=1.31.5->google-api-python-client) (3.20.1)\n",
      "Requirement already satisfied: googleapis-common-protos<2.0dev,>=1.52.0 in /Users/mattancbs/opt/anaconda3/lib/python3.9/site-packages (from google-api-core!=2.0.*,!=2.1.*,!=2.2.*,!=2.3.0,<3.0.0dev,>=1.31.5->google-api-python-client) (1.56.0)\n",
      "Requirement already satisfied: rsa<5,>=3.1.4 in /Users/mattancbs/opt/anaconda3/lib/python3.9/site-packages (from google-auth<3.0.0dev,>=1.16.0->google-api-python-client) (4.8)\n",
      "Requirement already satisfied: pyasn1-modules>=0.2.1 in /Users/mattancbs/opt/anaconda3/lib/python3.9/site-packages (from google-auth<3.0.0dev,>=1.16.0->google-api-python-client) (0.2.8)\n",
      "Requirement already satisfied: cachetools<6.0,>=2.0.0 in /Users/mattancbs/opt/anaconda3/lib/python3.9/site-packages (from google-auth<3.0.0dev,>=1.16.0->google-api-python-client) (5.0.0)\n",
      "Requirement already satisfied: pyparsing!=3.0.0,!=3.0.1,!=3.0.2,!=3.0.3,<4,>=2.4.2 in /Users/mattancbs/opt/anaconda3/lib/python3.9/site-packages (from httplib2<1dev,>=0.15.0->google-api-python-client) (3.0.4)\n",
      "Requirement already satisfied: pyasn1<0.5.0,>=0.4.6 in /Users/mattancbs/opt/anaconda3/lib/python3.9/site-packages (from pyasn1-modules>=0.2.1->google-auth<3.0.0dev,>=1.16.0->google-api-python-client) (0.4.8)\n",
      "Requirement already satisfied: certifi>=2017.4.17 in /Users/mattancbs/opt/anaconda3/lib/python3.9/site-packages (from requests<3.0.0dev,>=2.18.0->google-api-core!=2.0.*,!=2.1.*,!=2.2.*,!=2.3.0,<3.0.0dev,>=1.31.5->google-api-python-client) (2021.10.8)\n",
      "Requirement already satisfied: charset-normalizer~=2.0.0 in /Users/mattancbs/opt/anaconda3/lib/python3.9/site-packages (from requests<3.0.0dev,>=2.18.0->google-api-core!=2.0.*,!=2.1.*,!=2.2.*,!=2.3.0,<3.0.0dev,>=1.31.5->google-api-python-client) (2.0.4)\n",
      "Requirement already satisfied: idna<4,>=2.5 in /Users/mattancbs/opt/anaconda3/lib/python3.9/site-packages (from requests<3.0.0dev,>=2.18.0->google-api-core!=2.0.*,!=2.1.*,!=2.2.*,!=2.3.0,<3.0.0dev,>=1.31.5->google-api-python-client) (3.2)\n",
      "Requirement already satisfied: urllib3<1.27,>=1.21.1 in /Users/mattancbs/opt/anaconda3/lib/python3.9/site-packages (from requests<3.0.0dev,>=2.18.0->google-api-core!=2.0.*,!=2.1.*,!=2.2.*,!=2.3.0,<3.0.0dev,>=1.31.5->google-api-python-client) (1.26.7)\n",
      "Requirement already satisfied: oauthlib>=3.0.0 in /Users/mattancbs/opt/anaconda3/lib/python3.9/site-packages (from requests-oauthlib>=0.7.0->google-auth-oauthlib) (3.2.0)\n"
     ]
    }
   ],
   "source": [
    "!pip install --upgrade google-api-python-client google-auth-httplib2 google-auth-oauthlib"
   ]
  },
  {
   "cell_type": "code",
   "execution_count": 2,
   "id": "f232b2ca",
   "metadata": {},
   "outputs": [],
   "source": [
    "from googleapiclient.discovery import build\n",
    "from google_auth_oauthlib.flow import InstalledAppFlow\n",
    "from google.auth.transport.requests import Request\n",
    "from google.oauth2.credentials import Credentials\n",
    "import os.path"
   ]
  },
  {
   "cell_type": "code",
   "execution_count": 3,
   "id": "84a85019",
   "metadata": {},
   "outputs": [],
   "source": [
    "SCOPES = ['https://www.googleapis.com/auth/gmail.readonly']"
   ]
  },
  {
   "cell_type": "code",
   "execution_count": 5,
   "id": "75a95ff6",
   "metadata": {},
   "outputs": [],
   "source": [
    "flow = InstalledAppFlow.from_client_secrets_file('client_credentials.json', SCOPES)"
   ]
  },
  {
   "cell_type": "code",
   "execution_count": 6,
   "id": "56ba32fa",
   "metadata": {},
   "outputs": [
    {
     "name": "stdout",
     "output_type": "stream",
     "text": [
      "Please visit this URL to authorize this application: https://accounts.google.com/o/oauth2/auth?response_type=code&client_id=172124637047-apa2crsnseeugeinle6rp92bml7c77ro.apps.googleusercontent.com&redirect_uri=http%3A%2F%2Flocalhost%3A8080%2F&scope=https%3A%2F%2Fwww.googleapis.com%2Fauth%2Fgmail.readonly&state=7NCnlsKdUQS7KSYoDc4oa3Loau0rKI&access_type=offline\n"
     ]
    }
   ],
   "source": [
    "creds = flow.run_local_server()"
   ]
  },
  {
   "cell_type": "code",
   "execution_count": 7,
   "id": "fb713641",
   "metadata": {},
   "outputs": [],
   "source": [
    "service = build('gmail', 'v1', credentials=creds)"
   ]
  },
  {
   "cell_type": "code",
   "execution_count": 8,
   "id": "5ea46169",
   "metadata": {},
   "outputs": [],
   "source": [
    "with open('token.json', 'w') as f:\n",
    "    f.write(creds.to_json())"
   ]
  },
  {
   "cell_type": "code",
   "execution_count": 9,
   "id": "234ce24e",
   "metadata": {},
   "outputs": [],
   "source": [
    "creds = Credentials.from_authorized_user_file('token.json', SCOPES)\n",
    "service = build('gmail', 'v1', credentials=creds)"
   ]
  },
  {
   "cell_type": "markdown",
   "id": "b14a47cc",
   "metadata": {},
   "source": [
    "## Connecting to the Gmail API"
   ]
  },
  {
   "cell_type": "code",
   "execution_count": 10,
   "id": "ee0f957e",
   "metadata": {},
   "outputs": [],
   "source": [
    "msgs = service.users().messages().list(userId='me').execute()"
   ]
  },
  {
   "cell_type": "code",
   "execution_count": 11,
   "id": "026e74d2",
   "metadata": {},
   "outputs": [
    {
     "data": {
      "text/plain": [
       "dict_keys(['messages', 'nextPageToken', 'resultSizeEstimate'])"
      ]
     },
     "execution_count": 11,
     "metadata": {},
     "output_type": "execute_result"
    }
   ],
   "source": [
    "msgs.keys()"
   ]
  },
  {
   "cell_type": "code",
   "execution_count": 12,
   "id": "9691e5de",
   "metadata": {},
   "outputs": [
    {
     "data": {
      "text/plain": [
       "[{'id': '1805f5d18d2f5322', 'threadId': '1805f5d18d2f5322'},\n",
       " {'id': '1805f5c2ca1164f1', 'threadId': '1805f5c2ca1164f1'},\n",
       " {'id': '1805f5b42d132983', 'threadId': '1805f5b42d132983'},\n",
       " {'id': '1805f5a54e9dad7e', 'threadId': '1805f5a54e9dad7e'},\n",
       " {'id': '1805f5968a967cc1', 'threadId': '1805f5968a967cc1'},\n",
       " {'id': '1805f587c267ac99', 'threadId': '1805f587c267ac99'},\n",
       " {'id': '1805f57912a7a95e', 'threadId': '1805f57912a7a95e'},\n",
       " {'id': '1805f56a738c6670', 'threadId': '1805f56a738c6670'},\n",
       " {'id': '1805f55bb39b7f9e', 'threadId': '1805f55bb39b7f9e'},\n",
       " {'id': '1805f54cf94ea4a9', 'threadId': '1805f54cf94ea4a9'},\n",
       " {'id': '1805f53e34b84caf', 'threadId': '1805f53e34b84caf'},\n",
       " {'id': '1805f52f569319ca', 'threadId': '1805f52f569319ca'},\n",
       " {'id': '1805f52081984e2a', 'threadId': '1805f52081984e2a'},\n",
       " {'id': '1805f511c6abc210', 'threadId': '1805f511c6abc210'},\n",
       " {'id': '1805f5032eabc1bc', 'threadId': '1805f5032eabc1bc'},\n",
       " {'id': '1805f4f489df7a71', 'threadId': '1805f4f489df7a71'},\n",
       " {'id': '1805f4e59f215a93', 'threadId': '1805f4e59f215a93'},\n",
       " {'id': '1805f4d6c61991d6', 'threadId': '1805f4d6c61991d6'},\n",
       " {'id': '1805f4c819697820', 'threadId': '1805f4c819697820'},\n",
       " {'id': '1805f4b99e041e5d', 'threadId': '1805f4b99e041e5d'},\n",
       " {'id': '1805f4aa9d12ebad', 'threadId': '1805f4aa9d12ebad'},\n",
       " {'id': '1805f49bfeafd899', 'threadId': '1805f49bfeafd899'},\n",
       " {'id': '1805f48d3bdf3b25', 'threadId': '1805f48d3bdf3b25'},\n",
       " {'id': '1805f47e6368ac36', 'threadId': '1805f47e6368ac36'},\n",
       " {'id': '1805f46fbc27a3e8', 'threadId': '1805f46fbc27a3e8'},\n",
       " {'id': '1805f460fddcc3c2', 'threadId': '1805f460fddcc3c2'},\n",
       " {'id': '1805f4522a613ece', 'threadId': '1805f4522a613ece'},\n",
       " {'id': '1805f4439e25f0cd', 'threadId': '1805f4439e25f0cd'},\n",
       " {'id': '1805f434d0843e66', 'threadId': '1805f434d0843e66'},\n",
       " {'id': '1805f4260cabba34', 'threadId': '1805f4260cabba34'},\n",
       " {'id': '1805f4174fd4c12d', 'threadId': '1805f4174fd4c12d'},\n",
       " {'id': '1805f408971ea62a', 'threadId': '1805f408971ea62a'},\n",
       " {'id': '1805f3f9df1e986a', 'threadId': '1805f3f9df1e986a'},\n",
       " {'id': '1805f3eb0b295031', 'threadId': '1805f3eb0b295031'},\n",
       " {'id': '1805f3dc4005afc3', 'threadId': '1805f3dc4005afc3'},\n",
       " {'id': '1805f3cdb5c46d10', 'threadId': '1805f3cdb5c46d10'},\n",
       " {'id': '1805f3bef0af48c8', 'threadId': '1805f3bef0af48c8'},\n",
       " {'id': '1805f3b027843a42', 'threadId': '1805f3b027843a42'},\n",
       " {'id': '1805f3a175276458', 'threadId': '1805f3a175276458'},\n",
       " {'id': '1805f392cd716aa3', 'threadId': '1805f392cd716aa3'},\n",
       " {'id': '1805f383f24885db', 'threadId': '1805f383f24885db'},\n",
       " {'id': '1805f375486f78d4', 'threadId': '1805f375486f78d4'},\n",
       " {'id': '1805f3669efdf146', 'threadId': '1805f3669efdf146'},\n",
       " {'id': '1805f357c2989f09', 'threadId': '1805f357c2989f09'},\n",
       " {'id': '1805f34900e0982e', 'threadId': '1805f34900e0982e'},\n",
       " {'id': '1805f33a5e6edf40', 'threadId': '1805f33a5e6edf40'},\n",
       " {'id': '1805f32bbfbee21f', 'threadId': '1805f32bbfbee21f'},\n",
       " {'id': '1805f31cf6ba13fb', 'threadId': '1805f31cf6ba13fb'},\n",
       " {'id': '1805f30e3e0d477c', 'threadId': '1805f30e3e0d477c'},\n",
       " {'id': '1805f2ff63511d7e', 'threadId': '1805f2ff63511d7e'},\n",
       " {'id': '1805f2f0a6dfad3f', 'threadId': '1805f2f0a6dfad3f'},\n",
       " {'id': '1805f2e1ef653255', 'threadId': '1805f2e1ef653255'},\n",
       " {'id': '1805f2d33112bf7a', 'threadId': '1805f2d33112bf7a'},\n",
       " {'id': '1805f2c491dd562a', 'threadId': '1805f2c491dd562a'},\n",
       " {'id': '1805f2b5d3e5b39c', 'threadId': '1805f2b5d3e5b39c'},\n",
       " {'id': '1805f2a70c034fc0', 'threadId': '1805f2a70c034fc0'},\n",
       " {'id': '1805f29840357e2f', 'threadId': '1805f29840357e2f'},\n",
       " {'id': '1805f289858b1139', 'threadId': '1805f289858b1139'},\n",
       " {'id': '1805f27ad1dbe2ba', 'threadId': '1805f27ad1dbe2ba'},\n",
       " {'id': '1805f26c361a1365', 'threadId': '1805f26c361a1365'},\n",
       " {'id': '1805f25d490b9e29', 'threadId': '1805f25d490b9e29'},\n",
       " {'id': '1805f24e99fd3163', 'threadId': '1805f24e99fd3163'},\n",
       " {'id': '1805f23fd8e1cbde', 'threadId': '1805f23fd8e1cbde'},\n",
       " {'id': '1805f23115acd985', 'threadId': '1805f23115acd985'},\n",
       " {'id': '1805f222592fd859', 'threadId': '1805f222592fd859'},\n",
       " {'id': '1805f213a9c436fb', 'threadId': '1805f213a9c436fb'},\n",
       " {'id': '1805f204e77d4137', 'threadId': '1805f204e77d4137'},\n",
       " {'id': '1805f1f62b100898', 'threadId': '1805f1f62b100898'},\n",
       " {'id': '1805f1e76f2a20a5', 'threadId': '1805f1e76f2a20a5'},\n",
       " {'id': '1805f1d8b9f1f546', 'threadId': '1805f1d8b9f1f546'},\n",
       " {'id': '1805f1c9e74fd7ee', 'threadId': '1805f1c9e74fd7ee'},\n",
       " {'id': '1805f1bb375515f6', 'threadId': '1805f1bb375515f6'},\n",
       " {'id': '1805f1ac7dd70f9c', 'threadId': '1805f1ac7dd70f9c'},\n",
       " {'id': '1805f19dbd89c3f2', 'threadId': '1805f19dbd89c3f2'},\n",
       " {'id': '1805f18ee7fbe0de', 'threadId': '1805f18ee7fbe0de'},\n",
       " {'id': '1805f180534b4cb0', 'threadId': '1805f180534b4cb0'},\n",
       " {'id': '1805f171891f9ade', 'threadId': '1805f171891f9ade'},\n",
       " {'id': '1805f162c79144a0', 'threadId': '1805f162c79144a0'},\n",
       " {'id': '1805f15403e8617b', 'threadId': '1805f15403e8617b'},\n",
       " {'id': '1805f1457311ff49', 'threadId': '1805f1457311ff49'},\n",
       " {'id': '1805f13664e93501', 'threadId': '1805f13664e93501'},\n",
       " {'id': '1805f127c1f94f10', 'threadId': '1805f127c1f94f10'},\n",
       " {'id': '1805f11916829566', 'threadId': '1805f11916829566'},\n",
       " {'id': '1805f10a50a6c367', 'threadId': '1805f10a50a6c367'},\n",
       " {'id': '1805f0fb82559739', 'threadId': '1805f0fb82559739'},\n",
       " {'id': '1805f0eccba58d6b', 'threadId': '1805f0eccba58d6b'},\n",
       " {'id': '1805f0de008e60e3', 'threadId': '1805f0de008e60e3'},\n",
       " {'id': '1805f0cf4ebfec42', 'threadId': '1805f0cf4ebfec42'},\n",
       " {'id': '1805f0c08296b7af', 'threadId': '1805f0c08296b7af'},\n",
       " {'id': '1805f0b1fd4fffee', 'threadId': '1805f0b1fd4fffee'},\n",
       " {'id': '1805f0a32953bba6', 'threadId': '1805f0a32953bba6'},\n",
       " {'id': '1805f094682cbbcc', 'threadId': '1805f094682cbbcc'},\n",
       " {'id': '1805f085b0da9d96', 'threadId': '1805f085b0da9d96'},\n",
       " {'id': '1805f076eaa82ca0', 'threadId': '1805f076eaa82ca0'},\n",
       " {'id': '1805f068428f7d54', 'threadId': '1805f068428f7d54'},\n",
       " {'id': '1805f05962dd9c68', 'threadId': '1805f05962dd9c68'},\n",
       " {'id': '1805f04ac2452d93', 'threadId': '1805f04ac2452d93'},\n",
       " {'id': '1805f03c1891e8cc', 'threadId': '1805f03c1891e8cc'},\n",
       " {'id': '1805f02d4a00dc66', 'threadId': '1805f02d4a00dc66'},\n",
       " {'id': '1805f01eacc09879', 'threadId': '1805f01eacc09879'}]"
      ]
     },
     "execution_count": 12,
     "metadata": {},
     "output_type": "execute_result"
    }
   ],
   "source": [
    "msgs['messages']"
   ]
  },
  {
   "cell_type": "code",
   "execution_count": 13,
   "id": "852d1212",
   "metadata": {},
   "outputs": [],
   "source": [
    "msgs = service.users().messages().list(userId = 'me', pageToken=msgs['nextPageToken']).execute()"
   ]
  },
  {
   "cell_type": "code",
   "execution_count": 14,
   "id": "6d67f887",
   "metadata": {},
   "outputs": [],
   "source": [
    "msgs = service.users().messages().list(userId='me').execute()\n",
    "message_list = msgs['messages']\n",
    "\n",
    "while 'nextPageToken' in msgs:\n",
    "    msgs = (service.users()\n",
    "                   .messages()\n",
    "                   .list(userId='me',\n",
    "                         pageToken = msgs['nextPageToken'])\n",
    "                   .execute())\n",
    "    message_list.extend(msgs['messages'])"
   ]
  },
  {
   "cell_type": "code",
   "execution_count": 15,
   "id": "c5040309",
   "metadata": {},
   "outputs": [
    {
     "data": {
      "text/plain": [
       "1386"
      ]
     },
     "execution_count": 15,
     "metadata": {},
     "output_type": "execute_result"
    }
   ],
   "source": [
    "len(message_list)"
   ]
  },
  {
   "cell_type": "code",
   "execution_count": 16,
   "id": "09b45601",
   "metadata": {},
   "outputs": [],
   "source": [
    "msgs = service.users().messages().list(userId='me', q='subject:(\"Bail Paid\")').execute()"
   ]
  },
  {
   "cell_type": "code",
   "execution_count": 17,
   "id": "00fcf51e",
   "metadata": {},
   "outputs": [
    {
     "data": {
      "text/plain": [
       "{'messages': [{'id': '1805f4f489df7a71', 'threadId': '1805f4f489df7a71'},\n",
       "  {'id': '1805f408971ea62a', 'threadId': '1805f408971ea62a'},\n",
       "  {'id': '1805f3b027843a42', 'threadId': '1805f3b027843a42'},\n",
       "  {'id': '1805f32bbfbee21f', 'threadId': '1805f32bbfbee21f'},\n",
       "  {'id': '1805f289858b1139', 'threadId': '1805f289858b1139'},\n",
       "  {'id': '1805f162c79144a0', 'threadId': '1805f162c79144a0'},\n",
       "  {'id': '1805f11916829566', 'threadId': '1805f11916829566'},\n",
       "  {'id': '1805f068428f7d54', 'threadId': '1805f068428f7d54'},\n",
       "  {'id': '1805f03c1891e8cc', 'threadId': '1805f03c1891e8cc'},\n",
       "  {'id': '1805ee29755c1774', 'threadId': '1805ee29755c1774'},\n",
       "  {'id': '1805ed2e625c7c39', 'threadId': '1805ed2e625c7c39'},\n",
       "  {'id': '1805ec25560a2b72', 'threadId': '1805ec25560a2b72'},\n",
       "  {'id': '1805c19bcb862f31', 'threadId': '1805c19bcb862f31'},\n",
       "  {'id': '1805c13485e5141c', 'threadId': '1805c13485e5141c'},\n",
       "  {'id': '1805628be44aa67b', 'threadId': '1805628be44aa67b'},\n",
       "  {'id': '180561bdae21454c', 'threadId': '180561bdae21454c'},\n",
       "  {'id': '180560d1ea84bafe', 'threadId': '180560d1ea84bafe'},\n",
       "  {'id': '1805602fdb03b126', 'threadId': '1805602fdb03b126'},\n",
       "  {'id': '18055fd77b1773d1', 'threadId': '18055fd77b1773d1'},\n",
       "  {'id': '18055f354fd4b493', 'threadId': '18055f354fd4b493'},\n",
       "  {'id': '18055eeba2e9c7c0', 'threadId': '18055eeba2e9c7c0'},\n",
       "  {'id': '18055a5045355719', 'threadId': '18055a5045355719'},\n",
       "  {'id': '180559734eb6b390', 'threadId': '180559734eb6b390'},\n",
       "  {'id': '1805591af9de1f40', 'threadId': '1805591af9de1f40'},\n",
       "  {'id': '18055879124e9ab9', 'threadId': '18055879124e9ab9'},\n",
       "  {'id': '180557e58d431d4c', 'threadId': '180557e58d431d4c'},\n",
       "  {'id': '1805562ba1994547', 'threadId': '1805562ba1994547'},\n",
       "  {'id': '180555229442ed54', 'threadId': '180555229442ed54'},\n",
       "  {'id': '1805532dda1b5735', 'threadId': '1805532dda1b5735'},\n",
       "  {'id': '180551f86f01ac5c', 'threadId': '180551f86f01ac5c'},\n",
       "  {'id': '1805514795efe23a', 'threadId': '1805514795efe23a'},\n",
       "  {'id': '1805510ca60ab874', 'threadId': '1805510ca60ab874'},\n",
       "  {'id': '1805503e520abad5', 'threadId': '1805503e520abad5'},\n",
       "  {'id': '18054f70157ae534', 'threadId': '18054f70157ae534'},\n",
       "  {'id': '18054f43e60dd86c', 'threadId': '18054f43e60dd86c'},\n",
       "  {'id': '18054edcd907eb24', 'threadId': '18054edcd907eb24'},\n",
       "  {'id': '1805492a274a9f6d', 'threadId': '1805492a274a9f6d'},\n",
       "  {'id': '18054896c32f2a54', 'threadId': '18054896c32f2a54'},\n",
       "  {'id': '1805479c5e4605c5', 'threadId': '1805479c5e4605c5'},\n",
       "  {'id': '1805476165b1ca01', 'threadId': '1805476165b1ca01'},\n",
       "  {'id': '1805461d5da1d540', 'threadId': '1805461d5da1d540'},\n",
       "  {'id': '180545a7669e5fc2', 'threadId': '180545a7669e5fc2'},\n",
       "  {'id': '1805457b31e84d46', 'threadId': '1805457b31e84d46'},\n",
       "  {'id': '1805434b23d68f16', 'threadId': '1805434b23d68f16'},\n",
       "  {'id': '1805425f90c0fcc7', 'threadId': '1805425f90c0fcc7'},\n",
       "  {'id': '18054181d165d451', 'threadId': '18054181d165d451'},\n",
       "  {'id': '18054002dbbd3f98', 'threadId': '18054002dbbd3f98'},\n",
       "  {'id': '18053f25dfd6ce0a', 'threadId': '18053f25dfd6ce0a'},\n",
       "  {'id': '18053de1aafac8fc', 'threadId': '18053de1aafac8fc'},\n",
       "  {'id': '18053b3bc53cbf49', 'threadId': '18053b3bc53cbf49'},\n",
       "  {'id': '18053ad4aee1cdb3', 'threadId': '18053ad4aee1cdb3'},\n",
       "  {'id': '18053a067cb878d4', 'threadId': '18053a067cb878d4'},\n",
       "  {'id': '1805391abb55f387', 'threadId': '1805391abb55f387'},\n",
       "  {'id': '18053638a908683a', 'threadId': '18053638a908683a'},\n",
       "  {'id': '180535ef0e5e5549', 'threadId': '180535ef0e5e5549'},\n",
       "  {'id': '1805357925ede083', 'threadId': '1805357925ede083'},\n",
       "  {'id': '1805333a7d1d79ac', 'threadId': '1805333a7d1d79ac'},\n",
       "  {'id': '1805318f16a953e0', 'threadId': '1805318f16a953e0'},\n",
       "  {'id': '180530de16010c05', 'threadId': '180530de16010c05'},\n",
       "  {'id': '18052fc614795199', 'threadId': '18052fc614795199'},\n",
       "  {'id': '18052f8b221091a6', 'threadId': '18052f8b221091a6'},\n",
       "  {'id': '18052dde742c2a25', 'threadId': '18052dde742c2a25'},\n",
       "  {'id': '18052c4192e20dd6', 'threadId': '18052c4192e20dd6'},\n",
       "  {'id': '18052bbcfbaf1208', 'threadId': '18052bbcfbaf1208'},\n",
       "  {'id': '18052b0eb56a8b2a', 'threadId': '18052b0eb56a8b2a'},\n",
       "  {'id': '18052ab3c3d1fe15', 'threadId': '18052ab3c3d1fe15'},\n",
       "  {'id': '18052a119289dcad', 'threadId': '18052a119289dcad'},\n",
       "  {'id': '1805270b68fc90d6', 'threadId': '1805270b68fc90d6'},\n",
       "  {'id': '180526edf3991616', 'threadId': '180526edf3991616'},\n",
       "  {'id': '18052669435e6861', 'threadId': '18052669435e6861'},\n",
       "  {'id': '1805236b0172b2d0', 'threadId': '1805236b0172b2d0'},\n",
       "  {'id': '1805218966a23c87', 'threadId': '1805218966a23c87'},\n",
       "  {'id': '180520f5d6230917', 'threadId': '180520f5d6230917'}],\n",
       " 'resultSizeEstimate': 73}"
      ]
     },
     "execution_count": 17,
     "metadata": {},
     "output_type": "execute_result"
    }
   ],
   "source": [
    "msgs"
   ]
  },
  {
   "cell_type": "code",
   "execution_count": 18,
   "id": "a60ade1a",
   "metadata": {},
   "outputs": [
    {
     "data": {
      "text/plain": [
       "{'id': '18029b947c20c481', 'threadId': '18029b947c20c481'}"
      ]
     },
     "execution_count": 18,
     "metadata": {},
     "output_type": "execute_result"
    }
   ],
   "source": [
    "message_list[-1]"
   ]
  },
  {
   "cell_type": "code",
   "execution_count": 19,
   "id": "a6380b1f",
   "metadata": {},
   "outputs": [],
   "source": [
    "msg = service.users().messages().get(userId='me', \n",
    "                                     id=message_list[-1]['id']).execute()"
   ]
  },
  {
   "cell_type": "code",
   "execution_count": 20,
   "id": "ec89dd8b",
   "metadata": {},
   "outputs": [
    {
     "data": {
      "text/plain": [
       "dict_keys(['id', 'threadId', 'labelIds', 'snippet', 'payload', 'sizeEstimate', 'historyId', 'internalDate'])"
      ]
     },
     "execution_count": 20,
     "metadata": {},
     "output_type": "execute_result"
    }
   ],
   "source": [
    "msg.keys()"
   ]
  },
  {
   "cell_type": "code",
   "execution_count": 21,
   "id": "cf557718",
   "metadata": {},
   "outputs": [
    {
     "data": {
      "text/plain": [
       "{'partId': '',\n",
       " 'mimeType': 'multipart/alternative',\n",
       " 'filename': '',\n",
       " 'headers': [{'name': 'Delivered-To',\n",
       "   'value': 'cbs.python.bailfund@gmail.com'},\n",
       "  {'name': 'Received',\n",
       "   'value': 'by 2002:a0c:9c42:0:0:0:0:0 with SMTP id w2csp1148379qve;        Thu, 14 Apr 2022 13:17:30 -0700 (PDT)'},\n",
       "  {'name': 'X-Received',\n",
       "   'value': 'by 2002:a17:90b:3904:b0:1cb:b0d0:baea with SMTP id ob4-20020a17090b390400b001cbb0d0baeamr278467pjb.203.1649967450097;        Thu, 14 Apr 2022 13:17:30 -0700 (PDT)'},\n",
       "  {'name': 'ARC-Seal',\n",
       "   'value': 'i=1; a=rsa-sha256; t=1649967450; cv=none;        d=google.com; s=arc-20160816;        b=q2ms7GPgK6I5y/YUjZ7Yo5QaRwU67RuB2276Af94nXRygIKxtc3Ambwzge2zVIOH0g         xoBUfblOO/86ort17iTqB/58u8sxNYU7J7F4kOr/xdztxMfI4o5k9HUCg9nN3wwt0t8g         84uOPNbicfNKG4eUhClurHCY/yWHYun200oOSJMekMByY9zGIOgrci0Qk8pyDOkVUFvb         mvI8KkwbO/aJ207W1I9HD5in/rOhVnFWrlNGCwaRbfeC0CM9HAff8A6xLwJHJZEzRVx6         NIx0hXMgGjzWs29s7yauBAg8XIctK1ltMj5361iD2Q26tfgSBvBgBa3MfH0cdCgL37Dd         lUhg=='},\n",
       "  {'name': 'ARC-Message-Signature',\n",
       "   'value': 'i=1; a=rsa-sha256; c=relaxed/relaxed; d=google.com; s=arc-20160816;        h=to:subject:message-id:date:from:mime-version:dkim-signature;        bh=xMaEsDNEEfUkFuNgTCpOsJPN8STGawsHTq+J/cjBcRk=;        b=df8ettToAJdFYPeWx6OwBLOJTCr+D5vw/HjIcJyPvT0gtFDIXpTZMAx1Acvtluk6n0         0uvpNA7/YKkljTKD0ZgzyxFfqaCbgdo69DPepj8Sa8XrTGnpdXabETINNyFz33Q2nlsp         4MdnEHG7ZOy6Am8ARl13fB/I0mk49yxL43oeI2TKxBNpJnJVhrDH0CDowkU7G9OZhI1D         vv0tDVRFSw7QF5GQlDlGCLSb/zHwqVMoESamnJMbRLNEjCuW66eQ4nAyZC4z+c/MyzMU         YcvDSFaoFDHTt6inPRh4JEdBbEAsbn3qCSpPeETiAwfqroIl0SS+Caxi/B75QTOKBrao         W2wA=='},\n",
       "  {'name': 'ARC-Authentication-Results',\n",
       "   'value': 'i=1; mx.google.com;       dkim=pass header.i=@gmail.com header.s=20210112 header.b=dSdSh5YR;       spf=pass (google.com: domain of cbs.python.courts@gmail.com designates 209.85.220.41 as permitted sender) smtp.mailfrom=cbs.python.courts@gmail.com;       dmarc=pass (p=NONE sp=QUARANTINE dis=NONE) header.from=gmail.com'},\n",
       "  {'name': 'Return-Path', 'value': '<cbs.python.courts@gmail.com>'},\n",
       "  {'name': 'Received',\n",
       "   'value': 'from mail-sor-f41.google.com (mail-sor-f41.google.com. [209.85.220.41])        by mx.google.com with SMTPS id i20-20020a056a00225400b0050823925f4csor370328pfu.54.2022.04.14.13.17.29        for <cbs.python.bailfund@gmail.com>        (Google Transport Security);        Thu, 14 Apr 2022 13:17:30 -0700 (PDT)'},\n",
       "  {'name': 'Received-SPF',\n",
       "   'value': 'pass (google.com: domain of cbs.python.courts@gmail.com designates 209.85.220.41 as permitted sender) client-ip=209.85.220.41;'},\n",
       "  {'name': 'Authentication-Results',\n",
       "   'value': 'mx.google.com;       dkim=pass header.i=@gmail.com header.s=20210112 header.b=dSdSh5YR;       spf=pass (google.com: domain of cbs.python.courts@gmail.com designates 209.85.220.41 as permitted sender) smtp.mailfrom=cbs.python.courts@gmail.com;       dmarc=pass (p=NONE sp=QUARANTINE dis=NONE) header.from=gmail.com'},\n",
       "  {'name': 'DKIM-Signature',\n",
       "   'value': 'v=1; a=rsa-sha256; c=relaxed/relaxed;        d=gmail.com; s=20210112;        h=mime-version:from:date:message-id:subject:to;        bh=xMaEsDNEEfUkFuNgTCpOsJPN8STGawsHTq+J/cjBcRk=;        b=dSdSh5YRsBcpeXieLTyAQGWmf8SFgcqsuNoA0IRPy+0ZN4KGNe43Z8fTQqPr898Vre         7gEiuKcwvNy/H/mHXjS4cdoH2HrlPYkqNO6GlTUavdHtx4kNr24/XkuwYNy2XRio2OKt         kkKQ5q2IExxzlxbJin5G0WWYW78YQl7InXhyPESiS72KuFMBWjZ4rsqr9IafHj4J4wbX         rHPEjFnN+XcfpA3WmMZn+gHZWx/mnYB+4TJd84Du9mkqIwLsOZ7EsPmWyVWXFf/RkAeO         YgaUdrryPr63xy/g8r1PboNMtlZe7xla9RkO/OY0yP85+aWvZAGVBaJ/2V5LuanZbuLT         1olA=='},\n",
       "  {'name': 'X-Google-DKIM-Signature',\n",
       "   'value': 'v=1; a=rsa-sha256; c=relaxed/relaxed;        d=1e100.net; s=20210112;        h=x-gm-message-state:mime-version:from:date:message-id:subject:to;        bh=xMaEsDNEEfUkFuNgTCpOsJPN8STGawsHTq+J/cjBcRk=;        b=OqL05/hpngMd8hpySzzTfWise3KTHlc6x7b9//IZjrvPmve9ZK2meh8p+9KUHocHiD         a0ci30pnptGWUV1Tt/47vCqnIOh/jQensILXp/pmcC2KpTkcbql/yeJtGQd1VtBPt1Dm         w8qbVVMAIA6F1MlREDXzQQKC0GoV0Cd8D1y6zTrd+Li9Op51Tw1qL/UbS2abBRyaWisM         aXvvVgxI66touCln/aec2oPvS2CHr7s1itx/mhn7UUuYGUvYZ/dABVGO9maDJ8Z4sL27         9SAEZq3EW0mVRqAW8Q7xGHviS9Z6c/XVn/HPbH5OBy4St3By8JyCKgAbHhqFXRXIUbAq         yZ+Q=='},\n",
       "  {'name': 'X-Gm-Message-State',\n",
       "   'value': 'AOAM530mqjYuLjdb7vI1R4W4AtoUnRL5zuwZ/k9PBy5lgnK0uIVN7uTO fMzyPSPtw4pafBSo0XbB0p3lV52QlTa1G6wj27fivEgUIZpUTQ=='},\n",
       "  {'name': 'X-Google-Smtp-Source',\n",
       "   'value': 'ABdhPJzqknkgYfP11YP5i3psmiT97dOEdXBbQkbzOBOegZ5Qc7ivqfpUHMN7Ft1MnxM7aA6apvh9MfpY98n6gAJ8dCc='},\n",
       "  {'name': 'X-Received',\n",
       "   'value': 'by 2002:a05:6a00:2386:b0:505:d9c3:8bd6 with SMTP id f6-20020a056a00238600b00505d9c38bd6mr5560893pfc.21.1649967449398; Thu, 14 Apr 2022 13:17:29 -0700 (PDT)'},\n",
       "  {'name': 'Received',\n",
       "   'value': 'from 363908162380 named unknown by gmailapi.google.com with HTTPREST; Thu, 14 Apr 2022 13:17:28 -0700'},\n",
       "  {'name': 'MIME-Version', 'value': '1.0'},\n",
       "  {'name': 'from', 'value': 'cbs.python.courts@gmail.com'},\n",
       "  {'name': 'Date', 'value': 'Thu, 14 Apr 2022 13:17:28 -0700'},\n",
       "  {'name': 'Message-ID',\n",
       "   'value': '<CAMdcPd1MAbFfXkA4HLjxKN8aGcA+2uunZddVf58D4xtWrYaJHQ@mail.gmail.com>'},\n",
       "  {'name': 'Subject', 'value': 'Court Update Alert: Case Number CR-4725375'},\n",
       "  {'name': 'To', 'value': 'cbs.python.bailfund@gmail.com'},\n",
       "  {'name': 'Content-Type',\n",
       "   'value': 'multipart/alternative; boundary=\"000000000000b65f7705dca2fb1d\"'}],\n",
       " 'body': {'size': 0},\n",
       " 'parts': [{'partId': '0',\n",
       "   'mimeType': 'text/plain',\n",
       "   'filename': '',\n",
       "   'headers': [{'name': 'Content-Type',\n",
       "     'value': 'text/plain; charset=\"UTF-8\"'}],\n",
       "   'body': {'size': 356,\n",
       "    'data': 'U2VudCBEYXRlID0gMDktMDEtMjAyMSAxMTo1NDoyMA0KDQpDYXNlIE51bWJlciA9IENSLTQ3MjUzNzUNCkRlZmVuZGFudCA9IEtyaXN0YSBSaWdncw0KRE9CID0gMDctMDEtMTk4OQ0KU2V4ID0gRg0KQ2hhcmdlID0gUG9zc2Vzc2lvbiBvZiBlYXZlc2Ryb3BwaW5nIGRldmljZXMtIENsYXNzIEEgTWlzZGVtZWFub3INCkFycmVzdCBEYXRlID0gMDktMDEtMjAyMSAxMTozMjowMA0KDQpVcGRhdGUgZGV0YWlscw0KDQpQdXJwb3NlID0gQ2FzZSBvcGVuZWQNCkxvY2F0aW9uID0gU3ByaW5nZmllbGQNCk1vZGFsaXR5ID0gVmlydHVhbA0KDQpDYXNlIENsb3NlZCA9IE5PDQoNCi0tDQpDQlMgUHl0aG9uIEJhaWwgRnVuZCBDYXNlDQo='}},\n",
       "  {'partId': '1',\n",
       "   'mimeType': 'text/html',\n",
       "   'filename': '',\n",
       "   'headers': [{'name': 'Content-Type', 'value': 'text/html; charset=\"UTF-8\"'},\n",
       "    {'name': 'Content-Transfer-Encoding', 'value': 'quoted-printable'}],\n",
       "   'body': {'size': 650,\n",
       "    'data': 'PHAgc3R5bGU9ImZvbnQtd2VpZ2h0OmJvbGQiPlNlbnQgRGF0ZSA9IDA5LTAxLTIwMjEgMTE6NTQ6MjA8YnI-PC9wPg0KPHA-Q2FzZSBOdW1iZXIgPSAgQ1ItNDcyNTM3NTxicj5EZWZlbmRhbnQgICAgID0gIEtyaXN0YSBSaWdnczxicj5ET0IgICAgICAgICAgID0gIDA3LTAxLTE5ODk8YnI-U2V4ICAgICAgICAgICA9IEY8YnI-Q2hhcmdlICAgICAgICA9IFBvc3Nlc3Npb24gb2YgZWF2ZXNkcm9wcGluZyBkZXZpY2VzLSBDbGFzcyBBIE1pc2RlbWVhbm9yPGJyPkFycmVzdCBEYXRlICAgPSAwOS0wMS0yMDIxIDExOjMyOjAwPC9wPjxwIHN0eWxlPSJmb250LXdlaWdodDpib2xkIj5VcGRhdGUgZGV0YWlsczxicj48L3A-PHA-UHVycG9zZSAgICAgICA9IENhc2Ugb3BlbmVkPGJyPg0KTG9jYXRpb24gICAgICA9IFNwcmluZ2ZpZWxkPGJyPg0KTW9kYWxpdHkgICAgICA9IFZpcnR1YWw8YnI-PC9wPg0KPHA-Q2FzZSBDbG9zZWQgICA9ICAgICAgTk88L3A-DQo8cD4tLTxicj5DQlMgUHl0aG9uIEJhaWwgRnVuZCBDYXNlPC9wPjxpbWcgc3JjPSJodHRwczovL3Jhdy5naXRodWJ1c2VyY29udGVudC5jb20vZGFuZ3VldHRhL2JhaWxfZnVuZF9jYXNlX2NvZGUvbWFpbi9JbnN0cnVjdG9yJTIwY29kZS9jb3VydC1sb2dvLnBuZyIgd2lkdGg9IjEwMCI-DQo='}}]}"
      ]
     },
     "execution_count": 21,
     "metadata": {},
     "output_type": "execute_result"
    }
   ],
   "source": [
    "msg['payload']"
   ]
  },
  {
   "cell_type": "code",
   "execution_count": 22,
   "id": "ca8ae4e9",
   "metadata": {},
   "outputs": [],
   "source": [
    "from pprint import pprint"
   ]
  },
  {
   "cell_type": "code",
   "execution_count": 23,
   "id": "b380e108",
   "metadata": {},
   "outputs": [
    {
     "name": "stdout",
     "output_type": "stream",
     "text": [
      "{'body': {'size': 0},\n",
      " 'filename': '',\n",
      " 'headers': [{'name': 'Delivered-To', 'value': 'cbs.python.bailfund@gmail.com'},\n",
      "             {'name': 'Received',\n",
      "              'value': 'by 2002:a0c:9c42:0:0:0:0:0 with SMTP id '\n",
      "                       'w2csp1148379qve;        Thu, 14 Apr 2022 13:17:30 '\n",
      "                       '-0700 (PDT)'},\n",
      "             {'name': 'X-Received',\n",
      "              'value': 'by 2002:a17:90b:3904:b0:1cb:b0d0:baea with SMTP id '\n",
      "                       'ob4-20020a17090b390400b001cbb0d0baeamr278467pjb.203.1649967450097;        '\n",
      "                       'Thu, 14 Apr 2022 13:17:30 -0700 (PDT)'},\n",
      "             {'name': 'ARC-Seal',\n",
      "              'value': 'i=1; a=rsa-sha256; t=1649967450; cv=none;        '\n",
      "                       'd=google.com; s=arc-20160816;        '\n",
      "                       'b=q2ms7GPgK6I5y/YUjZ7Yo5QaRwU67RuB2276Af94nXRygIKxtc3Ambwzge2zVIOH0g         '\n",
      "                       'xoBUfblOO/86ort17iTqB/58u8sxNYU7J7F4kOr/xdztxMfI4o5k9HUCg9nN3wwt0t8g         '\n",
      "                       '84uOPNbicfNKG4eUhClurHCY/yWHYun200oOSJMekMByY9zGIOgrci0Qk8pyDOkVUFvb         '\n",
      "                       'mvI8KkwbO/aJ207W1I9HD5in/rOhVnFWrlNGCwaRbfeC0CM9HAff8A6xLwJHJZEzRVx6         '\n",
      "                       'NIx0hXMgGjzWs29s7yauBAg8XIctK1ltMj5361iD2Q26tfgSBvBgBa3MfH0cdCgL37Dd         '\n",
      "                       'lUhg=='},\n",
      "             {'name': 'ARC-Message-Signature',\n",
      "              'value': 'i=1; a=rsa-sha256; c=relaxed/relaxed; d=google.com; '\n",
      "                       's=arc-20160816;        '\n",
      "                       'h=to:subject:message-id:date:from:mime-version:dkim-signature;        '\n",
      "                       'bh=xMaEsDNEEfUkFuNgTCpOsJPN8STGawsHTq+J/cjBcRk=;        '\n",
      "                       'b=df8ettToAJdFYPeWx6OwBLOJTCr+D5vw/HjIcJyPvT0gtFDIXpTZMAx1Acvtluk6n0         '\n",
      "                       '0uvpNA7/YKkljTKD0ZgzyxFfqaCbgdo69DPepj8Sa8XrTGnpdXabETINNyFz33Q2nlsp         '\n",
      "                       '4MdnEHG7ZOy6Am8ARl13fB/I0mk49yxL43oeI2TKxBNpJnJVhrDH0CDowkU7G9OZhI1D         '\n",
      "                       'vv0tDVRFSw7QF5GQlDlGCLSb/zHwqVMoESamnJMbRLNEjCuW66eQ4nAyZC4z+c/MyzMU         '\n",
      "                       'YcvDSFaoFDHTt6inPRh4JEdBbEAsbn3qCSpPeETiAwfqroIl0SS+Caxi/B75QTOKBrao         '\n",
      "                       'W2wA=='},\n",
      "             {'name': 'ARC-Authentication-Results',\n",
      "              'value': 'i=1; mx.google.com;       dkim=pass '\n",
      "                       'header.i=@gmail.com header.s=20210112 '\n",
      "                       'header.b=dSdSh5YR;       spf=pass (google.com: domain '\n",
      "                       'of cbs.python.courts@gmail.com designates '\n",
      "                       '209.85.220.41 as permitted sender) '\n",
      "                       'smtp.mailfrom=cbs.python.courts@gmail.com;       '\n",
      "                       'dmarc=pass (p=NONE sp=QUARANTINE dis=NONE) '\n",
      "                       'header.from=gmail.com'},\n",
      "             {'name': 'Return-Path', 'value': '<cbs.python.courts@gmail.com>'},\n",
      "             {'name': 'Received',\n",
      "              'value': 'from mail-sor-f41.google.com (mail-sor-f41.google.com. '\n",
      "                       '[209.85.220.41])        by mx.google.com with SMTPS id '\n",
      "                       'i20-20020a056a00225400b0050823925f4csor370328pfu.54.2022.04.14.13.17.29        '\n",
      "                       'for <cbs.python.bailfund@gmail.com>        (Google '\n",
      "                       'Transport Security);        Thu, 14 Apr 2022 13:17:30 '\n",
      "                       '-0700 (PDT)'},\n",
      "             {'name': 'Received-SPF',\n",
      "              'value': 'pass (google.com: domain of '\n",
      "                       'cbs.python.courts@gmail.com designates 209.85.220.41 '\n",
      "                       'as permitted sender) client-ip=209.85.220.41;'},\n",
      "             {'name': 'Authentication-Results',\n",
      "              'value': 'mx.google.com;       dkim=pass header.i=@gmail.com '\n",
      "                       'header.s=20210112 header.b=dSdSh5YR;       spf=pass '\n",
      "                       '(google.com: domain of cbs.python.courts@gmail.com '\n",
      "                       'designates 209.85.220.41 as permitted sender) '\n",
      "                       'smtp.mailfrom=cbs.python.courts@gmail.com;       '\n",
      "                       'dmarc=pass (p=NONE sp=QUARANTINE dis=NONE) '\n",
      "                       'header.from=gmail.com'},\n",
      "             {'name': 'DKIM-Signature',\n",
      "              'value': 'v=1; a=rsa-sha256; c=relaxed/relaxed;        '\n",
      "                       'd=gmail.com; s=20210112;        '\n",
      "                       'h=mime-version:from:date:message-id:subject:to;        '\n",
      "                       'bh=xMaEsDNEEfUkFuNgTCpOsJPN8STGawsHTq+J/cjBcRk=;        '\n",
      "                       'b=dSdSh5YRsBcpeXieLTyAQGWmf8SFgcqsuNoA0IRPy+0ZN4KGNe43Z8fTQqPr898Vre         '\n",
      "                       '7gEiuKcwvNy/H/mHXjS4cdoH2HrlPYkqNO6GlTUavdHtx4kNr24/XkuwYNy2XRio2OKt         '\n",
      "                       'kkKQ5q2IExxzlxbJin5G0WWYW78YQl7InXhyPESiS72KuFMBWjZ4rsqr9IafHj4J4wbX         '\n",
      "                       'rHPEjFnN+XcfpA3WmMZn+gHZWx/mnYB+4TJd84Du9mkqIwLsOZ7EsPmWyVWXFf/RkAeO         '\n",
      "                       'YgaUdrryPr63xy/g8r1PboNMtlZe7xla9RkO/OY0yP85+aWvZAGVBaJ/2V5LuanZbuLT         '\n",
      "                       '1olA=='},\n",
      "             {'name': 'X-Google-DKIM-Signature',\n",
      "              'value': 'v=1; a=rsa-sha256; c=relaxed/relaxed;        '\n",
      "                       'd=1e100.net; s=20210112;        '\n",
      "                       'h=x-gm-message-state:mime-version:from:date:message-id:subject:to;        '\n",
      "                       'bh=xMaEsDNEEfUkFuNgTCpOsJPN8STGawsHTq+J/cjBcRk=;        '\n",
      "                       'b=OqL05/hpngMd8hpySzzTfWise3KTHlc6x7b9//IZjrvPmve9ZK2meh8p+9KUHocHiD         '\n",
      "                       'a0ci30pnptGWUV1Tt/47vCqnIOh/jQensILXp/pmcC2KpTkcbql/yeJtGQd1VtBPt1Dm         '\n",
      "                       'w8qbVVMAIA6F1MlREDXzQQKC0GoV0Cd8D1y6zTrd+Li9Op51Tw1qL/UbS2abBRyaWisM         '\n",
      "                       'aXvvVgxI66touCln/aec2oPvS2CHr7s1itx/mhn7UUuYGUvYZ/dABVGO9maDJ8Z4sL27         '\n",
      "                       '9SAEZq3EW0mVRqAW8Q7xGHviS9Z6c/XVn/HPbH5OBy4St3By8JyCKgAbHhqFXRXIUbAq         '\n",
      "                       'yZ+Q=='},\n",
      "             {'name': 'X-Gm-Message-State',\n",
      "              'value': 'AOAM530mqjYuLjdb7vI1R4W4AtoUnRL5zuwZ/k9PBy5lgnK0uIVN7uTO '\n",
      "                       'fMzyPSPtw4pafBSo0XbB0p3lV52QlTa1G6wj27fivEgUIZpUTQ=='},\n",
      "             {'name': 'X-Google-Smtp-Source',\n",
      "              'value': 'ABdhPJzqknkgYfP11YP5i3psmiT97dOEdXBbQkbzOBOegZ5Qc7ivqfpUHMN7Ft1MnxM7aA6apvh9MfpY98n6gAJ8dCc='},\n",
      "             {'name': 'X-Received',\n",
      "              'value': 'by 2002:a05:6a00:2386:b0:505:d9c3:8bd6 with SMTP id '\n",
      "                       'f6-20020a056a00238600b00505d9c38bd6mr5560893pfc.21.1649967449398; '\n",
      "                       'Thu, 14 Apr 2022 13:17:29 -0700 (PDT)'},\n",
      "             {'name': 'Received',\n",
      "              'value': 'from 363908162380 named unknown by gmailapi.google.com '\n",
      "                       'with HTTPREST; Thu, 14 Apr 2022 13:17:28 -0700'},\n",
      "             {'name': 'MIME-Version', 'value': '1.0'},\n",
      "             {'name': 'from', 'value': 'cbs.python.courts@gmail.com'},\n",
      "             {'name': 'Date', 'value': 'Thu, 14 Apr 2022 13:17:28 -0700'},\n",
      "             {'name': 'Message-ID',\n",
      "              'value': '<CAMdcPd1MAbFfXkA4HLjxKN8aGcA+2uunZddVf58D4xtWrYaJHQ@mail.gmail.com>'},\n",
      "             {'name': 'Subject',\n",
      "              'value': 'Court Update Alert: Case Number CR-4725375'},\n",
      "             {'name': 'To', 'value': 'cbs.python.bailfund@gmail.com'},\n",
      "             {'name': 'Content-Type',\n",
      "              'value': 'multipart/alternative; '\n",
      "                       'boundary=\"000000000000b65f7705dca2fb1d\"'}],\n",
      " 'mimeType': 'multipart/alternative',\n",
      " 'partId': '',\n",
      " 'parts': [{'body': {'data': 'U2VudCBEYXRlID0gMDktMDEtMjAyMSAxMTo1NDoyMA0KDQpDYXNlIE51bWJlciA9IENSLTQ3MjUzNzUNCkRlZmVuZGFudCA9IEtyaXN0YSBSaWdncw0KRE9CID0gMDctMDEtMTk4OQ0KU2V4ID0gRg0KQ2hhcmdlID0gUG9zc2Vzc2lvbiBvZiBlYXZlc2Ryb3BwaW5nIGRldmljZXMtIENsYXNzIEEgTWlzZGVtZWFub3INCkFycmVzdCBEYXRlID0gMDktMDEtMjAyMSAxMTozMjowMA0KDQpVcGRhdGUgZGV0YWlscw0KDQpQdXJwb3NlID0gQ2FzZSBvcGVuZWQNCkxvY2F0aW9uID0gU3ByaW5nZmllbGQNCk1vZGFsaXR5ID0gVmlydHVhbA0KDQpDYXNlIENsb3NlZCA9IE5PDQoNCi0tDQpDQlMgUHl0aG9uIEJhaWwgRnVuZCBDYXNlDQo=',\n",
      "                     'size': 356},\n",
      "            'filename': '',\n",
      "            'headers': [{'name': 'Content-Type',\n",
      "                         'value': 'text/plain; charset=\"UTF-8\"'}],\n",
      "            'mimeType': 'text/plain',\n",
      "            'partId': '0'},\n",
      "           {'body': {'data': 'PHAgc3R5bGU9ImZvbnQtd2VpZ2h0OmJvbGQiPlNlbnQgRGF0ZSA9IDA5LTAxLTIwMjEgMTE6NTQ6MjA8YnI-PC9wPg0KPHA-Q2FzZSBOdW1iZXIgPSAgQ1ItNDcyNTM3NTxicj5EZWZlbmRhbnQgICAgID0gIEtyaXN0YSBSaWdnczxicj5ET0IgICAgICAgICAgID0gIDA3LTAxLTE5ODk8YnI-U2V4ICAgICAgICAgICA9IEY8YnI-Q2hhcmdlICAgICAgICA9IFBvc3Nlc3Npb24gb2YgZWF2ZXNkcm9wcGluZyBkZXZpY2VzLSBDbGFzcyBBIE1pc2RlbWVhbm9yPGJyPkFycmVzdCBEYXRlICAgPSAwOS0wMS0yMDIxIDExOjMyOjAwPC9wPjxwIHN0eWxlPSJmb250LXdlaWdodDpib2xkIj5VcGRhdGUgZGV0YWlsczxicj48L3A-PHA-UHVycG9zZSAgICAgICA9IENhc2Ugb3BlbmVkPGJyPg0KTG9jYXRpb24gICAgICA9IFNwcmluZ2ZpZWxkPGJyPg0KTW9kYWxpdHkgICAgICA9IFZpcnR1YWw8YnI-PC9wPg0KPHA-Q2FzZSBDbG9zZWQgICA9ICAgICAgTk88L3A-DQo8cD4tLTxicj5DQlMgUHl0aG9uIEJhaWwgRnVuZCBDYXNlPC9wPjxpbWcgc3JjPSJodHRwczovL3Jhdy5naXRodWJ1c2VyY29udGVudC5jb20vZGFuZ3VldHRhL2JhaWxfZnVuZF9jYXNlX2NvZGUvbWFpbi9JbnN0cnVjdG9yJTIwY29kZS9jb3VydC1sb2dvLnBuZyIgd2lkdGg9IjEwMCI-DQo=',\n",
      "                     'size': 650},\n",
      "            'filename': '',\n",
      "            'headers': [{'name': 'Content-Type',\n",
      "                         'value': 'text/html; charset=\"UTF-8\"'},\n",
      "                        {'name': 'Content-Transfer-Encoding',\n",
      "                         'value': 'quoted-printable'}],\n",
      "            'mimeType': 'text/html',\n",
      "            'partId': '1'}]}\n"
     ]
    }
   ],
   "source": [
    "pprint(msg['payload'])"
   ]
  },
  {
   "cell_type": "code",
   "execution_count": 24,
   "id": "ff4653e1",
   "metadata": {},
   "outputs": [
    {
     "data": {
      "text/plain": [
       "'U2VudCBEYXRlID0gMDktMDEtMjAyMSAxMTo1NDoyMA0KDQpDYXNlIE51bWJlciA9IENSLTQ3MjUzNzUNCkRlZmVuZGFudCA9IEtyaXN0YSBSaWdncw0KRE9CID0gMDctMDEtMTk4OQ0KU2V4ID0gRg0KQ2hhcmdlID0gUG9zc2Vzc2lvbiBvZiBlYXZlc2Ryb3BwaW5nIGRldmljZXMtIENsYXNzIEEgTWlzZGVtZWFub3INCkFycmVzdCBEYXRlID0gMDktMDEtMjAyMSAxMTozMjowMA0KDQpVcGRhdGUgZGV0YWlscw0KDQpQdXJwb3NlID0gQ2FzZSBvcGVuZWQNCkxvY2F0aW9uID0gU3ByaW5nZmllbGQNCk1vZGFsaXR5ID0gVmlydHVhbA0KDQpDYXNlIENsb3NlZCA9IE5PDQoNCi0tDQpDQlMgUHl0aG9uIEJhaWwgRnVuZCBDYXNlDQo='"
      ]
     },
     "execution_count": 24,
     "metadata": {},
     "output_type": "execute_result"
    }
   ],
   "source": [
    "msg['payload']['parts'][0]['body']['data']"
   ]
  },
  {
   "cell_type": "code",
   "execution_count": 25,
   "id": "964df314",
   "metadata": {},
   "outputs": [],
   "source": [
    "import base64"
   ]
  },
  {
   "cell_type": "code",
   "execution_count": 26,
   "id": "1821a1c3",
   "metadata": {},
   "outputs": [
    {
     "name": "stdout",
     "output_type": "stream",
     "text": [
      "Sent Date = 09-01-2021 11:54:20\r\n",
      "\r\n",
      "Case Number = CR-4725375\r\n",
      "Defendant = Krista Riggs\r\n",
      "DOB = 07-01-1989\r\n",
      "Sex = F\r\n",
      "Charge = Possession of eavesdropping devices- Class A Misdemeanor\r\n",
      "Arrest Date = 09-01-2021 11:32:00\r\n",
      "\r\n",
      "Update details\r\n",
      "\r\n",
      "Purpose = Case opened\r\n",
      "Location = Springfield\r\n",
      "Modality = Virtual\r\n",
      "\r\n",
      "Case Closed = NO\r\n",
      "\r\n",
      "--\r\n",
      "CBS Python Bail Fund Case\r\n",
      "\n"
     ]
    }
   ],
   "source": [
    "print(base64.b64decode(msg['payload']['parts'][0]['body']['data'].replace('-', '+').replace('_', '/')).decode('utf-8'))"
   ]
  },
  {
   "cell_type": "markdown",
   "id": "fbcb991e",
   "metadata": {},
   "source": [
    "## Creating PowerPoint Files in Python"
   ]
  },
  {
   "cell_type": "code",
   "execution_count": 27,
   "id": "fb7893a5",
   "metadata": {},
   "outputs": [
    {
     "name": "stdout",
     "output_type": "stream",
     "text": [
      "Collecting python-pptx\n",
      "  Downloading python-pptx-0.6.21.tar.gz (10.1 MB)\n",
      "\u001b[K     |████████████████████████████████| 10.1 MB 4.4 MB/s eta 0:00:01    |█████████████████               | 5.4 MB 4.4 MB/s eta 0:00:02\n",
      "\u001b[?25hRequirement already satisfied: lxml>=3.1.0 in /Users/mattancbs/opt/anaconda3/lib/python3.9/site-packages (from python-pptx) (4.6.3)\n",
      "Requirement already satisfied: Pillow>=3.3.2 in /Users/mattancbs/opt/anaconda3/lib/python3.9/site-packages (from python-pptx) (8.4.0)\n",
      "Requirement already satisfied: XlsxWriter>=0.5.7 in /Users/mattancbs/opt/anaconda3/lib/python3.9/site-packages (from python-pptx) (3.0.1)\n",
      "Building wheels for collected packages: python-pptx\n",
      "  Building wheel for python-pptx (setup.py) ... \u001b[?25ldone\n",
      "\u001b[?25h  Created wheel for python-pptx: filename=python_pptx-0.6.21-py3-none-any.whl size=470950 sha256=876bf4b2b6d126a789b6f942796db65e611e7e6e8b321dc8b4b2f6ec10a4bcba\n",
      "  Stored in directory: /Users/mattancbs/Library/Caches/pip/wheels/0e/4a/ed/9653bc799915f52dce3f04d14946fbd85cce9c3cdedc9cfa71\n",
      "Successfully built python-pptx\n",
      "Installing collected packages: python-pptx\n",
      "Successfully installed python-pptx-0.6.21\n"
     ]
    }
   ],
   "source": [
    "!pip install python-pptx"
   ]
  },
  {
   "cell_type": "code",
   "execution_count": 28,
   "id": "a0fc1a41",
   "metadata": {},
   "outputs": [],
   "source": [
    "import pptx"
   ]
  },
  {
   "cell_type": "code",
   "execution_count": 29,
   "id": "d34a7a93",
   "metadata": {},
   "outputs": [],
   "source": [
    "pres = pptx.Presentation()"
   ]
  },
  {
   "cell_type": "code",
   "execution_count": 30,
   "id": "b142658c",
   "metadata": {},
   "outputs": [
    {
     "data": {
      "text/plain": [
       "<pptx.slide.Slides at 0x7fdfc01ef250>"
      ]
     },
     "execution_count": 30,
     "metadata": {},
     "output_type": "execute_result"
    }
   ],
   "source": [
    "pres.slides"
   ]
  },
  {
   "cell_type": "code",
   "execution_count": 31,
   "id": "226c395f",
   "metadata": {},
   "outputs": [
    {
     "data": {
      "text/plain": [
       "0"
      ]
     },
     "execution_count": 31,
     "metadata": {},
     "output_type": "execute_result"
    }
   ],
   "source": [
    "len(pres.slides)"
   ]
  },
  {
   "cell_type": "code",
   "execution_count": 32,
   "id": "79109482",
   "metadata": {},
   "outputs": [],
   "source": [
    "pres.save('file_name.pptx')"
   ]
  },
  {
   "cell_type": "markdown",
   "id": "a692549b",
   "metadata": {},
   "source": [
    "### Adding Slides"
   ]
  },
  {
   "cell_type": "code",
   "execution_count": 33,
   "id": "7b4c2d4b",
   "metadata": {},
   "outputs": [],
   "source": [
    "title_layout = pres.slide_layouts[0]"
   ]
  },
  {
   "cell_type": "code",
   "execution_count": 34,
   "id": "7f882e34",
   "metadata": {},
   "outputs": [],
   "source": [
    "slide = pres.slides.add_slide(title_layout)"
   ]
  },
  {
   "cell_type": "code",
   "execution_count": 35,
   "id": "2f3ba27b",
   "metadata": {},
   "outputs": [
    {
     "data": {
      "text/plain": [
       "1"
      ]
     },
     "execution_count": 35,
     "metadata": {},
     "output_type": "execute_result"
    }
   ],
   "source": [
    "len(pres.slides)"
   ]
  },
  {
   "cell_type": "code",
   "execution_count": 36,
   "id": "e9473c2b",
   "metadata": {},
   "outputs": [],
   "source": [
    "blank_slide = pres.slides.add_slide(pres.slide_layouts[6])"
   ]
  },
  {
   "cell_type": "markdown",
   "id": "e888434e",
   "metadata": {},
   "source": [
    "### Adding and Editing Content on Slides"
   ]
  },
  {
   "cell_type": "code",
   "execution_count": 37,
   "id": "7cd7b1fa",
   "metadata": {},
   "outputs": [
    {
     "data": {
      "text/plain": [
       "2"
      ]
     },
     "execution_count": 37,
     "metadata": {},
     "output_type": "execute_result"
    }
   ],
   "source": [
    "len(slide.shapes)"
   ]
  },
  {
   "cell_type": "code",
   "execution_count": 38,
   "id": "c8efd7a6",
   "metadata": {},
   "outputs": [
    {
     "data": {
      "text/plain": [
       "0"
      ]
     },
     "execution_count": 38,
     "metadata": {},
     "output_type": "execute_result"
    }
   ],
   "source": [
    "len(blank_slide.shapes)"
   ]
  },
  {
   "cell_type": "code",
   "execution_count": 39,
   "id": "08c1f428",
   "metadata": {},
   "outputs": [
    {
     "data": {
      "text/plain": [
       "2"
      ]
     },
     "execution_count": 39,
     "metadata": {},
     "output_type": "execute_result"
    }
   ],
   "source": [
    "len(pres.slides[0].shapes)"
   ]
  },
  {
   "cell_type": "code",
   "execution_count": 40,
   "id": "53d5e171",
   "metadata": {},
   "outputs": [],
   "source": [
    "pres.slides[0].shapes[0].text = 'Hello World!!' \n",
    "pres.slides[0].shapes[1].text = 'Why I love Python'"
   ]
  },
  {
   "cell_type": "code",
   "execution_count": 41,
   "id": "fc2b2e44",
   "metadata": {},
   "outputs": [],
   "source": [
    "pres.save('file_name.pptx')"
   ]
  },
  {
   "cell_type": "code",
   "execution_count": 42,
   "id": "8675606a",
   "metadata": {},
   "outputs": [],
   "source": [
    "shape = (pres.slides[1]\n",
    "             .shapes\n",
    "             .add_textbox(left = pptx.util.Inches(0.5), \n",
    "                          top = pptx.util.Inches(0.5),\n",
    "                          width = pptx.util.Inches(8), \n",
    "                          height = pptx.util.Inches(0.5)))\n",
    "\n",
    "shape.text = 'This is a table'"
   ]
  },
  {
   "cell_type": "code",
   "execution_count": 43,
   "id": "071106a4",
   "metadata": {},
   "outputs": [],
   "source": [
    "shape = (pres.slides[1]\n",
    "             .shapes\n",
    "             .add_table(rows = 3, \n",
    "                        cols = 4,\n",
    "                        left = pptx.util.Inches(0.5), \n",
    "                        top = pptx.util.Inches(1.5), \n",
    "                        width = pptx.util.Inches(8), \n",
    "                        height = pptx.util.Inches(2)))\n",
    "\n",
    "shape.table.cell(2,2).text = 'Sample content' \n",
    "\n",
    "for i in range(4):\n",
    "    shape.table.cell(0, i).text = f'Header {i+1}'"
   ]
  },
  {
   "cell_type": "code",
   "execution_count": 44,
   "id": "a3b972b2",
   "metadata": {},
   "outputs": [],
   "source": [
    "pres.save('file_name.pptx')"
   ]
  },
  {
   "cell_type": "code",
   "execution_count": 45,
   "id": "7360aa2e",
   "metadata": {},
   "outputs": [],
   "source": [
    "import pptx.chart.data"
   ]
  },
  {
   "cell_type": "code",
   "execution_count": 46,
   "id": "7559aa5a",
   "metadata": {},
   "outputs": [],
   "source": [
    "slide = pres.slides.add_slide(pres.slide_layouts[6])"
   ]
  },
  {
   "cell_type": "code",
   "execution_count": 47,
   "id": "a61faa0f",
   "metadata": {},
   "outputs": [],
   "source": [
    "chart_data = pptx.chart.data.ChartData()"
   ]
  },
  {
   "cell_type": "code",
   "execution_count": 48,
   "id": "7343644d",
   "metadata": {},
   "outputs": [
    {
     "data": {
      "text/plain": [
       "<pptx.chart.data.CategorySeriesData at 0x7fdfe251fcd0>"
      ]
     },
     "execution_count": 48,
     "metadata": {},
     "output_type": "execute_result"
    }
   ],
   "source": [
    "chart_data.categories = ['Jan', 'Feb', 'Mar', 'Apr', 'May', 'Jun'] \n",
    "chart_data.add_series('Series 1', (1, 2, 5, 8, 3, 5))"
   ]
  },
  {
   "cell_type": "code",
   "execution_count": 49,
   "id": "b6ca21f3",
   "metadata": {},
   "outputs": [],
   "source": [
    "chart = slide.shapes.add_chart(chart_type=pptx.enum.chart.XL_CHART_TYPE.LINE,\n",
    "                               x=pptx.util.Inches(2), \n",
    "                               y=pptx.util.Inches(2), \n",
    "                               cx=pptx.util.Inches(6), \n",
    "                               cy=pptx.util.Inches(4.5), \n",
    "                               chart_data=chart_data).chart"
   ]
  },
  {
   "cell_type": "code",
   "execution_count": 50,
   "id": "389755f3",
   "metadata": {},
   "outputs": [],
   "source": [
    "chart.has_legend=False"
   ]
  },
  {
   "cell_type": "code",
   "execution_count": 51,
   "id": "06b6376c",
   "metadata": {},
   "outputs": [],
   "source": [
    "pres.save('file_name.pptx')"
   ]
  }
 ],
 "metadata": {
  "kernelspec": {
   "display_name": "Python 3 (ipykernel)",
   "language": "python",
   "name": "python3"
  },
  "language_info": {
   "codemirror_mode": {
    "name": "ipython",
    "version": 3
   },
   "file_extension": ".py",
   "mimetype": "text/x-python",
   "name": "python",
   "nbconvert_exporter": "python",
   "pygments_lexer": "ipython3",
   "version": "3.9.7"
  }
 },
 "nbformat": 4,
 "nbformat_minor": 5
}
