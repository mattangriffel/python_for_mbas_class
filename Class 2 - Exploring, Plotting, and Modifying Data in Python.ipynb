{
 "cells": [
  {
   "cell_type": "markdown",
   "id": "a44a0b4a",
   "metadata": {},
   "source": [
    "# Class 2 - Exploring, Plotting, and Modifying Data in Python"
   ]
  },
  {
   "cell_type": "code",
   "execution_count": 1,
   "id": "e9d9613c",
   "metadata": {},
   "outputs": [],
   "source": [
    "import pandas as pd"
   ]
  },
  {
   "cell_type": "code",
   "execution_count": 2,
   "id": "f84ff625",
   "metadata": {},
   "outputs": [],
   "source": [
    "df_students = pd.read_csv('data/students.csv')\n",
    "df_orders = pd.read_csv('data/orders.csv')\n",
    "df_summarized_orders = pd.read_csv('data/summarized_orders.csv')\n",
    "df_items = pd.read_csv('data/items.csv')\n",
    "df_restaurants = pd.read_csv('data/restaurants.csv')"
   ]
  },
  {
   "cell_type": "markdown",
   "id": "ae487eb5",
   "metadata": {},
   "source": [
    "## Sorting Data in Pandas"
   ]
  },
  {
   "cell_type": "code",
   "execution_count": 3,
   "id": "0195a996",
   "metadata": {},
   "outputs": [
    {
     "data": {
      "text/html": [
       "<div>\n",
       "<style scoped>\n",
       "    .dataframe tbody tr th:only-of-type {\n",
       "        vertical-align: middle;\n",
       "    }\n",
       "\n",
       "    .dataframe tbody tr th {\n",
       "        vertical-align: top;\n",
       "    }\n",
       "\n",
       "    .dataframe thead th {\n",
       "        text-align: right;\n",
       "    }\n",
       "</style>\n",
       "<table border=\"1\" class=\"dataframe\">\n",
       "  <thead>\n",
       "    <tr style=\"text-align: right;\">\n",
       "      <th></th>\n",
       "      <th>FIRST_NAME</th>\n",
       "      <th>LAST_NAME</th>\n",
       "      <th>YEAR</th>\n",
       "      <th>HOME_STATE</th>\n",
       "      <th>AGE</th>\n",
       "      <th>CALC_101_FINAL</th>\n",
       "      <th>ENGLISH_101_FINAL</th>\n",
       "    </tr>\n",
       "  </thead>\n",
       "  <tbody>\n",
       "    <tr>\n",
       "      <th>0</th>\n",
       "      <td>Daniel</td>\n",
       "      <td>Smith</td>\n",
       "      <td>1</td>\n",
       "      <td>NY</td>\n",
       "      <td>18</td>\n",
       "      <td>90.0</td>\n",
       "      <td>80.0</td>\n",
       "    </tr>\n",
       "    <tr>\n",
       "      <th>1</th>\n",
       "      <td>Ben</td>\n",
       "      <td>Leibstrom</td>\n",
       "      <td>1</td>\n",
       "      <td>NY</td>\n",
       "      <td>19</td>\n",
       "      <td>80.0</td>\n",
       "      <td>NaN</td>\n",
       "    </tr>\n",
       "    <tr>\n",
       "      <th>2</th>\n",
       "      <td>Kavita</td>\n",
       "      <td>Kanabar</td>\n",
       "      <td>1</td>\n",
       "      <td>PA</td>\n",
       "      <td>19</td>\n",
       "      <td>NaN</td>\n",
       "      <td>NaN</td>\n",
       "    </tr>\n",
       "    <tr>\n",
       "      <th>3</th>\n",
       "      <td>Linda</td>\n",
       "      <td>Thiel</td>\n",
       "      <td>4</td>\n",
       "      <td>CA</td>\n",
       "      <td>22</td>\n",
       "      <td>60.0</td>\n",
       "      <td>40.0</td>\n",
       "    </tr>\n",
       "    <tr>\n",
       "      <th>4</th>\n",
       "      <td>Omar</td>\n",
       "      <td>Reichel</td>\n",
       "      <td>2</td>\n",
       "      <td>OK</td>\n",
       "      <td>21</td>\n",
       "      <td>70.0</td>\n",
       "      <td>50.0</td>\n",
       "    </tr>\n",
       "  </tbody>\n",
       "</table>\n",
       "</div>"
      ],
      "text/plain": [
       "  FIRST_NAME  LAST_NAME  YEAR HOME_STATE  AGE  CALC_101_FINAL  \\\n",
       "0     Daniel      Smith     1         NY   18            90.0   \n",
       "1        Ben  Leibstrom     1         NY   19            80.0   \n",
       "2     Kavita    Kanabar     1         PA   19             NaN   \n",
       "3      Linda      Thiel     4         CA   22            60.0   \n",
       "4       Omar    Reichel     2         OK   21            70.0   \n",
       "\n",
       "   ENGLISH_101_FINAL  \n",
       "0               80.0  \n",
       "1                NaN  \n",
       "2                NaN  \n",
       "3               40.0  \n",
       "4               50.0  "
      ]
     },
     "execution_count": 3,
     "metadata": {},
     "output_type": "execute_result"
    }
   ],
   "source": [
    "df_students.head()"
   ]
  },
  {
   "cell_type": "code",
   "execution_count": 4,
   "id": "e66a6cd8",
   "metadata": {},
   "outputs": [
    {
     "data": {
      "text/html": [
       "<div>\n",
       "<style scoped>\n",
       "    .dataframe tbody tr th:only-of-type {\n",
       "        vertical-align: middle;\n",
       "    }\n",
       "\n",
       "    .dataframe tbody tr th {\n",
       "        vertical-align: top;\n",
       "    }\n",
       "\n",
       "    .dataframe thead th {\n",
       "        text-align: right;\n",
       "    }\n",
       "</style>\n",
       "<table border=\"1\" class=\"dataframe\">\n",
       "  <thead>\n",
       "    <tr style=\"text-align: right;\">\n",
       "      <th></th>\n",
       "      <th>FIRST_NAME</th>\n",
       "      <th>LAST_NAME</th>\n",
       "      <th>YEAR</th>\n",
       "      <th>HOME_STATE</th>\n",
       "      <th>AGE</th>\n",
       "      <th>CALC_101_FINAL</th>\n",
       "      <th>ENGLISH_101_FINAL</th>\n",
       "    </tr>\n",
       "  </thead>\n",
       "  <tbody>\n",
       "    <tr>\n",
       "      <th>3</th>\n",
       "      <td>Linda</td>\n",
       "      <td>Thiel</td>\n",
       "      <td>4</td>\n",
       "      <td>CA</td>\n",
       "      <td>22</td>\n",
       "      <td>60.0</td>\n",
       "      <td>40.0</td>\n",
       "    </tr>\n",
       "    <tr>\n",
       "      <th>7</th>\n",
       "      <td>Rachel</td>\n",
       "      <td>Crock</td>\n",
       "      <td>1</td>\n",
       "      <td>FL</td>\n",
       "      <td>17</td>\n",
       "      <td>NaN</td>\n",
       "      <td>60.0</td>\n",
       "    </tr>\n",
       "    <tr>\n",
       "      <th>8</th>\n",
       "      <td>Bob</td>\n",
       "      <td>McDonald</td>\n",
       "      <td>1</td>\n",
       "      <td>FL</td>\n",
       "      <td>18</td>\n",
       "      <td>98.0</td>\n",
       "      <td>65.0</td>\n",
       "    </tr>\n",
       "    <tr>\n",
       "      <th>5</th>\n",
       "      <td>Jane</td>\n",
       "      <td>OConner</td>\n",
       "      <td>2</td>\n",
       "      <td>HI</td>\n",
       "      <td>19</td>\n",
       "      <td>NaN</td>\n",
       "      <td>NaN</td>\n",
       "    </tr>\n",
       "    <tr>\n",
       "      <th>0</th>\n",
       "      <td>Daniel</td>\n",
       "      <td>Smith</td>\n",
       "      <td>1</td>\n",
       "      <td>NY</td>\n",
       "      <td>18</td>\n",
       "      <td>90.0</td>\n",
       "      <td>80.0</td>\n",
       "    </tr>\n",
       "    <tr>\n",
       "      <th>1</th>\n",
       "      <td>Ben</td>\n",
       "      <td>Leibstrom</td>\n",
       "      <td>1</td>\n",
       "      <td>NY</td>\n",
       "      <td>19</td>\n",
       "      <td>80.0</td>\n",
       "      <td>NaN</td>\n",
       "    </tr>\n",
       "    <tr>\n",
       "      <th>6</th>\n",
       "      <td>Felicia</td>\n",
       "      <td>Rao</td>\n",
       "      <td>3</td>\n",
       "      <td>NY</td>\n",
       "      <td>20</td>\n",
       "      <td>NaN</td>\n",
       "      <td>NaN</td>\n",
       "    </tr>\n",
       "    <tr>\n",
       "      <th>4</th>\n",
       "      <td>Omar</td>\n",
       "      <td>Reichel</td>\n",
       "      <td>2</td>\n",
       "      <td>OK</td>\n",
       "      <td>21</td>\n",
       "      <td>70.0</td>\n",
       "      <td>50.0</td>\n",
       "    </tr>\n",
       "    <tr>\n",
       "      <th>2</th>\n",
       "      <td>Kavita</td>\n",
       "      <td>Kanabar</td>\n",
       "      <td>1</td>\n",
       "      <td>PA</td>\n",
       "      <td>19</td>\n",
       "      <td>NaN</td>\n",
       "      <td>NaN</td>\n",
       "    </tr>\n",
       "  </tbody>\n",
       "</table>\n",
       "</div>"
      ],
      "text/plain": [
       "  FIRST_NAME  LAST_NAME  YEAR HOME_STATE  AGE  CALC_101_FINAL  \\\n",
       "3      Linda      Thiel     4         CA   22            60.0   \n",
       "7     Rachel      Crock     1         FL   17             NaN   \n",
       "8        Bob   McDonald     1         FL   18            98.0   \n",
       "5       Jane    OConner     2         HI   19             NaN   \n",
       "0     Daniel      Smith     1         NY   18            90.0   \n",
       "1        Ben  Leibstrom     1         NY   19            80.0   \n",
       "6    Felicia        Rao     3         NY   20             NaN   \n",
       "4       Omar    Reichel     2         OK   21            70.0   \n",
       "2     Kavita    Kanabar     1         PA   19             NaN   \n",
       "\n",
       "   ENGLISH_101_FINAL  \n",
       "3               40.0  \n",
       "7               60.0  \n",
       "8               65.0  \n",
       "5                NaN  \n",
       "0               80.0  \n",
       "1                NaN  \n",
       "6                NaN  \n",
       "4               50.0  \n",
       "2                NaN  "
      ]
     },
     "execution_count": 4,
     "metadata": {},
     "output_type": "execute_result"
    }
   ],
   "source": [
    "df_students.sort_values('HOME_STATE')"
   ]
  },
  {
   "cell_type": "code",
   "execution_count": 5,
   "id": "5238254b",
   "metadata": {},
   "outputs": [
    {
     "data": {
      "text/html": [
       "<div>\n",
       "<style scoped>\n",
       "    .dataframe tbody tr th:only-of-type {\n",
       "        vertical-align: middle;\n",
       "    }\n",
       "\n",
       "    .dataframe tbody tr th {\n",
       "        vertical-align: top;\n",
       "    }\n",
       "\n",
       "    .dataframe thead th {\n",
       "        text-align: right;\n",
       "    }\n",
       "</style>\n",
       "<table border=\"1\" class=\"dataframe\">\n",
       "  <thead>\n",
       "    <tr style=\"text-align: right;\">\n",
       "      <th></th>\n",
       "      <th>FIRST_NAME</th>\n",
       "      <th>LAST_NAME</th>\n",
       "      <th>YEAR</th>\n",
       "      <th>HOME_STATE</th>\n",
       "      <th>AGE</th>\n",
       "      <th>CALC_101_FINAL</th>\n",
       "      <th>ENGLISH_101_FINAL</th>\n",
       "    </tr>\n",
       "  </thead>\n",
       "  <tbody>\n",
       "    <tr>\n",
       "      <th>2</th>\n",
       "      <td>Kavita</td>\n",
       "      <td>Kanabar</td>\n",
       "      <td>1</td>\n",
       "      <td>PA</td>\n",
       "      <td>19</td>\n",
       "      <td>NaN</td>\n",
       "      <td>NaN</td>\n",
       "    </tr>\n",
       "    <tr>\n",
       "      <th>4</th>\n",
       "      <td>Omar</td>\n",
       "      <td>Reichel</td>\n",
       "      <td>2</td>\n",
       "      <td>OK</td>\n",
       "      <td>21</td>\n",
       "      <td>70.0</td>\n",
       "      <td>50.0</td>\n",
       "    </tr>\n",
       "    <tr>\n",
       "      <th>0</th>\n",
       "      <td>Daniel</td>\n",
       "      <td>Smith</td>\n",
       "      <td>1</td>\n",
       "      <td>NY</td>\n",
       "      <td>18</td>\n",
       "      <td>90.0</td>\n",
       "      <td>80.0</td>\n",
       "    </tr>\n",
       "    <tr>\n",
       "      <th>1</th>\n",
       "      <td>Ben</td>\n",
       "      <td>Leibstrom</td>\n",
       "      <td>1</td>\n",
       "      <td>NY</td>\n",
       "      <td>19</td>\n",
       "      <td>80.0</td>\n",
       "      <td>NaN</td>\n",
       "    </tr>\n",
       "    <tr>\n",
       "      <th>6</th>\n",
       "      <td>Felicia</td>\n",
       "      <td>Rao</td>\n",
       "      <td>3</td>\n",
       "      <td>NY</td>\n",
       "      <td>20</td>\n",
       "      <td>NaN</td>\n",
       "      <td>NaN</td>\n",
       "    </tr>\n",
       "    <tr>\n",
       "      <th>5</th>\n",
       "      <td>Jane</td>\n",
       "      <td>OConner</td>\n",
       "      <td>2</td>\n",
       "      <td>HI</td>\n",
       "      <td>19</td>\n",
       "      <td>NaN</td>\n",
       "      <td>NaN</td>\n",
       "    </tr>\n",
       "    <tr>\n",
       "      <th>7</th>\n",
       "      <td>Rachel</td>\n",
       "      <td>Crock</td>\n",
       "      <td>1</td>\n",
       "      <td>FL</td>\n",
       "      <td>17</td>\n",
       "      <td>NaN</td>\n",
       "      <td>60.0</td>\n",
       "    </tr>\n",
       "    <tr>\n",
       "      <th>8</th>\n",
       "      <td>Bob</td>\n",
       "      <td>McDonald</td>\n",
       "      <td>1</td>\n",
       "      <td>FL</td>\n",
       "      <td>18</td>\n",
       "      <td>98.0</td>\n",
       "      <td>65.0</td>\n",
       "    </tr>\n",
       "    <tr>\n",
       "      <th>3</th>\n",
       "      <td>Linda</td>\n",
       "      <td>Thiel</td>\n",
       "      <td>4</td>\n",
       "      <td>CA</td>\n",
       "      <td>22</td>\n",
       "      <td>60.0</td>\n",
       "      <td>40.0</td>\n",
       "    </tr>\n",
       "  </tbody>\n",
       "</table>\n",
       "</div>"
      ],
      "text/plain": [
       "  FIRST_NAME  LAST_NAME  YEAR HOME_STATE  AGE  CALC_101_FINAL  \\\n",
       "2     Kavita    Kanabar     1         PA   19             NaN   \n",
       "4       Omar    Reichel     2         OK   21            70.0   \n",
       "0     Daniel      Smith     1         NY   18            90.0   \n",
       "1        Ben  Leibstrom     1         NY   19            80.0   \n",
       "6    Felicia        Rao     3         NY   20             NaN   \n",
       "5       Jane    OConner     2         HI   19             NaN   \n",
       "7     Rachel      Crock     1         FL   17             NaN   \n",
       "8        Bob   McDonald     1         FL   18            98.0   \n",
       "3      Linda      Thiel     4         CA   22            60.0   \n",
       "\n",
       "   ENGLISH_101_FINAL  \n",
       "2                NaN  \n",
       "4               50.0  \n",
       "0               80.0  \n",
       "1                NaN  \n",
       "6                NaN  \n",
       "5                NaN  \n",
       "7               60.0  \n",
       "8               65.0  \n",
       "3               40.0  "
      ]
     },
     "execution_count": 5,
     "metadata": {},
     "output_type": "execute_result"
    }
   ],
   "source": [
    "# Sorting Challenge\n",
    "df_students.sort_values('HOME_STATE', ascending=False)"
   ]
  },
  {
   "cell_type": "code",
   "execution_count": 6,
   "id": "0cc9e22c",
   "metadata": {},
   "outputs": [
    {
     "data": {
      "text/html": [
       "<div>\n",
       "<style scoped>\n",
       "    .dataframe tbody tr th:only-of-type {\n",
       "        vertical-align: middle;\n",
       "    }\n",
       "\n",
       "    .dataframe tbody tr th {\n",
       "        vertical-align: top;\n",
       "    }\n",
       "\n",
       "    .dataframe thead th {\n",
       "        text-align: right;\n",
       "    }\n",
       "</style>\n",
       "<table border=\"1\" class=\"dataframe\">\n",
       "  <thead>\n",
       "    <tr style=\"text-align: right;\">\n",
       "      <th></th>\n",
       "      <th>FIRST_NAME</th>\n",
       "      <th>LAST_NAME</th>\n",
       "      <th>YEAR</th>\n",
       "      <th>HOME_STATE</th>\n",
       "      <th>AGE</th>\n",
       "      <th>CALC_101_FINAL</th>\n",
       "      <th>ENGLISH_101_FINAL</th>\n",
       "    </tr>\n",
       "  </thead>\n",
       "  <tbody>\n",
       "    <tr>\n",
       "      <th>0</th>\n",
       "      <td>Linda</td>\n",
       "      <td>Thiel</td>\n",
       "      <td>4</td>\n",
       "      <td>CA</td>\n",
       "      <td>22</td>\n",
       "      <td>60.0</td>\n",
       "      <td>40.0</td>\n",
       "    </tr>\n",
       "    <tr>\n",
       "      <th>1</th>\n",
       "      <td>Rachel</td>\n",
       "      <td>Crock</td>\n",
       "      <td>1</td>\n",
       "      <td>FL</td>\n",
       "      <td>17</td>\n",
       "      <td>NaN</td>\n",
       "      <td>60.0</td>\n",
       "    </tr>\n",
       "    <tr>\n",
       "      <th>2</th>\n",
       "      <td>Bob</td>\n",
       "      <td>McDonald</td>\n",
       "      <td>1</td>\n",
       "      <td>FL</td>\n",
       "      <td>18</td>\n",
       "      <td>98.0</td>\n",
       "      <td>65.0</td>\n",
       "    </tr>\n",
       "    <tr>\n",
       "      <th>3</th>\n",
       "      <td>Jane</td>\n",
       "      <td>OConner</td>\n",
       "      <td>2</td>\n",
       "      <td>HI</td>\n",
       "      <td>19</td>\n",
       "      <td>NaN</td>\n",
       "      <td>NaN</td>\n",
       "    </tr>\n",
       "    <tr>\n",
       "      <th>4</th>\n",
       "      <td>Daniel</td>\n",
       "      <td>Smith</td>\n",
       "      <td>1</td>\n",
       "      <td>NY</td>\n",
       "      <td>18</td>\n",
       "      <td>90.0</td>\n",
       "      <td>80.0</td>\n",
       "    </tr>\n",
       "    <tr>\n",
       "      <th>5</th>\n",
       "      <td>Ben</td>\n",
       "      <td>Leibstrom</td>\n",
       "      <td>1</td>\n",
       "      <td>NY</td>\n",
       "      <td>19</td>\n",
       "      <td>80.0</td>\n",
       "      <td>NaN</td>\n",
       "    </tr>\n",
       "    <tr>\n",
       "      <th>6</th>\n",
       "      <td>Felicia</td>\n",
       "      <td>Rao</td>\n",
       "      <td>3</td>\n",
       "      <td>NY</td>\n",
       "      <td>20</td>\n",
       "      <td>NaN</td>\n",
       "      <td>NaN</td>\n",
       "    </tr>\n",
       "    <tr>\n",
       "      <th>7</th>\n",
       "      <td>Omar</td>\n",
       "      <td>Reichel</td>\n",
       "      <td>2</td>\n",
       "      <td>OK</td>\n",
       "      <td>21</td>\n",
       "      <td>70.0</td>\n",
       "      <td>50.0</td>\n",
       "    </tr>\n",
       "    <tr>\n",
       "      <th>8</th>\n",
       "      <td>Kavita</td>\n",
       "      <td>Kanabar</td>\n",
       "      <td>1</td>\n",
       "      <td>PA</td>\n",
       "      <td>19</td>\n",
       "      <td>NaN</td>\n",
       "      <td>NaN</td>\n",
       "    </tr>\n",
       "  </tbody>\n",
       "</table>\n",
       "</div>"
      ],
      "text/plain": [
       "  FIRST_NAME  LAST_NAME  YEAR HOME_STATE  AGE  CALC_101_FINAL  \\\n",
       "0      Linda      Thiel     4         CA   22            60.0   \n",
       "1     Rachel      Crock     1         FL   17             NaN   \n",
       "2        Bob   McDonald     1         FL   18            98.0   \n",
       "3       Jane    OConner     2         HI   19             NaN   \n",
       "4     Daniel      Smith     1         NY   18            90.0   \n",
       "5        Ben  Leibstrom     1         NY   19            80.0   \n",
       "6    Felicia        Rao     3         NY   20             NaN   \n",
       "7       Omar    Reichel     2         OK   21            70.0   \n",
       "8     Kavita    Kanabar     1         PA   19             NaN   \n",
       "\n",
       "   ENGLISH_101_FINAL  \n",
       "0               40.0  \n",
       "1               60.0  \n",
       "2               65.0  \n",
       "3                NaN  \n",
       "4               80.0  \n",
       "5                NaN  \n",
       "6                NaN  \n",
       "7               50.0  \n",
       "8                NaN  "
      ]
     },
     "execution_count": 6,
     "metadata": {},
     "output_type": "execute_result"
    }
   ],
   "source": [
    "df_students.sort_values('HOME_STATE').reset_index(drop=True)"
   ]
  },
  {
   "cell_type": "code",
   "execution_count": 7,
   "id": "bd4fa4ed",
   "metadata": {},
   "outputs": [
    {
     "data": {
      "text/html": [
       "<div>\n",
       "<style scoped>\n",
       "    .dataframe tbody tr th:only-of-type {\n",
       "        vertical-align: middle;\n",
       "    }\n",
       "\n",
       "    .dataframe tbody tr th {\n",
       "        vertical-align: top;\n",
       "    }\n",
       "\n",
       "    .dataframe thead th {\n",
       "        text-align: right;\n",
       "    }\n",
       "</style>\n",
       "<table border=\"1\" class=\"dataframe\">\n",
       "  <thead>\n",
       "    <tr style=\"text-align: right;\">\n",
       "      <th></th>\n",
       "      <th>FIRST_NAME</th>\n",
       "      <th>LAST_NAME</th>\n",
       "      <th>YEAR</th>\n",
       "      <th>HOME_STATE</th>\n",
       "      <th>AGE</th>\n",
       "      <th>CALC_101_FINAL</th>\n",
       "      <th>ENGLISH_101_FINAL</th>\n",
       "    </tr>\n",
       "  </thead>\n",
       "  <tbody>\n",
       "    <tr>\n",
       "      <th>3</th>\n",
       "      <td>Linda</td>\n",
       "      <td>Thiel</td>\n",
       "      <td>4</td>\n",
       "      <td>CA</td>\n",
       "      <td>22</td>\n",
       "      <td>60.0</td>\n",
       "      <td>40.0</td>\n",
       "    </tr>\n",
       "    <tr>\n",
       "      <th>7</th>\n",
       "      <td>Rachel</td>\n",
       "      <td>Crock</td>\n",
       "      <td>1</td>\n",
       "      <td>FL</td>\n",
       "      <td>17</td>\n",
       "      <td>NaN</td>\n",
       "      <td>60.0</td>\n",
       "    </tr>\n",
       "    <tr>\n",
       "      <th>8</th>\n",
       "      <td>Bob</td>\n",
       "      <td>McDonald</td>\n",
       "      <td>1</td>\n",
       "      <td>FL</td>\n",
       "      <td>18</td>\n",
       "      <td>98.0</td>\n",
       "      <td>65.0</td>\n",
       "    </tr>\n",
       "    <tr>\n",
       "      <th>5</th>\n",
       "      <td>Jane</td>\n",
       "      <td>OConner</td>\n",
       "      <td>2</td>\n",
       "      <td>HI</td>\n",
       "      <td>19</td>\n",
       "      <td>NaN</td>\n",
       "      <td>NaN</td>\n",
       "    </tr>\n",
       "    <tr>\n",
       "      <th>1</th>\n",
       "      <td>Ben</td>\n",
       "      <td>Leibstrom</td>\n",
       "      <td>1</td>\n",
       "      <td>NY</td>\n",
       "      <td>19</td>\n",
       "      <td>80.0</td>\n",
       "      <td>NaN</td>\n",
       "    </tr>\n",
       "    <tr>\n",
       "      <th>6</th>\n",
       "      <td>Felicia</td>\n",
       "      <td>Rao</td>\n",
       "      <td>3</td>\n",
       "      <td>NY</td>\n",
       "      <td>20</td>\n",
       "      <td>NaN</td>\n",
       "      <td>NaN</td>\n",
       "    </tr>\n",
       "    <tr>\n",
       "      <th>0</th>\n",
       "      <td>Daniel</td>\n",
       "      <td>Smith</td>\n",
       "      <td>1</td>\n",
       "      <td>NY</td>\n",
       "      <td>18</td>\n",
       "      <td>90.0</td>\n",
       "      <td>80.0</td>\n",
       "    </tr>\n",
       "    <tr>\n",
       "      <th>4</th>\n",
       "      <td>Omar</td>\n",
       "      <td>Reichel</td>\n",
       "      <td>2</td>\n",
       "      <td>OK</td>\n",
       "      <td>21</td>\n",
       "      <td>70.0</td>\n",
       "      <td>50.0</td>\n",
       "    </tr>\n",
       "    <tr>\n",
       "      <th>2</th>\n",
       "      <td>Kavita</td>\n",
       "      <td>Kanabar</td>\n",
       "      <td>1</td>\n",
       "      <td>PA</td>\n",
       "      <td>19</td>\n",
       "      <td>NaN</td>\n",
       "      <td>NaN</td>\n",
       "    </tr>\n",
       "  </tbody>\n",
       "</table>\n",
       "</div>"
      ],
      "text/plain": [
       "  FIRST_NAME  LAST_NAME  YEAR HOME_STATE  AGE  CALC_101_FINAL  \\\n",
       "3      Linda      Thiel     4         CA   22            60.0   \n",
       "7     Rachel      Crock     1         FL   17             NaN   \n",
       "8        Bob   McDonald     1         FL   18            98.0   \n",
       "5       Jane    OConner     2         HI   19             NaN   \n",
       "1        Ben  Leibstrom     1         NY   19            80.0   \n",
       "6    Felicia        Rao     3         NY   20             NaN   \n",
       "0     Daniel      Smith     1         NY   18            90.0   \n",
       "4       Omar    Reichel     2         OK   21            70.0   \n",
       "2     Kavita    Kanabar     1         PA   19             NaN   \n",
       "\n",
       "   ENGLISH_101_FINAL  \n",
       "3               40.0  \n",
       "7               60.0  \n",
       "8               65.0  \n",
       "5                NaN  \n",
       "1                NaN  \n",
       "6                NaN  \n",
       "0               80.0  \n",
       "4               50.0  \n",
       "2                NaN  "
      ]
     },
     "execution_count": 7,
     "metadata": {},
     "output_type": "execute_result"
    }
   ],
   "source": [
    "df_students.sort_values(['HOME_STATE', 'LAST_NAME'])"
   ]
  },
  {
   "cell_type": "code",
   "execution_count": 8,
   "id": "874ba594",
   "metadata": {},
   "outputs": [
    {
     "data": {
      "text/plain": [
       "3    60.0\n",
       "4    70.0\n",
       "1    80.0\n",
       "0    90.0\n",
       "8    98.0\n",
       "2     NaN\n",
       "5     NaN\n",
       "6     NaN\n",
       "7     NaN\n",
       "Name: CALC_101_FINAL, dtype: float64"
      ]
     },
     "execution_count": 8,
     "metadata": {},
     "output_type": "execute_result"
    }
   ],
   "source": [
    "df_students.CALC_101_FINAL.sort_values()"
   ]
  },
  {
   "cell_type": "code",
   "execution_count": 9,
   "id": "985ff5d6",
   "metadata": {},
   "outputs": [
    {
     "data": {
      "text/html": [
       "<div>\n",
       "<style scoped>\n",
       "    .dataframe tbody tr th:only-of-type {\n",
       "        vertical-align: middle;\n",
       "    }\n",
       "\n",
       "    .dataframe tbody tr th {\n",
       "        vertical-align: top;\n",
       "    }\n",
       "\n",
       "    .dataframe thead th {\n",
       "        text-align: right;\n",
       "    }\n",
       "</style>\n",
       "<table border=\"1\" class=\"dataframe\">\n",
       "  <thead>\n",
       "    <tr style=\"text-align: right;\">\n",
       "      <th></th>\n",
       "      <th>FIRST_NAME</th>\n",
       "      <th>LAST_NAME</th>\n",
       "      <th>YEAR</th>\n",
       "      <th>HOME_STATE</th>\n",
       "      <th>AGE</th>\n",
       "      <th>CALC_101_FINAL</th>\n",
       "      <th>ENGLISH_101_FINAL</th>\n",
       "    </tr>\n",
       "  </thead>\n",
       "  <tbody>\n",
       "    <tr>\n",
       "      <th>0</th>\n",
       "      <td>Daniel</td>\n",
       "      <td>Smith</td>\n",
       "      <td>1</td>\n",
       "      <td>NY</td>\n",
       "      <td>18</td>\n",
       "      <td>90.0</td>\n",
       "      <td>80.0</td>\n",
       "    </tr>\n",
       "    <tr>\n",
       "      <th>1</th>\n",
       "      <td>Ben</td>\n",
       "      <td>Leibstrom</td>\n",
       "      <td>1</td>\n",
       "      <td>NY</td>\n",
       "      <td>19</td>\n",
       "      <td>80.0</td>\n",
       "      <td>NaN</td>\n",
       "    </tr>\n",
       "    <tr>\n",
       "      <th>2</th>\n",
       "      <td>Kavita</td>\n",
       "      <td>Kanabar</td>\n",
       "      <td>1</td>\n",
       "      <td>PA</td>\n",
       "      <td>19</td>\n",
       "      <td>NaN</td>\n",
       "      <td>NaN</td>\n",
       "    </tr>\n",
       "    <tr>\n",
       "      <th>3</th>\n",
       "      <td>Linda</td>\n",
       "      <td>Thiel</td>\n",
       "      <td>4</td>\n",
       "      <td>CA</td>\n",
       "      <td>22</td>\n",
       "      <td>60.0</td>\n",
       "      <td>40.0</td>\n",
       "    </tr>\n",
       "    <tr>\n",
       "      <th>4</th>\n",
       "      <td>Omar</td>\n",
       "      <td>Reichel</td>\n",
       "      <td>2</td>\n",
       "      <td>OK</td>\n",
       "      <td>21</td>\n",
       "      <td>70.0</td>\n",
       "      <td>50.0</td>\n",
       "    </tr>\n",
       "    <tr>\n",
       "      <th>5</th>\n",
       "      <td>Jane</td>\n",
       "      <td>OConner</td>\n",
       "      <td>2</td>\n",
       "      <td>HI</td>\n",
       "      <td>19</td>\n",
       "      <td>NaN</td>\n",
       "      <td>NaN</td>\n",
       "    </tr>\n",
       "    <tr>\n",
       "      <th>6</th>\n",
       "      <td>Felicia</td>\n",
       "      <td>Rao</td>\n",
       "      <td>3</td>\n",
       "      <td>NY</td>\n",
       "      <td>20</td>\n",
       "      <td>NaN</td>\n",
       "      <td>NaN</td>\n",
       "    </tr>\n",
       "    <tr>\n",
       "      <th>7</th>\n",
       "      <td>Rachel</td>\n",
       "      <td>Crock</td>\n",
       "      <td>1</td>\n",
       "      <td>FL</td>\n",
       "      <td>17</td>\n",
       "      <td>NaN</td>\n",
       "      <td>60.0</td>\n",
       "    </tr>\n",
       "    <tr>\n",
       "      <th>8</th>\n",
       "      <td>Bob</td>\n",
       "      <td>McDonald</td>\n",
       "      <td>1</td>\n",
       "      <td>FL</td>\n",
       "      <td>18</td>\n",
       "      <td>98.0</td>\n",
       "      <td>65.0</td>\n",
       "    </tr>\n",
       "  </tbody>\n",
       "</table>\n",
       "</div>"
      ],
      "text/plain": [
       "  FIRST_NAME  LAST_NAME  YEAR HOME_STATE  AGE  CALC_101_FINAL  \\\n",
       "0     Daniel      Smith     1         NY   18            90.0   \n",
       "1        Ben  Leibstrom     1         NY   19            80.0   \n",
       "2     Kavita    Kanabar     1         PA   19             NaN   \n",
       "3      Linda      Thiel     4         CA   22            60.0   \n",
       "4       Omar    Reichel     2         OK   21            70.0   \n",
       "5       Jane    OConner     2         HI   19             NaN   \n",
       "6    Felicia        Rao     3         NY   20             NaN   \n",
       "7     Rachel      Crock     1         FL   17             NaN   \n",
       "8        Bob   McDonald     1         FL   18            98.0   \n",
       "\n",
       "   ENGLISH_101_FINAL  \n",
       "0               80.0  \n",
       "1                NaN  \n",
       "2                NaN  \n",
       "3               40.0  \n",
       "4               50.0  \n",
       "5                NaN  \n",
       "6                NaN  \n",
       "7               60.0  \n",
       "8               65.0  "
      ]
     },
     "execution_count": 9,
     "metadata": {},
     "output_type": "execute_result"
    }
   ],
   "source": [
    "df_students.sort_index()"
   ]
  },
  {
   "cell_type": "markdown",
   "id": "a076ef98",
   "metadata": {},
   "source": [
    "## Plotting Data in Pandas"
   ]
  },
  {
   "cell_type": "code",
   "execution_count": 10,
   "id": "09ca8d47",
   "metadata": {},
   "outputs": [],
   "source": [
    "import matplotlib.pyplot as plt"
   ]
  },
  {
   "cell_type": "code",
   "execution_count": 11,
   "id": "4a639bae",
   "metadata": {},
   "outputs": [
    {
     "data": {
      "text/plain": [
       "<AxesSubplot:>"
      ]
     },
     "execution_count": 11,
     "metadata": {},
     "output_type": "execute_result"
    },
    {
     "data": {
      "image/png": "[encoded data removed]",
      "text/plain": [
       "<Figure size 432x288 with 1 Axes>"
      ]
     },
     "metadata": {
      "needs_background": "light"
     },
     "output_type": "display_data"
    }
   ],
   "source": [
    "df_students.CALC_101_FINAL.plot(kind='bar')"
   ]
  },
  {
   "cell_type": "code",
   "execution_count": 12,
   "id": "eff0a381",
   "metadata": {},
   "outputs": [
    {
     "data": {
      "image/png": "[encoded data removed]",
      "text/plain": [
       "<Figure size 432x288 with 1 Axes>"
      ]
     },
     "metadata": {
      "needs_background": "light"
     },
     "output_type": "display_data"
    }
   ],
   "source": [
    "df_students.index = df_students.LAST_NAME\n",
    "df_students.CALC_101_FINAL.plot(kind='bar')\n",
    "df_students = df_students.reset_index(drop=True)"
   ]
  },
  {
   "cell_type": "code",
   "execution_count": 13,
   "id": "5aa4c5ab",
   "metadata": {},
   "outputs": [
    {
     "data": {
      "text/plain": [
       "<AxesSubplot:xlabel='LAST_NAME'>"
      ]
     },
     "execution_count": 13,
     "metadata": {},
     "output_type": "execute_result"
    },
    {
     "data": {
      "image/png": "[encoded data removed]",
      "text/plain": [
       "<Figure size 432x288 with 1 Axes>"
      ]
     },
     "metadata": {
      "needs_background": "light"
     },
     "output_type": "display_data"
    }
   ],
   "source": [
    "df_students.plot(x='LAST_NAME', y='CALC_101_FINAL', kind='bar')"
   ]
  },
  {
   "cell_type": "markdown",
   "id": "4d447da5",
   "metadata": {},
   "source": [
    "## Exploring Data in Pandas"
   ]
  },
  {
   "cell_type": "markdown",
   "id": "88cb58a9",
   "metadata": {},
   "source": [
    "### Using value_counts()"
   ]
  },
  {
   "cell_type": "code",
   "execution_count": 14,
   "id": "7005fe35",
   "metadata": {
    "scrolled": false
   },
   "outputs": [
    {
     "data": {
      "text/html": [
       "<div>\n",
       "<style scoped>\n",
       "    .dataframe tbody tr th:only-of-type {\n",
       "        vertical-align: middle;\n",
       "    }\n",
       "\n",
       "    .dataframe tbody tr th {\n",
       "        vertical-align: top;\n",
       "    }\n",
       "\n",
       "    .dataframe thead th {\n",
       "        text-align: right;\n",
       "    }\n",
       "</style>\n",
       "<table border=\"1\" class=\"dataframe\">\n",
       "  <thead>\n",
       "    <tr style=\"text-align: right;\">\n",
       "      <th></th>\n",
       "      <th>ORDER_ID</th>\n",
       "      <th>DATETIME</th>\n",
       "      <th>RESTAURANT_ID</th>\n",
       "      <th>TYPE</th>\n",
       "      <th>DRINKS</th>\n",
       "      <th>COOKIES</th>\n",
       "      <th>MAIN</th>\n",
       "      <th>BASE</th>\n",
       "      <th>SIDE_1</th>\n",
       "      <th>SIDE_2</th>\n",
       "    </tr>\n",
       "  </thead>\n",
       "  <tbody>\n",
       "    <tr>\n",
       "      <th>0</th>\n",
       "      <td>O1820060</td>\n",
       "      <td>2018-10-11 17:25:50</td>\n",
       "      <td>R10002</td>\n",
       "      <td>IN_STORE</td>\n",
       "      <td>1.0</td>\n",
       "      <td>2.0</td>\n",
       "      <td>NaN</td>\n",
       "      <td>NaN</td>\n",
       "      <td>NaN</td>\n",
       "      <td>NaN</td>\n",
       "    </tr>\n",
       "    <tr>\n",
       "      <th>1</th>\n",
       "      <td>O1011112</td>\n",
       "      <td>2018-05-31 11:35:00</td>\n",
       "      <td>R10003</td>\n",
       "      <td>IN_STORE</td>\n",
       "      <td>0.0</td>\n",
       "      <td>0.0</td>\n",
       "      <td>NaN</td>\n",
       "      <td>NaN</td>\n",
       "      <td>NaN</td>\n",
       "      <td>NaN</td>\n",
       "    </tr>\n",
       "    <tr>\n",
       "      <th>2</th>\n",
       "      <td>O752854</td>\n",
       "      <td>2018-04-21 18:12:57</td>\n",
       "      <td>R10001</td>\n",
       "      <td>DELIVERY</td>\n",
       "      <td>0.0</td>\n",
       "      <td>2.0</td>\n",
       "      <td>I0</td>\n",
       "      <td>I7</td>\n",
       "      <td>I15</td>\n",
       "      <td>I14</td>\n",
       "    </tr>\n",
       "    <tr>\n",
       "      <th>3</th>\n",
       "      <td>O2076864</td>\n",
       "      <td>2018-11-17 12:50:52</td>\n",
       "      <td>R10005</td>\n",
       "      <td>PICKUP</td>\n",
       "      <td>1.0</td>\n",
       "      <td>0.0</td>\n",
       "      <td>I0</td>\n",
       "      <td>I5</td>\n",
       "      <td>I9</td>\n",
       "      <td>I12</td>\n",
       "    </tr>\n",
       "    <tr>\n",
       "      <th>4</th>\n",
       "      <td>O1988898</td>\n",
       "      <td>2018-11-04 18:37:24</td>\n",
       "      <td>R10008</td>\n",
       "      <td>IN_STORE</td>\n",
       "      <td>0.0</td>\n",
       "      <td>0.0</td>\n",
       "      <td>I1</td>\n",
       "      <td>I7</td>\n",
       "      <td>I9</td>\n",
       "      <td>I9</td>\n",
       "    </tr>\n",
       "  </tbody>\n",
       "</table>\n",
       "</div>"
      ],
      "text/plain": [
       "   ORDER_ID             DATETIME RESTAURANT_ID      TYPE  DRINKS  COOKIES  \\\n",
       "0  O1820060  2018-10-11 17:25:50        R10002  IN_STORE     1.0      2.0   \n",
       "1  O1011112  2018-05-31 11:35:00        R10003  IN_STORE     0.0      0.0   \n",
       "2   O752854  2018-04-21 18:12:57        R10001  DELIVERY     0.0      2.0   \n",
       "3  O2076864  2018-11-17 12:50:52        R10005    PICKUP     1.0      0.0   \n",
       "4  O1988898  2018-11-04 18:37:24        R10008  IN_STORE     0.0      0.0   \n",
       "\n",
       "  MAIN BASE SIDE_1 SIDE_2  \n",
       "0  NaN  NaN    NaN    NaN  \n",
       "1  NaN  NaN    NaN    NaN  \n",
       "2   I0   I7    I15    I14  \n",
       "3   I0   I5     I9    I12  \n",
       "4   I1   I7     I9     I9  "
      ]
     },
     "execution_count": 14,
     "metadata": {},
     "output_type": "execute_result"
    }
   ],
   "source": [
    "df_orders.head()"
   ]
  },
  {
   "cell_type": "code",
   "execution_count": 15,
   "id": "b49a06c5",
   "metadata": {},
   "outputs": [
    {
     "data": {
      "text/plain": [
       "IN_STORE    1713136\n",
       "PICKUP       401440\n",
       "DELIVERY     272648\n",
       "Name: TYPE, dtype: int64"
      ]
     },
     "execution_count": 15,
     "metadata": {},
     "output_type": "execute_result"
    }
   ],
   "source": [
    "df_orders.TYPE.value_counts()"
   ]
  },
  {
   "cell_type": "code",
   "execution_count": 16,
   "id": "49603627",
   "metadata": {},
   "outputs": [
    {
     "data": {
      "text/plain": [
       "IN_STORE    0.717627\n",
       "PICKUP      0.168162\n",
       "DELIVERY    0.114211\n",
       "Name: TYPE, dtype: float64"
      ]
     },
     "execution_count": 16,
     "metadata": {},
     "output_type": "execute_result"
    }
   ],
   "source": [
    "df_orders.TYPE.value_counts(normalize=True)"
   ]
  },
  {
   "cell_type": "code",
   "execution_count": 17,
   "id": "34b1b903",
   "metadata": {},
   "outputs": [
    {
     "data": {
      "text/plain": [
       "<AxesSubplot:>"
      ]
     },
     "execution_count": 17,
     "metadata": {},
     "output_type": "execute_result"
    },
    {
     "data": {
      "image/png": "[encoded data removed]",
      "text/plain": [
       "<Figure size 432x288 with 1 Axes>"
      ]
     },
     "metadata": {
      "needs_background": "light"
     },
     "output_type": "display_data"
    }
   ],
   "source": [
    "df_orders.TYPE.value_counts(normalize=True).plot(kind='bar')"
   ]
  },
  {
   "cell_type": "code",
   "execution_count": 18,
   "id": "575fcf44",
   "metadata": {},
   "outputs": [
    {
     "data": {
      "text/plain": [
       "<AxesSubplot:>"
      ]
     },
     "execution_count": 18,
     "metadata": {},
     "output_type": "execute_result"
    },
    {
     "data": {
      "image/png": "[encoded data removed]",
      "text/plain": [
       "<Figure size 432x288 with 1 Axes>"
      ]
     },
     "metadata": {
      "needs_background": "light"
     },
     "output_type": "display_data"
    }
   ],
   "source": [
    "# Exploring Data Challenge\n",
    "df_orders.RESTAURANT_ID.value_counts().plot(kind='bar') "
   ]
  },
  {
   "cell_type": "code",
   "execution_count": 19,
   "id": "918a68fd",
   "metadata": {},
   "outputs": [
    {
     "data": {
      "text/html": [
       "<div>\n",
       "<style scoped>\n",
       "    .dataframe tbody tr th:only-of-type {\n",
       "        vertical-align: middle;\n",
       "    }\n",
       "\n",
       "    .dataframe tbody tr th {\n",
       "        vertical-align: top;\n",
       "    }\n",
       "\n",
       "    .dataframe thead th {\n",
       "        text-align: right;\n",
       "    }\n",
       "</style>\n",
       "<table border=\"1\" class=\"dataframe\">\n",
       "  <thead>\n",
       "    <tr style=\"text-align: right;\">\n",
       "      <th></th>\n",
       "      <th>RESTAURANT_ID</th>\n",
       "      <th>NAME</th>\n",
       "      <th>ADDRESS</th>\n",
       "      <th>LAT</th>\n",
       "      <th>LONG</th>\n",
       "      <th>OPENING_DATE</th>\n",
       "      <th>DELIVERY_START</th>\n",
       "    </tr>\n",
       "  </thead>\n",
       "  <tbody>\n",
       "    <tr>\n",
       "      <th>0</th>\n",
       "      <td>R10001</td>\n",
       "      <td>Columbia</td>\n",
       "      <td>2884 Broadway, New York, NY 10025</td>\n",
       "      <td>40.811470</td>\n",
       "      <td>-73.961230</td>\n",
       "      <td>8/9/2014</td>\n",
       "      <td>2017-01-01</td>\n",
       "    </tr>\n",
       "    <tr>\n",
       "      <th>1</th>\n",
       "      <td>R10002</td>\n",
       "      <td>Midtown</td>\n",
       "      <td>1379 6th Ave, New York, NY 10019</td>\n",
       "      <td>40.763640</td>\n",
       "      <td>-73.977960</td>\n",
       "      <td>3/19/2013</td>\n",
       "      <td>2018-05-01</td>\n",
       "    </tr>\n",
       "    <tr>\n",
       "      <th>2</th>\n",
       "      <td>R10005</td>\n",
       "      <td>Flatiron</td>\n",
       "      <td>40 W 25th St, New York, NY 10010</td>\n",
       "      <td>40.743600</td>\n",
       "      <td>-73.991070</td>\n",
       "      <td>11/14/2013</td>\n",
       "      <td>2016-03-05</td>\n",
       "    </tr>\n",
       "    <tr>\n",
       "      <th>3</th>\n",
       "      <td>R10008</td>\n",
       "      <td>Williamsburg</td>\n",
       "      <td>45 S 3rd St, Brooklyn, NY 11249</td>\n",
       "      <td>40.713749</td>\n",
       "      <td>-73.965782</td>\n",
       "      <td>10/12/2015</td>\n",
       "      <td>2017-01-01</td>\n",
       "    </tr>\n",
       "    <tr>\n",
       "      <th>4</th>\n",
       "      <td>R10004</td>\n",
       "      <td>NYU</td>\n",
       "      <td>109 Macdougal St, New York, NY 10012</td>\n",
       "      <td>40.729930</td>\n",
       "      <td>-74.000820</td>\n",
       "      <td>1/10/2014</td>\n",
       "      <td>2017-01-01</td>\n",
       "    </tr>\n",
       "    <tr>\n",
       "      <th>5</th>\n",
       "      <td>R10003</td>\n",
       "      <td>Bryant Park</td>\n",
       "      <td>70 W 40th St, New York, NY 10018</td>\n",
       "      <td>40.752911</td>\n",
       "      <td>-73.983498</td>\n",
       "      <td>5/21/2013</td>\n",
       "      <td>2018-05-01</td>\n",
       "    </tr>\n",
       "    <tr>\n",
       "      <th>6</th>\n",
       "      <td>R10006</td>\n",
       "      <td>Upper East Side</td>\n",
       "      <td>1045 Lexington Ave, New York, NY 10021</td>\n",
       "      <td>40.772010</td>\n",
       "      <td>-73.960780</td>\n",
       "      <td>5/29/2014</td>\n",
       "      <td>2017-08-02</td>\n",
       "    </tr>\n",
       "    <tr>\n",
       "      <th>7</th>\n",
       "      <td>R10007</td>\n",
       "      <td>Upper West Side</td>\n",
       "      <td>2140 Broadway, New York, NY 10023</td>\n",
       "      <td>40.775430</td>\n",
       "      <td>-73.982050</td>\n",
       "      <td>2/2/2015</td>\n",
       "      <td>2017-08-02</td>\n",
       "    </tr>\n",
       "  </tbody>\n",
       "</table>\n",
       "</div>"
      ],
      "text/plain": [
       "  RESTAURANT_ID             NAME                                 ADDRESS  \\\n",
       "0        R10001         Columbia       2884 Broadway, New York, NY 10025   \n",
       "1        R10002          Midtown        1379 6th Ave, New York, NY 10019   \n",
       "2        R10005         Flatiron        40 W 25th St, New York, NY 10010   \n",
       "3        R10008     Williamsburg         45 S 3rd St, Brooklyn, NY 11249   \n",
       "4        R10004              NYU    109 Macdougal St, New York, NY 10012   \n",
       "5        R10003      Bryant Park        70 W 40th St, New York, NY 10018   \n",
       "6        R10006  Upper East Side  1045 Lexington Ave, New York, NY 10021   \n",
       "7        R10007  Upper West Side       2140 Broadway, New York, NY 10023   \n",
       "\n",
       "         LAT       LONG OPENING_DATE DELIVERY_START  \n",
       "0  40.811470 -73.961230     8/9/2014     2017-01-01  \n",
       "1  40.763640 -73.977960    3/19/2013     2018-05-01  \n",
       "2  40.743600 -73.991070   11/14/2013     2016-03-05  \n",
       "3  40.713749 -73.965782   10/12/2015     2017-01-01  \n",
       "4  40.729930 -74.000820    1/10/2014     2017-01-01  \n",
       "5  40.752911 -73.983498    5/21/2013     2018-05-01  \n",
       "6  40.772010 -73.960780    5/29/2014     2017-08-02  \n",
       "7  40.775430 -73.982050     2/2/2015     2017-08-02  "
      ]
     },
     "execution_count": 19,
     "metadata": {},
     "output_type": "execute_result"
    }
   ],
   "source": [
    "df_restaurants"
   ]
  },
  {
   "cell_type": "code",
   "execution_count": 20,
   "id": "1f206bb2",
   "metadata": {},
   "outputs": [
    {
     "data": {
      "text/html": [
       "<div>\n",
       "<style scoped>\n",
       "    .dataframe tbody tr th:only-of-type {\n",
       "        vertical-align: middle;\n",
       "    }\n",
       "\n",
       "    .dataframe tbody tr th {\n",
       "        vertical-align: top;\n",
       "    }\n",
       "\n",
       "    .dataframe thead th {\n",
       "        text-align: right;\n",
       "    }\n",
       "</style>\n",
       "<table border=\"1\" class=\"dataframe\">\n",
       "  <thead>\n",
       "    <tr style=\"text-align: right;\">\n",
       "      <th></th>\n",
       "      <th>RESTAURANT_NAME</th>\n",
       "      <th>DATE</th>\n",
       "      <th>NUM_ORDERS</th>\n",
       "      <th>PERC_DELIVERY</th>\n",
       "    </tr>\n",
       "  </thead>\n",
       "  <tbody>\n",
       "    <tr>\n",
       "      <th>0</th>\n",
       "      <td>Bryant Park</td>\n",
       "      <td>2018-01-01</td>\n",
       "      <td>373</td>\n",
       "      <td>0.0</td>\n",
       "    </tr>\n",
       "    <tr>\n",
       "      <th>1</th>\n",
       "      <td>Bryant Park</td>\n",
       "      <td>2018-01-02</td>\n",
       "      <td>789</td>\n",
       "      <td>0.0</td>\n",
       "    </tr>\n",
       "    <tr>\n",
       "      <th>2</th>\n",
       "      <td>Bryant Park</td>\n",
       "      <td>2018-01-03</td>\n",
       "      <td>818</td>\n",
       "      <td>0.0</td>\n",
       "    </tr>\n",
       "    <tr>\n",
       "      <th>3</th>\n",
       "      <td>Bryant Park</td>\n",
       "      <td>2018-01-04</td>\n",
       "      <td>782</td>\n",
       "      <td>0.0</td>\n",
       "    </tr>\n",
       "    <tr>\n",
       "      <th>4</th>\n",
       "      <td>Bryant Park</td>\n",
       "      <td>2018-01-05</td>\n",
       "      <td>719</td>\n",
       "      <td>0.0</td>\n",
       "    </tr>\n",
       "  </tbody>\n",
       "</table>\n",
       "</div>"
      ],
      "text/plain": [
       "  RESTAURANT_NAME        DATE  NUM_ORDERS  PERC_DELIVERY\n",
       "0     Bryant Park  2018-01-01         373            0.0\n",
       "1     Bryant Park  2018-01-02         789            0.0\n",
       "2     Bryant Park  2018-01-03         818            0.0\n",
       "3     Bryant Park  2018-01-04         782            0.0\n",
       "4     Bryant Park  2018-01-05         719            0.0"
      ]
     },
     "execution_count": 20,
     "metadata": {},
     "output_type": "execute_result"
    }
   ],
   "source": [
    "df_summarized_orders.head()"
   ]
  },
  {
   "cell_type": "code",
   "execution_count": 21,
   "id": "4a76429f",
   "metadata": {},
   "outputs": [
    {
     "data": {
      "text/plain": [
       "Columbia           365\n",
       "Flatiron           365\n",
       "Midtown            365\n",
       "NYU                365\n",
       "Upper West Side    365\n",
       "Williamsburg       365\n",
       "Upper East Side    355\n",
       "Bryant Park        261\n",
       "Name: RESTAURANT_NAME, dtype: int64"
      ]
     },
     "execution_count": 21,
     "metadata": {},
     "output_type": "execute_result"
    }
   ],
   "source": [
    "df_summarized_orders.RESTAURANT_NAME.value_counts()"
   ]
  },
  {
   "cell_type": "markdown",
   "id": "0f6bf97f",
   "metadata": {},
   "source": [
    "### Describing Numerical Columns and Histograms"
   ]
  },
  {
   "cell_type": "code",
   "execution_count": 22,
   "id": "bcd49295",
   "metadata": {},
   "outputs": [
    {
     "data": {
      "text/plain": [
       "752     17\n",
       "815     17\n",
       "791     14\n",
       "811     13\n",
       "836     13\n",
       "        ..\n",
       "1104     1\n",
       "1063     1\n",
       "1126     1\n",
       "599      1\n",
       "934      1\n",
       "Name: NUM_ORDERS, Length: 797, dtype: int64"
      ]
     },
     "execution_count": 22,
     "metadata": {},
     "output_type": "execute_result"
    }
   ],
   "source": [
    "df_summarized_orders.NUM_ORDERS.value_counts()"
   ]
  },
  {
   "cell_type": "code",
   "execution_count": 23,
   "id": "f4f76c36",
   "metadata": {},
   "outputs": [
    {
     "data": {
      "text/plain": [
       "count    2806.000000\n",
       "mean      850.756949\n",
       "std       195.490367\n",
       "min       200.000000\n",
       "25%       739.000000\n",
       "50%       833.000000\n",
       "75%       949.000000\n",
       "max      1396.000000\n",
       "Name: NUM_ORDERS, dtype: float64"
      ]
     },
     "execution_count": 23,
     "metadata": {},
     "output_type": "execute_result"
    }
   ],
   "source": [
    "df_summarized_orders.NUM_ORDERS.describe()"
   ]
  },
  {
   "cell_type": "code",
   "execution_count": 24,
   "id": "db8be01c",
   "metadata": {},
   "outputs": [
    {
     "data": {
      "text/plain": [
       "<AxesSubplot:>"
      ]
     },
     "execution_count": 24,
     "metadata": {},
     "output_type": "execute_result"
    },
    {
     "data": {
      "image/png": "[encoded data removed]",
      "text/plain": [
       "<Figure size 432x288 with 1 Axes>"
      ]
     },
     "metadata": {
      "needs_background": "light"
     },
     "output_type": "display_data"
    }
   ],
   "source": [
    "df_summarized_orders.NUM_ORDERS.plot(kind='box')"
   ]
  },
  {
   "cell_type": "code",
   "execution_count": 25,
   "id": "46ef974c",
   "metadata": {},
   "outputs": [
    {
     "data": {
      "text/plain": [
       "833.0"
      ]
     },
     "execution_count": 25,
     "metadata": {},
     "output_type": "execute_result"
    }
   ],
   "source": [
    "df_summarized_orders.NUM_ORDERS.median()"
   ]
  },
  {
   "cell_type": "code",
   "execution_count": 26,
   "id": "e28db2d3",
   "metadata": {},
   "outputs": [
    {
     "data": {
      "text/plain": [
       "<AxesSubplot:ylabel='Frequency'>"
      ]
     },
     "execution_count": 26,
     "metadata": {},
     "output_type": "execute_result"
    },
    {
     "data": {
      "image/png": "[encoded data removed]",
      "text/plain": [
       "<Figure size 432x288 with 1 Axes>"
      ]
     },
     "metadata": {
      "needs_background": "light"
     },
     "output_type": "display_data"
    }
   ],
   "source": [
    "df_summarized_orders.NUM_ORDERS.plot(kind='hist')"
   ]
  },
  {
   "cell_type": "code",
   "execution_count": 27,
   "id": "ec372ddb",
   "metadata": {},
   "outputs": [
    {
     "data": {
      "text/plain": [
       "<AxesSubplot:ylabel='Frequency'>"
      ]
     },
     "execution_count": 27,
     "metadata": {},
     "output_type": "execute_result"
    },
    {
     "data": {
      "image/png": "[encoded data removed]",
      "text/plain": [
       "<Figure size 432x288 with 1 Axes>"
      ]
     },
     "metadata": {
      "needs_background": "light"
     },
     "output_type": "display_data"
    }
   ],
   "source": [
    "df_summarized_orders.NUM_ORDERS.plot(kind='hist', bins=30)"
   ]
  },
  {
   "cell_type": "code",
   "execution_count": 28,
   "id": "de8fea69",
   "metadata": {},
   "outputs": [
    {
     "data": {
      "text/plain": [
       "<AxesSubplot:ylabel='Frequency'>"
      ]
     },
     "execution_count": 28,
     "metadata": {},
     "output_type": "execute_result"
    },
    {
     "data": {
      "image/png": "[encoded data removed]",
      "text/plain": [
       "<Figure size 432x288 with 1 Axes>"
      ]
     },
     "metadata": {
      "needs_background": "light"
     },
     "output_type": "display_data"
    }
   ],
   "source": [
    "df_summarized_orders.PERC_DELIVERY.plot(kind='hist', bins=40)"
   ]
  },
  {
   "cell_type": "code",
   "execution_count": 29,
   "id": "45d9581c",
   "metadata": {},
   "outputs": [],
   "source": [
    "import seaborn as sns"
   ]
  },
  {
   "cell_type": "code",
   "execution_count": 30,
   "id": "c8cae1c5",
   "metadata": {},
   "outputs": [
    {
     "data": {
      "text/plain": [
       "<seaborn.axisgrid.JointGrid at 0x7fc51c229c70>"
      ]
     },
     "execution_count": 30,
     "metadata": {},
     "output_type": "execute_result"
    },
    {
     "data": {
      "image/png": "[encoded data removed]",
      "text/plain": [
       "<Figure size 432x432 with 3 Axes>"
      ]
     },
     "metadata": {
      "needs_background": "light"
     },
     "output_type": "display_data"
    }
   ],
   "source": [
    "sns.jointplot(data=df_summarized_orders,\n",
    "              x='NUM_ORDERS', \n",
    "              y='PERC_DELIVERY',\n",
    "              kind='kde')"
   ]
  },
  {
   "cell_type": "markdown",
   "id": "9ccfa820",
   "metadata": {},
   "source": [
    "### Aggregations"
   ]
  },
  {
   "cell_type": "code",
   "execution_count": 31,
   "id": "b258b0ee",
   "metadata": {},
   "outputs": [
    {
     "data": {
      "text/plain": [
       "230344.0"
      ]
     },
     "execution_count": 31,
     "metadata": {},
     "output_type": "execute_result"
    }
   ],
   "source": [
    "df_orders.DRINKS.sum()"
   ]
  },
  {
   "cell_type": "code",
   "execution_count": 32,
   "id": "c4c1fbd7",
   "metadata": {},
   "outputs": [
    {
     "data": {
      "text/plain": [
       "25.0"
      ]
     },
     "execution_count": 32,
     "metadata": {},
     "output_type": "execute_result"
    }
   ],
   "source": [
    "df_orders.DRINKS.max()"
   ]
  },
  {
   "cell_type": "code",
   "execution_count": 33,
   "id": "6a229c78",
   "metadata": {},
   "outputs": [
    {
     "data": {
      "text/plain": [
       "0.0"
      ]
     },
     "execution_count": 33,
     "metadata": {},
     "output_type": "execute_result"
    }
   ],
   "source": [
    "df_orders.DRINKS.min()"
   ]
  },
  {
   "cell_type": "code",
   "execution_count": 34,
   "id": "4a858371",
   "metadata": {},
   "outputs": [
    {
     "data": {
      "text/plain": [
       "0.09649031678635939"
      ]
     },
     "execution_count": 34,
     "metadata": {},
     "output_type": "execute_result"
    }
   ],
   "source": [
    "df_orders.DRINKS.mean()"
   ]
  },
  {
   "cell_type": "code",
   "execution_count": 35,
   "id": "12208469",
   "metadata": {},
   "outputs": [
    {
     "data": {
      "text/plain": [
       "0.0"
      ]
     },
     "execution_count": 35,
     "metadata": {},
     "output_type": "execute_result"
    }
   ],
   "source": [
    "df_orders.DRINKS.median()"
   ]
  },
  {
   "cell_type": "code",
   "execution_count": 36,
   "id": "b43857bc",
   "metadata": {},
   "outputs": [
    {
     "data": {
      "text/plain": [
       "0.3834026510083227"
      ]
     },
     "execution_count": 36,
     "metadata": {},
     "output_type": "execute_result"
    }
   ],
   "source": [
    "df_orders.DRINKS.std()"
   ]
  },
  {
   "cell_type": "code",
   "execution_count": 37,
   "id": "aee6a706",
   "metadata": {},
   "outputs": [
    {
     "data": {
      "text/plain": [
       "['Bryant Park',\n",
       " 'Columbia',\n",
       " 'Flatiron',\n",
       " 'Midtown',\n",
       " 'NYU',\n",
       " 'Upper East Side',\n",
       " 'Upper West Side',\n",
       " 'Williamsburg']"
      ]
     },
     "execution_count": 37,
     "metadata": {},
     "output_type": "execute_result"
    }
   ],
   "source": [
    "df_summarized_orders.RESTAURANT_NAME.unique().tolist()"
   ]
  },
  {
   "cell_type": "code",
   "execution_count": 38,
   "id": "9eb17294",
   "metadata": {},
   "outputs": [
    {
     "data": {
      "text/plain": [
       "-0.1966740921641795"
      ]
     },
     "execution_count": 38,
     "metadata": {},
     "output_type": "execute_result"
    }
   ],
   "source": [
    "df_summarized_orders.NUM_ORDERS.corr( \n",
    "    df_summarized_orders.PERC_DELIVERY)"
   ]
  },
  {
   "cell_type": "code",
   "execution_count": 39,
   "id": "d8934b47",
   "metadata": {},
   "outputs": [
    {
     "data": {
      "text/html": [
       "<div>\n",
       "<style scoped>\n",
       "    .dataframe tbody tr th:only-of-type {\n",
       "        vertical-align: middle;\n",
       "    }\n",
       "\n",
       "    .dataframe tbody tr th {\n",
       "        vertical-align: top;\n",
       "    }\n",
       "\n",
       "    .dataframe thead th {\n",
       "        text-align: right;\n",
       "    }\n",
       "</style>\n",
       "<table border=\"1\" class=\"dataframe\">\n",
       "  <thead>\n",
       "    <tr style=\"text-align: right;\">\n",
       "      <th></th>\n",
       "      <th>NUM_ORDERS</th>\n",
       "      <th>PERC_DELIVERY</th>\n",
       "    </tr>\n",
       "  </thead>\n",
       "  <tbody>\n",
       "    <tr>\n",
       "      <th>NUM_ORDERS</th>\n",
       "      <td>1.000000</td>\n",
       "      <td>-0.196674</td>\n",
       "    </tr>\n",
       "    <tr>\n",
       "      <th>PERC_DELIVERY</th>\n",
       "      <td>-0.196674</td>\n",
       "      <td>1.000000</td>\n",
       "    </tr>\n",
       "  </tbody>\n",
       "</table>\n",
       "</div>"
      ],
      "text/plain": [
       "               NUM_ORDERS  PERC_DELIVERY\n",
       "NUM_ORDERS       1.000000      -0.196674\n",
       "PERC_DELIVERY   -0.196674       1.000000"
      ]
     },
     "execution_count": 39,
     "metadata": {},
     "output_type": "execute_result"
    }
   ],
   "source": [
    "df_summarized_orders.corr()"
   ]
  },
  {
   "cell_type": "markdown",
   "id": "a951e53b",
   "metadata": {},
   "source": [
    "## Working with Columns"
   ]
  },
  {
   "cell_type": "markdown",
   "id": "15b07992",
   "metadata": {},
   "source": [
    "### Simple Math on Columns"
   ]
  },
  {
   "cell_type": "code",
   "execution_count": 40,
   "id": "0df4ae1b",
   "metadata": {},
   "outputs": [
    {
     "data": {
      "text/plain": [
       "0       3.73\n",
       "1       7.89\n",
       "2       8.18\n",
       "3       7.82\n",
       "4       7.19\n",
       "        ... \n",
       "2801    9.41\n",
       "2802    9.41\n",
       "2803    9.42\n",
       "2804    9.33\n",
       "2805    9.57\n",
       "Name: NUM_ORDERS, Length: 2806, dtype: float64"
      ]
     },
     "execution_count": 40,
     "metadata": {},
     "output_type": "execute_result"
    }
   ],
   "source": [
    "df_summarized_orders.NUM_ORDERS / 100"
   ]
  },
  {
   "cell_type": "code",
   "execution_count": 41,
   "id": "97fe8dc5",
   "metadata": {},
   "outputs": [
    {
     "data": {
      "text/plain": [
       "0          3.0\n",
       "1          0.0\n",
       "2          2.0\n",
       "3          1.0\n",
       "4          0.0\n",
       "          ... \n",
       "2387219    2.0\n",
       "2387220    0.0\n",
       "2387221    0.0\n",
       "2387222    1.0\n",
       "2387223    0.0\n",
       "Length: 2387224, dtype: float64"
      ]
     },
     "execution_count": 41,
     "metadata": {},
     "output_type": "execute_result"
    }
   ],
   "source": [
    "df_orders.COOKIES + df_orders.DRINKS"
   ]
  },
  {
   "cell_type": "code",
   "execution_count": 42,
   "id": "e8ec0c9d",
   "metadata": {},
   "outputs": [
    {
     "data": {
      "text/plain": [
       "0       373.0\n",
       "1       789.0\n",
       "2       818.0\n",
       "3       782.0\n",
       "4       719.0\n",
       "        ...  \n",
       "2801    857.0\n",
       "2802    821.0\n",
       "2803    854.0\n",
       "2804    826.0\n",
       "2805    847.0\n",
       "Length: 2806, dtype: float64"
      ]
     },
     "execution_count": 42,
     "metadata": {},
     "output_type": "execute_result"
    }
   ],
   "source": [
    "df_summarized_orders.NUM_ORDERS * (1 - df_summarized_orders.PERC_DELIVERY)"
   ]
  },
  {
   "cell_type": "code",
   "execution_count": 43,
   "id": "14d58af9",
   "metadata": {},
   "outputs": [
    {
     "data": {
      "text/plain": [
       "0          O1820060: IN_STORE\n",
       "1          O1011112: IN_STORE\n",
       "2           O752854: DELIVERY\n",
       "3            O2076864: PICKUP\n",
       "4          O1988898: IN_STORE\n",
       "                  ...        \n",
       "2387219     O420721: IN_STORE\n",
       "2387220      O1738792: PICKUP\n",
       "2387221     O858342: DELIVERY\n",
       "2387222    O2093417: IN_STORE\n",
       "2387223     O718185: IN_STORE\n",
       "Length: 2387224, dtype: object"
      ]
     },
     "execution_count": 43,
     "metadata": {},
     "output_type": "execute_result"
    }
   ],
   "source": [
    "df_orders.ORDER_ID + ': ' + df_orders.TYPE"
   ]
  },
  {
   "cell_type": "markdown",
   "id": "72f59c4c",
   "metadata": {},
   "source": [
    "### Missing Values"
   ]
  },
  {
   "cell_type": "code",
   "execution_count": 44,
   "id": "5e96c915",
   "metadata": {},
   "outputs": [
    {
     "data": {
      "text/html": [
       "<div>\n",
       "<style scoped>\n",
       "    .dataframe tbody tr th:only-of-type {\n",
       "        vertical-align: middle;\n",
       "    }\n",
       "\n",
       "    .dataframe tbody tr th {\n",
       "        vertical-align: top;\n",
       "    }\n",
       "\n",
       "    .dataframe thead th {\n",
       "        text-align: right;\n",
       "    }\n",
       "</style>\n",
       "<table border=\"1\" class=\"dataframe\">\n",
       "  <thead>\n",
       "    <tr style=\"text-align: right;\">\n",
       "      <th></th>\n",
       "      <th>FIRST_NAME</th>\n",
       "      <th>LAST_NAME</th>\n",
       "      <th>YEAR</th>\n",
       "      <th>HOME_STATE</th>\n",
       "      <th>AGE</th>\n",
       "      <th>CALC_101_FINAL</th>\n",
       "      <th>ENGLISH_101_FINAL</th>\n",
       "    </tr>\n",
       "  </thead>\n",
       "  <tbody>\n",
       "    <tr>\n",
       "      <th>0</th>\n",
       "      <td>Daniel</td>\n",
       "      <td>Smith</td>\n",
       "      <td>1</td>\n",
       "      <td>NY</td>\n",
       "      <td>18</td>\n",
       "      <td>90.0</td>\n",
       "      <td>80.0</td>\n",
       "    </tr>\n",
       "    <tr>\n",
       "      <th>1</th>\n",
       "      <td>Ben</td>\n",
       "      <td>Leibstrom</td>\n",
       "      <td>1</td>\n",
       "      <td>NY</td>\n",
       "      <td>19</td>\n",
       "      <td>80.0</td>\n",
       "      <td>NaN</td>\n",
       "    </tr>\n",
       "    <tr>\n",
       "      <th>2</th>\n",
       "      <td>Kavita</td>\n",
       "      <td>Kanabar</td>\n",
       "      <td>1</td>\n",
       "      <td>PA</td>\n",
       "      <td>19</td>\n",
       "      <td>NaN</td>\n",
       "      <td>NaN</td>\n",
       "    </tr>\n",
       "    <tr>\n",
       "      <th>3</th>\n",
       "      <td>Linda</td>\n",
       "      <td>Thiel</td>\n",
       "      <td>4</td>\n",
       "      <td>CA</td>\n",
       "      <td>22</td>\n",
       "      <td>60.0</td>\n",
       "      <td>40.0</td>\n",
       "    </tr>\n",
       "    <tr>\n",
       "      <th>4</th>\n",
       "      <td>Omar</td>\n",
       "      <td>Reichel</td>\n",
       "      <td>2</td>\n",
       "      <td>OK</td>\n",
       "      <td>21</td>\n",
       "      <td>70.0</td>\n",
       "      <td>50.0</td>\n",
       "    </tr>\n",
       "  </tbody>\n",
       "</table>\n",
       "</div>"
      ],
      "text/plain": [
       "  FIRST_NAME  LAST_NAME  YEAR HOME_STATE  AGE  CALC_101_FINAL  \\\n",
       "0     Daniel      Smith     1         NY   18            90.0   \n",
       "1        Ben  Leibstrom     1         NY   19            80.0   \n",
       "2     Kavita    Kanabar     1         PA   19             NaN   \n",
       "3      Linda      Thiel     4         CA   22            60.0   \n",
       "4       Omar    Reichel     2         OK   21            70.0   \n",
       "\n",
       "   ENGLISH_101_FINAL  \n",
       "0               80.0  \n",
       "1                NaN  \n",
       "2                NaN  \n",
       "3               40.0  \n",
       "4               50.0  "
      ]
     },
     "execution_count": 44,
     "metadata": {},
     "output_type": "execute_result"
    }
   ],
   "source": [
    "df_students.head()"
   ]
  },
  {
   "cell_type": "code",
   "execution_count": 45,
   "id": "44576c57",
   "metadata": {},
   "outputs": [
    {
     "data": {
      "text/plain": [
       "0    170.0\n",
       "1      NaN\n",
       "2      NaN\n",
       "3    100.0\n",
       "4    120.0\n",
       "5      NaN\n",
       "6      NaN\n",
       "7      NaN\n",
       "8    163.0\n",
       "dtype: float64"
      ]
     },
     "execution_count": 45,
     "metadata": {},
     "output_type": "execute_result"
    }
   ],
   "source": [
    "df_students.CALC_101_FINAL + df_students.ENGLISH_101_FINAL"
   ]
  },
  {
   "cell_type": "code",
   "execution_count": 46,
   "id": "48442542",
   "metadata": {},
   "outputs": [
    {
     "data": {
      "text/plain": [
       "0    90.0\n",
       "1    80.0\n",
       "2     0.0\n",
       "3    60.0\n",
       "4    70.0\n",
       "5     0.0\n",
       "6     0.0\n",
       "7     0.0\n",
       "8    98.0\n",
       "Name: CALC_101_FINAL, dtype: float64"
      ]
     },
     "execution_count": 46,
     "metadata": {},
     "output_type": "execute_result"
    }
   ],
   "source": [
    "df_students.CALC_101_FINAL.fillna(0)"
   ]
  },
  {
   "cell_type": "code",
   "execution_count": 47,
   "id": "29ec147f",
   "metadata": {},
   "outputs": [
    {
     "data": {
      "text/plain": [
       "0    170.0\n",
       "1     80.0\n",
       "2      0.0\n",
       "3    100.0\n",
       "4    120.0\n",
       "5      0.0\n",
       "6      0.0\n",
       "7     60.0\n",
       "8    163.0\n",
       "dtype: float64"
      ]
     },
     "execution_count": 47,
     "metadata": {},
     "output_type": "execute_result"
    }
   ],
   "source": [
    "df_students.CALC_101_FINAL.fillna(0) + df_students.ENGLISH_101_FINAL.fillna(0)"
   ]
  },
  {
   "cell_type": "code",
   "execution_count": 48,
   "id": "f0f45564",
   "metadata": {},
   "outputs": [
    {
     "data": {
      "text/plain": [
       "0    False\n",
       "1    False\n",
       "2     True\n",
       "3    False\n",
       "4    False\n",
       "5     True\n",
       "6     True\n",
       "7     True\n",
       "8    False\n",
       "Name: CALC_101_FINAL, dtype: bool"
      ]
     },
     "execution_count": 48,
     "metadata": {},
     "output_type": "execute_result"
    }
   ],
   "source": [
    "df_students.CALC_101_FINAL.isna()"
   ]
  },
  {
   "cell_type": "code",
   "execution_count": 49,
   "id": "052ac815",
   "metadata": {},
   "outputs": [
    {
     "data": {
      "text/plain": [
       "0     True\n",
       "1     True\n",
       "2    False\n",
       "3     True\n",
       "4     True\n",
       "5    False\n",
       "6    False\n",
       "7    False\n",
       "8     True\n",
       "Name: CALC_101_FINAL, dtype: bool"
      ]
     },
     "execution_count": 49,
     "metadata": {},
     "output_type": "execute_result"
    }
   ],
   "source": [
    "df_students.CALC_101_FINAL.notna()"
   ]
  },
  {
   "cell_type": "code",
   "execution_count": 50,
   "id": "778898fd",
   "metadata": {},
   "outputs": [
    {
     "data": {
      "text/plain": [
       "4"
      ]
     },
     "execution_count": 50,
     "metadata": {},
     "output_type": "execute_result"
    }
   ],
   "source": [
    "df_students.CALC_101_FINAL.isna().sum()"
   ]
  },
  {
   "cell_type": "code",
   "execution_count": 51,
   "id": "8372c20c",
   "metadata": {},
   "outputs": [
    {
     "data": {
      "text/html": [
       "<div>\n",
       "<style scoped>\n",
       "    .dataframe tbody tr th:only-of-type {\n",
       "        vertical-align: middle;\n",
       "    }\n",
       "\n",
       "    .dataframe tbody tr th {\n",
       "        vertical-align: top;\n",
       "    }\n",
       "\n",
       "    .dataframe thead th {\n",
       "        text-align: right;\n",
       "    }\n",
       "</style>\n",
       "<table border=\"1\" class=\"dataframe\">\n",
       "  <thead>\n",
       "    <tr style=\"text-align: right;\">\n",
       "      <th></th>\n",
       "      <th>ORDER_ID</th>\n",
       "      <th>DATETIME</th>\n",
       "      <th>RESTAURANT_ID</th>\n",
       "      <th>TYPE</th>\n",
       "      <th>DRINKS</th>\n",
       "      <th>COOKIES</th>\n",
       "      <th>MAIN</th>\n",
       "      <th>BASE</th>\n",
       "      <th>SIDE_1</th>\n",
       "      <th>SIDE_2</th>\n",
       "    </tr>\n",
       "  </thead>\n",
       "  <tbody>\n",
       "    <tr>\n",
       "      <th>0</th>\n",
       "      <td>O1820060</td>\n",
       "      <td>2018-10-11 17:25:50</td>\n",
       "      <td>R10002</td>\n",
       "      <td>IN_STORE</td>\n",
       "      <td>1.0</td>\n",
       "      <td>2.0</td>\n",
       "      <td>NaN</td>\n",
       "      <td>NaN</td>\n",
       "      <td>NaN</td>\n",
       "      <td>NaN</td>\n",
       "    </tr>\n",
       "    <tr>\n",
       "      <th>1</th>\n",
       "      <td>O1011112</td>\n",
       "      <td>2018-05-31 11:35:00</td>\n",
       "      <td>R10003</td>\n",
       "      <td>IN_STORE</td>\n",
       "      <td>0.0</td>\n",
       "      <td>0.0</td>\n",
       "      <td>NaN</td>\n",
       "      <td>NaN</td>\n",
       "      <td>NaN</td>\n",
       "      <td>NaN</td>\n",
       "    </tr>\n",
       "    <tr>\n",
       "      <th>2</th>\n",
       "      <td>O752854</td>\n",
       "      <td>2018-04-21 18:12:57</td>\n",
       "      <td>R10001</td>\n",
       "      <td>DELIVERY</td>\n",
       "      <td>0.0</td>\n",
       "      <td>2.0</td>\n",
       "      <td>I0</td>\n",
       "      <td>I7</td>\n",
       "      <td>I15</td>\n",
       "      <td>I14</td>\n",
       "    </tr>\n",
       "    <tr>\n",
       "      <th>3</th>\n",
       "      <td>O2076864</td>\n",
       "      <td>2018-11-17 12:50:52</td>\n",
       "      <td>R10005</td>\n",
       "      <td>PICKUP</td>\n",
       "      <td>1.0</td>\n",
       "      <td>0.0</td>\n",
       "      <td>I0</td>\n",
       "      <td>I5</td>\n",
       "      <td>I9</td>\n",
       "      <td>I12</td>\n",
       "    </tr>\n",
       "    <tr>\n",
       "      <th>4</th>\n",
       "      <td>O1988898</td>\n",
       "      <td>2018-11-04 18:37:24</td>\n",
       "      <td>R10008</td>\n",
       "      <td>IN_STORE</td>\n",
       "      <td>0.0</td>\n",
       "      <td>0.0</td>\n",
       "      <td>I1</td>\n",
       "      <td>I7</td>\n",
       "      <td>I9</td>\n",
       "      <td>I9</td>\n",
       "    </tr>\n",
       "    <tr>\n",
       "      <th>...</th>\n",
       "      <td>...</td>\n",
       "      <td>...</td>\n",
       "      <td>...</td>\n",
       "      <td>...</td>\n",
       "      <td>...</td>\n",
       "      <td>...</td>\n",
       "      <td>...</td>\n",
       "      <td>...</td>\n",
       "      <td>...</td>\n",
       "      <td>...</td>\n",
       "    </tr>\n",
       "    <tr>\n",
       "      <th>2387219</th>\n",
       "      <td>O420721</td>\n",
       "      <td>2018-03-04 17:59:51</td>\n",
       "      <td>R10004</td>\n",
       "      <td>IN_STORE</td>\n",
       "      <td>0.0</td>\n",
       "      <td>2.0</td>\n",
       "      <td>I3</td>\n",
       "      <td>I5</td>\n",
       "      <td>I15</td>\n",
       "      <td>I12</td>\n",
       "    </tr>\n",
       "    <tr>\n",
       "      <th>2387220</th>\n",
       "      <td>O1738792</td>\n",
       "      <td>2018-09-29 13:05:36</td>\n",
       "      <td>R10007</td>\n",
       "      <td>PICKUP</td>\n",
       "      <td>0.0</td>\n",
       "      <td>0.0</td>\n",
       "      <td>I1</td>\n",
       "      <td>I5</td>\n",
       "      <td>I15</td>\n",
       "      <td>I15</td>\n",
       "    </tr>\n",
       "    <tr>\n",
       "      <th>2387221</th>\n",
       "      <td>O858342</td>\n",
       "      <td>2018-05-07 18:23:24</td>\n",
       "      <td>R10006</td>\n",
       "      <td>DELIVERY</td>\n",
       "      <td>0.0</td>\n",
       "      <td>0.0</td>\n",
       "      <td>I2</td>\n",
       "      <td>I6</td>\n",
       "      <td>I9</td>\n",
       "      <td>I8</td>\n",
       "    </tr>\n",
       "    <tr>\n",
       "      <th>2387222</th>\n",
       "      <td>O2093417</td>\n",
       "      <td>2018-11-19 19:39:56</td>\n",
       "      <td>R10006</td>\n",
       "      <td>IN_STORE</td>\n",
       "      <td>0.0</td>\n",
       "      <td>1.0</td>\n",
       "      <td>I1</td>\n",
       "      <td>I7</td>\n",
       "      <td>I10</td>\n",
       "      <td>I10</td>\n",
       "    </tr>\n",
       "    <tr>\n",
       "      <th>2387223</th>\n",
       "      <td>O718185</td>\n",
       "      <td>2018-04-16 19:25:01</td>\n",
       "      <td>R10001</td>\n",
       "      <td>IN_STORE</td>\n",
       "      <td>0.0</td>\n",
       "      <td>0.0</td>\n",
       "      <td>I3</td>\n",
       "      <td>I7</td>\n",
       "      <td>I15</td>\n",
       "      <td>I10</td>\n",
       "    </tr>\n",
       "  </tbody>\n",
       "</table>\n",
       "<p>2387224 rows × 10 columns</p>\n",
       "</div>"
      ],
      "text/plain": [
       "         ORDER_ID             DATETIME RESTAURANT_ID      TYPE  DRINKS  \\\n",
       "0        O1820060  2018-10-11 17:25:50        R10002  IN_STORE     1.0   \n",
       "1        O1011112  2018-05-31 11:35:00        R10003  IN_STORE     0.0   \n",
       "2         O752854  2018-04-21 18:12:57        R10001  DELIVERY     0.0   \n",
       "3        O2076864  2018-11-17 12:50:52        R10005    PICKUP     1.0   \n",
       "4        O1988898  2018-11-04 18:37:24        R10008  IN_STORE     0.0   \n",
       "...           ...                  ...           ...       ...     ...   \n",
       "2387219   O420721  2018-03-04 17:59:51        R10004  IN_STORE     0.0   \n",
       "2387220  O1738792  2018-09-29 13:05:36        R10007    PICKUP     0.0   \n",
       "2387221   O858342  2018-05-07 18:23:24        R10006  DELIVERY     0.0   \n",
       "2387222  O2093417  2018-11-19 19:39:56        R10006  IN_STORE     0.0   \n",
       "2387223   O718185  2018-04-16 19:25:01        R10001  IN_STORE     0.0   \n",
       "\n",
       "         COOKIES MAIN BASE SIDE_1 SIDE_2  \n",
       "0            2.0  NaN  NaN    NaN    NaN  \n",
       "1            0.0  NaN  NaN    NaN    NaN  \n",
       "2            2.0   I0   I7    I15    I14  \n",
       "3            0.0   I0   I5     I9    I12  \n",
       "4            0.0   I1   I7     I9     I9  \n",
       "...          ...  ...  ...    ...    ...  \n",
       "2387219      2.0   I3   I5    I15    I12  \n",
       "2387220      0.0   I1   I5    I15    I15  \n",
       "2387221      0.0   I2   I6     I9     I8  \n",
       "2387222      1.0   I1   I7    I10    I10  \n",
       "2387223      0.0   I3   I7    I15    I10  \n",
       "\n",
       "[2387224 rows x 10 columns]"
      ]
     },
     "execution_count": 51,
     "metadata": {},
     "output_type": "execute_result"
    }
   ],
   "source": [
    "df_orders"
   ]
  },
  {
   "cell_type": "code",
   "execution_count": 52,
   "id": "8c169405",
   "metadata": {},
   "outputs": [
    {
     "data": {
      "text/plain": [
       "True     2275639\n",
       "False     111585\n",
       "Name: MAIN, dtype: int64"
      ]
     },
     "execution_count": 52,
     "metadata": {},
     "output_type": "execute_result"
    }
   ],
   "source": [
    "df_orders.MAIN.notna().value_counts()"
   ]
  },
  {
   "cell_type": "code",
   "execution_count": 53,
   "id": "3dcdb427",
   "metadata": {},
   "outputs": [
    {
     "data": {
      "text/plain": [
       "True     0.953257\n",
       "False    0.046743\n",
       "Name: MAIN, dtype: float64"
      ]
     },
     "execution_count": 53,
     "metadata": {},
     "output_type": "execute_result"
    }
   ],
   "source": [
    "df_orders.MAIN.notna().value_counts(normalize=True)"
   ]
  },
  {
   "cell_type": "markdown",
   "id": "36293a70",
   "metadata": {},
   "source": [
    "### Logic"
   ]
  },
  {
   "cell_type": "code",
   "execution_count": 54,
   "id": "1be20d8f",
   "metadata": {},
   "outputs": [
    {
     "data": {
      "text/plain": [
       "0           True\n",
       "1          False\n",
       "2          False\n",
       "3           True\n",
       "4          False\n",
       "           ...  \n",
       "2387219    False\n",
       "2387220    False\n",
       "2387221    False\n",
       "2387222    False\n",
       "2387223    False\n",
       "Name: DRINKS, Length: 2387224, dtype: bool"
      ]
     },
     "execution_count": 54,
     "metadata": {},
     "output_type": "execute_result"
    }
   ],
   "source": [
    "df_orders.DRINKS >= 1"
   ]
  },
  {
   "cell_type": "code",
   "execution_count": 55,
   "id": "5fc6efc4",
   "metadata": {},
   "outputs": [
    {
     "data": {
      "text/plain": [
       "0          False\n",
       "1          False\n",
       "2          False\n",
       "3          False\n",
       "4          False\n",
       "           ...  \n",
       "2387219    False\n",
       "2387220    False\n",
       "2387221    False\n",
       "2387222    False\n",
       "2387223    False\n",
       "Name: DRINKS, Length: 2387224, dtype: bool"
      ]
     },
     "execution_count": 55,
     "metadata": {},
     "output_type": "execute_result"
    }
   ],
   "source": [
    "df_orders.DRINKS == 2"
   ]
  },
  {
   "cell_type": "code",
   "execution_count": 56,
   "id": "384f285e",
   "metadata": {},
   "outputs": [
    {
     "data": {
      "text/plain": [
       "False    0.988726\n",
       "True     0.011274\n",
       "Name: DRINKS, dtype: float64"
      ]
     },
     "execution_count": 56,
     "metadata": {},
     "output_type": "execute_result"
    }
   ],
   "source": [
    "(df_orders.DRINKS == 2).value_counts(normalize=True)"
   ]
  },
  {
   "cell_type": "code",
   "execution_count": 57,
   "id": "beb4898b",
   "metadata": {},
   "outputs": [
    {
     "data": {
      "text/plain": [
       "False    0.995318\n",
       "True     0.004682\n",
       "dtype: float64"
      ]
     },
     "execution_count": 57,
     "metadata": {},
     "output_type": "execute_result"
    }
   ],
   "source": [
    "# AND\n",
    "((df_orders.DRINKS >= 1) & (df_orders.COOKIES == 2)).value_counts(normalize=True)"
   ]
  },
  {
   "cell_type": "code",
   "execution_count": 58,
   "id": "8bdcc25a",
   "metadata": {},
   "outputs": [
    {
     "data": {
      "text/plain": [
       "False    0.866356\n",
       "True     0.133644\n",
       "dtype: float64"
      ]
     },
     "execution_count": 58,
     "metadata": {},
     "output_type": "execute_result"
    }
   ],
   "source": [
    "# OR\n",
    "((df_orders.DRINKS >= 1) | (df_orders.COOKIES == 2)).value_counts(normalize=True)"
   ]
  },
  {
   "cell_type": "code",
   "execution_count": 59,
   "id": "1a0456c9",
   "metadata": {},
   "outputs": [
    {
     "data": {
      "text/plain": [
       "0           True\n",
       "1          False\n",
       "2           True\n",
       "3          False\n",
       "4          False\n",
       "           ...  \n",
       "2387219    False\n",
       "2387220    False\n",
       "2387221    False\n",
       "2387222    False\n",
       "2387223     True\n",
       "Name: RESTAURANT_ID, Length: 2387224, dtype: bool"
      ]
     },
     "execution_count": 59,
     "metadata": {},
     "output_type": "execute_result"
    }
   ],
   "source": [
    "df_orders.RESTAURANT_ID.isin(['R10001', 'R10002'])"
   ]
  },
  {
   "cell_type": "markdown",
   "id": "43adec1f",
   "metadata": {},
   "source": [
    "### Datetime Columns"
   ]
  },
  {
   "cell_type": "code",
   "execution_count": 60,
   "id": "1f8d9243",
   "metadata": {},
   "outputs": [
    {
     "name": "stdout",
     "output_type": "stream",
     "text": [
      "<class 'pandas.core.frame.DataFrame'>\n",
      "RangeIndex: 2387224 entries, 0 to 2387223\n",
      "Data columns (total 10 columns):\n",
      " #   Column         Dtype  \n",
      "---  ------         -----  \n",
      " 0   ORDER_ID       object \n",
      " 1   DATETIME       object \n",
      " 2   RESTAURANT_ID  object \n",
      " 3   TYPE           object \n",
      " 4   DRINKS         float64\n",
      " 5   COOKIES        float64\n",
      " 6   MAIN           object \n",
      " 7   BASE           object \n",
      " 8   SIDE_1         object \n",
      " 9   SIDE_2         object \n",
      "dtypes: float64(2), object(8)\n",
      "memory usage: 182.1+ MB\n"
     ]
    }
   ],
   "source": [
    "df_orders.info()"
   ]
  },
  {
   "cell_type": "code",
   "execution_count": 61,
   "id": "88f4dee3",
   "metadata": {},
   "outputs": [],
   "source": [
    "df_orders.DATETIME = pd.to_datetime(df_orders.DATETIME)"
   ]
  },
  {
   "cell_type": "code",
   "execution_count": 62,
   "id": "f1a7af75",
   "metadata": {},
   "outputs": [
    {
     "name": "stdout",
     "output_type": "stream",
     "text": [
      "<class 'pandas.core.frame.DataFrame'>\n",
      "RangeIndex: 2387224 entries, 0 to 2387223\n",
      "Data columns (total 10 columns):\n",
      " #   Column         Dtype         \n",
      "---  ------         -----         \n",
      " 0   ORDER_ID       object        \n",
      " 1   DATETIME       datetime64[ns]\n",
      " 2   RESTAURANT_ID  object        \n",
      " 3   TYPE           object        \n",
      " 4   DRINKS         float64       \n",
      " 5   COOKIES        float64       \n",
      " 6   MAIN           object        \n",
      " 7   BASE           object        \n",
      " 8   SIDE_1         object        \n",
      " 9   SIDE_2         object        \n",
      "dtypes: datetime64[ns](1), float64(2), object(7)\n",
      "memory usage: 182.1+ MB\n"
     ]
    }
   ],
   "source": [
    "df_orders.info()"
   ]
  },
  {
   "cell_type": "code",
   "execution_count": 63,
   "id": "ebc59317",
   "metadata": {},
   "outputs": [
    {
     "data": {
      "text/plain": [
       "0          25\n",
       "1          35\n",
       "2          12\n",
       "3          50\n",
       "4          37\n",
       "           ..\n",
       "2387219    59\n",
       "2387220     5\n",
       "2387221    23\n",
       "2387222    39\n",
       "2387223    25\n",
       "Name: DATETIME, Length: 2387224, dtype: int64"
      ]
     },
     "execution_count": 63,
     "metadata": {},
     "output_type": "execute_result"
    }
   ],
   "source": [
    "df_orders.DATETIME.dt.minute"
   ]
  },
  {
   "cell_type": "code",
   "execution_count": 64,
   "id": "151568ba",
   "metadata": {},
   "outputs": [
    {
     "data": {
      "text/plain": [
       "0          3\n",
       "1          3\n",
       "2          5\n",
       "3          5\n",
       "4          6\n",
       "          ..\n",
       "2387219    6\n",
       "2387220    5\n",
       "2387221    0\n",
       "2387222    0\n",
       "2387223    0\n",
       "Name: DATETIME, Length: 2387224, dtype: int64"
      ]
     },
     "execution_count": 64,
     "metadata": {},
     "output_type": "execute_result"
    }
   ],
   "source": [
    "df_orders.DATETIME.dt.weekday"
   ]
  },
  {
   "cell_type": "code",
   "execution_count": 65,
   "id": "b2550aa4",
   "metadata": {},
   "outputs": [
    {
     "data": {
      "text/plain": [
       "0          Thursday\n",
       "1          Thursday\n",
       "2          Saturday\n",
       "3          Saturday\n",
       "4            Sunday\n",
       "             ...   \n",
       "2387219      Sunday\n",
       "2387220    Saturday\n",
       "2387221      Monday\n",
       "2387222      Monday\n",
       "2387223      Monday\n",
       "Name: DATETIME, Length: 2387224, dtype: object"
      ]
     },
     "execution_count": 65,
     "metadata": {},
     "output_type": "execute_result"
    }
   ],
   "source": [
    "df_orders.DATETIME.dt.day_name()"
   ]
  },
  {
   "cell_type": "code",
   "execution_count": 66,
   "id": "18071179",
   "metadata": {},
   "outputs": [
    {
     "data": {
      "text/plain": [
       "0          284\n",
       "1          151\n",
       "2          111\n",
       "3          321\n",
       "4          308\n",
       "          ... \n",
       "2387219     63\n",
       "2387220    272\n",
       "2387221    127\n",
       "2387222    323\n",
       "2387223    106\n",
       "Name: DATETIME, Length: 2387224, dtype: int64"
      ]
     },
     "execution_count": 66,
     "metadata": {},
     "output_type": "execute_result"
    }
   ],
   "source": [
    "df_orders.DATETIME.dt.dayofyear"
   ]
  },
  {
   "cell_type": "code",
   "execution_count": 67,
   "id": "1ffa3c24",
   "metadata": {},
   "outputs": [
    {
     "name": "stderr",
     "output_type": "stream",
     "text": [
      "/var/folders/l5/ybjmkxcd7s7f2p8q_qyf_bh00000gn/T/ipykernel_52082/1614594795.py:1: FutureWarning: Series.dt.weekofyear and Series.dt.week have been deprecated.  Please use Series.dt.isocalendar().week instead.\n",
      "  df_orders.DATETIME.dt.weekofyear\n"
     ]
    },
    {
     "data": {
      "text/plain": [
       "0          41\n",
       "1          22\n",
       "2          16\n",
       "3          46\n",
       "4          44\n",
       "           ..\n",
       "2387219     9\n",
       "2387220    39\n",
       "2387221    19\n",
       "2387222    47\n",
       "2387223    16\n",
       "Name: DATETIME, Length: 2387224, dtype: int64"
      ]
     },
     "execution_count": 67,
     "metadata": {},
     "output_type": "execute_result"
    }
   ],
   "source": [
    "df_orders.DATETIME.dt.weekofyear"
   ]
  },
  {
   "cell_type": "code",
   "execution_count": 68,
   "id": "8d1d22c2",
   "metadata": {},
   "outputs": [
    {
     "data": {
      "text/plain": [
       "0          41\n",
       "1          22\n",
       "2          16\n",
       "3          46\n",
       "4          44\n",
       "           ..\n",
       "2387219     9\n",
       "2387220    39\n",
       "2387221    19\n",
       "2387222    47\n",
       "2387223    16\n",
       "Name: week, Length: 2387224, dtype: UInt32"
      ]
     },
     "execution_count": 68,
     "metadata": {},
     "output_type": "execute_result"
    }
   ],
   "source": [
    "df_orders.DATETIME.dt.isocalendar().week"
   ]
  },
  {
   "cell_type": "code",
   "execution_count": 69,
   "id": "e5dc1ec6",
   "metadata": {},
   "outputs": [
    {
     "data": {
      "text/plain": [
       "0          4\n",
       "1          2\n",
       "2          2\n",
       "3          4\n",
       "4          4\n",
       "          ..\n",
       "2387219    1\n",
       "2387220    3\n",
       "2387221    2\n",
       "2387222    4\n",
       "2387223    2\n",
       "Name: DATETIME, Length: 2387224, dtype: int64"
      ]
     },
     "execution_count": 69,
     "metadata": {},
     "output_type": "execute_result"
    }
   ],
   "source": [
    "df_orders.DATETIME.dt.quarter"
   ]
  },
  {
   "cell_type": "code",
   "execution_count": 70,
   "id": "3495cc79",
   "metadata": {},
   "outputs": [
    {
     "data": {
      "text/plain": [
       "0         2018-10-11\n",
       "1         2018-05-31\n",
       "2         2018-04-21\n",
       "3         2018-11-17\n",
       "4         2018-11-04\n",
       "             ...    \n",
       "2387219   2018-03-04\n",
       "2387220   2018-09-29\n",
       "2387221   2018-05-07\n",
       "2387222   2018-11-19\n",
       "2387223   2018-04-16\n",
       "Name: DATETIME, Length: 2387224, dtype: datetime64[ns]"
      ]
     },
     "execution_count": 70,
     "metadata": {},
     "output_type": "execute_result"
    }
   ],
   "source": [
    "df_orders.DATETIME.dt.normalize()"
   ]
  },
  {
   "cell_type": "code",
   "execution_count": 71,
   "id": "4f172325",
   "metadata": {},
   "outputs": [
    {
     "data": {
      "text/plain": [
       "<AxesSubplot:>"
      ]
     },
     "execution_count": 71,
     "metadata": {},
     "output_type": "execute_result"
    },
    {
     "data": {
      "image/png": "[encoded data removed]",
      "text/plain": [
       "<Figure size 432x288 with 1 Axes>"
      ]
     },
     "metadata": {
      "needs_background": "light"
     },
     "output_type": "display_data"
    }
   ],
   "source": [
    "df_orders.DATETIME.dt.weekday.value_counts().sort_index().plot(kind='bar')"
   ]
  },
  {
   "cell_type": "code",
   "execution_count": 72,
   "id": "15423273",
   "metadata": {},
   "outputs": [
    {
     "name": "stderr",
     "output_type": "stream",
     "text": [
      "/var/folders/l5/ybjmkxcd7s7f2p8q_qyf_bh00000gn/T/ipykernel_52082/1564637348.py:1: FutureWarning: Series.dt.weekofyear and Series.dt.week have been deprecated.  Please use Series.dt.isocalendar().week instead.\n",
      "  df_orders.DATETIME.dt.weekofyear.value_counts().sort_index().plot(kind='bar')\n"
     ]
    },
    {
     "data": {
      "text/plain": [
       "<AxesSubplot:>"
      ]
     },
     "execution_count": 72,
     "metadata": {},
     "output_type": "execute_result"
    },
    {
     "data": {
      "image/png": "[encoded data removed]",
      "text/plain": [
       "<Figure size 432x288 with 1 Axes>"
      ]
     },
     "metadata": {
      "needs_background": "light"
     },
     "output_type": "display_data"
    }
   ],
   "source": [
    "df_orders.DATETIME.dt.weekofyear.value_counts().sort_index().plot(kind='bar')"
   ]
  },
  {
   "cell_type": "code",
   "execution_count": 73,
   "id": "0fb4bfbd",
   "metadata": {},
   "outputs": [
    {
     "name": "stderr",
     "output_type": "stream",
     "text": [
      "/var/folders/l5/ybjmkxcd7s7f2p8q_qyf_bh00000gn/T/ipykernel_52082/3109186208.py:1: FutureWarning: Series.dt.weekofyear and Series.dt.week have been deprecated.  Please use Series.dt.isocalendar().week instead.\n",
      "  df_orders.DATETIME.dt.weekofyear.value_counts().sort_index().plot(kind='line')\n"
     ]
    },
    {
     "data": {
      "text/plain": [
       "<AxesSubplot:>"
      ]
     },
     "execution_count": 73,
     "metadata": {},
     "output_type": "execute_result"
    },
    {
     "data": {
      "image/png": "[encoded data removed]",
      "text/plain": [
       "<Figure size 432x288 with 1 Axes>"
      ]
     },
     "metadata": {
      "needs_background": "light"
     },
     "output_type": "display_data"
    }
   ],
   "source": [
    "df_orders.DATETIME.dt.weekofyear.value_counts().sort_index().plot(kind='line')"
   ]
  },
  {
   "cell_type": "code",
   "execution_count": 74,
   "id": "75685e8d",
   "metadata": {},
   "outputs": [
    {
     "data": {
      "text/plain": [
       "0           True\n",
       "1          False\n",
       "2          False\n",
       "3           True\n",
       "4           True\n",
       "           ...  \n",
       "2387219    False\n",
       "2387220     True\n",
       "2387221    False\n",
       "2387222     True\n",
       "2387223    False\n",
       "Name: DATETIME, Length: 2387224, dtype: bool"
      ]
     },
     "execution_count": 74,
     "metadata": {},
     "output_type": "execute_result"
    }
   ],
   "source": [
    "df_orders.DATETIME >= '2018-06-01'"
   ]
  },
  {
   "cell_type": "code",
   "execution_count": 75,
   "id": "ba6fa5f9",
   "metadata": {},
   "outputs": [
    {
     "data": {
      "text/plain": [
       "0          False\n",
       "1          False\n",
       "2          False\n",
       "3          False\n",
       "4          False\n",
       "           ...  \n",
       "2387219    False\n",
       "2387220    False\n",
       "2387221    False\n",
       "2387222    False\n",
       "2387223    False\n",
       "Name: DATETIME, Length: 2387224, dtype: bool"
      ]
     },
     "execution_count": 75,
     "metadata": {},
     "output_type": "execute_result"
    }
   ],
   "source": [
    "df_orders.DATETIME == '2018-06-01'"
   ]
  },
  {
   "cell_type": "code",
   "execution_count": 76,
   "id": "e08823fb",
   "metadata": {},
   "outputs": [
    {
     "data": {
      "text/plain": [
       "0          False\n",
       "1          False\n",
       "2          False\n",
       "3          False\n",
       "4          False\n",
       "           ...  \n",
       "2387219    False\n",
       "2387220    False\n",
       "2387221    False\n",
       "2387222    False\n",
       "2387223    False\n",
       "Name: DATETIME, Length: 2387224, dtype: bool"
      ]
     },
     "execution_count": 76,
     "metadata": {},
     "output_type": "execute_result"
    }
   ],
   "source": [
    "df_orders.DATETIME.dt.normalize() == '2018-06-01'"
   ]
  },
  {
   "cell_type": "code",
   "execution_count": 77,
   "id": "218dfc7b",
   "metadata": {},
   "outputs": [
    {
     "data": {
      "text/plain": [
       "6748"
      ]
     },
     "execution_count": 77,
     "metadata": {},
     "output_type": "execute_result"
    }
   ],
   "source": [
    "(df_orders.DATETIME.dt.normalize() == '2018-06-01').sum()"
   ]
  },
  {
   "cell_type": "markdown",
   "id": "eb1098b5",
   "metadata": {},
   "source": [
    "### String Columns"
   ]
  },
  {
   "cell_type": "code",
   "execution_count": 78,
   "id": "9ea43ba5",
   "metadata": {},
   "outputs": [
    {
     "data": {
      "text/plain": [
       "0               FARRO WITH SUMMER VEGETABLES\n",
       "1                            SPINDRIFT LEMON\n",
       "2                         CLASSIC BROWN RICE\n",
       "3                                   KOMBUCHA\n",
       "4       CAULIFLOWER WITH GARLIC AND PARMESAN\n",
       "5                           ORGANIC ICED TEA\n",
       "6                         CASHEW KALE CAESAR\n",
       "7                        KITCHEN SINK COOKIE\n",
       "8                CHARRED BROCCOLI WITH LEMON\n",
       "9      CAWSTON PRESS RHUBARB SPARKLING DRINK\n",
       "10                             GARLIC AIOLI \n",
       "11    ROASTED WILD ALASKAN SALMON MARKETBOWL\n",
       "12           HERB ROASTED CHICKEN MARKETBOWL\n",
       "13                FRESH GINGER MINT LEMONADE\n",
       "14                        HOUSEMADE SRIRACHA\n",
       "15           GREEN GODDESS BEANS WITH SESAME\n",
       "16                                   AVOCADO\n",
       "17                  JASPER HILL MAC & CHEESE\n",
       "18                                 SNAP PEAS\n",
       "19                 HIBISCUS ROOIBOS ICED TEA\n",
       "20                CHARRED CHICKEN MARKETBOWL\n",
       "21                SPICY MEATBALLS MARKETBOWL\n",
       "22                     BOXED WATER IS BETTER\n",
       "23                    ROASTED SWEET POTATOES\n",
       "24                          TARRAGON MUSTARD\n",
       "25                                     PESTO\n",
       "26                     FARM GREENS WITH MINT\n",
       "27                      SPINDRIFT GRAPEFRUIT\n",
       "28           GRILLED ORGANIC TOFU MARKETBOWL\n",
       "29                       BLISTERED SHISHITOS\n",
       "30            HIMALAYAN PINK ORGANIC POPCORN\n",
       "Name: ITEM_NAME, dtype: object"
      ]
     },
     "execution_count": 78,
     "metadata": {},
     "output_type": "execute_result"
    }
   ],
   "source": [
    "df_items.ITEM_NAME.str.upper()"
   ]
  },
  {
   "cell_type": "code",
   "execution_count": 79,
   "id": "c630c4c1",
   "metadata": {},
   "outputs": [
    {
     "data": {
      "text/plain": [
       "3"
      ]
     },
     "execution_count": 79,
     "metadata": {},
     "output_type": "execute_result"
    }
   ],
   "source": [
    "df_items.ITEM_NAME.str.lower().str.contains('lemon').sum()"
   ]
  },
  {
   "cell_type": "code",
   "execution_count": 80,
   "id": "6aae6f56",
   "metadata": {},
   "outputs": [
    {
     "data": {
      "text/plain": [
       "0     arr\n",
       "1     pin\n",
       "2     las\n",
       "3     omb\n",
       "4     aul\n",
       "5     rga\n",
       "6     ash\n",
       "7     itc\n",
       "8     har\n",
       "9     aws\n",
       "10    arl\n",
       "11    oas\n",
       "12    erb\n",
       "13    res\n",
       "14    ous\n",
       "15    ree\n",
       "16    voc\n",
       "17    asp\n",
       "18    nap\n",
       "19    ibi\n",
       "20    har\n",
       "21    pic\n",
       "22    oxe\n",
       "23    oas\n",
       "24    arr\n",
       "25    est\n",
       "26    arm\n",
       "27    pin\n",
       "28    ril\n",
       "29    lis\n",
       "30    ima\n",
       "Name: ITEM_NAME, dtype: object"
      ]
     },
     "execution_count": 80,
     "metadata": {},
     "output_type": "execute_result"
    }
   ],
   "source": [
    "df_items.ITEM_NAME.str[1:4]"
   ]
  },
  {
   "cell_type": "code",
   "execution_count": 81,
   "id": "bb58cd86",
   "metadata": {},
   "outputs": [
    {
     "data": {
      "text/plain": [
       "O    2387224\n",
       "Name: ORDER_ID, dtype: int64"
      ]
     },
     "execution_count": 81,
     "metadata": {},
     "output_type": "execute_result"
    }
   ],
   "source": [
    "df_orders.ORDER_ID.str[0].value_counts()"
   ]
  },
  {
   "cell_type": "code",
   "execution_count": 82,
   "id": "eaa9ef2c",
   "metadata": {},
   "outputs": [
    {
     "data": {
      "text/plain": [
       "0                [Farro, with, Summer, Vegetables]\n",
       "1                               [Spindrift, Lemon]\n",
       "2                           [Classic, Brown, Rice]\n",
       "3                                       [Kombucha]\n",
       "4       [Cauliflower, with, Garlic, and, Parmesan]\n",
       "5                             [Organic, Iced, Tea]\n",
       "6                           [Cashew, Kale, Caesar]\n",
       "7                          [Kitchen, Sink, Cookie]\n",
       "8                 [Charred, Broccoli, with, Lemon]\n",
       "9      [Cawston, Press, Rhubarb, Sparkling, Drink]\n",
       "10                               [Garlic, Aioli, ]\n",
       "11    [Roasted, Wild, Alaskan, Salmon, Marketbowl]\n",
       "12            [Herb, Roasted, Chicken, Marketbowl]\n",
       "13                 [Fresh, Ginger, Mint, Lemonade]\n",
       "14                           [Housemade, Sriracha]\n",
       "15           [Green, Goddess, Beans, with, Sesame]\n",
       "16                                       [Avocado]\n",
       "17                  [Jasper, Hill, Mac, &, Cheese]\n",
       "18                                    [Snap, Peas]\n",
       "19                  [Hibiscus, Rooibos, Iced, Tea]\n",
       "20                  [Charred, Chicken, Marketbowl]\n",
       "21                  [Spicy, Meatballs, Marketbowl]\n",
       "22                      [Boxed, Water, is, Better]\n",
       "23                      [Roasted, Sweet, Potatoes]\n",
       "24                             [Tarragon, Mustard]\n",
       "25                                         [Pesto]\n",
       "26                      [Farm, Greens, with, Mint]\n",
       "27                         [Spindrift, Grapefruit]\n",
       "28            [Grilled, Organic, Tofu, Marketbowl]\n",
       "29                          [Blistered, Shishitos]\n",
       "30             [Himalayan, Pink, Organic, Popcorn]\n",
       "Name: ITEM_NAME, dtype: object"
      ]
     },
     "execution_count": 82,
     "metadata": {},
     "output_type": "execute_result"
    }
   ],
   "source": [
    "df_items.ITEM_NAME.str.split(' ')"
   ]
  },
  {
   "cell_type": "code",
   "execution_count": 83,
   "id": "b1106903",
   "metadata": {},
   "outputs": [
    {
     "data": {
      "text/plain": [
       "0           with\n",
       "1          Lemon\n",
       "2          Brown\n",
       "3            NaN\n",
       "4           with\n",
       "5           Iced\n",
       "6           Kale\n",
       "7           Sink\n",
       "8       Broccoli\n",
       "9          Press\n",
       "10         Aioli\n",
       "11          Wild\n",
       "12       Roasted\n",
       "13        Ginger\n",
       "14      Sriracha\n",
       "15       Goddess\n",
       "16           NaN\n",
       "17          Hill\n",
       "18          Peas\n",
       "19       Rooibos\n",
       "20       Chicken\n",
       "21     Meatballs\n",
       "22         Water\n",
       "23         Sweet\n",
       "24       Mustard\n",
       "25           NaN\n",
       "26        Greens\n",
       "27    Grapefruit\n",
       "28       Organic\n",
       "29     Shishitos\n",
       "30          Pink\n",
       "Name: ITEM_NAME, dtype: object"
      ]
     },
     "execution_count": 83,
     "metadata": {},
     "output_type": "execute_result"
    }
   ],
   "source": [
    "df_items.ITEM_NAME.str.split(' ').str[1]"
   ]
  },
  {
   "cell_type": "markdown",
   "id": "cc7ba077",
   "metadata": {},
   "source": [
    "## Filtering DataFrames"
   ]
  },
  {
   "cell_type": "code",
   "execution_count": 84,
   "id": "9b61d34f",
   "metadata": {},
   "outputs": [
    {
     "data": {
      "text/html": [
       "<div>\n",
       "<style scoped>\n",
       "    .dataframe tbody tr th:only-of-type {\n",
       "        vertical-align: middle;\n",
       "    }\n",
       "\n",
       "    .dataframe tbody tr th {\n",
       "        vertical-align: top;\n",
       "    }\n",
       "\n",
       "    .dataframe thead th {\n",
       "        text-align: right;\n",
       "    }\n",
       "</style>\n",
       "<table border=\"1\" class=\"dataframe\">\n",
       "  <thead>\n",
       "    <tr style=\"text-align: right;\">\n",
       "      <th></th>\n",
       "      <th>ORDER_ID</th>\n",
       "      <th>DATETIME</th>\n",
       "      <th>RESTAURANT_ID</th>\n",
       "      <th>TYPE</th>\n",
       "      <th>DRINKS</th>\n",
       "      <th>COOKIES</th>\n",
       "      <th>MAIN</th>\n",
       "      <th>BASE</th>\n",
       "      <th>SIDE_1</th>\n",
       "      <th>SIDE_2</th>\n",
       "    </tr>\n",
       "  </thead>\n",
       "  <tbody>\n",
       "    <tr>\n",
       "      <th>0</th>\n",
       "      <td>O1820060</td>\n",
       "      <td>2018-10-11 17:25:50</td>\n",
       "      <td>R10002</td>\n",
       "      <td>IN_STORE</td>\n",
       "      <td>1.0</td>\n",
       "      <td>2.0</td>\n",
       "      <td>NaN</td>\n",
       "      <td>NaN</td>\n",
       "      <td>NaN</td>\n",
       "      <td>NaN</td>\n",
       "    </tr>\n",
       "    <tr>\n",
       "      <th>2</th>\n",
       "      <td>O752854</td>\n",
       "      <td>2018-04-21 18:12:57</td>\n",
       "      <td>R10001</td>\n",
       "      <td>DELIVERY</td>\n",
       "      <td>0.0</td>\n",
       "      <td>2.0</td>\n",
       "      <td>I0</td>\n",
       "      <td>I7</td>\n",
       "      <td>I15</td>\n",
       "      <td>I14</td>\n",
       "    </tr>\n",
       "    <tr>\n",
       "      <th>27</th>\n",
       "      <td>O1566571</td>\n",
       "      <td>2018-09-02 18:01:47</td>\n",
       "      <td>R10006</td>\n",
       "      <td>IN_STORE</td>\n",
       "      <td>1.0</td>\n",
       "      <td>1.0</td>\n",
       "      <td>I1</td>\n",
       "      <td>I7</td>\n",
       "      <td>I15</td>\n",
       "      <td>I8</td>\n",
       "    </tr>\n",
       "    <tr>\n",
       "      <th>33</th>\n",
       "      <td>O902238</td>\n",
       "      <td>2018-05-14 13:10:44</td>\n",
       "      <td>R10008</td>\n",
       "      <td>IN_STORE</td>\n",
       "      <td>0.0</td>\n",
       "      <td>1.0</td>\n",
       "      <td>I2</td>\n",
       "      <td>I6</td>\n",
       "      <td>I12</td>\n",
       "      <td>I14</td>\n",
       "    </tr>\n",
       "    <tr>\n",
       "      <th>44</th>\n",
       "      <td>O1085575</td>\n",
       "      <td>2018-06-11 21:11:04</td>\n",
       "      <td>R10004</td>\n",
       "      <td>IN_STORE</td>\n",
       "      <td>0.0</td>\n",
       "      <td>1.0</td>\n",
       "      <td>I2</td>\n",
       "      <td>I7</td>\n",
       "      <td>I8</td>\n",
       "      <td>I9</td>\n",
       "    </tr>\n",
       "    <tr>\n",
       "      <th>...</th>\n",
       "      <td>...</td>\n",
       "      <td>...</td>\n",
       "      <td>...</td>\n",
       "      <td>...</td>\n",
       "      <td>...</td>\n",
       "      <td>...</td>\n",
       "      <td>...</td>\n",
       "      <td>...</td>\n",
       "      <td>...</td>\n",
       "      <td>...</td>\n",
       "    </tr>\n",
       "    <tr>\n",
       "      <th>2387209</th>\n",
       "      <td>O1405260</td>\n",
       "      <td>2018-08-06 15:12:09</td>\n",
       "      <td>R10003</td>\n",
       "      <td>IN_STORE</td>\n",
       "      <td>0.0</td>\n",
       "      <td>1.0</td>\n",
       "      <td>I3</td>\n",
       "      <td>I7</td>\n",
       "      <td>I12</td>\n",
       "      <td>I8</td>\n",
       "    </tr>\n",
       "    <tr>\n",
       "      <th>2387212</th>\n",
       "      <td>O145640</td>\n",
       "      <td>2018-01-23 20:43:29</td>\n",
       "      <td>R10008</td>\n",
       "      <td>DELIVERY</td>\n",
       "      <td>0.0</td>\n",
       "      <td>1.0</td>\n",
       "      <td>I0</td>\n",
       "      <td>I6</td>\n",
       "      <td>I14</td>\n",
       "      <td>I12</td>\n",
       "    </tr>\n",
       "    <tr>\n",
       "      <th>2387217</th>\n",
       "      <td>O1799646</td>\n",
       "      <td>2018-10-08 19:11:14</td>\n",
       "      <td>R10001</td>\n",
       "      <td>IN_STORE</td>\n",
       "      <td>0.0</td>\n",
       "      <td>1.0</td>\n",
       "      <td>I2</td>\n",
       "      <td>I6</td>\n",
       "      <td>I10</td>\n",
       "      <td>I11</td>\n",
       "    </tr>\n",
       "    <tr>\n",
       "      <th>2387219</th>\n",
       "      <td>O420721</td>\n",
       "      <td>2018-03-04 17:59:51</td>\n",
       "      <td>R10004</td>\n",
       "      <td>IN_STORE</td>\n",
       "      <td>0.0</td>\n",
       "      <td>2.0</td>\n",
       "      <td>I3</td>\n",
       "      <td>I5</td>\n",
       "      <td>I15</td>\n",
       "      <td>I12</td>\n",
       "    </tr>\n",
       "    <tr>\n",
       "      <th>2387222</th>\n",
       "      <td>O2093417</td>\n",
       "      <td>2018-11-19 19:39:56</td>\n",
       "      <td>R10006</td>\n",
       "      <td>IN_STORE</td>\n",
       "      <td>0.0</td>\n",
       "      <td>1.0</td>\n",
       "      <td>I1</td>\n",
       "      <td>I7</td>\n",
       "      <td>I10</td>\n",
       "      <td>I10</td>\n",
       "    </tr>\n",
       "  </tbody>\n",
       "</table>\n",
       "<p>476507 rows × 10 columns</p>\n",
       "</div>"
      ],
      "text/plain": [
       "         ORDER_ID            DATETIME RESTAURANT_ID      TYPE  DRINKS  \\\n",
       "0        O1820060 2018-10-11 17:25:50        R10002  IN_STORE     1.0   \n",
       "2         O752854 2018-04-21 18:12:57        R10001  DELIVERY     0.0   \n",
       "27       O1566571 2018-09-02 18:01:47        R10006  IN_STORE     1.0   \n",
       "33        O902238 2018-05-14 13:10:44        R10008  IN_STORE     0.0   \n",
       "44       O1085575 2018-06-11 21:11:04        R10004  IN_STORE     0.0   \n",
       "...           ...                 ...           ...       ...     ...   \n",
       "2387209  O1405260 2018-08-06 15:12:09        R10003  IN_STORE     0.0   \n",
       "2387212   O145640 2018-01-23 20:43:29        R10008  DELIVERY     0.0   \n",
       "2387217  O1799646 2018-10-08 19:11:14        R10001  IN_STORE     0.0   \n",
       "2387219   O420721 2018-03-04 17:59:51        R10004  IN_STORE     0.0   \n",
       "2387222  O2093417 2018-11-19 19:39:56        R10006  IN_STORE     0.0   \n",
       "\n",
       "         COOKIES MAIN BASE SIDE_1 SIDE_2  \n",
       "0            2.0  NaN  NaN    NaN    NaN  \n",
       "2            2.0   I0   I7    I15    I14  \n",
       "27           1.0   I1   I7    I15     I8  \n",
       "33           1.0   I2   I6    I12    I14  \n",
       "44           1.0   I2   I7     I8     I9  \n",
       "...          ...  ...  ...    ...    ...  \n",
       "2387209      1.0   I3   I7    I12     I8  \n",
       "2387212      1.0   I0   I6    I14    I12  \n",
       "2387217      1.0   I2   I6    I10    I11  \n",
       "2387219      2.0   I3   I5    I15    I12  \n",
       "2387222      1.0   I1   I7    I10    I10  \n",
       "\n",
       "[476507 rows x 10 columns]"
      ]
     },
     "execution_count": 84,
     "metadata": {},
     "output_type": "execute_result"
    }
   ],
   "source": [
    "df_orders[df_orders.COOKIES >= 1]"
   ]
  },
  {
   "cell_type": "code",
   "execution_count": 85,
   "id": "af10ee84",
   "metadata": {},
   "outputs": [
    {
     "data": {
      "text/html": [
       "<div>\n",
       "<style scoped>\n",
       "    .dataframe tbody tr th:only-of-type {\n",
       "        vertical-align: middle;\n",
       "    }\n",
       "\n",
       "    .dataframe tbody tr th {\n",
       "        vertical-align: top;\n",
       "    }\n",
       "\n",
       "    .dataframe thead th {\n",
       "        text-align: right;\n",
       "    }\n",
       "</style>\n",
       "<table border=\"1\" class=\"dataframe\">\n",
       "  <thead>\n",
       "    <tr style=\"text-align: right;\">\n",
       "      <th></th>\n",
       "      <th>ORDER_ID</th>\n",
       "      <th>DATETIME</th>\n",
       "      <th>RESTAURANT_ID</th>\n",
       "      <th>TYPE</th>\n",
       "      <th>DRINKS</th>\n",
       "      <th>COOKIES</th>\n",
       "      <th>MAIN</th>\n",
       "      <th>BASE</th>\n",
       "      <th>SIDE_1</th>\n",
       "      <th>SIDE_2</th>\n",
       "    </tr>\n",
       "  </thead>\n",
       "  <tbody>\n",
       "    <tr>\n",
       "      <th>0</th>\n",
       "      <td>O1820060</td>\n",
       "      <td>2018-10-11 17:25:50</td>\n",
       "      <td>R10002</td>\n",
       "      <td>IN_STORE</td>\n",
       "      <td>1.0</td>\n",
       "      <td>2.0</td>\n",
       "      <td>NaN</td>\n",
       "      <td>NaN</td>\n",
       "      <td>NaN</td>\n",
       "      <td>NaN</td>\n",
       "    </tr>\n",
       "    <tr>\n",
       "      <th>3</th>\n",
       "      <td>O2076864</td>\n",
       "      <td>2018-11-17 12:50:52</td>\n",
       "      <td>R10005</td>\n",
       "      <td>PICKUP</td>\n",
       "      <td>1.0</td>\n",
       "      <td>0.0</td>\n",
       "      <td>I0</td>\n",
       "      <td>I5</td>\n",
       "      <td>I9</td>\n",
       "      <td>I12</td>\n",
       "    </tr>\n",
       "    <tr>\n",
       "      <th>4</th>\n",
       "      <td>O1988898</td>\n",
       "      <td>2018-11-04 18:37:24</td>\n",
       "      <td>R10008</td>\n",
       "      <td>IN_STORE</td>\n",
       "      <td>0.0</td>\n",
       "      <td>0.0</td>\n",
       "      <td>I1</td>\n",
       "      <td>I7</td>\n",
       "      <td>I9</td>\n",
       "      <td>I9</td>\n",
       "    </tr>\n",
       "    <tr>\n",
       "      <th>5</th>\n",
       "      <td>O1026484</td>\n",
       "      <td>2018-06-02 14:32:53</td>\n",
       "      <td>R10008</td>\n",
       "      <td>DELIVERY</td>\n",
       "      <td>1.0</td>\n",
       "      <td>0.0</td>\n",
       "      <td>NaN</td>\n",
       "      <td>NaN</td>\n",
       "      <td>NaN</td>\n",
       "      <td>NaN</td>\n",
       "    </tr>\n",
       "    <tr>\n",
       "      <th>6</th>\n",
       "      <td>O1878199</td>\n",
       "      <td>2018-10-19 19:55:09</td>\n",
       "      <td>R10008</td>\n",
       "      <td>PICKUP</td>\n",
       "      <td>0.0</td>\n",
       "      <td>0.0</td>\n",
       "      <td>I3</td>\n",
       "      <td>I6</td>\n",
       "      <td>I10</td>\n",
       "      <td>I12</td>\n",
       "    </tr>\n",
       "    <tr>\n",
       "      <th>...</th>\n",
       "      <td>...</td>\n",
       "      <td>...</td>\n",
       "      <td>...</td>\n",
       "      <td>...</td>\n",
       "      <td>...</td>\n",
       "      <td>...</td>\n",
       "      <td>...</td>\n",
       "      <td>...</td>\n",
       "      <td>...</td>\n",
       "      <td>...</td>\n",
       "    </tr>\n",
       "    <tr>\n",
       "      <th>2387214</th>\n",
       "      <td>O1776412</td>\n",
       "      <td>2018-10-04 20:34:31</td>\n",
       "      <td>R10004</td>\n",
       "      <td>IN_STORE</td>\n",
       "      <td>0.0</td>\n",
       "      <td>0.0</td>\n",
       "      <td>I0</td>\n",
       "      <td>I6</td>\n",
       "      <td>I14</td>\n",
       "      <td>I15</td>\n",
       "    </tr>\n",
       "    <tr>\n",
       "      <th>2387217</th>\n",
       "      <td>O1799646</td>\n",
       "      <td>2018-10-08 19:11:14</td>\n",
       "      <td>R10001</td>\n",
       "      <td>IN_STORE</td>\n",
       "      <td>0.0</td>\n",
       "      <td>1.0</td>\n",
       "      <td>I2</td>\n",
       "      <td>I6</td>\n",
       "      <td>I10</td>\n",
       "      <td>I11</td>\n",
       "    </tr>\n",
       "    <tr>\n",
       "      <th>2387218</th>\n",
       "      <td>O1100418</td>\n",
       "      <td>2018-06-14 11:59:20</td>\n",
       "      <td>R10005</td>\n",
       "      <td>IN_STORE</td>\n",
       "      <td>0.0</td>\n",
       "      <td>0.0</td>\n",
       "      <td>I3</td>\n",
       "      <td>I7</td>\n",
       "      <td>I8</td>\n",
       "      <td>I8</td>\n",
       "    </tr>\n",
       "    <tr>\n",
       "      <th>2387220</th>\n",
       "      <td>O1738792</td>\n",
       "      <td>2018-09-29 13:05:36</td>\n",
       "      <td>R10007</td>\n",
       "      <td>PICKUP</td>\n",
       "      <td>0.0</td>\n",
       "      <td>0.0</td>\n",
       "      <td>I1</td>\n",
       "      <td>I5</td>\n",
       "      <td>I15</td>\n",
       "      <td>I15</td>\n",
       "    </tr>\n",
       "    <tr>\n",
       "      <th>2387222</th>\n",
       "      <td>O2093417</td>\n",
       "      <td>2018-11-19 19:39:56</td>\n",
       "      <td>R10006</td>\n",
       "      <td>IN_STORE</td>\n",
       "      <td>0.0</td>\n",
       "      <td>1.0</td>\n",
       "      <td>I1</td>\n",
       "      <td>I7</td>\n",
       "      <td>I10</td>\n",
       "      <td>I10</td>\n",
       "    </tr>\n",
       "  </tbody>\n",
       "</table>\n",
       "<p>1369363 rows × 10 columns</p>\n",
       "</div>"
      ],
      "text/plain": [
       "         ORDER_ID            DATETIME RESTAURANT_ID      TYPE  DRINKS  \\\n",
       "0        O1820060 2018-10-11 17:25:50        R10002  IN_STORE     1.0   \n",
       "3        O2076864 2018-11-17 12:50:52        R10005    PICKUP     1.0   \n",
       "4        O1988898 2018-11-04 18:37:24        R10008  IN_STORE     0.0   \n",
       "5        O1026484 2018-06-02 14:32:53        R10008  DELIVERY     1.0   \n",
       "6        O1878199 2018-10-19 19:55:09        R10008    PICKUP     0.0   \n",
       "...           ...                 ...           ...       ...     ...   \n",
       "2387214  O1776412 2018-10-04 20:34:31        R10004  IN_STORE     0.0   \n",
       "2387217  O1799646 2018-10-08 19:11:14        R10001  IN_STORE     0.0   \n",
       "2387218  O1100418 2018-06-14 11:59:20        R10005  IN_STORE     0.0   \n",
       "2387220  O1738792 2018-09-29 13:05:36        R10007    PICKUP     0.0   \n",
       "2387222  O2093417 2018-11-19 19:39:56        R10006  IN_STORE     0.0   \n",
       "\n",
       "         COOKIES MAIN BASE SIDE_1 SIDE_2  \n",
       "0            2.0  NaN  NaN    NaN    NaN  \n",
       "3            0.0   I0   I5     I9    I12  \n",
       "4            0.0   I1   I7     I9     I9  \n",
       "5            0.0  NaN  NaN    NaN    NaN  \n",
       "6            0.0   I3   I6    I10    I12  \n",
       "...          ...  ...  ...    ...    ...  \n",
       "2387214      0.0   I0   I6    I14    I15  \n",
       "2387217      1.0   I2   I6    I10    I11  \n",
       "2387218      0.0   I3   I7     I8     I8  \n",
       "2387220      0.0   I1   I5    I15    I15  \n",
       "2387222      1.0   I1   I7    I10    I10  \n",
       "\n",
       "[1369363 rows x 10 columns]"
      ]
     },
     "execution_count": 85,
     "metadata": {},
     "output_type": "execute_result"
    }
   ],
   "source": [
    "df_orders[df_orders.DATETIME >= '2018-06-01']"
   ]
  },
  {
   "cell_type": "code",
   "execution_count": 86,
   "id": "5615e3cc",
   "metadata": {},
   "outputs": [
    {
     "data": {
      "text/html": [
       "<div>\n",
       "<style scoped>\n",
       "    .dataframe tbody tr th:only-of-type {\n",
       "        vertical-align: middle;\n",
       "    }\n",
       "\n",
       "    .dataframe tbody tr th {\n",
       "        vertical-align: top;\n",
       "    }\n",
       "\n",
       "    .dataframe thead th {\n",
       "        text-align: right;\n",
       "    }\n",
       "</style>\n",
       "<table border=\"1\" class=\"dataframe\">\n",
       "  <thead>\n",
       "    <tr style=\"text-align: right;\">\n",
       "      <th></th>\n",
       "      <th>ORDER_ID</th>\n",
       "      <th>DATETIME</th>\n",
       "      <th>RESTAURANT_ID</th>\n",
       "      <th>TYPE</th>\n",
       "      <th>DRINKS</th>\n",
       "      <th>COOKIES</th>\n",
       "      <th>MAIN</th>\n",
       "      <th>BASE</th>\n",
       "      <th>SIDE_1</th>\n",
       "      <th>SIDE_2</th>\n",
       "    </tr>\n",
       "  </thead>\n",
       "  <tbody>\n",
       "    <tr>\n",
       "      <th>892</th>\n",
       "      <td>O1021680</td>\n",
       "      <td>2018-06-01 16:30:59</td>\n",
       "      <td>R10003</td>\n",
       "      <td>IN_STORE</td>\n",
       "      <td>0.0</td>\n",
       "      <td>0.0</td>\n",
       "      <td>I3</td>\n",
       "      <td>I6</td>\n",
       "      <td>I10</td>\n",
       "      <td>I12</td>\n",
       "    </tr>\n",
       "    <tr>\n",
       "      <th>1332</th>\n",
       "      <td>O1020701</td>\n",
       "      <td>2018-06-01 14:36:44</td>\n",
       "      <td>R10005</td>\n",
       "      <td>IN_STORE</td>\n",
       "      <td>0.0</td>\n",
       "      <td>0.0</td>\n",
       "      <td>I0</td>\n",
       "      <td>I7</td>\n",
       "      <td>I10</td>\n",
       "      <td>I11</td>\n",
       "    </tr>\n",
       "    <tr>\n",
       "      <th>1437</th>\n",
       "      <td>O1021276</td>\n",
       "      <td>2018-06-01 15:41:23</td>\n",
       "      <td>R10007</td>\n",
       "      <td>IN_STORE</td>\n",
       "      <td>0.0</td>\n",
       "      <td>0.0</td>\n",
       "      <td>I1</td>\n",
       "      <td>I5</td>\n",
       "      <td>I13</td>\n",
       "      <td>I15</td>\n",
       "    </tr>\n",
       "    <tr>\n",
       "      <th>1854</th>\n",
       "      <td>O1022331</td>\n",
       "      <td>2018-06-01 17:46:40</td>\n",
       "      <td>R10001</td>\n",
       "      <td>PICKUP</td>\n",
       "      <td>1.0</td>\n",
       "      <td>0.0</td>\n",
       "      <td>I1</td>\n",
       "      <td>I6</td>\n",
       "      <td>I10</td>\n",
       "      <td>I12</td>\n",
       "    </tr>\n",
       "    <tr>\n",
       "      <th>2076</th>\n",
       "      <td>O1017965</td>\n",
       "      <td>2018-06-01 10:53:10</td>\n",
       "      <td>R10003</td>\n",
       "      <td>IN_STORE</td>\n",
       "      <td>0.0</td>\n",
       "      <td>0.0</td>\n",
       "      <td>I0</td>\n",
       "      <td>I7</td>\n",
       "      <td>I15</td>\n",
       "      <td>I9</td>\n",
       "    </tr>\n",
       "    <tr>\n",
       "      <th>...</th>\n",
       "      <td>...</td>\n",
       "      <td>...</td>\n",
       "      <td>...</td>\n",
       "      <td>...</td>\n",
       "      <td>...</td>\n",
       "      <td>...</td>\n",
       "      <td>...</td>\n",
       "      <td>...</td>\n",
       "      <td>...</td>\n",
       "      <td>...</td>\n",
       "    </tr>\n",
       "    <tr>\n",
       "      <th>2386500</th>\n",
       "      <td>O1018842</td>\n",
       "      <td>2018-06-01 12:17:09</td>\n",
       "      <td>R10003</td>\n",
       "      <td>IN_STORE</td>\n",
       "      <td>0.0</td>\n",
       "      <td>2.0</td>\n",
       "      <td>I0</td>\n",
       "      <td>I5</td>\n",
       "      <td>I15</td>\n",
       "      <td>I13</td>\n",
       "    </tr>\n",
       "    <tr>\n",
       "      <th>2386578</th>\n",
       "      <td>O1024558</td>\n",
       "      <td>2018-06-01 22:36:24</td>\n",
       "      <td>R10005</td>\n",
       "      <td>PICKUP</td>\n",
       "      <td>0.0</td>\n",
       "      <td>0.0</td>\n",
       "      <td>NaN</td>\n",
       "      <td>NaN</td>\n",
       "      <td>NaN</td>\n",
       "      <td>NaN</td>\n",
       "    </tr>\n",
       "    <tr>\n",
       "      <th>2386594</th>\n",
       "      <td>O1021883</td>\n",
       "      <td>2018-06-01 16:57:44</td>\n",
       "      <td>R10004</td>\n",
       "      <td>IN_STORE</td>\n",
       "      <td>0.0</td>\n",
       "      <td>1.0</td>\n",
       "      <td>NaN</td>\n",
       "      <td>NaN</td>\n",
       "      <td>NaN</td>\n",
       "      <td>NaN</td>\n",
       "    </tr>\n",
       "    <tr>\n",
       "      <th>2386738</th>\n",
       "      <td>O1019561</td>\n",
       "      <td>2018-06-01 13:05:42</td>\n",
       "      <td>R10007</td>\n",
       "      <td>DELIVERY</td>\n",
       "      <td>0.0</td>\n",
       "      <td>0.0</td>\n",
       "      <td>I3</td>\n",
       "      <td>I6</td>\n",
       "      <td>I10</td>\n",
       "      <td>I11</td>\n",
       "    </tr>\n",
       "    <tr>\n",
       "      <th>2386773</th>\n",
       "      <td>O1019580</td>\n",
       "      <td>2018-06-01 13:07:10</td>\n",
       "      <td>R10008</td>\n",
       "      <td>IN_STORE</td>\n",
       "      <td>0.0</td>\n",
       "      <td>1.0</td>\n",
       "      <td>I3</td>\n",
       "      <td>I6</td>\n",
       "      <td>I14</td>\n",
       "      <td>I10</td>\n",
       "    </tr>\n",
       "  </tbody>\n",
       "</table>\n",
       "<p>6748 rows × 10 columns</p>\n",
       "</div>"
      ],
      "text/plain": [
       "         ORDER_ID            DATETIME RESTAURANT_ID      TYPE  DRINKS  \\\n",
       "892      O1021680 2018-06-01 16:30:59        R10003  IN_STORE     0.0   \n",
       "1332     O1020701 2018-06-01 14:36:44        R10005  IN_STORE     0.0   \n",
       "1437     O1021276 2018-06-01 15:41:23        R10007  IN_STORE     0.0   \n",
       "1854     O1022331 2018-06-01 17:46:40        R10001    PICKUP     1.0   \n",
       "2076     O1017965 2018-06-01 10:53:10        R10003  IN_STORE     0.0   \n",
       "...           ...                 ...           ...       ...     ...   \n",
       "2386500  O1018842 2018-06-01 12:17:09        R10003  IN_STORE     0.0   \n",
       "2386578  O1024558 2018-06-01 22:36:24        R10005    PICKUP     0.0   \n",
       "2386594  O1021883 2018-06-01 16:57:44        R10004  IN_STORE     0.0   \n",
       "2386738  O1019561 2018-06-01 13:05:42        R10007  DELIVERY     0.0   \n",
       "2386773  O1019580 2018-06-01 13:07:10        R10008  IN_STORE     0.0   \n",
       "\n",
       "         COOKIES MAIN BASE SIDE_1 SIDE_2  \n",
       "892          0.0   I3   I6    I10    I12  \n",
       "1332         0.0   I0   I7    I10    I11  \n",
       "1437         0.0   I1   I5    I13    I15  \n",
       "1854         0.0   I1   I6    I10    I12  \n",
       "2076         0.0   I0   I7    I15     I9  \n",
       "...          ...  ...  ...    ...    ...  \n",
       "2386500      2.0   I0   I5    I15    I13  \n",
       "2386578      0.0  NaN  NaN    NaN    NaN  \n",
       "2386594      1.0  NaN  NaN    NaN    NaN  \n",
       "2386738      0.0   I3   I6    I10    I11  \n",
       "2386773      1.0   I3   I6    I14    I10  \n",
       "\n",
       "[6748 rows x 10 columns]"
      ]
     },
     "execution_count": 86,
     "metadata": {},
     "output_type": "execute_result"
    }
   ],
   "source": [
    "df_orders[df_orders.DATETIME.dt.normalize() == '2018-06-01']"
   ]
  },
  {
   "cell_type": "code",
   "execution_count": 87,
   "id": "eb720aa3",
   "metadata": {},
   "outputs": [
    {
     "data": {
      "text/html": [
       "<div>\n",
       "<style scoped>\n",
       "    .dataframe tbody tr th:only-of-type {\n",
       "        vertical-align: middle;\n",
       "    }\n",
       "\n",
       "    .dataframe tbody tr th {\n",
       "        vertical-align: top;\n",
       "    }\n",
       "\n",
       "    .dataframe thead th {\n",
       "        text-align: right;\n",
       "    }\n",
       "</style>\n",
       "<table border=\"1\" class=\"dataframe\">\n",
       "  <thead>\n",
       "    <tr style=\"text-align: right;\">\n",
       "      <th></th>\n",
       "      <th>ORDER_ID</th>\n",
       "      <th>DATETIME</th>\n",
       "      <th>RESTAURANT_ID</th>\n",
       "      <th>TYPE</th>\n",
       "      <th>DRINKS</th>\n",
       "      <th>COOKIES</th>\n",
       "      <th>MAIN</th>\n",
       "      <th>BASE</th>\n",
       "      <th>SIDE_1</th>\n",
       "      <th>SIDE_2</th>\n",
       "    </tr>\n",
       "  </thead>\n",
       "  <tbody>\n",
       "    <tr>\n",
       "      <th>0</th>\n",
       "      <td>O1820060</td>\n",
       "      <td>2018-10-11 17:25:50</td>\n",
       "      <td>R10002</td>\n",
       "      <td>IN_STORE</td>\n",
       "      <td>1.0</td>\n",
       "      <td>2.0</td>\n",
       "      <td>NaN</td>\n",
       "      <td>NaN</td>\n",
       "      <td>NaN</td>\n",
       "      <td>NaN</td>\n",
       "    </tr>\n",
       "    <tr>\n",
       "      <th>1</th>\n",
       "      <td>O1011112</td>\n",
       "      <td>2018-05-31 11:35:00</td>\n",
       "      <td>R10003</td>\n",
       "      <td>IN_STORE</td>\n",
       "      <td>0.0</td>\n",
       "      <td>0.0</td>\n",
       "      <td>NaN</td>\n",
       "      <td>NaN</td>\n",
       "      <td>NaN</td>\n",
       "      <td>NaN</td>\n",
       "    </tr>\n",
       "    <tr>\n",
       "      <th>5</th>\n",
       "      <td>O1026484</td>\n",
       "      <td>2018-06-02 14:32:53</td>\n",
       "      <td>R10008</td>\n",
       "      <td>DELIVERY</td>\n",
       "      <td>1.0</td>\n",
       "      <td>0.0</td>\n",
       "      <td>NaN</td>\n",
       "      <td>NaN</td>\n",
       "      <td>NaN</td>\n",
       "      <td>NaN</td>\n",
       "    </tr>\n",
       "    <tr>\n",
       "      <th>34</th>\n",
       "      <td>O820959</td>\n",
       "      <td>2018-05-01 19:08:09</td>\n",
       "      <td>R10005</td>\n",
       "      <td>IN_STORE</td>\n",
       "      <td>0.0</td>\n",
       "      <td>0.0</td>\n",
       "      <td>NaN</td>\n",
       "      <td>NaN</td>\n",
       "      <td>NaN</td>\n",
       "      <td>NaN</td>\n",
       "    </tr>\n",
       "    <tr>\n",
       "      <th>35</th>\n",
       "      <td>O1352389</td>\n",
       "      <td>2018-07-27 19:55:00</td>\n",
       "      <td>R10006</td>\n",
       "      <td>IN_STORE</td>\n",
       "      <td>2.0</td>\n",
       "      <td>0.0</td>\n",
       "      <td>NaN</td>\n",
       "      <td>NaN</td>\n",
       "      <td>NaN</td>\n",
       "      <td>NaN</td>\n",
       "    </tr>\n",
       "    <tr>\n",
       "      <th>...</th>\n",
       "      <td>...</td>\n",
       "      <td>...</td>\n",
       "      <td>...</td>\n",
       "      <td>...</td>\n",
       "      <td>...</td>\n",
       "      <td>...</td>\n",
       "      <td>...</td>\n",
       "      <td>...</td>\n",
       "      <td>...</td>\n",
       "      <td>...</td>\n",
       "    </tr>\n",
       "    <tr>\n",
       "      <th>2387132</th>\n",
       "      <td>O1687436</td>\n",
       "      <td>2018-09-21 15:53:26</td>\n",
       "      <td>R10002</td>\n",
       "      <td>PICKUP</td>\n",
       "      <td>0.0</td>\n",
       "      <td>1.0</td>\n",
       "      <td>NaN</td>\n",
       "      <td>NaN</td>\n",
       "      <td>NaN</td>\n",
       "      <td>NaN</td>\n",
       "    </tr>\n",
       "    <tr>\n",
       "      <th>2387137</th>\n",
       "      <td>O569930</td>\n",
       "      <td>2018-03-26 14:22:28</td>\n",
       "      <td>R10006</td>\n",
       "      <td>IN_STORE</td>\n",
       "      <td>1.0</td>\n",
       "      <td>0.0</td>\n",
       "      <td>NaN</td>\n",
       "      <td>NaN</td>\n",
       "      <td>NaN</td>\n",
       "      <td>NaN</td>\n",
       "    </tr>\n",
       "    <tr>\n",
       "      <th>2387161</th>\n",
       "      <td>O932014</td>\n",
       "      <td>2018-05-18 14:23:26</td>\n",
       "      <td>R10004</td>\n",
       "      <td>IN_STORE</td>\n",
       "      <td>0.0</td>\n",
       "      <td>1.0</td>\n",
       "      <td>NaN</td>\n",
       "      <td>NaN</td>\n",
       "      <td>NaN</td>\n",
       "      <td>NaN</td>\n",
       "    </tr>\n",
       "    <tr>\n",
       "      <th>2387179</th>\n",
       "      <td>O687714</td>\n",
       "      <td>2018-04-12 12:17:01</td>\n",
       "      <td>R10001</td>\n",
       "      <td>IN_STORE</td>\n",
       "      <td>0.0</td>\n",
       "      <td>0.0</td>\n",
       "      <td>NaN</td>\n",
       "      <td>NaN</td>\n",
       "      <td>NaN</td>\n",
       "      <td>NaN</td>\n",
       "    </tr>\n",
       "    <tr>\n",
       "      <th>2387189</th>\n",
       "      <td>O840613</td>\n",
       "      <td>2018-05-04 18:53:14</td>\n",
       "      <td>R10005</td>\n",
       "      <td>IN_STORE</td>\n",
       "      <td>0.0</td>\n",
       "      <td>1.0</td>\n",
       "      <td>NaN</td>\n",
       "      <td>NaN</td>\n",
       "      <td>NaN</td>\n",
       "      <td>NaN</td>\n",
       "    </tr>\n",
       "  </tbody>\n",
       "</table>\n",
       "<p>111585 rows × 10 columns</p>\n",
       "</div>"
      ],
      "text/plain": [
       "         ORDER_ID            DATETIME RESTAURANT_ID      TYPE  DRINKS  \\\n",
       "0        O1820060 2018-10-11 17:25:50        R10002  IN_STORE     1.0   \n",
       "1        O1011112 2018-05-31 11:35:00        R10003  IN_STORE     0.0   \n",
       "5        O1026484 2018-06-02 14:32:53        R10008  DELIVERY     1.0   \n",
       "34        O820959 2018-05-01 19:08:09        R10005  IN_STORE     0.0   \n",
       "35       O1352389 2018-07-27 19:55:00        R10006  IN_STORE     2.0   \n",
       "...           ...                 ...           ...       ...     ...   \n",
       "2387132  O1687436 2018-09-21 15:53:26        R10002    PICKUP     0.0   \n",
       "2387137   O569930 2018-03-26 14:22:28        R10006  IN_STORE     1.0   \n",
       "2387161   O932014 2018-05-18 14:23:26        R10004  IN_STORE     0.0   \n",
       "2387179   O687714 2018-04-12 12:17:01        R10001  IN_STORE     0.0   \n",
       "2387189   O840613 2018-05-04 18:53:14        R10005  IN_STORE     0.0   \n",
       "\n",
       "         COOKIES MAIN BASE SIDE_1 SIDE_2  \n",
       "0            2.0  NaN  NaN    NaN    NaN  \n",
       "1            0.0  NaN  NaN    NaN    NaN  \n",
       "5            0.0  NaN  NaN    NaN    NaN  \n",
       "34           0.0  NaN  NaN    NaN    NaN  \n",
       "35           0.0  NaN  NaN    NaN    NaN  \n",
       "...          ...  ...  ...    ...    ...  \n",
       "2387132      1.0  NaN  NaN    NaN    NaN  \n",
       "2387137      0.0  NaN  NaN    NaN    NaN  \n",
       "2387161      1.0  NaN  NaN    NaN    NaN  \n",
       "2387179      0.0  NaN  NaN    NaN    NaN  \n",
       "2387189      1.0  NaN  NaN    NaN    NaN  \n",
       "\n",
       "[111585 rows x 10 columns]"
      ]
     },
     "execution_count": 87,
     "metadata": {},
     "output_type": "execute_result"
    }
   ],
   "source": [
    "df_orders[df_orders.MAIN.isna()]"
   ]
  },
  {
   "cell_type": "code",
   "execution_count": 88,
   "id": "81455dca",
   "metadata": {},
   "outputs": [
    {
     "data": {
      "text/html": [
       "<div>\n",
       "<style scoped>\n",
       "    .dataframe tbody tr th:only-of-type {\n",
       "        vertical-align: middle;\n",
       "    }\n",
       "\n",
       "    .dataframe tbody tr th {\n",
       "        vertical-align: top;\n",
       "    }\n",
       "\n",
       "    .dataframe thead th {\n",
       "        text-align: right;\n",
       "    }\n",
       "</style>\n",
       "<table border=\"1\" class=\"dataframe\">\n",
       "  <thead>\n",
       "    <tr style=\"text-align: right;\">\n",
       "      <th></th>\n",
       "      <th>RESTAURANT_NAME</th>\n",
       "      <th>DATE</th>\n",
       "      <th>NUM_ORDERS</th>\n",
       "      <th>PERC_DELIVERY</th>\n",
       "    </tr>\n",
       "  </thead>\n",
       "  <tbody>\n",
       "    <tr>\n",
       "      <th>0</th>\n",
       "      <td>Bryant Park</td>\n",
       "      <td>2018-01-01</td>\n",
       "      <td>373</td>\n",
       "      <td>0.000000</td>\n",
       "    </tr>\n",
       "    <tr>\n",
       "      <th>1</th>\n",
       "      <td>Bryant Park</td>\n",
       "      <td>2018-01-02</td>\n",
       "      <td>789</td>\n",
       "      <td>0.000000</td>\n",
       "    </tr>\n",
       "    <tr>\n",
       "      <th>2</th>\n",
       "      <td>Bryant Park</td>\n",
       "      <td>2018-01-03</td>\n",
       "      <td>818</td>\n",
       "      <td>0.000000</td>\n",
       "    </tr>\n",
       "    <tr>\n",
       "      <th>3</th>\n",
       "      <td>Bryant Park</td>\n",
       "      <td>2018-01-04</td>\n",
       "      <td>782</td>\n",
       "      <td>0.000000</td>\n",
       "    </tr>\n",
       "    <tr>\n",
       "      <th>4</th>\n",
       "      <td>Bryant Park</td>\n",
       "      <td>2018-01-05</td>\n",
       "      <td>719</td>\n",
       "      <td>0.000000</td>\n",
       "    </tr>\n",
       "    <tr>\n",
       "      <th>...</th>\n",
       "      <td>...</td>\n",
       "      <td>...</td>\n",
       "      <td>...</td>\n",
       "      <td>...</td>\n",
       "    </tr>\n",
       "    <tr>\n",
       "      <th>256</th>\n",
       "      <td>Bryant Park</td>\n",
       "      <td>2018-12-25</td>\n",
       "      <td>532</td>\n",
       "      <td>0.095865</td>\n",
       "    </tr>\n",
       "    <tr>\n",
       "      <th>257</th>\n",
       "      <td>Bryant Park</td>\n",
       "      <td>2018-12-26</td>\n",
       "      <td>936</td>\n",
       "      <td>0.100427</td>\n",
       "    </tr>\n",
       "    <tr>\n",
       "      <th>258</th>\n",
       "      <td>Bryant Park</td>\n",
       "      <td>2018-12-27</td>\n",
       "      <td>1019</td>\n",
       "      <td>0.104024</td>\n",
       "    </tr>\n",
       "    <tr>\n",
       "      <th>259</th>\n",
       "      <td>Bryant Park</td>\n",
       "      <td>2018-12-28</td>\n",
       "      <td>1015</td>\n",
       "      <td>0.116256</td>\n",
       "    </tr>\n",
       "    <tr>\n",
       "      <th>260</th>\n",
       "      <td>Bryant Park</td>\n",
       "      <td>2018-12-31</td>\n",
       "      <td>969</td>\n",
       "      <td>0.133127</td>\n",
       "    </tr>\n",
       "  </tbody>\n",
       "</table>\n",
       "<p>261 rows × 4 columns</p>\n",
       "</div>"
      ],
      "text/plain": [
       "    RESTAURANT_NAME        DATE  NUM_ORDERS  PERC_DELIVERY\n",
       "0       Bryant Park  2018-01-01         373       0.000000\n",
       "1       Bryant Park  2018-01-02         789       0.000000\n",
       "2       Bryant Park  2018-01-03         818       0.000000\n",
       "3       Bryant Park  2018-01-04         782       0.000000\n",
       "4       Bryant Park  2018-01-05         719       0.000000\n",
       "..              ...         ...         ...            ...\n",
       "256     Bryant Park  2018-12-25         532       0.095865\n",
       "257     Bryant Park  2018-12-26         936       0.100427\n",
       "258     Bryant Park  2018-12-27        1019       0.104024\n",
       "259     Bryant Park  2018-12-28        1015       0.116256\n",
       "260     Bryant Park  2018-12-31         969       0.133127\n",
       "\n",
       "[261 rows x 4 columns]"
      ]
     },
     "execution_count": 88,
     "metadata": {},
     "output_type": "execute_result"
    }
   ],
   "source": [
    "df_summarized_orders[df_summarized_orders.RESTAURANT_NAME == 'Bryant Park']"
   ]
  },
  {
   "cell_type": "code",
   "execution_count": 89,
   "id": "570e291b",
   "metadata": {},
   "outputs": [],
   "source": [
    "df_bryant_park = df_summarized_orders[df_summarized_orders.RESTAURANT_NAME == 'Bryant Park'].copy()"
   ]
  },
  {
   "cell_type": "code",
   "execution_count": 90,
   "id": "1f223d9d",
   "metadata": {},
   "outputs": [
    {
     "data": {
      "text/html": [
       "<div>\n",
       "<style scoped>\n",
       "    .dataframe tbody tr th:only-of-type {\n",
       "        vertical-align: middle;\n",
       "    }\n",
       "\n",
       "    .dataframe tbody tr th {\n",
       "        vertical-align: top;\n",
       "    }\n",
       "\n",
       "    .dataframe thead th {\n",
       "        text-align: right;\n",
       "    }\n",
       "</style>\n",
       "<table border=\"1\" class=\"dataframe\">\n",
       "  <thead>\n",
       "    <tr style=\"text-align: right;\">\n",
       "      <th></th>\n",
       "      <th>RESTAURANT_NAME</th>\n",
       "      <th>DATE</th>\n",
       "      <th>NUM_ORDERS</th>\n",
       "      <th>PERC_DELIVERY</th>\n",
       "    </tr>\n",
       "  </thead>\n",
       "  <tbody>\n",
       "    <tr>\n",
       "      <th>0</th>\n",
       "      <td>Bryant Park</td>\n",
       "      <td>2018-01-01</td>\n",
       "      <td>373</td>\n",
       "      <td>0.0</td>\n",
       "    </tr>\n",
       "    <tr>\n",
       "      <th>1</th>\n",
       "      <td>Bryant Park</td>\n",
       "      <td>2018-01-02</td>\n",
       "      <td>789</td>\n",
       "      <td>0.0</td>\n",
       "    </tr>\n",
       "    <tr>\n",
       "      <th>2</th>\n",
       "      <td>Bryant Park</td>\n",
       "      <td>2018-01-03</td>\n",
       "      <td>818</td>\n",
       "      <td>0.0</td>\n",
       "    </tr>\n",
       "    <tr>\n",
       "      <th>3</th>\n",
       "      <td>Bryant Park</td>\n",
       "      <td>2018-01-04</td>\n",
       "      <td>782</td>\n",
       "      <td>0.0</td>\n",
       "    </tr>\n",
       "    <tr>\n",
       "      <th>4</th>\n",
       "      <td>Bryant Park</td>\n",
       "      <td>2018-01-05</td>\n",
       "      <td>719</td>\n",
       "      <td>0.0</td>\n",
       "    </tr>\n",
       "  </tbody>\n",
       "</table>\n",
       "</div>"
      ],
      "text/plain": [
       "  RESTAURANT_NAME        DATE  NUM_ORDERS  PERC_DELIVERY\n",
       "0     Bryant Park  2018-01-01         373            0.0\n",
       "1     Bryant Park  2018-01-02         789            0.0\n",
       "2     Bryant Park  2018-01-03         818            0.0\n",
       "3     Bryant Park  2018-01-04         782            0.0\n",
       "4     Bryant Park  2018-01-05         719            0.0"
      ]
     },
     "execution_count": 90,
     "metadata": {},
     "output_type": "execute_result"
    }
   ],
   "source": [
    "df_bryant_park.head()"
   ]
  },
  {
   "cell_type": "markdown",
   "id": "57166e21",
   "metadata": {},
   "source": [
    "## Editing DataFrames"
   ]
  },
  {
   "cell_type": "markdown",
   "id": "c1ffb095",
   "metadata": {},
   "source": [
    "### Adding Columns"
   ]
  },
  {
   "cell_type": "code",
   "execution_count": 91,
   "id": "426c1749",
   "metadata": {},
   "outputs": [],
   "source": [
    "df_orders['HAS_DRINK'] = (df_orders.DRINKS > 0)"
   ]
  },
  {
   "cell_type": "code",
   "execution_count": 92,
   "id": "cc153487",
   "metadata": {},
   "outputs": [
    {
     "data": {
      "text/html": [
       "<div>\n",
       "<style scoped>\n",
       "    .dataframe tbody tr th:only-of-type {\n",
       "        vertical-align: middle;\n",
       "    }\n",
       "\n",
       "    .dataframe tbody tr th {\n",
       "        vertical-align: top;\n",
       "    }\n",
       "\n",
       "    .dataframe thead th {\n",
       "        text-align: right;\n",
       "    }\n",
       "</style>\n",
       "<table border=\"1\" class=\"dataframe\">\n",
       "  <thead>\n",
       "    <tr style=\"text-align: right;\">\n",
       "      <th></th>\n",
       "      <th>ORDER_ID</th>\n",
       "      <th>DATETIME</th>\n",
       "      <th>RESTAURANT_ID</th>\n",
       "      <th>TYPE</th>\n",
       "      <th>DRINKS</th>\n",
       "      <th>COOKIES</th>\n",
       "      <th>MAIN</th>\n",
       "      <th>BASE</th>\n",
       "      <th>SIDE_1</th>\n",
       "      <th>SIDE_2</th>\n",
       "      <th>HAS_DRINK</th>\n",
       "    </tr>\n",
       "  </thead>\n",
       "  <tbody>\n",
       "    <tr>\n",
       "      <th>0</th>\n",
       "      <td>O1820060</td>\n",
       "      <td>2018-10-11 17:25:50</td>\n",
       "      <td>R10002</td>\n",
       "      <td>IN_STORE</td>\n",
       "      <td>1.0</td>\n",
       "      <td>2.0</td>\n",
       "      <td>NaN</td>\n",
       "      <td>NaN</td>\n",
       "      <td>NaN</td>\n",
       "      <td>NaN</td>\n",
       "      <td>True</td>\n",
       "    </tr>\n",
       "    <tr>\n",
       "      <th>1</th>\n",
       "      <td>O1011112</td>\n",
       "      <td>2018-05-31 11:35:00</td>\n",
       "      <td>R10003</td>\n",
       "      <td>IN_STORE</td>\n",
       "      <td>0.0</td>\n",
       "      <td>0.0</td>\n",
       "      <td>NaN</td>\n",
       "      <td>NaN</td>\n",
       "      <td>NaN</td>\n",
       "      <td>NaN</td>\n",
       "      <td>False</td>\n",
       "    </tr>\n",
       "    <tr>\n",
       "      <th>2</th>\n",
       "      <td>O752854</td>\n",
       "      <td>2018-04-21 18:12:57</td>\n",
       "      <td>R10001</td>\n",
       "      <td>DELIVERY</td>\n",
       "      <td>0.0</td>\n",
       "      <td>2.0</td>\n",
       "      <td>I0</td>\n",
       "      <td>I7</td>\n",
       "      <td>I15</td>\n",
       "      <td>I14</td>\n",
       "      <td>False</td>\n",
       "    </tr>\n",
       "    <tr>\n",
       "      <th>3</th>\n",
       "      <td>O2076864</td>\n",
       "      <td>2018-11-17 12:50:52</td>\n",
       "      <td>R10005</td>\n",
       "      <td>PICKUP</td>\n",
       "      <td>1.0</td>\n",
       "      <td>0.0</td>\n",
       "      <td>I0</td>\n",
       "      <td>I5</td>\n",
       "      <td>I9</td>\n",
       "      <td>I12</td>\n",
       "      <td>True</td>\n",
       "    </tr>\n",
       "    <tr>\n",
       "      <th>4</th>\n",
       "      <td>O1988898</td>\n",
       "      <td>2018-11-04 18:37:24</td>\n",
       "      <td>R10008</td>\n",
       "      <td>IN_STORE</td>\n",
       "      <td>0.0</td>\n",
       "      <td>0.0</td>\n",
       "      <td>I1</td>\n",
       "      <td>I7</td>\n",
       "      <td>I9</td>\n",
       "      <td>I9</td>\n",
       "      <td>False</td>\n",
       "    </tr>\n",
       "  </tbody>\n",
       "</table>\n",
       "</div>"
      ],
      "text/plain": [
       "   ORDER_ID            DATETIME RESTAURANT_ID      TYPE  DRINKS  COOKIES MAIN  \\\n",
       "0  O1820060 2018-10-11 17:25:50        R10002  IN_STORE     1.0      2.0  NaN   \n",
       "1  O1011112 2018-05-31 11:35:00        R10003  IN_STORE     0.0      0.0  NaN   \n",
       "2   O752854 2018-04-21 18:12:57        R10001  DELIVERY     0.0      2.0   I0   \n",
       "3  O2076864 2018-11-17 12:50:52        R10005    PICKUP     1.0      0.0   I0   \n",
       "4  O1988898 2018-11-04 18:37:24        R10008  IN_STORE     0.0      0.0   I1   \n",
       "\n",
       "  BASE SIDE_1 SIDE_2  HAS_DRINK  \n",
       "0  NaN    NaN    NaN       True  \n",
       "1  NaN    NaN    NaN      False  \n",
       "2   I7    I15    I14      False  \n",
       "3   I5     I9    I12       True  \n",
       "4   I7     I9     I9      False  "
      ]
     },
     "execution_count": 92,
     "metadata": {},
     "output_type": "execute_result"
    }
   ],
   "source": [
    "df_orders.head()"
   ]
  },
  {
   "cell_type": "code",
   "execution_count": 93,
   "id": "6a460c71",
   "metadata": {},
   "outputs": [
    {
     "name": "stderr",
     "output_type": "stream",
     "text": [
      "/var/folders/l5/ybjmkxcd7s7f2p8q_qyf_bh00000gn/T/ipykernel_52082/2325838628.py:1: UserWarning: Pandas doesn't allow columns to be created via a new attribute name - see https://pandas.pydata.org/pandas-docs/stable/indexing.html#attribute-access\n",
      "  df_orders.HAS_COOKIE = (df_orders.COOKIES > 0)\n"
     ]
    }
   ],
   "source": [
    "df_orders.HAS_COOKIE = (df_orders.COOKIES > 0)"
   ]
  },
  {
   "cell_type": "markdown",
   "id": "f8b7bb63",
   "metadata": {},
   "source": [
    "### Removing Columns"
   ]
  },
  {
   "cell_type": "code",
   "execution_count": 94,
   "id": "e7d193d7",
   "metadata": {},
   "outputs": [],
   "source": [
    "df_orders = df_orders.drop(columns='HAS_DRINK')"
   ]
  },
  {
   "cell_type": "markdown",
   "id": "6c63ef98",
   "metadata": {},
   "source": [
    "### Editing Columns"
   ]
  },
  {
   "cell_type": "code",
   "execution_count": 95,
   "id": "b974cfa4",
   "metadata": {},
   "outputs": [],
   "source": [
    "df_summarized_orders['NUM_ORDERS'] = (df_summarized_orders.NUM_ORDERS / 10)"
   ]
  },
  {
   "cell_type": "code",
   "execution_count": 96,
   "id": "a42098d5",
   "metadata": {},
   "outputs": [
    {
     "data": {
      "text/html": [
       "<div>\n",
       "<style scoped>\n",
       "    .dataframe tbody tr th:only-of-type {\n",
       "        vertical-align: middle;\n",
       "    }\n",
       "\n",
       "    .dataframe tbody tr th {\n",
       "        vertical-align: top;\n",
       "    }\n",
       "\n",
       "    .dataframe thead th {\n",
       "        text-align: right;\n",
       "    }\n",
       "</style>\n",
       "<table border=\"1\" class=\"dataframe\">\n",
       "  <thead>\n",
       "    <tr style=\"text-align: right;\">\n",
       "      <th></th>\n",
       "      <th>RESTAURANT_NAME</th>\n",
       "      <th>DATE</th>\n",
       "      <th>NUM_ORDERS</th>\n",
       "      <th>PERC_DELIVERY</th>\n",
       "    </tr>\n",
       "  </thead>\n",
       "  <tbody>\n",
       "    <tr>\n",
       "      <th>0</th>\n",
       "      <td>Bryant Park</td>\n",
       "      <td>2018-01-01</td>\n",
       "      <td>37.3</td>\n",
       "      <td>0.0</td>\n",
       "    </tr>\n",
       "    <tr>\n",
       "      <th>1</th>\n",
       "      <td>Bryant Park</td>\n",
       "      <td>2018-01-02</td>\n",
       "      <td>78.9</td>\n",
       "      <td>0.0</td>\n",
       "    </tr>\n",
       "    <tr>\n",
       "      <th>2</th>\n",
       "      <td>Bryant Park</td>\n",
       "      <td>2018-01-03</td>\n",
       "      <td>81.8</td>\n",
       "      <td>0.0</td>\n",
       "    </tr>\n",
       "    <tr>\n",
       "      <th>3</th>\n",
       "      <td>Bryant Park</td>\n",
       "      <td>2018-01-04</td>\n",
       "      <td>78.2</td>\n",
       "      <td>0.0</td>\n",
       "    </tr>\n",
       "    <tr>\n",
       "      <th>4</th>\n",
       "      <td>Bryant Park</td>\n",
       "      <td>2018-01-05</td>\n",
       "      <td>71.9</td>\n",
       "      <td>0.0</td>\n",
       "    </tr>\n",
       "  </tbody>\n",
       "</table>\n",
       "</div>"
      ],
      "text/plain": [
       "  RESTAURANT_NAME        DATE  NUM_ORDERS  PERC_DELIVERY\n",
       "0     Bryant Park  2018-01-01        37.3            0.0\n",
       "1     Bryant Park  2018-01-02        78.9            0.0\n",
       "2     Bryant Park  2018-01-03        81.8            0.0\n",
       "3     Bryant Park  2018-01-04        78.2            0.0\n",
       "4     Bryant Park  2018-01-05        71.9            0.0"
      ]
     },
     "execution_count": 96,
     "metadata": {},
     "output_type": "execute_result"
    }
   ],
   "source": [
    "df_summarized_orders.head()"
   ]
  },
  {
   "cell_type": "code",
   "execution_count": 97,
   "id": "c043f024",
   "metadata": {},
   "outputs": [],
   "source": [
    "df_summarized_orders['NUM_ORDERS'] = (df_summarized_orders.NUM_ORDERS * 10)"
   ]
  },
  {
   "cell_type": "code",
   "execution_count": 98,
   "id": "23f18adc",
   "metadata": {},
   "outputs": [
    {
     "data": {
      "text/html": [
       "<div>\n",
       "<style scoped>\n",
       "    .dataframe tbody tr th:only-of-type {\n",
       "        vertical-align: middle;\n",
       "    }\n",
       "\n",
       "    .dataframe tbody tr th {\n",
       "        vertical-align: top;\n",
       "    }\n",
       "\n",
       "    .dataframe thead th {\n",
       "        text-align: right;\n",
       "    }\n",
       "</style>\n",
       "<table border=\"1\" class=\"dataframe\">\n",
       "  <thead>\n",
       "    <tr style=\"text-align: right;\">\n",
       "      <th></th>\n",
       "      <th>RESTAURANT_NAME</th>\n",
       "      <th>DATE</th>\n",
       "      <th>NUM_ORDERS</th>\n",
       "      <th>PERC_DELIVERY</th>\n",
       "    </tr>\n",
       "  </thead>\n",
       "  <tbody>\n",
       "    <tr>\n",
       "      <th>0</th>\n",
       "      <td>Bryant Park</td>\n",
       "      <td>2018-01-01</td>\n",
       "      <td>373.0</td>\n",
       "      <td>0.0</td>\n",
       "    </tr>\n",
       "    <tr>\n",
       "      <th>1</th>\n",
       "      <td>Bryant Park</td>\n",
       "      <td>2018-01-02</td>\n",
       "      <td>789.0</td>\n",
       "      <td>0.0</td>\n",
       "    </tr>\n",
       "    <tr>\n",
       "      <th>2</th>\n",
       "      <td>Bryant Park</td>\n",
       "      <td>2018-01-03</td>\n",
       "      <td>818.0</td>\n",
       "      <td>0.0</td>\n",
       "    </tr>\n",
       "    <tr>\n",
       "      <th>3</th>\n",
       "      <td>Bryant Park</td>\n",
       "      <td>2018-01-04</td>\n",
       "      <td>782.0</td>\n",
       "      <td>0.0</td>\n",
       "    </tr>\n",
       "    <tr>\n",
       "      <th>4</th>\n",
       "      <td>Bryant Park</td>\n",
       "      <td>2018-01-05</td>\n",
       "      <td>719.0</td>\n",
       "      <td>0.0</td>\n",
       "    </tr>\n",
       "  </tbody>\n",
       "</table>\n",
       "</div>"
      ],
      "text/plain": [
       "  RESTAURANT_NAME        DATE  NUM_ORDERS  PERC_DELIVERY\n",
       "0     Bryant Park  2018-01-01       373.0            0.0\n",
       "1     Bryant Park  2018-01-02       789.0            0.0\n",
       "2     Bryant Park  2018-01-03       818.0            0.0\n",
       "3     Bryant Park  2018-01-04       782.0            0.0\n",
       "4     Bryant Park  2018-01-05       719.0            0.0"
      ]
     },
     "execution_count": 98,
     "metadata": {},
     "output_type": "execute_result"
    }
   ],
   "source": [
    "df_summarized_orders.head()"
   ]
  },
  {
   "cell_type": "code",
   "execution_count": null,
   "id": "72b28cab",
   "metadata": {},
   "outputs": [],
   "source": []
  }
 ],
 "metadata": {
  "kernelspec": {
   "display_name": "Python 3 (ipykernel)",
   "language": "python",
   "name": "python3"
  },
  "language_info": {
   "codemirror_mode": {
    "name": "ipython",
    "version": 3
   },
   "file_extension": ".py",
   "mimetype": "text/x-python",
   "name": "python",
   "nbconvert_exporter": "python",
   "pygments_lexer": "ipython3",
   "version": "3.10.9"
  }
 },
 "nbformat": 4,
 "nbformat_minor": 5
}
