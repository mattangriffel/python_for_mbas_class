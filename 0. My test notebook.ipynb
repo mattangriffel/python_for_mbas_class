{
 "cells": [
  {
   "cell_type": "code",
   "execution_count": 1,
   "id": "eaeb4571",
   "metadata": {},
   "outputs": [
    {
     "data": {
      "text/plain": [
       "2"
      ]
     },
     "execution_count": 1,
     "metadata": {},
     "output_type": "execute_result"
    }
   ],
   "source": [
    "1+1"
   ]
  },
  {
   "cell_type": "code",
   "execution_count": null,
   "id": "fd3b5267",
   "metadata": {},
   "outputs": [],
   "source": []
  },
  {
   "cell_type": "code",
   "execution_count": 2,
   "id": "3f827099",
   "metadata": {},
   "outputs": [],
   "source": [
    "name = \"Mattan\""
   ]
  },
  {
   "cell_type": "code",
   "execution_count": 3,
   "id": "33e831e0",
   "metadata": {},
   "outputs": [
    {
     "name": "stdout",
     "output_type": "stream",
     "text": [
      "What's up Mattan?\n"
     ]
    }
   ],
   "source": [
    "print(f\"What's up {name}?\")"
   ]
  },
  {
   "cell_type": "markdown",
   "id": "287b997c",
   "metadata": {},
   "source": [
    "This is text in Markdown"
   ]
  },
  {
   "cell_type": "markdown",
   "id": "d1fae667",
   "metadata": {},
   "source": [
    "# Header 1"
   ]
  },
  {
   "cell_type": "markdown",
   "id": "e58435cb",
   "metadata": {},
   "source": [
    "## Header 2"
   ]
  },
  {
   "cell_type": "markdown",
   "id": "4c05684d",
   "metadata": {},
   "source": [
    "Here's a [Markdown Cheat Sheet](https://www.markdownguide.org/cheat-sheet/)"
   ]
  },
  {
   "cell_type": "code",
   "execution_count": 4,
   "id": "7756ad37",
   "metadata": {},
   "outputs": [
    {
     "data": {
      "text/plain": [
       "'Mattan'"
      ]
     },
     "execution_count": 4,
     "metadata": {},
     "output_type": "execute_result"
    }
   ],
   "source": [
    "name"
   ]
  },
  {
   "cell_type": "code",
   "execution_count": null,
   "id": "82acf845",
   "metadata": {},
   "outputs": [],
   "source": []
  }
 ],
 "metadata": {
  "kernelspec": {
   "display_name": "Python 3 (ipykernel)",
   "language": "python",
   "name": "python3"
  },
  "language_info": {
   "codemirror_mode": {
    "name": "ipython",
    "version": 3
   },
   "file_extension": ".py",
   "mimetype": "text/x-python",
   "name": "python",
   "nbconvert_exporter": "python",
   "pygments_lexer": "ipython3",
   "version": "3.9.13"
  }
 },
 "nbformat": 4,
 "nbformat_minor": 5
}
