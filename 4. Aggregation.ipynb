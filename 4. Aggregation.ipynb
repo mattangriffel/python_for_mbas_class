{
 "cells": [
  {
   "attachments": {},
   "cell_type": "markdown",
   "id": "8dddb70a",
   "metadata": {},
   "source": [
    "# 4. Aggregation"
   ]
  },
  {
   "cell_type": "code",
   "execution_count": 1,
   "id": "be0c1886",
   "metadata": {},
   "outputs": [],
   "source": [
    "import pandas as pd\n",
    "import matplotlib.pyplot as plt"
   ]
  },
  {
   "cell_type": "code",
   "execution_count": 2,
   "id": "d4ef8c9b",
   "metadata": {},
   "outputs": [],
   "source": [
    "df_students = pd.read_csv('data/students.csv')\n",
    "df_summarized_orders = pd.read_csv('data/summarized_orders.csv')\n",
    "df_orders = pd.read_csv('data/orders2.csv')"
   ]
  },
  {
   "cell_type": "code",
   "execution_count": 3,
   "id": "522dc80d",
   "metadata": {},
   "outputs": [],
   "source": [
    "df_summarized_orders.DATE = pd.to_datetime(df_summarized_orders.DATE)\n",
    "df_orders.DATETIME = pd.to_datetime(df_orders.DATETIME)"
   ]
  },
  {
   "cell_type": "markdown",
   "id": "5bdfa7ba",
   "metadata": {},
   "source": [
    "## The Basics of Aggregation"
   ]
  },
  {
   "cell_type": "code",
   "execution_count": 4,
   "id": "e55792ef",
   "metadata": {},
   "outputs": [
    {
     "data": {
      "text/html": [
       "<div>\n",
       "<style scoped>\n",
       "    .dataframe tbody tr th:only-of-type {\n",
       "        vertical-align: middle;\n",
       "    }\n",
       "\n",
       "    .dataframe tbody tr th {\n",
       "        vertical-align: top;\n",
       "    }\n",
       "\n",
       "    .dataframe thead th {\n",
       "        text-align: right;\n",
       "    }\n",
       "</style>\n",
       "<table border=\"1\" class=\"dataframe\">\n",
       "  <thead>\n",
       "    <tr style=\"text-align: right;\">\n",
       "      <th></th>\n",
       "      <th>FIRST_NAME</th>\n",
       "      <th>LAST_NAME</th>\n",
       "      <th>YEAR</th>\n",
       "      <th>HOME_STATE</th>\n",
       "      <th>AGE</th>\n",
       "      <th>CALC_101_FINAL</th>\n",
       "      <th>ENGLISH_101_FINAL</th>\n",
       "    </tr>\n",
       "  </thead>\n",
       "  <tbody>\n",
       "    <tr>\n",
       "      <th>0</th>\n",
       "      <td>Daniel</td>\n",
       "      <td>Smith</td>\n",
       "      <td>1</td>\n",
       "      <td>NY</td>\n",
       "      <td>18</td>\n",
       "      <td>90.0</td>\n",
       "      <td>80.0</td>\n",
       "    </tr>\n",
       "    <tr>\n",
       "      <th>1</th>\n",
       "      <td>Ben</td>\n",
       "      <td>Leibstrom</td>\n",
       "      <td>1</td>\n",
       "      <td>NY</td>\n",
       "      <td>19</td>\n",
       "      <td>80.0</td>\n",
       "      <td>NaN</td>\n",
       "    </tr>\n",
       "    <tr>\n",
       "      <th>2</th>\n",
       "      <td>Kavita</td>\n",
       "      <td>Kanabar</td>\n",
       "      <td>1</td>\n",
       "      <td>PA</td>\n",
       "      <td>19</td>\n",
       "      <td>NaN</td>\n",
       "      <td>NaN</td>\n",
       "    </tr>\n",
       "    <tr>\n",
       "      <th>3</th>\n",
       "      <td>Linda</td>\n",
       "      <td>Thiel</td>\n",
       "      <td>4</td>\n",
       "      <td>CA</td>\n",
       "      <td>22</td>\n",
       "      <td>60.0</td>\n",
       "      <td>40.0</td>\n",
       "    </tr>\n",
       "    <tr>\n",
       "      <th>4</th>\n",
       "      <td>Omar</td>\n",
       "      <td>Reichel</td>\n",
       "      <td>2</td>\n",
       "      <td>OK</td>\n",
       "      <td>21</td>\n",
       "      <td>70.0</td>\n",
       "      <td>50.0</td>\n",
       "    </tr>\n",
       "  </tbody>\n",
       "</table>\n",
       "</div>"
      ],
      "text/plain": [
       "  FIRST_NAME  LAST_NAME  YEAR HOME_STATE  AGE  CALC_101_FINAL  \\\n",
       "0     Daniel      Smith     1         NY   18            90.0   \n",
       "1        Ben  Leibstrom     1         NY   19            80.0   \n",
       "2     Kavita    Kanabar     1         PA   19             NaN   \n",
       "3      Linda      Thiel     4         CA   22            60.0   \n",
       "4       Omar    Reichel     2         OK   21            70.0   \n",
       "\n",
       "   ENGLISH_101_FINAL  \n",
       "0               80.0  \n",
       "1                NaN  \n",
       "2                NaN  \n",
       "3               40.0  \n",
       "4               50.0  "
      ]
     },
     "execution_count": 4,
     "metadata": {},
     "output_type": "execute_result"
    }
   ],
   "source": [
    "df_students.head()"
   ]
  },
  {
   "cell_type": "code",
   "execution_count": 5,
   "id": "f224a798",
   "metadata": {},
   "outputs": [
    {
     "data": {
      "text/plain": [
       "YEAR\n",
       "1    18.2\n",
       "2    20.0\n",
       "3    20.0\n",
       "4    22.0\n",
       "Name: AGE, dtype: float64"
      ]
     },
     "execution_count": 5,
     "metadata": {},
     "output_type": "execute_result"
    }
   ],
   "source": [
    "df_students.groupby('YEAR').AGE.mean()"
   ]
  },
  {
   "cell_type": "code",
   "execution_count": 6,
   "id": "975d7598",
   "metadata": {},
   "outputs": [
    {
     "data": {
      "text/html": [
       "<div>\n",
       "<style scoped>\n",
       "    .dataframe tbody tr th:only-of-type {\n",
       "        vertical-align: middle;\n",
       "    }\n",
       "\n",
       "    .dataframe tbody tr th {\n",
       "        vertical-align: top;\n",
       "    }\n",
       "\n",
       "    .dataframe thead th {\n",
       "        text-align: right;\n",
       "    }\n",
       "</style>\n",
       "<table border=\"1\" class=\"dataframe\">\n",
       "  <thead>\n",
       "    <tr style=\"text-align: right;\">\n",
       "      <th></th>\n",
       "      <th>YEAR</th>\n",
       "      <th>AGE</th>\n",
       "    </tr>\n",
       "  </thead>\n",
       "  <tbody>\n",
       "    <tr>\n",
       "      <th>0</th>\n",
       "      <td>1</td>\n",
       "      <td>18.2</td>\n",
       "    </tr>\n",
       "    <tr>\n",
       "      <th>1</th>\n",
       "      <td>2</td>\n",
       "      <td>20.0</td>\n",
       "    </tr>\n",
       "    <tr>\n",
       "      <th>2</th>\n",
       "      <td>3</td>\n",
       "      <td>20.0</td>\n",
       "    </tr>\n",
       "    <tr>\n",
       "      <th>3</th>\n",
       "      <td>4</td>\n",
       "      <td>22.0</td>\n",
       "    </tr>\n",
       "  </tbody>\n",
       "</table>\n",
       "</div>"
      ],
      "text/plain": [
       "   YEAR   AGE\n",
       "0     1  18.2\n",
       "1     2  20.0\n",
       "2     3  20.0\n",
       "3     4  22.0"
      ]
     },
     "execution_count": 6,
     "metadata": {},
     "output_type": "execute_result"
    }
   ],
   "source": [
    "df_students.groupby('YEAR').AGE.mean().reset_index()"
   ]
  },
  {
   "cell_type": "code",
   "execution_count": 7,
   "id": "6e817373",
   "metadata": {},
   "outputs": [
    {
     "data": {
      "text/plain": [
       "YEAR  HOME_STATE\n",
       "1     FL            17.5\n",
       "      NY            18.5\n",
       "      PA            19.0\n",
       "2     HI            19.0\n",
       "      OK            21.0\n",
       "3     NY            20.0\n",
       "4     CA            22.0\n",
       "Name: AGE, dtype: float64"
      ]
     },
     "execution_count": 7,
     "metadata": {},
     "output_type": "execute_result"
    }
   ],
   "source": [
    "df_students.groupby(['YEAR', 'HOME_STATE']).AGE.mean()"
   ]
  },
  {
   "cell_type": "code",
   "execution_count": 8,
   "id": "0f8bc7f2",
   "metadata": {},
   "outputs": [
    {
     "data": {
      "text/html": [
       "<div>\n",
       "<style scoped>\n",
       "    .dataframe tbody tr th:only-of-type {\n",
       "        vertical-align: middle;\n",
       "    }\n",
       "\n",
       "    .dataframe tbody tr th {\n",
       "        vertical-align: top;\n",
       "    }\n",
       "\n",
       "    .dataframe thead th {\n",
       "        text-align: right;\n",
       "    }\n",
       "</style>\n",
       "<table border=\"1\" class=\"dataframe\">\n",
       "  <thead>\n",
       "    <tr style=\"text-align: right;\">\n",
       "      <th></th>\n",
       "      <th>YEAR</th>\n",
       "      <th>HOME_STATE</th>\n",
       "      <th>AGE</th>\n",
       "    </tr>\n",
       "  </thead>\n",
       "  <tbody>\n",
       "    <tr>\n",
       "      <th>0</th>\n",
       "      <td>1</td>\n",
       "      <td>FL</td>\n",
       "      <td>17.5</td>\n",
       "    </tr>\n",
       "    <tr>\n",
       "      <th>1</th>\n",
       "      <td>1</td>\n",
       "      <td>NY</td>\n",
       "      <td>18.5</td>\n",
       "    </tr>\n",
       "    <tr>\n",
       "      <th>2</th>\n",
       "      <td>1</td>\n",
       "      <td>PA</td>\n",
       "      <td>19.0</td>\n",
       "    </tr>\n",
       "    <tr>\n",
       "      <th>3</th>\n",
       "      <td>2</td>\n",
       "      <td>HI</td>\n",
       "      <td>19.0</td>\n",
       "    </tr>\n",
       "    <tr>\n",
       "      <th>4</th>\n",
       "      <td>2</td>\n",
       "      <td>OK</td>\n",
       "      <td>21.0</td>\n",
       "    </tr>\n",
       "    <tr>\n",
       "      <th>5</th>\n",
       "      <td>3</td>\n",
       "      <td>NY</td>\n",
       "      <td>20.0</td>\n",
       "    </tr>\n",
       "    <tr>\n",
       "      <th>6</th>\n",
       "      <td>4</td>\n",
       "      <td>CA</td>\n",
       "      <td>22.0</td>\n",
       "    </tr>\n",
       "  </tbody>\n",
       "</table>\n",
       "</div>"
      ],
      "text/plain": [
       "   YEAR HOME_STATE   AGE\n",
       "0     1         FL  17.5\n",
       "1     1         NY  18.5\n",
       "2     1         PA  19.0\n",
       "3     2         HI  19.0\n",
       "4     2         OK  21.0\n",
       "5     3         NY  20.0\n",
       "6     4         CA  22.0"
      ]
     },
     "execution_count": 8,
     "metadata": {},
     "output_type": "execute_result"
    }
   ],
   "source": [
    "df_students.groupby(['YEAR', 'HOME_STATE']).AGE.mean().reset_index()"
   ]
  },
  {
   "cell_type": "code",
   "execution_count": 9,
   "id": "d0b2a555",
   "metadata": {},
   "outputs": [
    {
     "data": {
      "text/plain": [
       "YEAR\n",
       "1    18.2\n",
       "2    20.0\n",
       "3    20.0\n",
       "4    22.0\n",
       "Name: AGE, dtype: float64"
      ]
     },
     "execution_count": 9,
     "metadata": {},
     "output_type": "execute_result"
    }
   ],
   "source": [
    "df_students.groupby('YEAR')['AGE'].mean()"
   ]
  },
  {
   "cell_type": "code",
   "execution_count": 10,
   "id": "df4781b8",
   "metadata": {},
   "outputs": [
    {
     "data": {
      "text/plain": [
       "<AxesSubplot:xlabel='YEAR'>"
      ]
     },
     "execution_count": 10,
     "metadata": {},
     "output_type": "execute_result"
    },
    {
     "data": {
      "image/png": "[encoded data removed]",
      "text/plain": [
       "<Figure size 432x288 with 1 Axes>"
      ]
     },
     "metadata": {
      "needs_background": "light"
     },
     "output_type": "display_data"
    }
   ],
   "source": [
    "df_students.groupby('YEAR').AGE.mean().plot(kind='bar')"
   ]
  },
  {
   "cell_type": "code",
   "execution_count": 11,
   "id": "34cba684",
   "metadata": {},
   "outputs": [
    {
     "data": {
      "text/plain": [
       "RESTAURANT_NAME\n",
       "Bryant Park         871.436782\n",
       "Columbia            687.150685\n",
       "Flatiron            772.556164\n",
       "Midtown             891.136986\n",
       "NYU                1180.438356\n",
       "Upper East Side     774.650704\n",
       "Upper West Side     770.372603\n",
       "Williamsburg        862.120548\n",
       "Name: NUM_ORDERS, dtype: float64"
      ]
     },
     "execution_count": 11,
     "metadata": {},
     "output_type": "execute_result"
    }
   ],
   "source": [
    "# Challenge: Average Number of Orders Per Restaurant\n",
    "df_summarized_orders.groupby('RESTAURANT_NAME').NUM_ORDERS.mean()"
   ]
  },
  {
   "cell_type": "code",
   "execution_count": 12,
   "id": "dd746d27",
   "metadata": {},
   "outputs": [
    {
     "data": {
      "text/plain": [
       "NYU                1180.438356\n",
       "Midtown             891.136986\n",
       "Williamsburg        862.120548\n",
       "Flatiron            772.556164\n",
       "Upper West Side     770.372603\n",
       "Upper East Side     753.427397\n",
       "Columbia            687.150685\n",
       "Bryant Park         623.136986\n",
       "Name: RESTAURANT_NAME, dtype: float64"
      ]
     },
     "execution_count": 12,
     "metadata": {},
     "output_type": "execute_result"
    }
   ],
   "source": [
    "df_orders.RESTAURANT_NAME.value_counts() / 365"
   ]
  },
  {
   "cell_type": "markdown",
   "id": "44f96d8a",
   "metadata": {},
   "source": [
    "### Aggregating Functions"
   ]
  },
  {
   "cell_type": "code",
   "execution_count": 13,
   "id": "1ac0a3cc",
   "metadata": {},
   "outputs": [
    {
     "data": {
      "text/plain": [
       "RESTAURANT_NAME\n",
       "Bryant Park        227445\n",
       "Columbia           250810\n",
       "Flatiron           281983\n",
       "Midtown            325265\n",
       "NYU                430860\n",
       "Upper East Side    275001\n",
       "Upper West Side    281186\n",
       "Williamsburg       314674\n",
       "Name: ORDER_ID, dtype: int64"
      ]
     },
     "execution_count": 13,
     "metadata": {},
     "output_type": "execute_result"
    }
   ],
   "source": [
    "df_orders.groupby('RESTAURANT_NAME').ORDER_ID.size()"
   ]
  },
  {
   "cell_type": "code",
   "execution_count": 14,
   "id": "19ec4797",
   "metadata": {},
   "outputs": [
    {
     "data": {
      "text/plain": [
       "RESTAURANT_NAME\n",
       "Bryant Park        227445\n",
       "Columbia           250810\n",
       "Flatiron           281983\n",
       "Midtown            325265\n",
       "NYU                430860\n",
       "Upper East Side    275001\n",
       "Upper West Side    281186\n",
       "Williamsburg       314674\n",
       "dtype: int64"
      ]
     },
     "execution_count": 14,
     "metadata": {},
     "output_type": "execute_result"
    }
   ],
   "source": [
    "df_orders.groupby('RESTAURANT_NAME').size()"
   ]
  },
  {
   "cell_type": "code",
   "execution_count": 15,
   "id": "00cda344",
   "metadata": {},
   "outputs": [
    {
     "data": {
      "text/html": [
       "<div>\n",
       "<style scoped>\n",
       "    .dataframe tbody tr th:only-of-type {\n",
       "        vertical-align: middle;\n",
       "    }\n",
       "\n",
       "    .dataframe tbody tr th {\n",
       "        vertical-align: top;\n",
       "    }\n",
       "\n",
       "    .dataframe thead th {\n",
       "        text-align: right;\n",
       "    }\n",
       "</style>\n",
       "<table border=\"1\" class=\"dataframe\">\n",
       "  <thead>\n",
       "    <tr style=\"text-align: right;\">\n",
       "      <th></th>\n",
       "      <th>ORDER_ID</th>\n",
       "      <th>DATETIME</th>\n",
       "      <th>RESTAURANT_ID</th>\n",
       "      <th>TYPE</th>\n",
       "      <th>DRINKS</th>\n",
       "      <th>COOKIES</th>\n",
       "      <th>MAIN</th>\n",
       "      <th>BASE</th>\n",
       "      <th>SIDE_1</th>\n",
       "      <th>SIDE_2</th>\n",
       "      <th>MAIN_NAME</th>\n",
       "      <th>BASE_NAME</th>\n",
       "      <th>SIDE_1_NAME</th>\n",
       "      <th>SIDE_2_NAME</th>\n",
       "    </tr>\n",
       "    <tr>\n",
       "      <th>RESTAURANT_NAME</th>\n",
       "      <th></th>\n",
       "      <th></th>\n",
       "      <th></th>\n",
       "      <th></th>\n",
       "      <th></th>\n",
       "      <th></th>\n",
       "      <th></th>\n",
       "      <th></th>\n",
       "      <th></th>\n",
       "      <th></th>\n",
       "      <th></th>\n",
       "      <th></th>\n",
       "      <th></th>\n",
       "      <th></th>\n",
       "    </tr>\n",
       "  </thead>\n",
       "  <tbody>\n",
       "    <tr>\n",
       "      <th>Bryant Park</th>\n",
       "      <td>227445</td>\n",
       "      <td>227445</td>\n",
       "      <td>227445</td>\n",
       "      <td>227445</td>\n",
       "      <td>227445</td>\n",
       "      <td>227445</td>\n",
       "      <td>216767</td>\n",
       "      <td>216767</td>\n",
       "      <td>216767</td>\n",
       "      <td>216767</td>\n",
       "      <td>216767</td>\n",
       "      <td>216767</td>\n",
       "      <td>216767</td>\n",
       "      <td>216767</td>\n",
       "    </tr>\n",
       "    <tr>\n",
       "      <th>Columbia</th>\n",
       "      <td>250810</td>\n",
       "      <td>250810</td>\n",
       "      <td>250810</td>\n",
       "      <td>250810</td>\n",
       "      <td>250810</td>\n",
       "      <td>250810</td>\n",
       "      <td>239406</td>\n",
       "      <td>239406</td>\n",
       "      <td>239406</td>\n",
       "      <td>239406</td>\n",
       "      <td>239406</td>\n",
       "      <td>239406</td>\n",
       "      <td>239406</td>\n",
       "      <td>239406</td>\n",
       "    </tr>\n",
       "    <tr>\n",
       "      <th>Flatiron</th>\n",
       "      <td>281983</td>\n",
       "      <td>281983</td>\n",
       "      <td>281983</td>\n",
       "      <td>281983</td>\n",
       "      <td>281983</td>\n",
       "      <td>281983</td>\n",
       "      <td>268909</td>\n",
       "      <td>268909</td>\n",
       "      <td>268909</td>\n",
       "      <td>268909</td>\n",
       "      <td>268909</td>\n",
       "      <td>268909</td>\n",
       "      <td>268909</td>\n",
       "      <td>268909</td>\n",
       "    </tr>\n",
       "    <tr>\n",
       "      <th>Midtown</th>\n",
       "      <td>325265</td>\n",
       "      <td>325265</td>\n",
       "      <td>325265</td>\n",
       "      <td>325265</td>\n",
       "      <td>325265</td>\n",
       "      <td>325265</td>\n",
       "      <td>309502</td>\n",
       "      <td>309502</td>\n",
       "      <td>309502</td>\n",
       "      <td>309502</td>\n",
       "      <td>309502</td>\n",
       "      <td>309502</td>\n",
       "      <td>309502</td>\n",
       "      <td>309502</td>\n",
       "    </tr>\n",
       "    <tr>\n",
       "      <th>NYU</th>\n",
       "      <td>430860</td>\n",
       "      <td>430860</td>\n",
       "      <td>430860</td>\n",
       "      <td>430860</td>\n",
       "      <td>430860</td>\n",
       "      <td>430860</td>\n",
       "      <td>411253</td>\n",
       "      <td>411253</td>\n",
       "      <td>411253</td>\n",
       "      <td>411253</td>\n",
       "      <td>411253</td>\n",
       "      <td>411253</td>\n",
       "      <td>411253</td>\n",
       "      <td>411253</td>\n",
       "    </tr>\n",
       "    <tr>\n",
       "      <th>Upper East Side</th>\n",
       "      <td>275001</td>\n",
       "      <td>275001</td>\n",
       "      <td>275001</td>\n",
       "      <td>275001</td>\n",
       "      <td>275001</td>\n",
       "      <td>275001</td>\n",
       "      <td>261957</td>\n",
       "      <td>261957</td>\n",
       "      <td>261957</td>\n",
       "      <td>261957</td>\n",
       "      <td>261957</td>\n",
       "      <td>261957</td>\n",
       "      <td>261957</td>\n",
       "      <td>261957</td>\n",
       "    </tr>\n",
       "    <tr>\n",
       "      <th>Upper West Side</th>\n",
       "      <td>281186</td>\n",
       "      <td>281186</td>\n",
       "      <td>281186</td>\n",
       "      <td>281186</td>\n",
       "      <td>281186</td>\n",
       "      <td>281186</td>\n",
       "      <td>268023</td>\n",
       "      <td>268023</td>\n",
       "      <td>268023</td>\n",
       "      <td>268023</td>\n",
       "      <td>268023</td>\n",
       "      <td>268023</td>\n",
       "      <td>268023</td>\n",
       "      <td>268023</td>\n",
       "    </tr>\n",
       "    <tr>\n",
       "      <th>Williamsburg</th>\n",
       "      <td>314674</td>\n",
       "      <td>314674</td>\n",
       "      <td>314674</td>\n",
       "      <td>314674</td>\n",
       "      <td>314674</td>\n",
       "      <td>314674</td>\n",
       "      <td>299822</td>\n",
       "      <td>299822</td>\n",
       "      <td>299822</td>\n",
       "      <td>299822</td>\n",
       "      <td>299822</td>\n",
       "      <td>299822</td>\n",
       "      <td>299822</td>\n",
       "      <td>299822</td>\n",
       "    </tr>\n",
       "  </tbody>\n",
       "</table>\n",
       "</div>"
      ],
      "text/plain": [
       "                 ORDER_ID  DATETIME  RESTAURANT_ID    TYPE  DRINKS  COOKIES  \\\n",
       "RESTAURANT_NAME                                                               \n",
       "Bryant Park        227445    227445         227445  227445  227445   227445   \n",
       "Columbia           250810    250810         250810  250810  250810   250810   \n",
       "Flatiron           281983    281983         281983  281983  281983   281983   \n",
       "Midtown            325265    325265         325265  325265  325265   325265   \n",
       "NYU                430860    430860         430860  430860  430860   430860   \n",
       "Upper East Side    275001    275001         275001  275001  275001   275001   \n",
       "Upper West Side    281186    281186         281186  281186  281186   281186   \n",
       "Williamsburg       314674    314674         314674  314674  314674   314674   \n",
       "\n",
       "                   MAIN    BASE  SIDE_1  SIDE_2  MAIN_NAME  BASE_NAME  \\\n",
       "RESTAURANT_NAME                                                         \n",
       "Bryant Park      216767  216767  216767  216767     216767     216767   \n",
       "Columbia         239406  239406  239406  239406     239406     239406   \n",
       "Flatiron         268909  268909  268909  268909     268909     268909   \n",
       "Midtown          309502  309502  309502  309502     309502     309502   \n",
       "NYU              411253  411253  411253  411253     411253     411253   \n",
       "Upper East Side  261957  261957  261957  261957     261957     261957   \n",
       "Upper West Side  268023  268023  268023  268023     268023     268023   \n",
       "Williamsburg     299822  299822  299822  299822     299822     299822   \n",
       "\n",
       "                 SIDE_1_NAME  SIDE_2_NAME  \n",
       "RESTAURANT_NAME                            \n",
       "Bryant Park           216767       216767  \n",
       "Columbia              239406       239406  \n",
       "Flatiron              268909       268909  \n",
       "Midtown               309502       309502  \n",
       "NYU                   411253       411253  \n",
       "Upper East Side       261957       261957  \n",
       "Upper West Side       268023       268023  \n",
       "Williamsburg          299822       299822  "
      ]
     },
     "execution_count": 15,
     "metadata": {},
     "output_type": "execute_result"
    }
   ],
   "source": [
    "df_orders.groupby('RESTAURANT_NAME').count()"
   ]
  },
  {
   "cell_type": "code",
   "execution_count": 16,
   "id": "1b3f46d9",
   "metadata": {},
   "outputs": [
    {
     "data": {
      "text/plain": [
       "NYU                430860\n",
       "Midtown            325265\n",
       "Williamsburg       314674\n",
       "Flatiron           281983\n",
       "Upper West Side    281186\n",
       "Upper East Side    275001\n",
       "Columbia           250810\n",
       "Bryant Park        227445\n",
       "Name: RESTAURANT_NAME, dtype: int64"
      ]
     },
     "execution_count": 16,
     "metadata": {},
     "output_type": "execute_result"
    }
   ],
   "source": [
    "df_orders.RESTAURANT_NAME.value_counts()"
   ]
  },
  {
   "cell_type": "code",
   "execution_count": 17,
   "id": "8b500293",
   "metadata": {},
   "outputs": [
    {
     "data": {
      "text/plain": [
       "RESTAURANT_NAME  TYPE    \n",
       "Bryant Park      DELIVERY     15613\n",
       "                 IN_STORE    171494\n",
       "                 PICKUP       40338\n",
       "Columbia         DELIVERY     25247\n",
       "                 IN_STORE    182603\n",
       "                 PICKUP       42960\n",
       "Flatiron         DELIVERY     28859\n",
       "                 IN_STORE    204607\n",
       "                 PICKUP       48517\n",
       "Midtown          DELIVERY     22380\n",
       "                 IN_STORE    244980\n",
       "                 PICKUP       57905\n",
       "NYU              DELIVERY     43310\n",
       "                 IN_STORE    314832\n",
       "                 PICKUP       72718\n",
       "Upper East Side  DELIVERY     52080\n",
       "                 IN_STORE    180605\n",
       "                 PICKUP       42316\n",
       "Upper West Side  DELIVERY     53337\n",
       "                 IN_STORE    184588\n",
       "                 PICKUP       43261\n",
       "Williamsburg     DELIVERY     31822\n",
       "                 IN_STORE    229427\n",
       "                 PICKUP       53425\n",
       "dtype: int64"
      ]
     },
     "execution_count": 17,
     "metadata": {},
     "output_type": "execute_result"
    }
   ],
   "source": [
    "# Challenge: Number of Orders Per Restaurant by Type\n",
    "df_orders.groupby(['RESTAURANT_NAME', 'TYPE']).size()"
   ]
  },
  {
   "cell_type": "markdown",
   "id": "6f556706",
   "metadata": {},
   "source": [
    "### Using unstack()"
   ]
  },
  {
   "cell_type": "code",
   "execution_count": 18,
   "id": "305baef2",
   "metadata": {},
   "outputs": [
    {
     "data": {
      "text/html": [
       "<div>\n",
       "<style scoped>\n",
       "    .dataframe tbody tr th:only-of-type {\n",
       "        vertical-align: middle;\n",
       "    }\n",
       "\n",
       "    .dataframe tbody tr th {\n",
       "        vertical-align: top;\n",
       "    }\n",
       "\n",
       "    .dataframe thead th {\n",
       "        text-align: right;\n",
       "    }\n",
       "</style>\n",
       "<table border=\"1\" class=\"dataframe\">\n",
       "  <thead>\n",
       "    <tr style=\"text-align: right;\">\n",
       "      <th>TYPE</th>\n",
       "      <th>DELIVERY</th>\n",
       "      <th>IN_STORE</th>\n",
       "      <th>PICKUP</th>\n",
       "    </tr>\n",
       "    <tr>\n",
       "      <th>RESTAURANT_NAME</th>\n",
       "      <th></th>\n",
       "      <th></th>\n",
       "      <th></th>\n",
       "    </tr>\n",
       "  </thead>\n",
       "  <tbody>\n",
       "    <tr>\n",
       "      <th>Bryant Park</th>\n",
       "      <td>15613</td>\n",
       "      <td>171494</td>\n",
       "      <td>40338</td>\n",
       "    </tr>\n",
       "    <tr>\n",
       "      <th>Columbia</th>\n",
       "      <td>25247</td>\n",
       "      <td>182603</td>\n",
       "      <td>42960</td>\n",
       "    </tr>\n",
       "    <tr>\n",
       "      <th>Flatiron</th>\n",
       "      <td>28859</td>\n",
       "      <td>204607</td>\n",
       "      <td>48517</td>\n",
       "    </tr>\n",
       "    <tr>\n",
       "      <th>Midtown</th>\n",
       "      <td>22380</td>\n",
       "      <td>244980</td>\n",
       "      <td>57905</td>\n",
       "    </tr>\n",
       "    <tr>\n",
       "      <th>NYU</th>\n",
       "      <td>43310</td>\n",
       "      <td>314832</td>\n",
       "      <td>72718</td>\n",
       "    </tr>\n",
       "    <tr>\n",
       "      <th>Upper East Side</th>\n",
       "      <td>52080</td>\n",
       "      <td>180605</td>\n",
       "      <td>42316</td>\n",
       "    </tr>\n",
       "    <tr>\n",
       "      <th>Upper West Side</th>\n",
       "      <td>53337</td>\n",
       "      <td>184588</td>\n",
       "      <td>43261</td>\n",
       "    </tr>\n",
       "    <tr>\n",
       "      <th>Williamsburg</th>\n",
       "      <td>31822</td>\n",
       "      <td>229427</td>\n",
       "      <td>53425</td>\n",
       "    </tr>\n",
       "  </tbody>\n",
       "</table>\n",
       "</div>"
      ],
      "text/plain": [
       "TYPE             DELIVERY  IN_STORE  PICKUP\n",
       "RESTAURANT_NAME                            \n",
       "Bryant Park         15613    171494   40338\n",
       "Columbia            25247    182603   42960\n",
       "Flatiron            28859    204607   48517\n",
       "Midtown             22380    244980   57905\n",
       "NYU                 43310    314832   72718\n",
       "Upper East Side     52080    180605   42316\n",
       "Upper West Side     53337    184588   43261\n",
       "Williamsburg        31822    229427   53425"
      ]
     },
     "execution_count": 18,
     "metadata": {},
     "output_type": "execute_result"
    }
   ],
   "source": [
    "df_orders.groupby(['RESTAURANT_NAME', 'TYPE']).size().unstack()"
   ]
  },
  {
   "cell_type": "code",
   "execution_count": 19,
   "id": "2ab4c425",
   "metadata": {},
   "outputs": [
    {
     "data": {
      "text/html": [
       "<div>\n",
       "<style scoped>\n",
       "    .dataframe tbody tr th:only-of-type {\n",
       "        vertical-align: middle;\n",
       "    }\n",
       "\n",
       "    .dataframe tbody tr th {\n",
       "        vertical-align: top;\n",
       "    }\n",
       "\n",
       "    .dataframe thead th {\n",
       "        text-align: right;\n",
       "    }\n",
       "</style>\n",
       "<table border=\"1\" class=\"dataframe\">\n",
       "  <thead>\n",
       "    <tr style=\"text-align: right;\">\n",
       "      <th>RESTAURANT_NAME</th>\n",
       "      <th>Bryant Park</th>\n",
       "      <th>Columbia</th>\n",
       "      <th>Flatiron</th>\n",
       "      <th>Midtown</th>\n",
       "      <th>NYU</th>\n",
       "      <th>Upper East Side</th>\n",
       "      <th>Upper West Side</th>\n",
       "      <th>Williamsburg</th>\n",
       "    </tr>\n",
       "    <tr>\n",
       "      <th>TYPE</th>\n",
       "      <th></th>\n",
       "      <th></th>\n",
       "      <th></th>\n",
       "      <th></th>\n",
       "      <th></th>\n",
       "      <th></th>\n",
       "      <th></th>\n",
       "      <th></th>\n",
       "    </tr>\n",
       "  </thead>\n",
       "  <tbody>\n",
       "    <tr>\n",
       "      <th>DELIVERY</th>\n",
       "      <td>15613</td>\n",
       "      <td>25247</td>\n",
       "      <td>28859</td>\n",
       "      <td>22380</td>\n",
       "      <td>43310</td>\n",
       "      <td>52080</td>\n",
       "      <td>53337</td>\n",
       "      <td>31822</td>\n",
       "    </tr>\n",
       "    <tr>\n",
       "      <th>IN_STORE</th>\n",
       "      <td>171494</td>\n",
       "      <td>182603</td>\n",
       "      <td>204607</td>\n",
       "      <td>244980</td>\n",
       "      <td>314832</td>\n",
       "      <td>180605</td>\n",
       "      <td>184588</td>\n",
       "      <td>229427</td>\n",
       "    </tr>\n",
       "    <tr>\n",
       "      <th>PICKUP</th>\n",
       "      <td>40338</td>\n",
       "      <td>42960</td>\n",
       "      <td>48517</td>\n",
       "      <td>57905</td>\n",
       "      <td>72718</td>\n",
       "      <td>42316</td>\n",
       "      <td>43261</td>\n",
       "      <td>53425</td>\n",
       "    </tr>\n",
       "  </tbody>\n",
       "</table>\n",
       "</div>"
      ],
      "text/plain": [
       "RESTAURANT_NAME  Bryant Park  Columbia  Flatiron  Midtown     NYU  \\\n",
       "TYPE                                                                \n",
       "DELIVERY               15613     25247     28859    22380   43310   \n",
       "IN_STORE              171494    182603    204607   244980  314832   \n",
       "PICKUP                 40338     42960     48517    57905   72718   \n",
       "\n",
       "RESTAURANT_NAME  Upper East Side  Upper West Side  Williamsburg  \n",
       "TYPE                                                             \n",
       "DELIVERY                   52080            53337         31822  \n",
       "IN_STORE                  180605           184588        229427  \n",
       "PICKUP                     42316            43261         53425  "
      ]
     },
     "execution_count": 19,
     "metadata": {},
     "output_type": "execute_result"
    }
   ],
   "source": [
    "df_orders.groupby(['RESTAURANT_NAME', 'TYPE']).size().unstack(0)"
   ]
  },
  {
   "cell_type": "code",
   "execution_count": 20,
   "id": "698d8a14",
   "metadata": {},
   "outputs": [
    {
     "data": {
      "text/html": [
       "<div>\n",
       "<style scoped>\n",
       "    .dataframe tbody tr th:only-of-type {\n",
       "        vertical-align: middle;\n",
       "    }\n",
       "\n",
       "    .dataframe tbody tr th {\n",
       "        vertical-align: top;\n",
       "    }\n",
       "\n",
       "    .dataframe thead th {\n",
       "        text-align: right;\n",
       "    }\n",
       "</style>\n",
       "<table border=\"1\" class=\"dataframe\">\n",
       "  <thead>\n",
       "    <tr style=\"text-align: right;\">\n",
       "      <th>RESTAURANT_NAME</th>\n",
       "      <th>Bryant Park</th>\n",
       "      <th>Columbia</th>\n",
       "      <th>Flatiron</th>\n",
       "      <th>Midtown</th>\n",
       "      <th>NYU</th>\n",
       "      <th>Upper East Side</th>\n",
       "      <th>Upper West Side</th>\n",
       "      <th>Williamsburg</th>\n",
       "    </tr>\n",
       "    <tr>\n",
       "      <th>TYPE</th>\n",
       "      <th></th>\n",
       "      <th></th>\n",
       "      <th></th>\n",
       "      <th></th>\n",
       "      <th></th>\n",
       "      <th></th>\n",
       "      <th></th>\n",
       "      <th></th>\n",
       "    </tr>\n",
       "  </thead>\n",
       "  <tbody>\n",
       "    <tr>\n",
       "      <th>DELIVERY</th>\n",
       "      <td>15613</td>\n",
       "      <td>25247</td>\n",
       "      <td>28859</td>\n",
       "      <td>22380</td>\n",
       "      <td>43310</td>\n",
       "      <td>52080</td>\n",
       "      <td>53337</td>\n",
       "      <td>31822</td>\n",
       "    </tr>\n",
       "    <tr>\n",
       "      <th>IN_STORE</th>\n",
       "      <td>171494</td>\n",
       "      <td>182603</td>\n",
       "      <td>204607</td>\n",
       "      <td>244980</td>\n",
       "      <td>314832</td>\n",
       "      <td>180605</td>\n",
       "      <td>184588</td>\n",
       "      <td>229427</td>\n",
       "    </tr>\n",
       "    <tr>\n",
       "      <th>PICKUP</th>\n",
       "      <td>40338</td>\n",
       "      <td>42960</td>\n",
       "      <td>48517</td>\n",
       "      <td>57905</td>\n",
       "      <td>72718</td>\n",
       "      <td>42316</td>\n",
       "      <td>43261</td>\n",
       "      <td>53425</td>\n",
       "    </tr>\n",
       "  </tbody>\n",
       "</table>\n",
       "</div>"
      ],
      "text/plain": [
       "RESTAURANT_NAME  Bryant Park  Columbia  Flatiron  Midtown     NYU  \\\n",
       "TYPE                                                                \n",
       "DELIVERY               15613     25247     28859    22380   43310   \n",
       "IN_STORE              171494    182603    204607   244980  314832   \n",
       "PICKUP                 40338     42960     48517    57905   72718   \n",
       "\n",
       "RESTAURANT_NAME  Upper East Side  Upper West Side  Williamsburg  \n",
       "TYPE                                                             \n",
       "DELIVERY                   52080            53337         31822  \n",
       "IN_STORE                  180605           184588        229427  \n",
       "PICKUP                     42316            43261         53425  "
      ]
     },
     "execution_count": 20,
     "metadata": {},
     "output_type": "execute_result"
    }
   ],
   "source": [
    "df_orders.groupby(['RESTAURANT_NAME', 'TYPE']).size().unstack().transpose()"
   ]
  },
  {
   "cell_type": "markdown",
   "id": "e648441b",
   "metadata": {},
   "source": [
    "## Calculations on Multiple Columns"
   ]
  },
  {
   "cell_type": "code",
   "execution_count": 21,
   "id": "ece0c22d",
   "metadata": {},
   "outputs": [
    {
     "data": {
      "text/html": [
       "<div>\n",
       "<style scoped>\n",
       "    .dataframe tbody tr th:only-of-type {\n",
       "        vertical-align: middle;\n",
       "    }\n",
       "\n",
       "    .dataframe tbody tr th {\n",
       "        vertical-align: top;\n",
       "    }\n",
       "\n",
       "    .dataframe thead th {\n",
       "        text-align: right;\n",
       "    }\n",
       "</style>\n",
       "<table border=\"1\" class=\"dataframe\">\n",
       "  <thead>\n",
       "    <tr style=\"text-align: right;\">\n",
       "      <th></th>\n",
       "      <th>DRINKS</th>\n",
       "      <th>COOKIES</th>\n",
       "    </tr>\n",
       "    <tr>\n",
       "      <th>RESTAURANT_NAME</th>\n",
       "      <th></th>\n",
       "      <th></th>\n",
       "    </tr>\n",
       "  </thead>\n",
       "  <tbody>\n",
       "    <tr>\n",
       "      <th>Bryant Park</th>\n",
       "      <td>0.098138</td>\n",
       "      <td>0.261294</td>\n",
       "    </tr>\n",
       "    <tr>\n",
       "      <th>Columbia</th>\n",
       "      <td>0.066572</td>\n",
       "      <td>0.259049</td>\n",
       "    </tr>\n",
       "    <tr>\n",
       "      <th>Flatiron</th>\n",
       "      <td>0.097637</td>\n",
       "      <td>0.259161</td>\n",
       "    </tr>\n",
       "    <tr>\n",
       "      <th>Midtown</th>\n",
       "      <td>0.126128</td>\n",
       "      <td>0.260683</td>\n",
       "    </tr>\n",
       "    <tr>\n",
       "      <th>NYU</th>\n",
       "      <td>0.075769</td>\n",
       "      <td>0.258898</td>\n",
       "    </tr>\n",
       "    <tr>\n",
       "      <th>Upper East Side</th>\n",
       "      <td>0.118145</td>\n",
       "      <td>0.257603</td>\n",
       "    </tr>\n",
       "    <tr>\n",
       "      <th>Upper West Side</th>\n",
       "      <td>0.097032</td>\n",
       "      <td>0.260475</td>\n",
       "    </tr>\n",
       "    <tr>\n",
       "      <th>Williamsburg</th>\n",
       "      <td>0.096446</td>\n",
       "      <td>0.258750</td>\n",
       "    </tr>\n",
       "  </tbody>\n",
       "</table>\n",
       "</div>"
      ],
      "text/plain": [
       "                   DRINKS   COOKIES\n",
       "RESTAURANT_NAME                    \n",
       "Bryant Park      0.098138  0.261294\n",
       "Columbia         0.066572  0.259049\n",
       "Flatiron         0.097637  0.259161\n",
       "Midtown          0.126128  0.260683\n",
       "NYU              0.075769  0.258898\n",
       "Upper East Side  0.118145  0.257603\n",
       "Upper West Side  0.097032  0.260475\n",
       "Williamsburg     0.096446  0.258750"
      ]
     },
     "execution_count": 21,
     "metadata": {},
     "output_type": "execute_result"
    }
   ],
   "source": [
    "df_orders.groupby('RESTAURANT_NAME')[['DRINKS', 'COOKIES']].mean()"
   ]
  },
  {
   "cell_type": "code",
   "execution_count": 22,
   "id": "9ca37583",
   "metadata": {},
   "outputs": [
    {
     "data": {
      "text/html": [
       "<div>\n",
       "<style scoped>\n",
       "    .dataframe tbody tr th:only-of-type {\n",
       "        vertical-align: middle;\n",
       "    }\n",
       "\n",
       "    .dataframe tbody tr th {\n",
       "        vertical-align: top;\n",
       "    }\n",
       "\n",
       "    .dataframe thead th {\n",
       "        text-align: right;\n",
       "    }\n",
       "</style>\n",
       "<table border=\"1\" class=\"dataframe\">\n",
       "  <thead>\n",
       "    <tr style=\"text-align: right;\">\n",
       "      <th></th>\n",
       "      <th>DRINKS</th>\n",
       "      <th>COOKIES</th>\n",
       "    </tr>\n",
       "    <tr>\n",
       "      <th>RESTAURANT_NAME</th>\n",
       "      <th></th>\n",
       "      <th></th>\n",
       "    </tr>\n",
       "  </thead>\n",
       "  <tbody>\n",
       "    <tr>\n",
       "      <th>Bryant Park</th>\n",
       "      <td>0.098138</td>\n",
       "      <td>0.261294</td>\n",
       "    </tr>\n",
       "    <tr>\n",
       "      <th>Columbia</th>\n",
       "      <td>0.066572</td>\n",
       "      <td>0.259049</td>\n",
       "    </tr>\n",
       "    <tr>\n",
       "      <th>Flatiron</th>\n",
       "      <td>0.097637</td>\n",
       "      <td>0.259161</td>\n",
       "    </tr>\n",
       "    <tr>\n",
       "      <th>Midtown</th>\n",
       "      <td>0.126128</td>\n",
       "      <td>0.260683</td>\n",
       "    </tr>\n",
       "    <tr>\n",
       "      <th>NYU</th>\n",
       "      <td>0.075769</td>\n",
       "      <td>0.258898</td>\n",
       "    </tr>\n",
       "    <tr>\n",
       "      <th>Upper East Side</th>\n",
       "      <td>0.118145</td>\n",
       "      <td>0.257603</td>\n",
       "    </tr>\n",
       "    <tr>\n",
       "      <th>Upper West Side</th>\n",
       "      <td>0.097032</td>\n",
       "      <td>0.260475</td>\n",
       "    </tr>\n",
       "    <tr>\n",
       "      <th>Williamsburg</th>\n",
       "      <td>0.096446</td>\n",
       "      <td>0.258750</td>\n",
       "    </tr>\n",
       "  </tbody>\n",
       "</table>\n",
       "</div>"
      ],
      "text/plain": [
       "                   DRINKS   COOKIES\n",
       "RESTAURANT_NAME                    \n",
       "Bryant Park      0.098138  0.261294\n",
       "Columbia         0.066572  0.259049\n",
       "Flatiron         0.097637  0.259161\n",
       "Midtown          0.126128  0.260683\n",
       "NYU              0.075769  0.258898\n",
       "Upper East Side  0.118145  0.257603\n",
       "Upper West Side  0.097032  0.260475\n",
       "Williamsburg     0.096446  0.258750"
      ]
     },
     "execution_count": 22,
     "metadata": {},
     "output_type": "execute_result"
    }
   ],
   "source": [
    "df_orders.groupby('RESTAURANT_NAME').mean()"
   ]
  },
  {
   "cell_type": "code",
   "execution_count": 23,
   "id": "786d9a6c",
   "metadata": {},
   "outputs": [
    {
     "data": {
      "text/html": [
       "<div>\n",
       "<style scoped>\n",
       "    .dataframe tbody tr th:only-of-type {\n",
       "        vertical-align: middle;\n",
       "    }\n",
       "\n",
       "    .dataframe tbody tr th {\n",
       "        vertical-align: top;\n",
       "    }\n",
       "\n",
       "    .dataframe thead th {\n",
       "        text-align: right;\n",
       "    }\n",
       "</style>\n",
       "<table border=\"1\" class=\"dataframe\">\n",
       "  <thead>\n",
       "    <tr style=\"text-align: right;\">\n",
       "      <th></th>\n",
       "      <th>AVG_DRINKS</th>\n",
       "      <th>MAIN_COUNT</th>\n",
       "    </tr>\n",
       "    <tr>\n",
       "      <th>RESTAURANT_NAME</th>\n",
       "      <th></th>\n",
       "      <th></th>\n",
       "    </tr>\n",
       "  </thead>\n",
       "  <tbody>\n",
       "    <tr>\n",
       "      <th>Bryant Park</th>\n",
       "      <td>0.098138</td>\n",
       "      <td>216767</td>\n",
       "    </tr>\n",
       "    <tr>\n",
       "      <th>Columbia</th>\n",
       "      <td>0.066572</td>\n",
       "      <td>239406</td>\n",
       "    </tr>\n",
       "    <tr>\n",
       "      <th>Flatiron</th>\n",
       "      <td>0.097637</td>\n",
       "      <td>268909</td>\n",
       "    </tr>\n",
       "    <tr>\n",
       "      <th>Midtown</th>\n",
       "      <td>0.126128</td>\n",
       "      <td>309502</td>\n",
       "    </tr>\n",
       "    <tr>\n",
       "      <th>NYU</th>\n",
       "      <td>0.075769</td>\n",
       "      <td>411253</td>\n",
       "    </tr>\n",
       "    <tr>\n",
       "      <th>Upper East Side</th>\n",
       "      <td>0.118145</td>\n",
       "      <td>261957</td>\n",
       "    </tr>\n",
       "    <tr>\n",
       "      <th>Upper West Side</th>\n",
       "      <td>0.097032</td>\n",
       "      <td>268023</td>\n",
       "    </tr>\n",
       "    <tr>\n",
       "      <th>Williamsburg</th>\n",
       "      <td>0.096446</td>\n",
       "      <td>299822</td>\n",
       "    </tr>\n",
       "  </tbody>\n",
       "</table>\n",
       "</div>"
      ],
      "text/plain": [
       "                 AVG_DRINKS  MAIN_COUNT\n",
       "RESTAURANT_NAME                        \n",
       "Bryant Park        0.098138      216767\n",
       "Columbia           0.066572      239406\n",
       "Flatiron           0.097637      268909\n",
       "Midtown            0.126128      309502\n",
       "NYU                0.075769      411253\n",
       "Upper East Side    0.118145      261957\n",
       "Upper West Side    0.097032      268023\n",
       "Williamsburg       0.096446      299822"
      ]
     },
     "execution_count": 23,
     "metadata": {},
     "output_type": "execute_result"
    }
   ],
   "source": [
    "df_orders.groupby('RESTAURANT_NAME').agg(\n",
    "    AVG_DRINKS = ('DRINKS', 'mean'), \n",
    "    MAIN_COUNT = ('MAIN', 'count'))"
   ]
  },
  {
   "cell_type": "markdown",
   "id": "eb8780cf",
   "metadata": {},
   "source": [
    "## More Complex Grouping"
   ]
  },
  {
   "cell_type": "markdown",
   "id": "caf9dbf5",
   "metadata": {},
   "source": [
    "### Grouping Using a Series"
   ]
  },
  {
   "cell_type": "code",
   "execution_count": 24,
   "id": "a9e97873",
   "metadata": {},
   "outputs": [],
   "source": [
    "df_orders['HAS_DRINK'] = (df_orders.DRINKS > 0)"
   ]
  },
  {
   "cell_type": "code",
   "execution_count": 25,
   "id": "f3e76f45",
   "metadata": {},
   "outputs": [
    {
     "data": {
      "text/plain": [
       "HAS_DRINK\n",
       "False    0.259543\n",
       "True     0.258149\n",
       "Name: COOKIES, dtype: float64"
      ]
     },
     "execution_count": 25,
     "metadata": {},
     "output_type": "execute_result"
    }
   ],
   "source": [
    "df_orders.groupby('HAS_DRINK').COOKIES.mean()"
   ]
  },
  {
   "cell_type": "code",
   "execution_count": 26,
   "id": "7e75a999",
   "metadata": {},
   "outputs": [],
   "source": [
    "df_orders = df_orders.drop(columns='HAS_DRINK')"
   ]
  },
  {
   "cell_type": "code",
   "execution_count": 27,
   "id": "cf4e83db",
   "metadata": {},
   "outputs": [
    {
     "data": {
      "text/plain": [
       "DRINKS\n",
       "False    0.259543\n",
       "True     0.258149\n",
       "Name: COOKIES, dtype: float64"
      ]
     },
     "execution_count": 27,
     "metadata": {},
     "output_type": "execute_result"
    }
   ],
   "source": [
    "df_orders.groupby(df_orders.DRINKS > 0).COOKIES.mean()"
   ]
  },
  {
   "cell_type": "markdown",
   "id": "671eeb23",
   "metadata": {},
   "source": [
    "### Grouping Using Dates and Times"
   ]
  },
  {
   "cell_type": "code",
   "execution_count": 28,
   "id": "25875808",
   "metadata": {},
   "outputs": [
    {
     "data": {
      "text/html": [
       "<div>\n",
       "<style scoped>\n",
       "    .dataframe tbody tr th:only-of-type {\n",
       "        vertical-align: middle;\n",
       "    }\n",
       "\n",
       "    .dataframe tbody tr th {\n",
       "        vertical-align: top;\n",
       "    }\n",
       "\n",
       "    .dataframe thead th {\n",
       "        text-align: right;\n",
       "    }\n",
       "</style>\n",
       "<table border=\"1\" class=\"dataframe\">\n",
       "  <thead>\n",
       "    <tr style=\"text-align: right;\">\n",
       "      <th></th>\n",
       "      <th>ORDER_ID</th>\n",
       "      <th>RESTAURANT_ID</th>\n",
       "      <th>TYPE</th>\n",
       "      <th>DRINKS</th>\n",
       "      <th>COOKIES</th>\n",
       "      <th>MAIN</th>\n",
       "      <th>BASE</th>\n",
       "      <th>SIDE_1</th>\n",
       "      <th>SIDE_2</th>\n",
       "      <th>RESTAURANT_NAME</th>\n",
       "      <th>MAIN_NAME</th>\n",
       "      <th>BASE_NAME</th>\n",
       "      <th>SIDE_1_NAME</th>\n",
       "      <th>SIDE_2_NAME</th>\n",
       "    </tr>\n",
       "    <tr>\n",
       "      <th>DATETIME</th>\n",
       "      <th></th>\n",
       "      <th></th>\n",
       "      <th></th>\n",
       "      <th></th>\n",
       "      <th></th>\n",
       "      <th></th>\n",
       "      <th></th>\n",
       "      <th></th>\n",
       "      <th></th>\n",
       "      <th></th>\n",
       "      <th></th>\n",
       "      <th></th>\n",
       "      <th></th>\n",
       "      <th></th>\n",
       "    </tr>\n",
       "  </thead>\n",
       "  <tbody>\n",
       "    <tr>\n",
       "      <th>2018-10-11 17:25:50</th>\n",
       "      <td>O1820060</td>\n",
       "      <td>R10002</td>\n",
       "      <td>IN_STORE</td>\n",
       "      <td>1.0</td>\n",
       "      <td>2.0</td>\n",
       "      <td>NaN</td>\n",
       "      <td>NaN</td>\n",
       "      <td>NaN</td>\n",
       "      <td>NaN</td>\n",
       "      <td>Midtown</td>\n",
       "      <td>NaN</td>\n",
       "      <td>NaN</td>\n",
       "      <td>NaN</td>\n",
       "      <td>NaN</td>\n",
       "    </tr>\n",
       "    <tr>\n",
       "      <th>2018-05-31 11:35:00</th>\n",
       "      <td>O1011112</td>\n",
       "      <td>R10003</td>\n",
       "      <td>IN_STORE</td>\n",
       "      <td>0.0</td>\n",
       "      <td>0.0</td>\n",
       "      <td>NaN</td>\n",
       "      <td>NaN</td>\n",
       "      <td>NaN</td>\n",
       "      <td>NaN</td>\n",
       "      <td>Bryant Park</td>\n",
       "      <td>NaN</td>\n",
       "      <td>NaN</td>\n",
       "      <td>NaN</td>\n",
       "      <td>NaN</td>\n",
       "    </tr>\n",
       "    <tr>\n",
       "      <th>2018-04-21 18:12:57</th>\n",
       "      <td>O752854</td>\n",
       "      <td>R10001</td>\n",
       "      <td>DELIVERY</td>\n",
       "      <td>0.0</td>\n",
       "      <td>2.0</td>\n",
       "      <td>I0</td>\n",
       "      <td>I7</td>\n",
       "      <td>I15</td>\n",
       "      <td>I14</td>\n",
       "      <td>Columbia</td>\n",
       "      <td>Charred Chicken Marketbowl</td>\n",
       "      <td>Farro with Summer Vegetables</td>\n",
       "      <td>Snap Peas</td>\n",
       "      <td>Green Goddess Beans with Sesame</td>\n",
       "    </tr>\n",
       "    <tr>\n",
       "      <th>2018-11-17 12:50:52</th>\n",
       "      <td>O2076864</td>\n",
       "      <td>R10005</td>\n",
       "      <td>PICKUP</td>\n",
       "      <td>1.0</td>\n",
       "      <td>0.0</td>\n",
       "      <td>I0</td>\n",
       "      <td>I5</td>\n",
       "      <td>I9</td>\n",
       "      <td>I12</td>\n",
       "      <td>Flatiron</td>\n",
       "      <td>Charred Chicken Marketbowl</td>\n",
       "      <td>Classic Brown Rice</td>\n",
       "      <td>Jasper Hill Mac &amp; Cheese</td>\n",
       "      <td>Cashew Kale Caesar</td>\n",
       "    </tr>\n",
       "    <tr>\n",
       "      <th>2018-11-04 18:37:24</th>\n",
       "      <td>O1988898</td>\n",
       "      <td>R10008</td>\n",
       "      <td>IN_STORE</td>\n",
       "      <td>0.0</td>\n",
       "      <td>0.0</td>\n",
       "      <td>I1</td>\n",
       "      <td>I7</td>\n",
       "      <td>I9</td>\n",
       "      <td>I9</td>\n",
       "      <td>Williamsburg</td>\n",
       "      <td>Spicy Meatballs Marketbowl</td>\n",
       "      <td>Farro with Summer Vegetables</td>\n",
       "      <td>Jasper Hill Mac &amp; Cheese</td>\n",
       "      <td>Jasper Hill Mac &amp; Cheese</td>\n",
       "    </tr>\n",
       "    <tr>\n",
       "      <th>...</th>\n",
       "      <td>...</td>\n",
       "      <td>...</td>\n",
       "      <td>...</td>\n",
       "      <td>...</td>\n",
       "      <td>...</td>\n",
       "      <td>...</td>\n",
       "      <td>...</td>\n",
       "      <td>...</td>\n",
       "      <td>...</td>\n",
       "      <td>...</td>\n",
       "      <td>...</td>\n",
       "      <td>...</td>\n",
       "      <td>...</td>\n",
       "      <td>...</td>\n",
       "    </tr>\n",
       "    <tr>\n",
       "      <th>2018-03-04 17:59:51</th>\n",
       "      <td>O420721</td>\n",
       "      <td>R10004</td>\n",
       "      <td>IN_STORE</td>\n",
       "      <td>0.0</td>\n",
       "      <td>2.0</td>\n",
       "      <td>I3</td>\n",
       "      <td>I5</td>\n",
       "      <td>I15</td>\n",
       "      <td>I12</td>\n",
       "      <td>NYU</td>\n",
       "      <td>Herb Roasted Chicken Marketbowl</td>\n",
       "      <td>Classic Brown Rice</td>\n",
       "      <td>Snap Peas</td>\n",
       "      <td>Cashew Kale Caesar</td>\n",
       "    </tr>\n",
       "    <tr>\n",
       "      <th>2018-09-29 13:05:36</th>\n",
       "      <td>O1738792</td>\n",
       "      <td>R10007</td>\n",
       "      <td>PICKUP</td>\n",
       "      <td>0.0</td>\n",
       "      <td>0.0</td>\n",
       "      <td>I1</td>\n",
       "      <td>I5</td>\n",
       "      <td>I15</td>\n",
       "      <td>I15</td>\n",
       "      <td>Upper West Side</td>\n",
       "      <td>Spicy Meatballs Marketbowl</td>\n",
       "      <td>Classic Brown Rice</td>\n",
       "      <td>Snap Peas</td>\n",
       "      <td>Snap Peas</td>\n",
       "    </tr>\n",
       "    <tr>\n",
       "      <th>2018-05-07 18:23:24</th>\n",
       "      <td>O858342</td>\n",
       "      <td>R10006</td>\n",
       "      <td>DELIVERY</td>\n",
       "      <td>0.0</td>\n",
       "      <td>0.0</td>\n",
       "      <td>I2</td>\n",
       "      <td>I6</td>\n",
       "      <td>I9</td>\n",
       "      <td>I8</td>\n",
       "      <td>Upper East Side</td>\n",
       "      <td>Grilled Organic Tofu Marketbowl</td>\n",
       "      <td>Farm Greens with Mint</td>\n",
       "      <td>Jasper Hill Mac &amp; Cheese</td>\n",
       "      <td>Cauliflower with Garlic and Parmesan</td>\n",
       "    </tr>\n",
       "    <tr>\n",
       "      <th>2018-11-19 19:39:56</th>\n",
       "      <td>O2093417</td>\n",
       "      <td>R10006</td>\n",
       "      <td>IN_STORE</td>\n",
       "      <td>0.0</td>\n",
       "      <td>1.0</td>\n",
       "      <td>I1</td>\n",
       "      <td>I7</td>\n",
       "      <td>I10</td>\n",
       "      <td>I10</td>\n",
       "      <td>Upper East Side</td>\n",
       "      <td>Spicy Meatballs Marketbowl</td>\n",
       "      <td>Farro with Summer Vegetables</td>\n",
       "      <td>Roasted Sweet Potatoes</td>\n",
       "      <td>Roasted Sweet Potatoes</td>\n",
       "    </tr>\n",
       "    <tr>\n",
       "      <th>2018-04-16 19:25:01</th>\n",
       "      <td>O718185</td>\n",
       "      <td>R10001</td>\n",
       "      <td>IN_STORE</td>\n",
       "      <td>0.0</td>\n",
       "      <td>0.0</td>\n",
       "      <td>I3</td>\n",
       "      <td>I7</td>\n",
       "      <td>I15</td>\n",
       "      <td>I10</td>\n",
       "      <td>Columbia</td>\n",
       "      <td>Herb Roasted Chicken Marketbowl</td>\n",
       "      <td>Farro with Summer Vegetables</td>\n",
       "      <td>Snap Peas</td>\n",
       "      <td>Roasted Sweet Potatoes</td>\n",
       "    </tr>\n",
       "  </tbody>\n",
       "</table>\n",
       "<p>2387224 rows × 14 columns</p>\n",
       "</div>"
      ],
      "text/plain": [
       "                     ORDER_ID RESTAURANT_ID      TYPE  DRINKS  COOKIES MAIN  \\\n",
       "DATETIME                                                                      \n",
       "2018-10-11 17:25:50  O1820060        R10002  IN_STORE     1.0      2.0  NaN   \n",
       "2018-05-31 11:35:00  O1011112        R10003  IN_STORE     0.0      0.0  NaN   \n",
       "2018-04-21 18:12:57   O752854        R10001  DELIVERY     0.0      2.0   I0   \n",
       "2018-11-17 12:50:52  O2076864        R10005    PICKUP     1.0      0.0   I0   \n",
       "2018-11-04 18:37:24  O1988898        R10008  IN_STORE     0.0      0.0   I1   \n",
       "...                       ...           ...       ...     ...      ...  ...   \n",
       "2018-03-04 17:59:51   O420721        R10004  IN_STORE     0.0      2.0   I3   \n",
       "2018-09-29 13:05:36  O1738792        R10007    PICKUP     0.0      0.0   I1   \n",
       "2018-05-07 18:23:24   O858342        R10006  DELIVERY     0.0      0.0   I2   \n",
       "2018-11-19 19:39:56  O2093417        R10006  IN_STORE     0.0      1.0   I1   \n",
       "2018-04-16 19:25:01   O718185        R10001  IN_STORE     0.0      0.0   I3   \n",
       "\n",
       "                    BASE SIDE_1 SIDE_2  RESTAURANT_NAME  \\\n",
       "DATETIME                                                  \n",
       "2018-10-11 17:25:50  NaN    NaN    NaN          Midtown   \n",
       "2018-05-31 11:35:00  NaN    NaN    NaN      Bryant Park   \n",
       "2018-04-21 18:12:57   I7    I15    I14         Columbia   \n",
       "2018-11-17 12:50:52   I5     I9    I12         Flatiron   \n",
       "2018-11-04 18:37:24   I7     I9     I9     Williamsburg   \n",
       "...                  ...    ...    ...              ...   \n",
       "2018-03-04 17:59:51   I5    I15    I12              NYU   \n",
       "2018-09-29 13:05:36   I5    I15    I15  Upper West Side   \n",
       "2018-05-07 18:23:24   I6     I9     I8  Upper East Side   \n",
       "2018-11-19 19:39:56   I7    I10    I10  Upper East Side   \n",
       "2018-04-16 19:25:01   I7    I15    I10         Columbia   \n",
       "\n",
       "                                           MAIN_NAME  \\\n",
       "DATETIME                                               \n",
       "2018-10-11 17:25:50                              NaN   \n",
       "2018-05-31 11:35:00                              NaN   \n",
       "2018-04-21 18:12:57       Charred Chicken Marketbowl   \n",
       "2018-11-17 12:50:52       Charred Chicken Marketbowl   \n",
       "2018-11-04 18:37:24       Spicy Meatballs Marketbowl   \n",
       "...                                              ...   \n",
       "2018-03-04 17:59:51  Herb Roasted Chicken Marketbowl   \n",
       "2018-09-29 13:05:36       Spicy Meatballs Marketbowl   \n",
       "2018-05-07 18:23:24  Grilled Organic Tofu Marketbowl   \n",
       "2018-11-19 19:39:56       Spicy Meatballs Marketbowl   \n",
       "2018-04-16 19:25:01  Herb Roasted Chicken Marketbowl   \n",
       "\n",
       "                                        BASE_NAME               SIDE_1_NAME  \\\n",
       "DATETIME                                                                      \n",
       "2018-10-11 17:25:50                           NaN                       NaN   \n",
       "2018-05-31 11:35:00                           NaN                       NaN   \n",
       "2018-04-21 18:12:57  Farro with Summer Vegetables                 Snap Peas   \n",
       "2018-11-17 12:50:52            Classic Brown Rice  Jasper Hill Mac & Cheese   \n",
       "2018-11-04 18:37:24  Farro with Summer Vegetables  Jasper Hill Mac & Cheese   \n",
       "...                                           ...                       ...   \n",
       "2018-03-04 17:59:51            Classic Brown Rice                 Snap Peas   \n",
       "2018-09-29 13:05:36            Classic Brown Rice                 Snap Peas   \n",
       "2018-05-07 18:23:24         Farm Greens with Mint  Jasper Hill Mac & Cheese   \n",
       "2018-11-19 19:39:56  Farro with Summer Vegetables    Roasted Sweet Potatoes   \n",
       "2018-04-16 19:25:01  Farro with Summer Vegetables                 Snap Peas   \n",
       "\n",
       "                                              SIDE_2_NAME  \n",
       "DATETIME                                                   \n",
       "2018-10-11 17:25:50                                   NaN  \n",
       "2018-05-31 11:35:00                                   NaN  \n",
       "2018-04-21 18:12:57       Green Goddess Beans with Sesame  \n",
       "2018-11-17 12:50:52                    Cashew Kale Caesar  \n",
       "2018-11-04 18:37:24              Jasper Hill Mac & Cheese  \n",
       "...                                                   ...  \n",
       "2018-03-04 17:59:51                    Cashew Kale Caesar  \n",
       "2018-09-29 13:05:36                             Snap Peas  \n",
       "2018-05-07 18:23:24  Cauliflower with Garlic and Parmesan  \n",
       "2018-11-19 19:39:56                Roasted Sweet Potatoes  \n",
       "2018-04-16 19:25:01                Roasted Sweet Potatoes  \n",
       "\n",
       "[2387224 rows x 14 columns]"
      ]
     },
     "execution_count": 28,
     "metadata": {},
     "output_type": "execute_result"
    }
   ],
   "source": [
    "df_orders.set_index('DATETIME')"
   ]
  },
  {
   "cell_type": "markdown",
   "id": "2798e7d8",
   "metadata": {},
   "source": [
    "### Grouping Using Dates and Times"
   ]
  },
  {
   "cell_type": "code",
   "execution_count": 29,
   "id": "e7254405",
   "metadata": {},
   "outputs": [
    {
     "name": "stdout",
     "output_type": "stream",
     "text": [
      "<class 'pandas.core.frame.DataFrame'>\n",
      "RangeIndex: 2387224 entries, 0 to 2387223\n",
      "Data columns (total 15 columns):\n",
      " #   Column           Dtype         \n",
      "---  ------           -----         \n",
      " 0   ORDER_ID         object        \n",
      " 1   DATETIME         datetime64[ns]\n",
      " 2   RESTAURANT_ID    object        \n",
      " 3   TYPE             object        \n",
      " 4   DRINKS           float64       \n",
      " 5   COOKIES          float64       \n",
      " 6   MAIN             object        \n",
      " 7   BASE             object        \n",
      " 8   SIDE_1           object        \n",
      " 9   SIDE_2           object        \n",
      " 10  RESTAURANT_NAME  object        \n",
      " 11  MAIN_NAME        object        \n",
      " 12  BASE_NAME        object        \n",
      " 13  SIDE_1_NAME      object        \n",
      " 14  SIDE_2_NAME      object        \n",
      "dtypes: datetime64[ns](1), float64(2), object(12)\n",
      "memory usage: 273.2+ MB\n"
     ]
    }
   ],
   "source": [
    "df_orders.info()"
   ]
  },
  {
   "cell_type": "code",
   "execution_count": 30,
   "id": "86aa277f",
   "metadata": {},
   "outputs": [
    {
     "data": {
      "text/html": [
       "<div>\n",
       "<style scoped>\n",
       "    .dataframe tbody tr th:only-of-type {\n",
       "        vertical-align: middle;\n",
       "    }\n",
       "\n",
       "    .dataframe tbody tr th {\n",
       "        vertical-align: top;\n",
       "    }\n",
       "\n",
       "    .dataframe thead th {\n",
       "        text-align: right;\n",
       "    }\n",
       "</style>\n",
       "<table border=\"1\" class=\"dataframe\">\n",
       "  <thead>\n",
       "    <tr style=\"text-align: right;\">\n",
       "      <th></th>\n",
       "      <th>DATETIME</th>\n",
       "      <th>DRINKS</th>\n",
       "    </tr>\n",
       "  </thead>\n",
       "  <tbody>\n",
       "    <tr>\n",
       "      <th>0</th>\n",
       "      <td>2018-01-01</td>\n",
       "      <td>0.064363</td>\n",
       "    </tr>\n",
       "    <tr>\n",
       "      <th>1</th>\n",
       "      <td>2018-01-02</td>\n",
       "      <td>0.083897</td>\n",
       "    </tr>\n",
       "    <tr>\n",
       "      <th>2</th>\n",
       "      <td>2018-01-03</td>\n",
       "      <td>0.069347</td>\n",
       "    </tr>\n",
       "    <tr>\n",
       "      <th>3</th>\n",
       "      <td>2018-01-04</td>\n",
       "      <td>0.076179</td>\n",
       "    </tr>\n",
       "    <tr>\n",
       "      <th>4</th>\n",
       "      <td>2018-01-05</td>\n",
       "      <td>0.080892</td>\n",
       "    </tr>\n",
       "    <tr>\n",
       "      <th>...</th>\n",
       "      <td>...</td>\n",
       "      <td>...</td>\n",
       "    </tr>\n",
       "    <tr>\n",
       "      <th>360</th>\n",
       "      <td>2018-12-27</td>\n",
       "      <td>0.068607</td>\n",
       "    </tr>\n",
       "    <tr>\n",
       "      <th>361</th>\n",
       "      <td>2018-12-28</td>\n",
       "      <td>0.080403</td>\n",
       "    </tr>\n",
       "    <tr>\n",
       "      <th>362</th>\n",
       "      <td>2018-12-29</td>\n",
       "      <td>0.067626</td>\n",
       "    </tr>\n",
       "    <tr>\n",
       "      <th>363</th>\n",
       "      <td>2018-12-30</td>\n",
       "      <td>0.071961</td>\n",
       "    </tr>\n",
       "    <tr>\n",
       "      <th>364</th>\n",
       "      <td>2018-12-31</td>\n",
       "      <td>0.076688</td>\n",
       "    </tr>\n",
       "  </tbody>\n",
       "</table>\n",
       "<p>365 rows × 2 columns</p>\n",
       "</div>"
      ],
      "text/plain": [
       "      DATETIME    DRINKS\n",
       "0   2018-01-01  0.064363\n",
       "1   2018-01-02  0.083897\n",
       "2   2018-01-03  0.069347\n",
       "3   2018-01-04  0.076179\n",
       "4   2018-01-05  0.080892\n",
       "..         ...       ...\n",
       "360 2018-12-27  0.068607\n",
       "361 2018-12-28  0.080403\n",
       "362 2018-12-29  0.067626\n",
       "363 2018-12-30  0.071961\n",
       "364 2018-12-31  0.076688\n",
       "\n",
       "[365 rows x 2 columns]"
      ]
     },
     "execution_count": 30,
     "metadata": {},
     "output_type": "execute_result"
    }
   ],
   "source": [
    "(df_orders.set_index('DATETIME')\n",
    "          .resample('D')\n",
    "          .DRINKS\n",
    "          .mean()\n",
    "          .reset_index())"
   ]
  },
  {
   "cell_type": "code",
   "execution_count": 31,
   "id": "c0e205ca",
   "metadata": {},
   "outputs": [
    {
     "data": {
      "text/plain": [
       "<AxesSubplot:xlabel='DATETIME'>"
      ]
     },
     "execution_count": 31,
     "metadata": {},
     "output_type": "execute_result"
    },
    {
     "data": {
      "image/png": "[encoded data removed]",
      "text/plain": [
       "<Figure size 432x288 with 1 Axes>"
      ]
     },
     "metadata": {
      "needs_background": "light"
     },
     "output_type": "display_data"
    }
   ],
   "source": [
    "# Challenge: Total Orders Per Day at Columbia\n",
    "(df_orders[df_orders.RESTAURANT_NAME == 'Columbia']\n",
    "          .set_index('DATETIME')\n",
    "          .resample('D')\n",
    "          .size()\n",
    "          .plot())"
   ]
  },
  {
   "cell_type": "code",
   "execution_count": 32,
   "id": "d8016a12",
   "metadata": {},
   "outputs": [
    {
     "data": {
      "text/plain": [
       "<AxesSubplot:xlabel='DATETIME'>"
      ]
     },
     "execution_count": 32,
     "metadata": {},
     "output_type": "execute_result"
    },
    {
     "data": {
      "image/png": "[encoded data removed]",
      "text/plain": [
       "<Figure size 432x288 with 1 Axes>"
      ]
     },
     "metadata": {
      "needs_background": "light"
     },
     "output_type": "display_data"
    }
   ],
   "source": [
    "(df_orders.set_index('DATETIME')\n",
    "          .resample('D')\n",
    "          .size()\n",
    "          .plot())"
   ]
  },
  {
   "cell_type": "code",
   "execution_count": 33,
   "id": "15017fc0",
   "metadata": {},
   "outputs": [
    {
     "data": {
      "text/plain": [
       "<AxesSubplot:xlabel='DATETIME'>"
      ]
     },
     "execution_count": 33,
     "metadata": {},
     "output_type": "execute_result"
    },
    {
     "data": {
      "image/png": "[encoded data removed]",
      "text/plain": [
       "<Figure size 432x288 with 1 Axes>"
      ]
     },
     "metadata": {
      "needs_background": "light"
     },
     "output_type": "display_data"
    }
   ],
   "source": [
    "(df_orders.set_index('DATETIME')\n",
    "          .resample('W')\n",
    "          .size()\n",
    "          .plot())"
   ]
  },
  {
   "cell_type": "code",
   "execution_count": 34,
   "id": "6819b937",
   "metadata": {},
   "outputs": [
    {
     "data": {
      "text/plain": [
       "DATETIME\n",
       "2018-01-01    4428\n",
       "2018-01-02    6508\n",
       "2018-01-03    6691\n",
       "2018-01-04    6616\n",
       "2018-01-05    6144\n",
       "              ... \n",
       "2018-12-27    7594\n",
       "2018-12-28    7649\n",
       "2018-12-29    5560\n",
       "2018-12-30    5364\n",
       "2018-12-31    7524\n",
       "Freq: D, Length: 365, dtype: int64"
      ]
     },
     "execution_count": 34,
     "metadata": {},
     "output_type": "execute_result"
    }
   ],
   "source": [
    "(df_orders.set_index('DATETIME')\n",
    "          .resample('D')\n",
    "          .size())"
   ]
  },
  {
   "cell_type": "code",
   "execution_count": 35,
   "id": "7526e648",
   "metadata": {},
   "outputs": [
    {
     "data": {
      "text/plain": [
       "DATETIME\n",
       "2018-01-01            NaN\n",
       "2018-01-02            NaN\n",
       "2018-01-03    5875.666667\n",
       "2018-01-04    6605.000000\n",
       "2018-01-05    6483.666667\n",
       "                 ...     \n",
       "2018-12-27    6783.000000\n",
       "2018-12-28    7563.000000\n",
       "2018-12-29    6934.333333\n",
       "2018-12-30    6191.000000\n",
       "2018-12-31    6149.333333\n",
       "Freq: D, Length: 365, dtype: float64"
      ]
     },
     "execution_count": 35,
     "metadata": {},
     "output_type": "execute_result"
    }
   ],
   "source": [
    "(df_orders.set_index('DATETIME')\n",
    "          .resample('D')\n",
    "          .size()\n",
    "          .rolling(3)\n",
    "          .mean())"
   ]
  },
  {
   "cell_type": "code",
   "execution_count": 36,
   "id": "d164e2fa",
   "metadata": {
    "scrolled": true
   },
   "outputs": [
    {
     "data": {
      "text/plain": [
       "<AxesSubplot:xlabel='DATETIME'>"
      ]
     },
     "execution_count": 36,
     "metadata": {},
     "output_type": "execute_result"
    },
    {
     "data": {
      "image/png": "[encoded data removed]",
      "text/plain": [
       "<Figure size 432x288 with 1 Axes>"
      ]
     },
     "metadata": {
      "needs_background": "light"
     },
     "output_type": "display_data"
    }
   ],
   "source": [
    "(df_orders.set_index('DATETIME')\n",
    "           .resample('D')\n",
    "           .size()\n",
    "           .rolling(14)\n",
    "           .mean()\n",
    "           .plot())"
   ]
  },
  {
   "cell_type": "code",
   "execution_count": 37,
   "id": "8e75fc29",
   "metadata": {},
   "outputs": [
    {
     "data": {
      "text/html": [
       "<div>\n",
       "<style scoped>\n",
       "    .dataframe tbody tr th:only-of-type {\n",
       "        vertical-align: middle;\n",
       "    }\n",
       "\n",
       "    .dataframe tbody tr th {\n",
       "        vertical-align: top;\n",
       "    }\n",
       "\n",
       "    .dataframe thead th {\n",
       "        text-align: right;\n",
       "    }\n",
       "</style>\n",
       "<table border=\"1\" class=\"dataframe\">\n",
       "  <thead>\n",
       "    <tr style=\"text-align: right;\">\n",
       "      <th></th>\n",
       "      <th>RESTAURANT_NAME</th>\n",
       "      <th>DATETIME</th>\n",
       "      <th>ORDERS</th>\n",
       "    </tr>\n",
       "  </thead>\n",
       "  <tbody>\n",
       "    <tr>\n",
       "      <th>0</th>\n",
       "      <td>Bryant Park</td>\n",
       "      <td>2018-01-01</td>\n",
       "      <td>373</td>\n",
       "    </tr>\n",
       "    <tr>\n",
       "      <th>1</th>\n",
       "      <td>Bryant Park</td>\n",
       "      <td>2018-01-02</td>\n",
       "      <td>789</td>\n",
       "    </tr>\n",
       "    <tr>\n",
       "      <th>2</th>\n",
       "      <td>Bryant Park</td>\n",
       "      <td>2018-01-03</td>\n",
       "      <td>818</td>\n",
       "    </tr>\n",
       "    <tr>\n",
       "      <th>3</th>\n",
       "      <td>Bryant Park</td>\n",
       "      <td>2018-01-04</td>\n",
       "      <td>782</td>\n",
       "    </tr>\n",
       "    <tr>\n",
       "      <th>4</th>\n",
       "      <td>Bryant Park</td>\n",
       "      <td>2018-01-05</td>\n",
       "      <td>719</td>\n",
       "    </tr>\n",
       "    <tr>\n",
       "      <th>...</th>\n",
       "      <td>...</td>\n",
       "      <td>...</td>\n",
       "      <td>...</td>\n",
       "    </tr>\n",
       "    <tr>\n",
       "      <th>2914</th>\n",
       "      <td>Williamsburg</td>\n",
       "      <td>2018-12-27</td>\n",
       "      <td>941</td>\n",
       "    </tr>\n",
       "    <tr>\n",
       "      <th>2915</th>\n",
       "      <td>Williamsburg</td>\n",
       "      <td>2018-12-28</td>\n",
       "      <td>941</td>\n",
       "    </tr>\n",
       "    <tr>\n",
       "      <th>2916</th>\n",
       "      <td>Williamsburg</td>\n",
       "      <td>2018-12-29</td>\n",
       "      <td>942</td>\n",
       "    </tr>\n",
       "    <tr>\n",
       "      <th>2917</th>\n",
       "      <td>Williamsburg</td>\n",
       "      <td>2018-12-30</td>\n",
       "      <td>933</td>\n",
       "    </tr>\n",
       "    <tr>\n",
       "      <th>2918</th>\n",
       "      <td>Williamsburg</td>\n",
       "      <td>2018-12-31</td>\n",
       "      <td>957</td>\n",
       "    </tr>\n",
       "  </tbody>\n",
       "</table>\n",
       "<p>2919 rows × 3 columns</p>\n",
       "</div>"
      ],
      "text/plain": [
       "     RESTAURANT_NAME   DATETIME  ORDERS\n",
       "0        Bryant Park 2018-01-01     373\n",
       "1        Bryant Park 2018-01-02     789\n",
       "2        Bryant Park 2018-01-03     818\n",
       "3        Bryant Park 2018-01-04     782\n",
       "4        Bryant Park 2018-01-05     719\n",
       "...              ...        ...     ...\n",
       "2914    Williamsburg 2018-12-27     941\n",
       "2915    Williamsburg 2018-12-28     941\n",
       "2916    Williamsburg 2018-12-29     942\n",
       "2917    Williamsburg 2018-12-30     933\n",
       "2918    Williamsburg 2018-12-31     957\n",
       "\n",
       "[2919 rows x 3 columns]"
      ]
     },
     "execution_count": 37,
     "metadata": {},
     "output_type": "execute_result"
    }
   ],
   "source": [
    "(df_orders.set_index('DATETIME')\n",
    "          .groupby('RESTAURANT_NAME')\n",
    "          .resample('D')\n",
    "          .size()\n",
    "          .rename('ORDERS')\n",
    "          .reset_index())"
   ]
  },
  {
   "cell_type": "code",
   "execution_count": 38,
   "id": "10e0b67e",
   "metadata": {},
   "outputs": [
    {
     "data": {
      "text/html": [
       "<div>\n",
       "<style scoped>\n",
       "    .dataframe tbody tr th:only-of-type {\n",
       "        vertical-align: middle;\n",
       "    }\n",
       "\n",
       "    .dataframe tbody tr th {\n",
       "        vertical-align: top;\n",
       "    }\n",
       "\n",
       "    .dataframe thead th {\n",
       "        text-align: right;\n",
       "    }\n",
       "</style>\n",
       "<table border=\"1\" class=\"dataframe\">\n",
       "  <thead>\n",
       "    <tr style=\"text-align: right;\">\n",
       "      <th></th>\n",
       "      <th>RESTAURANT_NAME</th>\n",
       "      <th>DATETIME</th>\n",
       "      <th>DRINKS</th>\n",
       "    </tr>\n",
       "  </thead>\n",
       "  <tbody>\n",
       "    <tr>\n",
       "      <th>0</th>\n",
       "      <td>Bryant Park</td>\n",
       "      <td>2018-01-31</td>\n",
       "      <td>1414.0</td>\n",
       "    </tr>\n",
       "    <tr>\n",
       "      <th>1</th>\n",
       "      <td>Bryant Park</td>\n",
       "      <td>2018-02-28</td>\n",
       "      <td>1336.0</td>\n",
       "    </tr>\n",
       "    <tr>\n",
       "      <th>2</th>\n",
       "      <td>Bryant Park</td>\n",
       "      <td>2018-03-31</td>\n",
       "      <td>1427.0</td>\n",
       "    </tr>\n",
       "    <tr>\n",
       "      <th>3</th>\n",
       "      <td>Bryant Park</td>\n",
       "      <td>2018-04-30</td>\n",
       "      <td>1478.0</td>\n",
       "    </tr>\n",
       "    <tr>\n",
       "      <th>4</th>\n",
       "      <td>Bryant Park</td>\n",
       "      <td>2018-05-31</td>\n",
       "      <td>2340.0</td>\n",
       "    </tr>\n",
       "    <tr>\n",
       "      <th>...</th>\n",
       "      <td>...</td>\n",
       "      <td>...</td>\n",
       "      <td>...</td>\n",
       "    </tr>\n",
       "    <tr>\n",
       "      <th>91</th>\n",
       "      <td>Williamsburg</td>\n",
       "      <td>2018-08-31</td>\n",
       "      <td>3098.0</td>\n",
       "    </tr>\n",
       "    <tr>\n",
       "      <th>92</th>\n",
       "      <td>Williamsburg</td>\n",
       "      <td>2018-09-30</td>\n",
       "      <td>2947.0</td>\n",
       "    </tr>\n",
       "    <tr>\n",
       "      <th>93</th>\n",
       "      <td>Williamsburg</td>\n",
       "      <td>2018-10-31</td>\n",
       "      <td>2533.0</td>\n",
       "    </tr>\n",
       "    <tr>\n",
       "      <th>94</th>\n",
       "      <td>Williamsburg</td>\n",
       "      <td>2018-11-30</td>\n",
       "      <td>2172.0</td>\n",
       "    </tr>\n",
       "    <tr>\n",
       "      <th>95</th>\n",
       "      <td>Williamsburg</td>\n",
       "      <td>2018-12-31</td>\n",
       "      <td>2120.0</td>\n",
       "    </tr>\n",
       "  </tbody>\n",
       "</table>\n",
       "<p>96 rows × 3 columns</p>\n",
       "</div>"
      ],
      "text/plain": [
       "   RESTAURANT_NAME   DATETIME  DRINKS\n",
       "0      Bryant Park 2018-01-31  1414.0\n",
       "1      Bryant Park 2018-02-28  1336.0\n",
       "2      Bryant Park 2018-03-31  1427.0\n",
       "3      Bryant Park 2018-04-30  1478.0\n",
       "4      Bryant Park 2018-05-31  2340.0\n",
       "..             ...        ...     ...\n",
       "91    Williamsburg 2018-08-31  3098.0\n",
       "92    Williamsburg 2018-09-30  2947.0\n",
       "93    Williamsburg 2018-10-31  2533.0\n",
       "94    Williamsburg 2018-11-30  2172.0\n",
       "95    Williamsburg 2018-12-31  2120.0\n",
       "\n",
       "[96 rows x 3 columns]"
      ]
     },
     "execution_count": 38,
     "metadata": {},
     "output_type": "execute_result"
    }
   ],
   "source": [
    "# Challenge: Total Drinks Per Restaurant by Month\n",
    "(df_orders.set_index('DATETIME')\n",
    "          .groupby('RESTAURANT_NAME')\n",
    "          .resample('M')\n",
    "          .DRINKS\n",
    "          .sum()\n",
    "          .reset_index())"
   ]
  },
  {
   "cell_type": "markdown",
   "id": "48894339",
   "metadata": {},
   "source": [
    "## Statistical Analysis"
   ]
  },
  {
   "cell_type": "code",
   "execution_count": 39,
   "id": "49ec8237",
   "metadata": {},
   "outputs": [],
   "source": [
    "import seaborn as sns"
   ]
  },
  {
   "cell_type": "code",
   "execution_count": 40,
   "id": "1d8cc0c1",
   "metadata": {},
   "outputs": [
    {
     "data": {
      "text/plain": [
       "<seaborn.axisgrid.PairGrid at 0x7fe40949b460>"
      ]
     },
     "execution_count": 40,
     "metadata": {},
     "output_type": "execute_result"
    },
    {
     "data": {
      "image/png": "[encoded data removed]",
      "text/plain": [
       "<Figure size 360x360 with 6 Axes>"
      ]
     },
     "metadata": {
      "needs_background": "light"
     },
     "output_type": "display_data"
    }
   ],
   "source": [
    "sns.pairplot(df_summarized_orders)"
   ]
  },
  {
   "cell_type": "code",
   "execution_count": 41,
   "id": "6717f816",
   "metadata": {},
   "outputs": [
    {
     "data": {
      "text/plain": [
       "<seaborn.axisgrid.FacetGrid at 0x7fe4286ad970>"
      ]
     },
     "execution_count": 41,
     "metadata": {},
     "output_type": "execute_result"
    },
    {
     "data": {
      "image/png": "[encoded data removed]",
      "text/plain": [
       "<Figure size 360x360 with 1 Axes>"
      ]
     },
     "metadata": {
      "needs_background": "light"
     },
     "output_type": "display_data"
    }
   ],
   "source": [
    "sns.lmplot(data=df_summarized_orders, x='NUM_ORDERS', y='PERC_DELIVERY', scatter_kws={'alpha':0.2})"
   ]
  },
  {
   "cell_type": "code",
   "execution_count": 42,
   "id": "b258f2f5",
   "metadata": {},
   "outputs": [],
   "source": [
    "import statsmodels.api as sm"
   ]
  },
  {
   "cell_type": "code",
   "execution_count": 47,
   "id": "3f76d83d",
   "metadata": {},
   "outputs": [
    {
     "name": "stderr",
     "output_type": "stream",
     "text": [
      "/Users/mattangriffel/opt/anaconda3/lib/python3.9/site-packages/statsmodels/tsa/tsatools.py:142: FutureWarning: In a future version of pandas all arguments of concat except for the argument 'objs' will be keyword-only\n",
      "  x = pd.concat(x[::order], 1)\n"
     ]
    },
    {
     "data": {
      "text/html": [
       "<table class=\"simpletable\">\n",
       "<caption>OLS Regression Results</caption>\n",
       "<tr>\n",
       "  <th>Dep. Variable:</th>      <td>PERC_DELIVERY</td>  <th>  R-squared:         </th> <td>   0.039</td>\n",
       "</tr>\n",
       "<tr>\n",
       "  <th>Model:</th>                   <td>OLS</td>       <th>  Adj. R-squared:    </th> <td>   0.038</td>\n",
       "</tr>\n",
       "<tr>\n",
       "  <th>Method:</th>             <td>Least Squares</td>  <th>  F-statistic:       </th> <td>   112.8</td>\n",
       "</tr>\n",
       "<tr>\n",
       "  <th>Date:</th>             <td>Fri, 08 Apr 2022</td> <th>  Prob (F-statistic):</th> <td>7.26e-26</td>\n",
       "</tr>\n",
       "<tr>\n",
       "  <th>Time:</th>                 <td>18:10:42</td>     <th>  Log-Likelihood:    </th> <td>  4208.9</td>\n",
       "</tr>\n",
       "<tr>\n",
       "  <th>No. Observations:</th>      <td>  2806</td>      <th>  AIC:               </th> <td>  -8414.</td>\n",
       "</tr>\n",
       "<tr>\n",
       "  <th>Df Residuals:</th>          <td>  2804</td>      <th>  BIC:               </th> <td>  -8402.</td>\n",
       "</tr>\n",
       "<tr>\n",
       "  <th>Df Model:</th>              <td>     1</td>      <th>                     </th>     <td> </td>   \n",
       "</tr>\n",
       "<tr>\n",
       "  <th>Covariance Type:</th>      <td>nonrobust</td>    <th>                     </th>     <td> </td>   \n",
       "</tr>\n",
       "</table>\n",
       "<table class=\"simpletable\">\n",
       "<tr>\n",
       "       <td></td>         <th>coef</th>     <th>std err</th>      <th>t</th>      <th>P>|t|</th>  <th>[0.025</th>    <th>0.975]</th>  \n",
       "</tr>\n",
       "<tr>\n",
       "  <th>const</th>      <td>    0.1638</td> <td>    0.005</td> <td>   35.979</td> <td> 0.000</td> <td>    0.155</td> <td>    0.173</td>\n",
       "</tr>\n",
       "<tr>\n",
       "  <th>NUM_ORDERS</th> <td>-5.541e-05</td> <td> 5.22e-06</td> <td>  -10.622</td> <td> 0.000</td> <td>-6.56e-05</td> <td>-4.52e-05</td>\n",
       "</tr>\n",
       "</table>\n",
       "<table class=\"simpletable\">\n",
       "<tr>\n",
       "  <th>Omnibus:</th>       <td>48.599</td> <th>  Durbin-Watson:     </th> <td>   0.234</td>\n",
       "</tr>\n",
       "<tr>\n",
       "  <th>Prob(Omnibus):</th> <td> 0.000</td> <th>  Jarque-Bera (JB):  </th> <td>  85.225</td>\n",
       "</tr>\n",
       "<tr>\n",
       "  <th>Skew:</th>          <td> 0.116</td> <th>  Prob(JB):          </th> <td>3.12e-19</td>\n",
       "</tr>\n",
       "<tr>\n",
       "  <th>Kurtosis:</th>      <td> 3.822</td> <th>  Cond. No.          </th> <td>3.90e+03</td>\n",
       "</tr>\n",
       "</table><br/><br/>Notes:<br/>[1] Standard Errors assume that the covariance matrix of the errors is correctly specified.<br/>[2] The condition number is large, 3.9e+03. This might indicate that there are<br/>strong multicollinearity or other numerical problems."
      ],
      "text/plain": [
       "<class 'statsmodels.iolib.summary.Summary'>\n",
       "\"\"\"\n",
       "                            OLS Regression Results                            \n",
       "==============================================================================\n",
       "Dep. Variable:          PERC_DELIVERY   R-squared:                       0.039\n",
       "Model:                            OLS   Adj. R-squared:                  0.038\n",
       "Method:                 Least Squares   F-statistic:                     112.8\n",
       "Date:                Fri, 08 Apr 2022   Prob (F-statistic):           7.26e-26\n",
       "Time:                        18:10:42   Log-Likelihood:                 4208.9\n",
       "No. Observations:                2806   AIC:                            -8414.\n",
       "Df Residuals:                    2804   BIC:                            -8402.\n",
       "Df Model:                           1                                         \n",
       "Covariance Type:            nonrobust                                         \n",
       "==============================================================================\n",
       "                 coef    std err          t      P>|t|      [0.025      0.975]\n",
       "------------------------------------------------------------------------------\n",
       "const          0.1638      0.005     35.979      0.000       0.155       0.173\n",
       "NUM_ORDERS -5.541e-05   5.22e-06    -10.622      0.000   -6.56e-05   -4.52e-05\n",
       "==============================================================================\n",
       "Omnibus:                       48.599   Durbin-Watson:                   0.234\n",
       "Prob(Omnibus):                  0.000   Jarque-Bera (JB):               85.225\n",
       "Skew:                           0.116   Prob(JB):                     3.12e-19\n",
       "Kurtosis:                       3.822   Cond. No.                     3.90e+03\n",
       "==============================================================================\n",
       "\n",
       "Notes:\n",
       "[1] Standard Errors assume that the covariance matrix of the errors is correctly specified.\n",
       "[2] The condition number is large, 3.9e+03. This might indicate that there are\n",
       "strong multicollinearity or other numerical problems.\n",
       "\"\"\""
      ]
     },
     "execution_count": 47,
     "metadata": {},
     "output_type": "execute_result"
    }
   ],
   "source": [
    "x = df_summarized_orders.NUM_ORDERS\n",
    "x = sm.add_constant(x)\n",
    "y = df_summarized_orders.PERC_DELIVERY\n",
    "model = sm.OLS(y, x)\n",
    "results = model.fit()\n",
    "results.summary()"
   ]
  },
  {
   "cell_type": "code",
   "execution_count": null,
   "id": "fea1dbf2",
   "metadata": {},
   "outputs": [],
   "source": []
  }
 ],
 "metadata": {
  "kernelspec": {
   "display_name": "Python 3 (ipykernel)",
   "language": "python",
   "name": "python3"
  },
  "language_info": {
   "codemirror_mode": {
    "name": "ipython",
    "version": 3
   },
   "file_extension": ".py",
   "mimetype": "text/x-python",
   "name": "python",
   "nbconvert_exporter": "python",
   "pygments_lexer": "ipython3",
   "version": "3.9.13"
  }
 },
 "nbformat": 4,
 "nbformat_minor": 5
}
